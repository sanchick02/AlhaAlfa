{
 "nbformat": 4,
 "nbformat_minor": 0,
 "metadata": {
  "colab": {
   "provenance": []
  },
  "kernelspec": {
   "name": "python3",
   "language": "python",
   "display_name": "Python 3 (ipykernel)"
  },
  "language_info": {
   "name": "python"
  }
 },
 "cells": [
  {
   "cell_type": "code",
   "execution_count": 13,
   "metadata": {
    "id": "3lTIURHShUcX",
    "ExecuteTime": {
     "end_time": "2023-11-18T14:18:11.953700Z",
     "start_time": "2023-11-18T14:18:11.924421Z"
    }
   },
   "outputs": [],
   "source": [
    "import pandas as pd\n",
    "import numpy as np\n",
    "from sklearn.preprocessing import LabelEncoder\n",
    "import matplotlib.pyplot as plt\n",
    "import seaborn as sns\n",
    "from sklearn.cluster import KMeans\n",
    "import warnings\n",
    "warnings.filterwarnings('ignore')"
   ]
  },
  {
   "cell_type": "code",
   "source": [
    "# Import dataset\n",
    "csv = \"datasets/OrderReports.csv\"\n",
    "df_order = pd.read_csv (csv, header=0)"
   ],
   "metadata": {
    "id": "gX7kkbM4nF8h",
    "ExecuteTime": {
     "end_time": "2023-11-18T14:18:11.976004Z",
     "start_time": "2023-11-18T14:18:11.927316Z"
    }
   },
   "execution_count": 14,
   "outputs": []
  },
  {
   "cell_type": "code",
   "source": [
    "print(df_order.isnull().sum())"
   ],
   "metadata": {
    "colab": {
     "base_uri": "https://localhost:8080/"
    },
    "id": "_ZPI-opUlNtg",
    "outputId": "c3310e6a-e532-4063-df34-e5e63449331f",
    "ExecuteTime": {
     "end_time": "2023-11-18T14:18:11.977404Z",
     "start_time": "2023-11-18T14:18:11.954507Z"
    }
   },
   "execution_count": 15,
   "outputs": [
    {
     "name": "stdout",
     "output_type": "stream",
     "text": [
      "Date                      0\n",
      "Order #                   0\n",
      "N. Revenue (formatted)    0\n",
      "Status                    0\n",
      "Customer                  0\n",
      "Customer type             0\n",
      "Product(s)                0\n",
      "Items sold                0\n",
      "N. Revenue                0\n",
      "State                     0\n",
      "Age                       0\n",
      "Gender                    0\n",
      "dtype: int64\n"
     ]
    }
   ]
  },
  {
   "cell_type": "code",
   "source": [
    "from sklearn.preprocessing import LabelEncoder\n",
    "\n",
    "data_column_category = df_order.select_dtypes (exclude=[np.number]).columns\n",
    "\n",
    "label_encoder = LabelEncoder()\n",
    "for i in data_column_category:\n",
    "  df_order[i] = label_encoder.fit_transform (df_order[i])\n",
    "\n",
    "print(\"Label Encoder Data:\")\n",
    "print(df_order.head(50))"
   ],
   "metadata": {
    "colab": {
     "base_uri": "https://localhost:8080/"
    },
    "id": "QFGVkD-CiHrx",
    "outputId": "6c424a16-9a3d-4566-f7a4-20a50c8da2ca",
    "ExecuteTime": {
     "end_time": "2023-11-18T14:18:11.980582Z",
     "start_time": "2023-11-18T14:18:11.963595Z"
    }
   },
   "execution_count": 16,
   "outputs": [
    {
     "name": "stdout",
     "output_type": "stream",
     "text": [
      "Label Encoder Data:\n",
      "    Date  Order #  N. Revenue (formatted)  Status  Customer  Customer type  \\\n",
      "0   8008  16698.0                     176       1        19              0   \n",
      "1   8007  16697.0                     150       1      1991              0   \n",
      "2   8006  16696.0                     150       1      6993              0   \n",
      "3   8005  16695.0                     198       1      1763              0   \n",
      "4   8004  16694.0                     150       1      6114              0   \n",
      "5   8003  16693.0                     134       1      5020              0   \n",
      "6   8002  16692.0                     164       1       520              0   \n",
      "7   8001  16691.0                      15       0      3168              0   \n",
      "8   8000  16690.0                     150       0      6004              0   \n",
      "9   7999  16689.0                     150       0      5653              0   \n",
      "10  7998  16688.0                      34       0      6014              1   \n",
      "11  7997  16687.0                      39       0         4              0   \n",
      "12  7996  16684.0                     176       0      2415              0   \n",
      "13  7995  16683.0                     150       0      4188              0   \n",
      "14  7994  16681.0                     150       0      1558              0   \n",
      "15  7993  16680.0                     150       0      2635              0   \n",
      "16  7992  16679.0                     150       0      3794              0   \n",
      "17  7991  16678.0                     176       0        94              0   \n",
      "18  7990  16677.0                     189       0      6174              1   \n",
      "19  7989  16676.0                     176       0      3261              0   \n",
      "20  7988  16675.0                     176       0      6633              0   \n",
      "21  7987  16674.0                     164       0      6174              0   \n",
      "22  7986  16673.0                     150       0      1588              0   \n",
      "23  7985  16672.0                       3       0      6276              0   \n",
      "24  7984  16671.0                     150       0      2057              0   \n",
      "25  7983  16669.0                     150       0      6124              0   \n",
      "26  7982  16668.0                     198       0      2344              0   \n",
      "27  7981  16666.0                      90       0      7061              0   \n",
      "28  7980  16665.0                     150       0      3177              0   \n",
      "29  7979  16664.0                     176       0      3877              0   \n",
      "30  7978  16663.0                     179       0      1980              0   \n",
      "31  7977  16661.0                     164       0      1440              0   \n",
      "32  7976  16660.0                     176       0      3034              0   \n",
      "33  7975  16659.0                     108       0       410              1   \n",
      "34  7974  16658.0                     150       0      2119              0   \n",
      "35  7973  16653.0                     150       0      3071              0   \n",
      "36  7972  16652.0                     199       0       941              0   \n",
      "37  7971  16649.0                      24       0      2045              1   \n",
      "38  7970  16648.0                     176       0       626              0   \n",
      "39  7969  16646.0                     176       0      5006              0   \n",
      "40  7968  16645.0                     150       0      1074              0   \n",
      "41  7967  16644.0                     150       0      1618              0   \n",
      "42  7966  16643.0                     176       0      3766              0   \n",
      "43  7965  16642.0                     150       0      2500              0   \n",
      "44  7964  16641.0                     150       0      6118              0   \n",
      "45  7963  16640.0                     176       0      2354              0   \n",
      "46  7962  16637.0                     150       0      1602              0   \n",
      "47  7961  16636.0                     150       0      1351              0   \n",
      "48  7960  16635.0                     150       0      7154              0   \n",
      "49  7959  16634.0                     150       0      2207              0   \n",
      "\n",
      "    Product(s)  Items sold  N. Revenue  State  Age  Gender  \n",
      "0          398         2.0        49.8      8   36       0  \n",
      "1          259         1.0        24.9      0   25       0  \n",
      "2          259         1.0        24.9      4   31       0  \n",
      "3          366         3.0        74.7      2   31       0  \n",
      "4          370         1.0        24.9      9   38       0  \n",
      "5           70         5.0       269.5      9   37       0  \n",
      "6          291         1.0        24.9     13   43       0  \n",
      "7          583         2.0       109.8      0   27       0  \n",
      "8          370         1.0        24.9      5   33       0  \n",
      "9          370         1.0        24.9      0   25       0  \n",
      "10         624         2.0       129.8      2   30       0  \n",
      "11         116         3.0       134.7      6   34       1  \n",
      "12         271         2.0        49.8      0   25       0  \n",
      "13         370         1.0        24.9      2   30       0  \n",
      "14         370         1.0        24.9      8   36       0  \n",
      "15         291         1.0        24.9      7   35       0  \n",
      "16         370         1.0        24.9      2   30       0  \n",
      "17         316         2.0        49.8      7   35       0  \n",
      "18         438         1.0        59.9     13   40       0  \n",
      "19         316         2.0        49.8      0   25       0  \n",
      "20         398         2.0        49.8     13   40       0  \n",
      "21         291         1.0        24.9      9   37       0  \n",
      "22         370         1.0        24.9      4   32       0  \n",
      "23         367         4.0        99.6      1   29       0  \n",
      "24         370         1.0        24.9     14   44       0  \n",
      "25         259         1.0        24.9      4   32       0  \n",
      "26         325         3.0        74.7      0   27       0  \n",
      "27         752         4.0       194.6      0   27       0  \n",
      "28         370         1.0        24.9     13   41       0  \n",
      "29         271         2.0        49.8      8   36       0  \n",
      "30         398         2.0        49.8     13   40       0  \n",
      "31         370         1.0        24.9      9   38       0  \n",
      "32         316         2.0        49.8      6   35       0  \n",
      "33          69         4.0       219.6     15   45       0  \n",
      "34         370         1.0        24.9      5   33       0  \n",
      "35         370         1.0        24.9      7   35       0  \n",
      "36         301         2.0        74.8     13   41       0  \n",
      "37         138         2.0       119.8      8   36       0  \n",
      "38         316         2.0        49.8     13   42       0  \n",
      "39         398         2.0        49.8      7   35       0  \n",
      "40         291         1.0        24.9      9   38       0  \n",
      "41         291         1.0        24.9      0   26       0  \n",
      "42         316         2.0        49.8      2   31       0  \n",
      "43         370         1.0        24.9      4   31       0  \n",
      "44         370         1.0        24.9      0   27       0  \n",
      "45         398         2.0        49.8      2   31       0  \n",
      "46         370         1.0        24.9      0   27       0  \n",
      "47         291         1.0        24.9      4   31       0  \n",
      "48         370         1.0        24.9      8   36       0  \n",
      "49         370         1.0        24.9      4   32       0  \n"
     ]
    }
   ]
  },
  {
   "cell_type": "code",
   "source": [
    "# Choose state, age & gender column\n",
    "segment_col = df_order.iloc[:,9:12].values\n",
    "print(segment_col)"
   ],
   "metadata": {
    "colab": {
     "base_uri": "https://localhost:8080/"
    },
    "id": "RDb-7cV_lMoU",
    "outputId": "9d5faa69-6737-4b4f-b41b-2820217013b6",
    "ExecuteTime": {
     "end_time": "2023-11-18T14:18:11.989525Z",
     "start_time": "2023-11-18T14:18:11.981378Z"
    }
   },
   "execution_count": 17,
   "outputs": [
    {
     "name": "stdout",
     "output_type": "stream",
     "text": [
      "[[ 8 36  0]\n",
      " [ 0 25  0]\n",
      " [ 4 31  0]\n",
      " ...\n",
      " [ 7 35  0]\n",
      " [ 6 34  0]\n",
      " [ 9 37  0]]\n"
     ]
    }
   ]
  },
  {
   "cell_type": "markdown",
   "source": [
    "Choose the correct number of cluster"
   ],
   "metadata": {
    "id": "MEzZ4cm3slrd"
   }
  },
  {
   "cell_type": "code",
   "source": [
    "# Finding WCSS value for different number of cluster\n",
    "\n",
    "wcss = []\n",
    "\n",
    "for i in range(1, 11):\n",
    "  kmeans = KMeans(n_clusters=i, init='k-means++', random_state=42)\n",
    "  df_order['Cluster'] = kmeans.fit(segment_col)\n",
    "\n",
    "  wcss.append(kmeans.inertia_)"
   ],
   "metadata": {
    "colab": {
     "base_uri": "https://localhost:8080/"
    },
    "id": "kXv3BACqshjW",
    "outputId": "40e1a3f7-e258-4427-ff25-3e395e026206",
    "ExecuteTime": {
     "end_time": "2023-11-18T14:18:13.245723Z",
     "start_time": "2023-11-18T14:18:11.985057Z"
    }
   },
   "execution_count": 18,
   "outputs": []
  },
  {
   "cell_type": "code",
   "source": [
    "# Plot an elbow graph\n",
    "\n",
    "sns.set()\n",
    "plt.plot(range(1,11), wcss)\n",
    "plt.title('The Elbow Point Graph')\n",
    "plt.xlabel('Number of Cluster')\n",
    "plt.ylabel('wcss')\n",
    "plt.show()"
   ],
   "metadata": {
    "colab": {
     "base_uri": "https://localhost:8080/",
     "height": 480
    },
    "id": "lBPO6xQ5tGt2",
    "outputId": "8e0c80a2-ff99-4e4c-aa5d-939763bf040b",
    "ExecuteTime": {
     "end_time": "2023-11-18T14:18:13.334890Z",
     "start_time": "2023-11-18T14:18:13.240868Z"
    }
   },
   "execution_count": 19,
   "outputs": [
    {
     "data": {
      "text/plain": "<Figure size 640x480 with 1 Axes>",
      "image/png": "[encoded data removed]"
     },
     "metadata": {},
     "output_type": "display_data"
    }
   ]
  },
  {
   "cell_type": "markdown",
   "source": [
    "Optimum Number of Cluster = 4"
   ],
   "metadata": {
    "id": "_dW0j7JhOqlv"
   }
  },
  {
   "cell_type": "code",
   "source": [
    "# Training the k-Means Clustering Model\n",
    "kmeans = KMeans(n_clusters=4, init='k-means++', random_state=0)\n",
    "\n",
    "# Return a label for each data point based on their cluster\n",
    "cluster = kmeans.fit_predict(segment_col)\n",
    "\n",
    "print(cluster)\n",
    "\n",
    "print(set(cluster))"
   ],
   "metadata": {
    "colab": {
     "base_uri": "https://localhost:8080/"
    },
    "id": "odklYHpdOwVh",
    "outputId": "fcbc838b-5790-4527-e78d-e218cfbc3e59",
    "ExecuteTime": {
     "end_time": "2023-11-18T14:18:13.535400Z",
     "start_time": "2023-11-18T14:18:13.335320Z"
    }
   },
   "execution_count": 20,
   "outputs": [
    {
     "name": "stdout",
     "output_type": "stream",
     "text": [
      "[2 3 0 ... 2 0 2]\n",
      "{0, 1, 2, 3}\n"
     ]
    }
   ]
  },
  {
   "cell_type": "code",
   "source": [
    "from sklearn.metrics import silhouette_score\n",
    "\n",
    "silhouette_avg = silhouette_score(segment_col, cluster)\n",
    "print(f\"Silhouette Score: {silhouette_avg}\")"
   ],
   "metadata": {
    "colab": {
     "base_uri": "https://localhost:8080/"
    },
    "id": "IjuRF7S_UGbP",
    "outputId": "2215d3f3-4257-419f-b223-8cade3da4900",
    "ExecuteTime": {
     "end_time": "2023-11-18T14:18:14.023052Z",
     "start_time": "2023-11-18T14:18:13.536362Z"
    }
   },
   "execution_count": 21,
   "outputs": [
    {
     "name": "stdout",
     "output_type": "stream",
     "text": [
      "Silhouette Score: 0.6039300411092535\n"
     ]
    }
   ]
  },
  {
   "cell_type": "code",
   "execution_count": 22,
   "outputs": [
    {
     "ename": "ValueError",
     "evalue": "Could not interpret value `Annual Income (k$)` for parameter `y`",
     "output_type": "error",
     "traceback": [
      "\u001B[0;31m---------------------------------------------------------------------------\u001B[0m",
      "\u001B[0;31mValueError\u001B[0m                                Traceback (most recent call last)",
      "Cell \u001B[0;32mIn[22], line 3\u001B[0m\n\u001B[1;32m      1\u001B[0m \u001B[38;5;66;03m# Visualising the clusters\u001B[39;00m\n\u001B[1;32m      2\u001B[0m plt\u001B[38;5;241m.\u001B[39mfigure(figsize\u001B[38;5;241m=\u001B[39m(\u001B[38;5;241m10\u001B[39m, \u001B[38;5;241m7\u001B[39m))\n\u001B[0;32m----> 3\u001B[0m sns\u001B[38;5;241m.\u001B[39mscatterplot(x\u001B[38;5;241m=\u001B[39m\u001B[38;5;124m'\u001B[39m\u001B[38;5;124mAge\u001B[39m\u001B[38;5;124m'\u001B[39m, y\u001B[38;5;241m=\u001B[39m\u001B[38;5;124m'\u001B[39m\u001B[38;5;124mAnnual Income (k$)\u001B[39m\u001B[38;5;124m'\u001B[39m, data\u001B[38;5;241m=\u001B[39mdf_order, hue\u001B[38;5;241m=\u001B[39mcluster, palette\u001B[38;5;241m=\u001B[39m\u001B[38;5;124m'\u001B[39m\u001B[38;5;124mtab10\u001B[39m\u001B[38;5;124m'\u001B[39m)\n\u001B[1;32m      4\u001B[0m plt\u001B[38;5;241m.\u001B[39mtitle(\u001B[38;5;124m'\u001B[39m\u001B[38;5;124mSegmentation KMeans\u001B[39m\u001B[38;5;124m'\u001B[39m)\n\u001B[1;32m      5\u001B[0m plt\u001B[38;5;241m.\u001B[39mshow()\n",
      "File \u001B[0;32m~/anaconda3/lib/python3.11/site-packages/seaborn/relational.py:742\u001B[0m, in \u001B[0;36mscatterplot\u001B[0;34m(data, x, y, hue, size, style, palette, hue_order, hue_norm, sizes, size_order, size_norm, markers, style_order, legend, ax, **kwargs)\u001B[0m\n\u001B[1;32m    732\u001B[0m \u001B[38;5;28;01mdef\u001B[39;00m \u001B[38;5;21mscatterplot\u001B[39m(\n\u001B[1;32m    733\u001B[0m     data\u001B[38;5;241m=\u001B[39m\u001B[38;5;28;01mNone\u001B[39;00m, \u001B[38;5;241m*\u001B[39m,\n\u001B[1;32m    734\u001B[0m     x\u001B[38;5;241m=\u001B[39m\u001B[38;5;28;01mNone\u001B[39;00m, y\u001B[38;5;241m=\u001B[39m\u001B[38;5;28;01mNone\u001B[39;00m, hue\u001B[38;5;241m=\u001B[39m\u001B[38;5;28;01mNone\u001B[39;00m, size\u001B[38;5;241m=\u001B[39m\u001B[38;5;28;01mNone\u001B[39;00m, style\u001B[38;5;241m=\u001B[39m\u001B[38;5;28;01mNone\u001B[39;00m,\n\u001B[0;32m   (...)\u001B[0m\n\u001B[1;32m    738\u001B[0m     \u001B[38;5;241m*\u001B[39m\u001B[38;5;241m*\u001B[39mkwargs\n\u001B[1;32m    739\u001B[0m ):\n\u001B[1;32m    741\u001B[0m     variables \u001B[38;5;241m=\u001B[39m _ScatterPlotter\u001B[38;5;241m.\u001B[39mget_semantics(\u001B[38;5;28mlocals\u001B[39m())\n\u001B[0;32m--> 742\u001B[0m     p \u001B[38;5;241m=\u001B[39m _ScatterPlotter(data\u001B[38;5;241m=\u001B[39mdata, variables\u001B[38;5;241m=\u001B[39mvariables, legend\u001B[38;5;241m=\u001B[39mlegend)\n\u001B[1;32m    744\u001B[0m     p\u001B[38;5;241m.\u001B[39mmap_hue(palette\u001B[38;5;241m=\u001B[39mpalette, order\u001B[38;5;241m=\u001B[39mhue_order, norm\u001B[38;5;241m=\u001B[39mhue_norm)\n\u001B[1;32m    745\u001B[0m     p\u001B[38;5;241m.\u001B[39mmap_size(sizes\u001B[38;5;241m=\u001B[39msizes, order\u001B[38;5;241m=\u001B[39msize_order, norm\u001B[38;5;241m=\u001B[39msize_norm)\n",
      "File \u001B[0;32m~/anaconda3/lib/python3.11/site-packages/seaborn/relational.py:538\u001B[0m, in \u001B[0;36m_ScatterPlotter.__init__\u001B[0;34m(self, data, variables, legend)\u001B[0m\n\u001B[1;32m    529\u001B[0m \u001B[38;5;28;01mdef\u001B[39;00m \u001B[38;5;21m__init__\u001B[39m(\u001B[38;5;28mself\u001B[39m, \u001B[38;5;241m*\u001B[39m, data\u001B[38;5;241m=\u001B[39m\u001B[38;5;28;01mNone\u001B[39;00m, variables\u001B[38;5;241m=\u001B[39m{}, legend\u001B[38;5;241m=\u001B[39m\u001B[38;5;28;01mNone\u001B[39;00m):\n\u001B[1;32m    530\u001B[0m \n\u001B[1;32m    531\u001B[0m     \u001B[38;5;66;03m# TODO this is messy, we want the mapping to be agnostic about\u001B[39;00m\n\u001B[1;32m    532\u001B[0m     \u001B[38;5;66;03m# the kind of plot to draw, but for the time being we need to set\u001B[39;00m\n\u001B[1;32m    533\u001B[0m     \u001B[38;5;66;03m# this information so the SizeMapping can use it\u001B[39;00m\n\u001B[1;32m    534\u001B[0m     \u001B[38;5;28mself\u001B[39m\u001B[38;5;241m.\u001B[39m_default_size_range \u001B[38;5;241m=\u001B[39m (\n\u001B[1;32m    535\u001B[0m         np\u001B[38;5;241m.\u001B[39mr_[\u001B[38;5;241m.5\u001B[39m, \u001B[38;5;241m2\u001B[39m] \u001B[38;5;241m*\u001B[39m np\u001B[38;5;241m.\u001B[39msquare(mpl\u001B[38;5;241m.\u001B[39mrcParams[\u001B[38;5;124m\"\u001B[39m\u001B[38;5;124mlines.markersize\u001B[39m\u001B[38;5;124m\"\u001B[39m])\n\u001B[1;32m    536\u001B[0m     )\n\u001B[0;32m--> 538\u001B[0m     \u001B[38;5;28msuper\u001B[39m()\u001B[38;5;241m.\u001B[39m\u001B[38;5;21m__init__\u001B[39m(data\u001B[38;5;241m=\u001B[39mdata, variables\u001B[38;5;241m=\u001B[39mvariables)\n\u001B[1;32m    540\u001B[0m     \u001B[38;5;28mself\u001B[39m\u001B[38;5;241m.\u001B[39mlegend \u001B[38;5;241m=\u001B[39m legend\n",
      "File \u001B[0;32m~/anaconda3/lib/python3.11/site-packages/seaborn/_oldcore.py:640\u001B[0m, in \u001B[0;36mVectorPlotter.__init__\u001B[0;34m(self, data, variables)\u001B[0m\n\u001B[1;32m    635\u001B[0m \u001B[38;5;66;03m# var_ordered is relevant only for categorical axis variables, and may\u001B[39;00m\n\u001B[1;32m    636\u001B[0m \u001B[38;5;66;03m# be better handled by an internal axis information object that tracks\u001B[39;00m\n\u001B[1;32m    637\u001B[0m \u001B[38;5;66;03m# such information and is set up by the scale_* methods. The analogous\u001B[39;00m\n\u001B[1;32m    638\u001B[0m \u001B[38;5;66;03m# information for numeric axes would be information about log scales.\u001B[39;00m\n\u001B[1;32m    639\u001B[0m \u001B[38;5;28mself\u001B[39m\u001B[38;5;241m.\u001B[39m_var_ordered \u001B[38;5;241m=\u001B[39m {\u001B[38;5;124m\"\u001B[39m\u001B[38;5;124mx\u001B[39m\u001B[38;5;124m\"\u001B[39m: \u001B[38;5;28;01mFalse\u001B[39;00m, \u001B[38;5;124m\"\u001B[39m\u001B[38;5;124my\u001B[39m\u001B[38;5;124m\"\u001B[39m: \u001B[38;5;28;01mFalse\u001B[39;00m}  \u001B[38;5;66;03m# alt., used DefaultDict\u001B[39;00m\n\u001B[0;32m--> 640\u001B[0m \u001B[38;5;28mself\u001B[39m\u001B[38;5;241m.\u001B[39massign_variables(data, variables)\n\u001B[1;32m    642\u001B[0m \u001B[38;5;28;01mfor\u001B[39;00m var, \u001B[38;5;28mcls\u001B[39m \u001B[38;5;129;01min\u001B[39;00m \u001B[38;5;28mself\u001B[39m\u001B[38;5;241m.\u001B[39m_semantic_mappings\u001B[38;5;241m.\u001B[39mitems():\n\u001B[1;32m    643\u001B[0m \n\u001B[1;32m    644\u001B[0m     \u001B[38;5;66;03m# Create the mapping function\u001B[39;00m\n\u001B[1;32m    645\u001B[0m     map_func \u001B[38;5;241m=\u001B[39m partial(\u001B[38;5;28mcls\u001B[39m\u001B[38;5;241m.\u001B[39mmap, plotter\u001B[38;5;241m=\u001B[39m\u001B[38;5;28mself\u001B[39m)\n",
      "File \u001B[0;32m~/anaconda3/lib/python3.11/site-packages/seaborn/_oldcore.py:701\u001B[0m, in \u001B[0;36mVectorPlotter.assign_variables\u001B[0;34m(self, data, variables)\u001B[0m\n\u001B[1;32m    699\u001B[0m \u001B[38;5;28;01melse\u001B[39;00m:\n\u001B[1;32m    700\u001B[0m     \u001B[38;5;28mself\u001B[39m\u001B[38;5;241m.\u001B[39minput_format \u001B[38;5;241m=\u001B[39m \u001B[38;5;124m\"\u001B[39m\u001B[38;5;124mlong\u001B[39m\u001B[38;5;124m\"\u001B[39m\n\u001B[0;32m--> 701\u001B[0m     plot_data, variables \u001B[38;5;241m=\u001B[39m \u001B[38;5;28mself\u001B[39m\u001B[38;5;241m.\u001B[39m_assign_variables_longform(\n\u001B[1;32m    702\u001B[0m         data, \u001B[38;5;241m*\u001B[39m\u001B[38;5;241m*\u001B[39mvariables,\n\u001B[1;32m    703\u001B[0m     )\n\u001B[1;32m    705\u001B[0m \u001B[38;5;28mself\u001B[39m\u001B[38;5;241m.\u001B[39mplot_data \u001B[38;5;241m=\u001B[39m plot_data\n\u001B[1;32m    706\u001B[0m \u001B[38;5;28mself\u001B[39m\u001B[38;5;241m.\u001B[39mvariables \u001B[38;5;241m=\u001B[39m variables\n",
      "File \u001B[0;32m~/anaconda3/lib/python3.11/site-packages/seaborn/_oldcore.py:938\u001B[0m, in \u001B[0;36mVectorPlotter._assign_variables_longform\u001B[0;34m(self, data, **kwargs)\u001B[0m\n\u001B[1;32m    933\u001B[0m \u001B[38;5;28;01melif\u001B[39;00m \u001B[38;5;28misinstance\u001B[39m(val, (\u001B[38;5;28mstr\u001B[39m, \u001B[38;5;28mbytes\u001B[39m)):\n\u001B[1;32m    934\u001B[0m \n\u001B[1;32m    935\u001B[0m     \u001B[38;5;66;03m# This looks like a column name but we don't know what it means!\u001B[39;00m\n\u001B[1;32m    937\u001B[0m     err \u001B[38;5;241m=\u001B[39m \u001B[38;5;124mf\u001B[39m\u001B[38;5;124m\"\u001B[39m\u001B[38;5;124mCould not interpret value `\u001B[39m\u001B[38;5;132;01m{\u001B[39;00mval\u001B[38;5;132;01m}\u001B[39;00m\u001B[38;5;124m` for parameter `\u001B[39m\u001B[38;5;132;01m{\u001B[39;00mkey\u001B[38;5;132;01m}\u001B[39;00m\u001B[38;5;124m`\u001B[39m\u001B[38;5;124m\"\u001B[39m\n\u001B[0;32m--> 938\u001B[0m     \u001B[38;5;28;01mraise\u001B[39;00m \u001B[38;5;167;01mValueError\u001B[39;00m(err)\n\u001B[1;32m    940\u001B[0m \u001B[38;5;28;01melse\u001B[39;00m:\n\u001B[1;32m    941\u001B[0m \n\u001B[1;32m    942\u001B[0m     \u001B[38;5;66;03m# Otherwise, assume the value is itself data\u001B[39;00m\n\u001B[1;32m    943\u001B[0m \n\u001B[1;32m    944\u001B[0m     \u001B[38;5;66;03m# Raise when data object is present and a vector can't matched\u001B[39;00m\n\u001B[1;32m    945\u001B[0m     \u001B[38;5;28;01mif\u001B[39;00m \u001B[38;5;28misinstance\u001B[39m(data, pd\u001B[38;5;241m.\u001B[39mDataFrame) \u001B[38;5;129;01mand\u001B[39;00m \u001B[38;5;129;01mnot\u001B[39;00m \u001B[38;5;28misinstance\u001B[39m(val, pd\u001B[38;5;241m.\u001B[39mSeries):\n",
      "\u001B[0;31mValueError\u001B[0m: Could not interpret value `Annual Income (k$)` for parameter `y`"
     ]
    },
    {
     "data": {
      "text/plain": "<Figure size 1000x700 with 0 Axes>"
     },
     "metadata": {},
     "output_type": "display_data"
    }
   ],
   "source": [
    "# Visualising the clusters\n",
    "plt.figure(figsize=(10, 7))\n",
    "sns.scatterplot(x='Age', y='Annual Income (k$)', data=df_order, hue=cluster, palette='tab10')\n",
    "plt.title('Segmentation KMeans')\n",
    "plt.show()\n"
   ],
   "metadata": {
    "collapsed": false,
    "ExecuteTime": {
     "end_time": "2023-11-18T14:18:14.060737Z",
     "start_time": "2023-11-18T14:18:14.023635Z"
    }
   }
  },
  {
   "cell_type": "code",
   "execution_count": null,
   "outputs": [],
   "source": [],
   "metadata": {
    "collapsed": false,
    "ExecuteTime": {
     "start_time": "2023-11-18T14:18:14.046505Z"
    }
   }
  }
 ]
}

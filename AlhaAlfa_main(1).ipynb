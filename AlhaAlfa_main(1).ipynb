{
 "cells": [
  {
   "cell_type": "markdown",
   "source": [
    "# Import Libraries"
   ],
   "metadata": {
    "collapsed": false
   },
   "id": "e085471683513eb0"
  },
  {
   "cell_type": "code",
   "execution_count": 209,
   "id": "initial_id",
   "metadata": {
    "collapsed": true,
    "ExecuteTime": {
     "end_time": "2023-11-07T17:10:14.846477Z",
     "start_time": "2023-11-07T17:10:14.759536Z"
    }
   },
   "outputs": [],
   "source": [
    "import pandas as pd\n",
    "import numpy as np\n",
    "import random\n",
    "import warnings\n",
    "warnings.filterwarnings('ignore')\n",
    "from sklearn.feature_extraction.text import CountVectorizer\n",
    "from sklearn.preprocessing import LabelEncoder\n",
    "from sklearn.metrics import accuracy_score\n",
    "from sklearn.model_selection import train_test_split\n",
    "from sklearn.linear_model import LogisticRegression\n",
    "import matplotlib.pyplot as plt\n",
    "from sklearn.preprocessing import LabelEncoder\n",
    "from sklearn.preprocessing import LabelBinarizer\n",
    "\n",
    "import seaborn as sns\n",
    "import os\n",
    "import sys"
   ]
  },
  {
   "cell_type": "markdown",
   "source": [
    "# Import Datasets"
   ],
   "metadata": {
    "collapsed": false
   },
   "id": "f523edf9c29fe612"
  },
  {
   "cell_type": "code",
   "execution_count": 210,
   "outputs": [
    {
     "name": "stdout",
     "output_type": "stream",
     "text": [
      "                  Date  Order # N. Revenue (formatted)      Status  \\\n",
      "0  2023-10-26 14:50:17  16698.0                RM57.80  processing   \n",
      "1  2023-10-26 13:53:47  16697.0                RM32.90  processing   \n",
      "2  2023-10-26 13:04:17  16696.0                RM32.90  processing   \n",
      "3  2023-10-26 13:00:49  16695.0                RM82.70  processing   \n",
      "4  2023-10-26 12:47:36  16694.0                RM32.90  processing   \n",
      "\n",
      "                               Customer Customer type  \\\n",
      "0  AINAA SYAFIQAH ABD RAHMAN ABD RAHMAN           new   \n",
      "1                              Ja Hasim           new   \n",
      "2                             nasy anis           new   \n",
      "3   Herny erdawati binti Mohamad Rashed           new   \n",
      "4                      Suhaina Sulaiman           new   \n",
      "\n",
      "                                          Product(s)  Items sold  N. Revenue  \\\n",
      "0  1× LIP BOOSTER - WATERMELON, 1× LIP BOOSTER - ...         2.0        49.8   \n",
      "1                             1× LIP BOOSTER - MELON         1.0        24.9   \n",
      "2                             1× LIP BOOSTER - MELON         1.0        24.9   \n",
      "3  1× LIP BOOSTER - STRAWBERRY, 2× LIP BOOSTER - ...         3.0        74.7   \n",
      "4                        1× LIP BOOSTER - WATERMELON         1.0        24.9   \n",
      "\n",
      "      State  Age Gender  \n",
      "0     Perak   36      F  \n",
      "1     Johor   25      F  \n",
      "2    Melaka   31      F  \n",
      "3  Kelantan   31      F  \n",
      "4    Perlis   38      F  \n"
     ]
    }
   ],
   "source": [
    "# Import Datasets\n",
    "df_or = pd.read_csv('datasets/OrderReports.csv')\n",
    "print(df_or.head())"
   ],
   "metadata": {
    "collapsed": false,
    "ExecuteTime": {
     "end_time": "2023-11-07T17:10:14.920869Z",
     "start_time": "2023-11-07T17:10:14.765631Z"
    }
   },
   "id": "72b1bf274a7a5fad"
  },
  {
   "cell_type": "code",
   "execution_count": 211,
   "outputs": [
    {
     "name": "stdout",
     "output_type": "stream",
     "text": [
      "                                        Product    SKU  Items sold  \\\n",
      "0                      LIP BOOSTER - WATERMELON  00597        2590   \n",
      "1                      LIP BOOSTER - STRAWBERRY  00602        2563   \n",
      "2  COLLAGEN SERUM FOUNDATION ALHA ALFA - MEDIUM  00608        1067   \n",
      "3   COLLAGEN SERUM FOUNDATION ALHA ALFA - LIGHT  00607         728   \n",
      "4                           LIP BOOSTER - MELON  00610         651   \n",
      "\n",
      "   N. Revenue  Orders    Status  Stock  \n",
      "0     63270.9    2299  In stock     11  \n",
      "1     63768.9    2280  In stock    134  \n",
      "2      7435.1    1005  In stock     33  \n",
      "3      7135.7     690  In stock     41  \n",
      "4     16209.9     587  In stock    177  \n"
     ]
    }
   ],
   "source": [
    "df_pl = pd.read_csv('datasets/ProductList.csv')\n",
    "print(df_pl.head())"
   ],
   "metadata": {
    "collapsed": false,
    "ExecuteTime": {
     "end_time": "2023-11-07T17:10:14.921042Z",
     "start_time": "2023-11-07T17:10:14.804009Z"
    }
   },
   "id": "14210bee85561a09"
  },
  {
   "cell_type": "code",
   "execution_count": 212,
   "outputs": [
    {
     "name": "stdout",
     "output_type": "stream",
     "text": [
      "                  Date  Orders  Gross sales  Returns  Coupons  Net sales  \\\n",
      "0  2023-10-26 00:00:00      12        917.7      0.0      0.0      917.7   \n",
      "1  2023-10-25 00:00:00      31       1664.7      0.0      0.0     1664.7   \n",
      "2  2023-10-24 00:00:00      11        803.0      0.0      0.0      803.0   \n",
      "3  2023-10-23 00:00:00      16        867.5      0.0      0.0      867.5   \n",
      "4  2023-10-22 00:00:00      17        986.9      0.0      0.0      986.9   \n",
      "\n",
      "   Taxes  Shipping  Total sales  \n",
      "0    0.0     100.0       1017.7  \n",
      "1    0.0     264.0       1928.7  \n",
      "2    0.0      96.0        899.0  \n",
      "3    0.0     136.0       1003.5  \n",
      "4    0.0     144.0       1130.9  \n"
     ]
    }
   ],
   "source": [
    "df_rr = pd.read_csv('datasets/RevenueReport.csv')\n",
    "print(df_rr.head())"
   ],
   "metadata": {
    "collapsed": false,
    "ExecuteTime": {
     "end_time": "2023-11-07T17:10:14.921121Z",
     "start_time": "2023-11-07T17:10:14.809032Z"
    }
   },
   "id": "86b5cc84a7d4e1ac"
  },
  {
   "cell_type": "code",
   "execution_count": 213,
   "outputs": [
    {
     "name": "stdout",
     "output_type": "stream",
     "text": [
      "                          product_name  product_price\n",
      "0                          LIP BOOSTER           24.9\n",
      "1  COLLAGEN SERUM FOUNDATION ALHA ALFA           49.9\n",
      "2                SET DIMENSI ALHA ALFA           79.9\n",
      "3         MAGIC GLOW LIP TREATMENT OIL           24.9\n",
      "4     ROYAL PROPOLIS POWDER FOUNDATION           59.9\n"
     ]
    }
   ],
   "source": [
    "df_wb = pd.read_csv('datasets/website_bestsellers.csv')\n",
    "print(df_wb.head())"
   ],
   "metadata": {
    "collapsed": false,
    "ExecuteTime": {
     "end_time": "2023-11-07T17:10:14.921188Z",
     "start_time": "2023-11-07T17:10:14.813792Z"
    }
   },
   "id": "7eaec18aa00d7dee"
  },
  {
   "cell_type": "code",
   "execution_count": 214,
   "outputs": [
    {
     "name": "stdout",
     "output_type": "stream",
     "text": [
      "                                        product_name  product_price  \\\n",
      "0                   ALHA ALFA LIP BOOSTER SERUM Lips           24.9   \n",
      "1             ALHA ALFA MAGIC GLOW LIP TREATMENT OIL           24.9   \n",
      "2   ALHA ALFA ROYAL PROPOLIS FOUNDATION PERFECT GLOW           69.9   \n",
      "3  ALHA ALFA COMPACT POWDER ROYAL PROPOLIS FOUNDA...           59.9   \n",
      "4                     ALHA ALFA SETTING SPRAY MAKEUP           59.9   \n",
      "\n",
      "   items_sold  rating  rating_count  \n",
      "0      104400     4.9         27000  \n",
      "1       35400     4.8          8800  \n",
      "2       30400     4.9          8300  \n",
      "3       27400     4.9         27600  \n",
      "4       23500     4.9          6400  \n"
     ]
    }
   ],
   "source": [
    "df_ttb = pd.read_csv('datasets/tiktok_bestsellers.csv')\n",
    "print(df_ttb.head())"
   ],
   "metadata": {
    "collapsed": false,
    "ExecuteTime": {
     "end_time": "2023-11-07T17:10:14.921255Z",
     "start_time": "2023-11-07T17:10:14.817304Z"
    }
   },
   "id": "74d7d88c575bb28a"
  },
  {
   "cell_type": "markdown",
   "source": [
    "# Identifying and Handling Missing Values, Duplicate Data, and Incorrect Data Types"
   ],
   "metadata": {
    "collapsed": false
   },
   "id": "7026e8753424000d"
  },
  {
   "cell_type": "code",
   "execution_count": 215,
   "outputs": [
    {
     "name": "stdout",
     "output_type": "stream",
     "text": [
      "OrderReport:  (8014, 12)\n",
      "ProductList:  (111, 7)\n",
      "RevenueReport:  (299, 9)\n",
      "WebsiteBestsellers:  (37, 2)\n",
      "TiktokBestsellers:  (23, 5)\n"
     ]
    }
   ],
   "source": [
    "# Find out the number of rows and columns in each dataset\n",
    "print(\"OrderReport: \", df_or.shape)\n",
    "print(\"ProductList: \", df_pl.shape)\n",
    "print(\"RevenueReport: \", df_rr.shape)\n",
    "print(\"WebsiteBestsellers: \", df_wb.shape)\n",
    "print(\"TiktokBestsellers: \", df_ttb.shape)"
   ],
   "metadata": {
    "collapsed": false,
    "ExecuteTime": {
     "end_time": "2023-11-07T17:10:14.921328Z",
     "start_time": "2023-11-07T17:10:14.821989Z"
    }
   },
   "id": "7ff13d4b8769739b"
  },
  {
   "cell_type": "code",
   "execution_count": 216,
   "outputs": [
    {
     "name": "stdout",
     "output_type": "stream",
     "text": [
      "OrderReport: \n",
      " Date                      0\n",
      "Order #                   0\n",
      "N. Revenue (formatted)    0\n",
      "Status                    0\n",
      "Customer                  0\n",
      "Customer type             0\n",
      "Product(s)                0\n",
      "Items sold                0\n",
      "N. Revenue                0\n",
      "State                     0\n",
      "Age                       0\n",
      "Gender                    0\n",
      "dtype: int64\n",
      "ProductList: \n",
      " Product       0\n",
      "SKU           0\n",
      "Items sold    0\n",
      "N. Revenue    0\n",
      "Orders        0\n",
      "Status        0\n",
      "Stock         0\n",
      "dtype: int64\n",
      "RevenueReport: \n",
      " Date           0\n",
      "Orders         0\n",
      "Gross sales    0\n",
      "Returns        0\n",
      "Coupons        0\n",
      "Net sales      0\n",
      "Taxes          0\n",
      "Shipping       0\n",
      "Total sales    0\n",
      "dtype: int64\n",
      "WebsiteBestsellers: \n",
      " product_name     0\n",
      "product_price    0\n",
      "dtype: int64\n",
      "TiktokBestsellers: \n",
      " product_name     0\n",
      "product_price    0\n",
      "items_sold       0\n",
      "rating           0\n",
      "rating_count     0\n",
      "dtype: int64\n"
     ]
    }
   ],
   "source": [
    "# Find out the number of missing values in each dataset\n",
    "print(\"OrderReport: \\n\", df_or.isnull().sum())\n",
    "print(\"ProductList: \\n\", df_pl.isnull().sum())\n",
    "print(\"RevenueReport: \\n\", df_rr.isnull().sum())\n",
    "print(\"WebsiteBestsellers: \\n\", df_wb.isnull().sum())\n",
    "print(\"TiktokBestsellers: \\n\", df_ttb.isnull().sum())"
   ],
   "metadata": {
    "collapsed": false,
    "ExecuteTime": {
     "end_time": "2023-11-07T17:10:14.921398Z",
     "start_time": "2023-11-07T17:10:14.824267Z"
    }
   },
   "id": "6ba89f48143f60f5"
  },
  {
   "cell_type": "code",
   "execution_count": 217,
   "outputs": [
    {
     "name": "stdout",
     "output_type": "stream",
     "text": [
      "OrderReport: \n",
      " Date                       object\n",
      "Order #                   float64\n",
      "N. Revenue (formatted)     object\n",
      "Status                     object\n",
      "Customer                   object\n",
      "Customer type              object\n",
      "Product(s)                 object\n",
      "Items sold                float64\n",
      "N. Revenue                float64\n",
      "State                      object\n",
      "Age                         int64\n",
      "Gender                     object\n",
      "dtype: object\n",
      "ProductList: \n",
      " Product        object\n",
      "SKU            object\n",
      "Items sold      int64\n",
      "N. Revenue    float64\n",
      "Orders          int64\n",
      "Status         object\n",
      "Stock           int64\n",
      "dtype: object\n",
      "RevenueReport: \n",
      " Date            object\n",
      "Orders           int64\n",
      "Gross sales    float64\n",
      "Returns        float64\n",
      "Coupons        float64\n",
      "Net sales      float64\n",
      "Taxes          float64\n",
      "Shipping       float64\n",
      "Total sales    float64\n",
      "dtype: object\n",
      "WebsiteBestsellers: \n",
      " product_name      object\n",
      "product_price    float64\n",
      "dtype: object\n",
      "TiktokBestsellers: \n",
      " product_name      object\n",
      "product_price    float64\n",
      "items_sold         int64\n",
      "rating           float64\n",
      "rating_count       int64\n",
      "dtype: object\n"
     ]
    }
   ],
   "source": [
    "# Find out the data types of each column in each dataset\n",
    "print(\"OrderReport: \\n\", df_or.dtypes)\n",
    "print(\"ProductList: \\n\", df_pl.dtypes)\n",
    "print(\"RevenueReport: \\n\", df_rr.dtypes)\n",
    "print(\"WebsiteBestsellers: \\n\", df_wb.dtypes)\n",
    "print(\"TiktokBestsellers: \\n\", df_ttb.dtypes)"
   ],
   "metadata": {
    "collapsed": false,
    "ExecuteTime": {
     "end_time": "2023-11-07T17:10:14.921467Z",
     "start_time": "2023-11-07T17:10:14.831334Z"
    }
   },
   "id": "f6b6d6bd86b1ef7"
  },
  {
   "cell_type": "code",
   "execution_count": 218,
   "outputs": [
    {
     "name": "stdout",
     "output_type": "stream",
     "text": [
      "OrderReport:  0\n",
      "ProductList:  0\n",
      "RevenueReport:  0\n",
      "WebsiteBestsellers:  0\n",
      "TiktokBestsellers:  0\n"
     ]
    }
   ],
   "source": [
    "# Find out the number of duplicate rows in each dataset\n",
    "print(\"OrderReport: \", df_or.duplicated().sum())\n",
    "print(\"ProductList: \", df_pl.duplicated().sum())\n",
    "print(\"RevenueReport: \", df_rr.duplicated().sum())\n",
    "print(\"WebsiteBestsellers: \", df_wb.duplicated().sum())\n",
    "print(\"TiktokBestsellers: \", df_ttb.duplicated().sum())"
   ],
   "metadata": {
    "collapsed": false,
    "ExecuteTime": {
     "end_time": "2023-11-07T17:10:14.921530Z",
     "start_time": "2023-11-07T17:10:14.835576Z"
    }
   },
   "id": "b9e7c5cf345f3058"
  },
  {
   "cell_type": "code",
   "execution_count": 219,
   "outputs": [],
   "source": [
    "# # remove columns with all null values\n",
    "# df_or = df_or.dropna(axis=1, how='all')\n",
    "# df_pl = df_pl.dropna(axis=1, how='all')\n",
    "# df_rr = df_rr.dropna(axis=1, how='all')\n",
    "# df_wb = df_wb.dropna(axis=1, how='all')\n",
    "# df_ttb = df_ttb.dropna(axis=1, how='all')\n",
    "# \n",
    "# # save back to csv\n",
    "# df_or.to_csv('datasets/OrderReport.csv', index=False)\n",
    "# df_pl.to_csv('datasets/ProductList.csv', index=False)\n",
    "# df_rr.to_csv('datasets/RevenueReport.csv', index=False)\n",
    "# df_wb.to_csv('datasets/website_bestsellers.csv', index=False)\n",
    "# df_ttb.to_csv('datasets/tiktok_bestsellers.csv', index=False)"
   ],
   "metadata": {
    "collapsed": false,
    "ExecuteTime": {
     "end_time": "2023-11-07T17:10:14.921565Z",
     "start_time": "2023-11-07T17:10:14.843235Z"
    }
   },
   "id": "ddbd0e4195214947"
  },
  {
   "cell_type": "code",
   "execution_count": 220,
   "outputs": [],
   "source": [
    "# # print the head of each dataset\n",
    "# print(\"OrderReport: \\n\", df_or.head())\n",
    "# print(\"ProductList: \\n\", df_pl.head())\n",
    "# print(\"RevenueReport: \\n\", df_rr.head())\n",
    "# print(\"WebsiteBestsellers: \\n\", df_wb.head())\n",
    "# print(\"TiktokBestsellers: \\n\", df_ttb.head())"
   ],
   "metadata": {
    "collapsed": false,
    "ExecuteTime": {
     "end_time": "2023-11-07T17:10:14.922808Z",
     "start_time": "2023-11-07T17:10:14.845912Z"
    }
   },
   "id": "9d9bfb5ef1e809ea"
  },
  {
   "cell_type": "code",
   "execution_count": 221,
   "outputs": [
    {
     "name": "stdout",
     "output_type": "stream",
     "text": [
      "16022.0\n",
      "Empty DataFrame\n",
      "Columns: [Product, SKU, Items sold, N. Revenue, Orders, Status, Stock]\n",
      "Index: []\n"
     ]
    }
   ],
   "source": [
    "# check empty sku\n",
    "# print(df_pl[df_pl['SKU'].isnull()])\n",
    "\n",
    "# add item sold column\n",
    "total = df_or['Items sold'].sum()\n",
    "print(total)\n",
    "\n",
    "\n",
    "# generate sku of 5 digits and random assign to empty sku\n",
    "random_sku = np.random.randint(10000, 99999)\n",
    "while random_sku in df_pl['SKU']:\n",
    "    random_sku = np.random.randint(10000, 99999)\n",
    "    \n",
    "df_pl['SKU'] = df_pl['SKU'].fillna(random_sku)\n",
    "print(df_pl[df_pl['SKU'].isnull()])\n",
    "\n",
    "# save to csv\n",
    "df_pl.to_csv('datasets/ProductList.csv', index=False)"
   ],
   "metadata": {
    "collapsed": false,
    "ExecuteTime": {
     "end_time": "2023-11-07T17:10:14.922934Z",
     "start_time": "2023-11-07T17:10:14.851349Z"
    }
   },
   "id": "72b43a9eb339b16f"
  },
  {
   "cell_type": "markdown",
   "source": [
    "# Data Augmentation"
   ],
   "metadata": {
    "collapsed": false
   },
   "id": "4bb71fbc1fc03ba5"
  },
  {
   "cell_type": "markdown",
   "source": [
    "## Add a new column to the OrderReport dataset called 'State' and populate it with random states"
   ],
   "metadata": {
    "collapsed": false
   },
   "id": "e662779187275b7b"
  },
  {
   "cell_type": "code",
   "execution_count": 222,
   "outputs": [],
   "source": [
    "# Malaysian States\n",
    "states = ['Johor', 'Kedah', 'Kelantan', 'Labuan', 'Melaka', 'Negeri Sembilan', 'Pahang', 'Penang', 'Perak', 'Perlis', 'Putrajaya', 'Sabah', 'Sarawak', 'Selangor', 'Terengganu', 'WP Kuala Lumpur']\n",
    "\n",
    "# states distribution\n",
    "states_distribution = {\n",
    "    'Johor': 0.6,\n",
    "    'Kedah': 0.5,\n",
    "    'Kelantan': 0.5,\n",
    "    'Labuan': 0.01,\n",
    "    'Melaka': 0.6,\n",
    "    'Negeri Sembilan': 0.6,\n",
    "    'Pahang': 0.4,\n",
    "    'Penang': 0.3,\n",
    "    'Perak': 0.4,\n",
    "    'Perlis': 0.5,\n",
    "    'Putrajaya': 0.06,\n",
    "    'Sabah': 0.02,\n",
    "    'Sarawak': 0.02,\n",
    "    'Selangor': 0.8,\n",
    "    'Terengganu': 0.4,\n",
    "    'WP Kuala Lumpur': 0.2\n",
    "}\n",
    "\n",
    "# Initialize random number generator with a fixed seed for consistency\n",
    "random.seed(42)\n",
    "\n",
    "# Sample the same number of states as rows in your existing dataset\n",
    "existing_rows = len(df_or)\n",
    "sampled_states = random.choices(states, weights=states_distribution.values(), k=existing_rows)\n",
    "# Assign the sampled states to your existing DataFrame\n",
    "df_or['State'] = sampled_states\n",
    "\n",
    "# Save the DataFrame to a CSV file\n",
    "df_or.to_csv('datasets/OrderReports.csv', index=False)"
   ],
   "metadata": {
    "collapsed": false,
    "ExecuteTime": {
     "end_time": "2023-11-07T17:10:14.922983Z",
     "start_time": "2023-11-07T17:10:14.858543Z"
    }
   },
   "id": "241b5790915b6ce0"
  },
  {
   "cell_type": "markdown",
   "source": [
    "## Adding a new column called to the OrderReport dataset called 'Age' and populate it with random ages"
   ],
   "metadata": {
    "collapsed": false
   },
   "id": "7d095c75cd680ae9"
  },
  {
   "cell_type": "code",
   "execution_count": 223,
   "outputs": [
    {
     "name": "stdout",
     "output_type": "stream",
     "text": [
      "                  Date  Order # N. Revenue (formatted)      Status  \\\n",
      "0  2023-10-26 14:50:17  16698.0                RM57.80  processing   \n",
      "1  2023-10-26 13:53:47  16697.0                RM32.90  processing   \n",
      "2  2023-10-26 13:04:17  16696.0                RM32.90  processing   \n",
      "3  2023-10-26 13:00:49  16695.0                RM82.70  processing   \n",
      "4  2023-10-26 12:47:36  16694.0                RM32.90  processing   \n",
      "\n",
      "                               Customer Customer type  \\\n",
      "0  AINAA SYAFIQAH ABD RAHMAN ABD RAHMAN           new   \n",
      "1                              Ja Hasim           new   \n",
      "2                             nasy anis           new   \n",
      "3   Herny erdawati binti Mohamad Rashed           new   \n",
      "4                      Suhaina Sulaiman           new   \n",
      "\n",
      "                                          Product(s)  Items sold  N. Revenue  \\\n",
      "0  1× LIP BOOSTER - WATERMELON, 1× LIP BOOSTER - ...         2.0        49.8   \n",
      "1                             1× LIP BOOSTER - MELON         1.0        24.9   \n",
      "2                             1× LIP BOOSTER - MELON         1.0        24.9   \n",
      "3  1× LIP BOOSTER - STRAWBERRY, 2× LIP BOOSTER - ...         3.0        74.7   \n",
      "4                        1× LIP BOOSTER - WATERMELON         1.0        24.9   \n",
      "\n",
      "      State  Age Gender  \n",
      "0     Perak   36      F  \n",
      "1     Johor   25      F  \n",
      "2    Melaka   31      F  \n",
      "3  Kelantan   31      F  \n",
      "4    Perlis   38      F  \n",
      "Age\n",
      "36    618\n",
      "34    611\n",
      "32    608\n",
      "35    593\n",
      "33    575\n",
      "31    573\n",
      "37    336\n",
      "28    315\n",
      "27    312\n",
      "45    306\n",
      "40    305\n",
      "41    304\n",
      "26    300\n",
      "29    297\n",
      "38    296\n",
      "39    288\n",
      "42    286\n",
      "30    283\n",
      "44    282\n",
      "25    265\n",
      "43    261\n",
      "Name: count, dtype: int64\n",
      "Gender\n",
      "F    7829\n",
      "M     185\n",
      "Name: count, dtype: int64\n"
     ]
    }
   ],
   "source": [
    "age_distribution = [25, 26, 27, 28, 29, 30, 31, 32, 33, 34, 35, 36, 37, 38, 39, 40, 41, 42, 43, 44, 45]\n",
    "# the percentage of customers in each age group\n",
    "age_distribution_percentage = [0.05, 0.05, 0.05, 0.05, 0.05, 0.05,\n",
    "                               0.10, 0.10, 0.10, 0.10, 0.10, 0.10, 0.05, 0.05, 0.05, 0.05, 0.05, 0.05, 0.05, 0.05, 0.05]  # 100%\n",
    "\n",
    "random.seed(42)\n",
    "\n",
    "# Sample the same number of customers as rows in your existing dataset\n",
    "existing_rows = len(df_or)\n",
    "sampled_age = random.choices(age_distribution, weights=age_distribution_percentage, k=existing_rows)\n",
    "\n",
    "# Assign the sampled age to your existing DataFrame\n",
    "df_or['Age'] = sampled_age\n",
    "\n",
    "# Save the DataFrame to a CSV file\n",
    "df_or.to_csv('datasets/OrderReports.csv', index=False)\n",
    "\n",
    "print(df_or.head())\n",
    "print(df_or['Age'].value_counts())\n",
    "print(df_or['Gender'].value_counts())\n"
   ],
   "metadata": {
    "collapsed": false,
    "ExecuteTime": {
     "end_time": "2023-11-07T17:10:14.923117Z",
     "start_time": "2023-11-07T17:10:14.890559Z"
    }
   },
   "id": "6623ee1f78758306"
  },
  {
   "cell_type": "markdown",
   "source": [
    "## Creating a Machine Learning Model using Logistic Regression to predict gender of names"
   ],
   "metadata": {
    "collapsed": false
   },
   "id": "df57e3c00a94a08e"
  },
  {
   "cell_type": "code",
   "execution_count": 224,
   "outputs": [],
   "source": [
    "# df_mn = pd.read_csv('datasets/MalaysianNames_clean.csv')\n",
    "# \n",
    "# name_vectorizer = CountVectorizer(analyzer='char', ngram_range=(2, 3))\n",
    "# name_features = name_vectorizer.fit_transform(df_mn['name'])\n",
    "# \n",
    "# label_encoder = LabelEncoder()\n",
    "# df_mn[\"gender\"] = label_encoder.fit_transform(df_mn[\"gender\"])\n",
    "# \n",
    "# X_train, X_test, y_train, y_test = train_test_split(name_features, df_mn[\"gender\"], test_size=0.2, random_state=42)\n",
    "# \n",
    "# model = LogisticRegression()\n",
    "# model.fit(X_train, y_train)\n",
    "# y_pred = model.predict(X_test)\n",
    "# \n",
    "# accuracy = accuracy_score(y_test, y_pred)\n",
    "# \n",
    "# print(f\"Model Accuracy: {accuracy}\")\n",
    "# \n",
    "# new_names = df_or['Customer'].tolist()\n",
    "# # new_names = ['Lee Mann Heyy']\n",
    "# new_name_features = name_vectorizer.transform(new_names)\n",
    "# new_name_features = new_name_features.toarray()\n",
    "# \n",
    "# # predict gender of new names\n",
    "# new_names_pred = model.predict(new_name_features)\n",
    "# new_names_pred = label_encoder.inverse_transform(new_names_pred)\n",
    "# print(new_names_pred)\n",
    "# \n",
    "# #print total number of M and F in the list\n",
    "# print(\"Total number of M: \", new_names_pred.tolist().count('M'))\n",
    "# print(\"Total number of F: \", new_names_pred.tolist().count('F'))"
   ],
   "metadata": {
    "collapsed": false,
    "ExecuteTime": {
     "end_time": "2023-11-07T17:10:14.945948Z",
     "start_time": "2023-11-07T17:10:14.920742Z"
    }
   },
   "id": "ce0fd00beeb6fdb0"
  },
  {
   "cell_type": "markdown",
   "source": [
    "# Encoding Categorical Data"
   ],
   "metadata": {
    "collapsed": false
   },
   "id": "8de327f9778793e9"
  },
  {
   "cell_type": "markdown",
   "source": [
    "### For OrderReport dataset"
   ],
   "metadata": {
    "collapsed": false
   },
   "id": "629d84f7720276d2"
  },
  {
   "cell_type": "code",
   "execution_count": 225,
   "outputs": [
    {
     "name": "stdout",
     "output_type": "stream",
     "text": [
      "                  Date  Order # N. Revenue (formatted)      Status  \\\n",
      "0  2023-10-26 14:50:17  16698.0                RM57.80  processing   \n",
      "1  2023-10-26 13:53:47  16697.0                RM32.90  processing   \n",
      "2  2023-10-26 13:04:17  16696.0                RM32.90  processing   \n",
      "3  2023-10-26 13:00:49  16695.0                RM82.70  processing   \n",
      "4  2023-10-26 12:47:36  16694.0                RM32.90  processing   \n",
      "\n",
      "                               Customer Customer type  \\\n",
      "0  AINAA SYAFIQAH ABD RAHMAN ABD RAHMAN           new   \n",
      "1                              Ja Hasim           new   \n",
      "2                             nasy anis           new   \n",
      "3   Herny erdawati binti Mohamad Rashed           new   \n",
      "4                      Suhaina Sulaiman           new   \n",
      "\n",
      "                                          Product(s)  Items sold  N. Revenue  \\\n",
      "0  1× LIP BOOSTER - WATERMELON, 1× LIP BOOSTER - ...         2.0        49.8   \n",
      "1                             1× LIP BOOSTER - MELON         1.0        24.9   \n",
      "2                             1× LIP BOOSTER - MELON         1.0        24.9   \n",
      "3  1× LIP BOOSTER - STRAWBERRY, 2× LIP BOOSTER - ...         3.0        74.7   \n",
      "4                        1× LIP BOOSTER - WATERMELON         1.0        24.9   \n",
      "\n",
      "      State  Age Gender  Customer type enc  Gender_enc  \n",
      "0     Perak   36      F                  0           0  \n",
      "1     Johor   25      F                  0           0  \n",
      "2    Melaka   31      F                  0           0  \n",
      "3  Kelantan   31      F                  0           0  \n",
      "4    Perlis   38      F                  0           0  \n",
      "                  Date  Order # N. Revenue (formatted)      Status  \\\n",
      "0  2023-10-26 14:50:17  16698.0                RM57.80  processing   \n",
      "1  2023-10-26 13:53:47  16697.0                RM32.90  processing   \n",
      "2  2023-10-26 13:04:17  16696.0                RM32.90  processing   \n",
      "3  2023-10-26 13:00:49  16695.0                RM82.70  processing   \n",
      "4  2023-10-26 12:47:36  16694.0                RM32.90  processing   \n",
      "\n",
      "                               Customer Customer type  \\\n",
      "0  AINAA SYAFIQAH ABD RAHMAN ABD RAHMAN           new   \n",
      "1                              Ja Hasim           new   \n",
      "2                             nasy anis           new   \n",
      "3   Herny erdawati binti Mohamad Rashed           new   \n",
      "4                      Suhaina Sulaiman           new   \n",
      "\n",
      "                                          Product(s)  Items sold  N. Revenue  \\\n",
      "0  1× LIP BOOSTER - WATERMELON, 1× LIP BOOSTER - ...         2.0        49.8   \n",
      "1                             1× LIP BOOSTER - MELON         1.0        24.9   \n",
      "2                             1× LIP BOOSTER - MELON         1.0        24.9   \n",
      "3  1× LIP BOOSTER - STRAWBERRY, 2× LIP BOOSTER - ...         3.0        74.7   \n",
      "4                        1× LIP BOOSTER - WATERMELON         1.0        24.9   \n",
      "\n",
      "      State  Age Gender  Customer type enc  Gender_enc  State_enc  \n",
      "0     Perak   36      F                  0           0          8  \n",
      "1     Johor   25      F                  0           0          0  \n",
      "2    Melaka   31      F                  0           0          4  \n",
      "3  Kelantan   31      F                  0           0          2  \n",
      "4    Perlis   38      F                  0           0          9  \n"
     ]
    }
   ],
   "source": [
    "lb = LabelBinarizer()\n",
    "df_or['Customer type enc'] = lb.fit_transform(df_or['Customer type'])\n",
    "df_or['Gender_enc'] = lb.fit_transform(df_or['Gender'])\n",
    "print(df_or.head())\n",
    "\n",
    "le = LabelEncoder()\n",
    "df_or['State_enc'] = le.fit_transform(df_or['State'])\n",
    "print(df_or.head())"
   ],
   "metadata": {
    "collapsed": false,
    "ExecuteTime": {
     "end_time": "2023-11-07T17:10:15.114928Z",
     "start_time": "2023-11-07T17:10:14.923779Z"
    }
   },
   "id": "6fe019244a16e2f4"
  },
  {
   "cell_type": "markdown",
   "source": [
    "### For ProductList dataset"
   ],
   "metadata": {
    "collapsed": false
   },
   "id": "8f423c8f8c5eb5ac"
  },
  {
   "cell_type": "code",
   "execution_count": 226,
   "outputs": [
    {
     "name": "stdout",
     "output_type": "stream",
     "text": [
      "                                        Product    SKU  Items sold  \\\n",
      "0                      LIP BOOSTER - WATERMELON  00597        2590   \n",
      "1                      LIP BOOSTER - STRAWBERRY  00602        2563   \n",
      "2  COLLAGEN SERUM FOUNDATION ALHA ALFA - MEDIUM  00608        1067   \n",
      "3   COLLAGEN SERUM FOUNDATION ALHA ALFA - LIGHT  00607         728   \n",
      "4                           LIP BOOSTER - MELON  00610         651   \n",
      "\n",
      "   N. Revenue  Orders    Status  Stock  Status enc  \n",
      "0     63270.9    2299  In stock     11           0  \n",
      "1     63768.9    2280  In stock    134           0  \n",
      "2      7435.1    1005  In stock     33           0  \n",
      "3      7135.7     690  In stock     41           0  \n",
      "4     16209.9     587  In stock    177           0  \n"
     ]
    }
   ],
   "source": [
    "lb = LabelBinarizer()\n",
    "df_pl['Status enc'] = lb.fit_transform(df_pl['Status'])\n",
    "print(df_pl.head())"
   ],
   "metadata": {
    "collapsed": false,
    "ExecuteTime": {
     "end_time": "2023-11-07T17:10:15.119813Z",
     "start_time": "2023-11-07T17:10:14.948393Z"
    }
   },
   "id": "f1553fed2560e1b5"
  },
  {
   "cell_type": "markdown",
   "source": [
    "# AI Model"
   ],
   "metadata": {
    "collapsed": false
   },
   "id": "37ec56a6479691c1"
  },
  {
   "cell_type": "code",
   "execution_count": 227,
   "outputs": [],
   "source": [
    "# split dataset into training and testing set\n",
    "data = df_or[['Customer type enc', 'Age', 'State_enc']]\n",
    "trainset, testset = train_test_split(data, test_size=0.2, random_state=42)    "
   ],
   "metadata": {
    "collapsed": false,
    "ExecuteTime": {
     "end_time": "2023-11-07T17:10:15.119983Z",
     "start_time": "2023-11-07T17:10:14.952121Z"
    }
   },
   "id": "938dd64375ff3a68"
  },
  {
   "cell_type": "code",
   "execution_count": 228,
   "outputs": [
    {
     "name": "stdout",
     "output_type": "stream",
     "text": [
      "KMeans(n_clusters=3, random_state=42)\n",
      "[2 0 1 ... 0 0 0]\n"
     ]
    },
    {
     "data": {
      "text/plain": "<Figure size 640x480 with 1 Axes>",
      "image/png": "[encoded data removed]"
     },
     "metadata": {},
     "output_type": "display_data"
    },
    {
     "name": "stdout",
     "output_type": "stream",
     "text": [
      "0.5986592211307852\n"
     ]
    }
   ],
   "source": [
    "# train a model using k-means for customer segmentation based on customer type, age, gender, and state\n",
    "from sklearn.cluster import KMeans\n",
    "kmeans = KMeans(n_clusters=3, random_state=42)\n",
    "print(kmeans.fit(trainset))\n",
    "# predict the clusters for the testset\n",
    "y_pred = kmeans.predict(testset)\n",
    "print(y_pred)\n",
    "# plot the clusters\n",
    "plt.scatter(testset['Age'], testset['State_enc'], c=y_pred, cmap='rainbow')\n",
    "plt.xlabel('Age')\n",
    "plt.ylabel('State')\n",
    "plt.show()\n",
    "\n",
    "# Evaluate the model\n",
    "from sklearn.metrics import silhouette_score\n",
    "print(silhouette_score(testset, y_pred))"
   ],
   "metadata": {
    "collapsed": false,
    "ExecuteTime": {
     "end_time": "2023-11-07T17:10:15.339620Z",
     "start_time": "2023-11-07T17:10:14.956702Z"
    }
   },
   "id": "c873f6963bf536d0"
  },
  {
   "cell_type": "code",
   "execution_count": 229,
   "outputs": [
    {
     "name": "stdout",
     "output_type": "stream",
     "text": [
      "DBSCAN()\n"
     ]
    }
   ],
   "source": [
    "# use DBSCAN to cluster the data\n",
    "from sklearn.cluster import DBSCAN\n",
    "dbscan = DBSCAN(eps=0.5, min_samples=5)\n",
    "print(dbscan.fit(trainset))"
   ],
   "metadata": {
    "collapsed": false,
    "ExecuteTime": {
     "end_time": "2023-11-07T17:10:15.389025Z",
     "start_time": "2023-11-07T17:10:15.322781Z"
    }
   },
   "id": "cefd265ec8ca0c24"
  },
  {
   "cell_type": "code",
   "execution_count": 230,
   "outputs": [
    {
     "name": "stdout",
     "output_type": "stream",
     "text": [
      "[ 0  1  2 ...  5 10 10]\n"
     ]
    }
   ],
   "source": [
    "# predict the clusters for the testset\n",
    "y_pred = dbscan.fit_predict(testset)\n",
    "print(y_pred)"
   ],
   "metadata": {
    "collapsed": false,
    "ExecuteTime": {
     "end_time": "2023-11-07T17:10:15.390808Z",
     "start_time": "2023-11-07T17:10:15.372917Z"
    }
   },
   "id": "c0f84d62f3c54bd"
  },
  {
   "cell_type": "code",
   "execution_count": 231,
   "outputs": [
    {
     "data": {
      "text/plain": "<Figure size 640x480 with 1 Axes>",
      "image/png": "[encoded data removed]"
     },
     "metadata": {},
     "output_type": "display_data"
    }
   ],
   "source": [
    "# plot the clusters\n",
    "plt.scatter(testset['Age'], testset['State_enc'], c=y_pred, cmap='rainbow')\n",
    "plt.xlabel('Age')\n",
    "plt.ylabel('State')\n",
    "plt.show()\n"
   ],
   "metadata": {
    "collapsed": false,
    "ExecuteTime": {
     "end_time": "2023-11-07T17:10:15.501718Z",
     "start_time": "2023-11-07T17:10:15.388399Z"
    }
   },
   "id": "723a9777c72aef0a"
  },
  {
   "cell_type": "code",
   "execution_count": 232,
   "outputs": [
    {
     "name": "stdout",
     "output_type": "stream",
     "text": [
      "0.9365001452004044\n"
     ]
    }
   ],
   "source": [
    "# Evaluate the model\n",
    "from sklearn.metrics import silhouette_score\n",
    "print(silhouette_score(testset, y_pred))\n",
    "\n"
   ],
   "metadata": {
    "collapsed": false,
    "ExecuteTime": {
     "end_time": "2023-11-07T17:10:15.546301Z",
     "start_time": "2023-11-07T17:10:15.499284Z"
    }
   },
   "id": "1c538f39e3b49f8c"
  }
 ],
 "metadata": {
  "kernelspec": {
   "display_name": "Python 3",
   "language": "python",
   "name": "python3"
  },
  "language_info": {
   "codemirror_mode": {
    "name": "ipython",
    "version": 2
   },
   "file_extension": ".py",
   "mimetype": "text/x-python",
   "name": "python",
   "nbconvert_exporter": "python",
   "pygments_lexer": "ipython2",
   "version": "2.7.6"
  }
 },
 "nbformat": 4,
 "nbformat_minor": 5
}

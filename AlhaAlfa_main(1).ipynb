{
 "cells": [
  {
   "cell_type": "markdown",
   "id": "e085471683513eb0",
   "metadata": {
    "collapsed": false
   },
   "source": [
    "# Import Libraries"
   ]
  },
  {
   "cell_type": "code",
   "execution_count": 1,
   "id": "initial_id",
   "metadata": {
    "ExecuteTime": {
     "end_time": "2023-11-07T17:10:14.846477Z",
     "start_time": "2023-11-07T17:10:14.759536Z"
    },
    "collapsed": true
   },
   "outputs": [],
   "source": [
    "import pandas as pd\n",
    "import numpy as np\n",
    "import random\n",
    "import warnings\n",
    "warnings.filterwarnings('ignore')\n",
    "from sklearn.feature_extraction.text import CountVectorizer\n",
    "from sklearn.preprocessing import LabelEncoder\n",
    "from sklearn.metrics import accuracy_score\n",
    "from sklearn.model_selection import train_test_split\n",
    "from sklearn.linear_model import LogisticRegression\n",
    "import matplotlib.pyplot as plt\n",
    "from sklearn.preprocessing import LabelEncoder\n",
    "from sklearn.preprocessing import LabelBinarizer\n",
    "from sklearn.model_selection import train_test_split\n",
    "from sklearn.linear_model import LinearRegression\n",
    "from sklearn.metrics import mean_squared_error, r2_score\n",
    "from sklearn.cluster import DBSCAN\n",
    "from sklearn.cluster import KMeans\n",
    "from sklearn.ensemble import RandomForestRegressor\n",
    "\n",
    "import seaborn as sns\n",
    "import os\n",
    "import sys"
   ]
  },
  {
   "cell_type": "markdown",
   "id": "f523edf9c29fe612",
   "metadata": {
    "collapsed": false
   },
   "source": [
    "# Import Datasets"
   ]
  },
  {
   "cell_type": "code",
   "execution_count": 2,
   "id": "72b1bf274a7a5fad",
   "metadata": {
    "ExecuteTime": {
     "end_time": "2023-11-07T17:10:14.920869Z",
     "start_time": "2023-11-07T17:10:14.765631Z"
    },
    "collapsed": false
   },
   "outputs": [
    {
     "name": "stdout",
     "output_type": "stream",
     "text": [
      "   Date                  Order #   N. Revenue (formatted)   Status       \\\n",
      "0  2023-10-26 14:50:17    16698.0  RM57.80                  processing    \n",
      "1  2023-10-26 13:53:47    16697.0  RM32.90                  processing    \n",
      "2  2023-10-26 13:04:17    16696.0  RM32.90                  processing    \n",
      "3  2023-10-26 13:00:49    16695.0  RM82.70                  processing    \n",
      "4  2023-10-26 12:47:36    16694.0  RM32.90                  processing    \n",
      "\n",
      "  Customer                                                            \\\n",
      "0  AINAA SYAFIQAH ABD RAHMAN ABD RAHMAN          ...                   \n",
      "1  Ja Hasim                                      ...                   \n",
      "2  nasy anis                                     ...                   \n",
      "3  Herny erdawati binti Mohamad Rashed           ...                   \n",
      "4  Suhaina Sulaiman                              ...                   \n",
      "\n",
      "   Customer type   \\\n",
      "0  new              \n",
      "1  new              \n",
      "2  new              \n",
      "3  new              \n",
      "4  new              \n",
      "\n",
      "  Product(s)                                                                                                                                                                                                                                                                                                                                                                                                                                                                                                                                                                                                                \\\n",
      "0  1× LIP BOOSTER - WATERMELON, 1× LIP BOOSTER - ...                                                                                                                                                                                                                                                                                                                                                                                                                                                                                                                                                                         \n",
      "1  1× LIP BOOSTER - MELON                        ...                                                                                                                                                                                                                                                                                                                                                                                                                                                                                                                                                                         \n",
      "2  1× LIP BOOSTER - MELON                        ...                                                                                                                                                                                                                                                                                                                                                                                                                                                                                                                                                                         \n",
      "3  1× LIP BOOSTER - STRAWBERRY, 2× LIP BOOSTER - ...                                                                                                                                                                                                                                                                                                                                                                                                                                                                                                                                                                         \n",
      "4  1× LIP BOOSTER - WATERMELON                   ...                                                                                                                                                                                                                                                                                                                                                                                                                                                                                                                                                                         \n",
      "\n",
      "   Items sold   N. Revenue   State             Age  Gender  \n",
      "0          2.0         49.8  Perak               36      F  \n",
      "1          1.0         24.9  Johor               25      F  \n",
      "2          1.0         24.9  Melaka              31      F  \n",
      "3          3.0         74.7  Kelantan            31      F  \n",
      "4          1.0         24.9  Perlis              38      F  \n"
     ]
    }
   ],
   "source": [
    "# Import Datasets\n",
    "df_or = pd.read_csv('datasets/OrderReports.csv')\n",
    "print(df_or.head())"
   ]
  },
  {
   "cell_type": "code",
   "execution_count": 3,
   "id": "14210bee85561a09",
   "metadata": {
    "ExecuteTime": {
     "end_time": "2023-11-07T17:10:14.921042Z",
     "start_time": "2023-11-07T17:10:14.804009Z"
    },
    "collapsed": false
   },
   "outputs": [
    {
     "name": "stdout",
     "output_type": "stream",
     "text": [
      "                                        Product    SKU  Items sold  \\\n",
      "0                      LIP BOOSTER - WATERMELON  00597        2590   \n",
      "1                      LIP BOOSTER - STRAWBERRY  00602        2563   \n",
      "2  COLLAGEN SERUM FOUNDATION ALHA ALFA - MEDIUM  00608        1067   \n",
      "3   COLLAGEN SERUM FOUNDATION ALHA ALFA - LIGHT  00607         728   \n",
      "4                           LIP BOOSTER - MELON  00610         651   \n",
      "\n",
      "   N. Revenue  Orders    Status  Stock  \n",
      "0     63270.9    2299  In stock     11  \n",
      "1     63768.9    2280  In stock    134  \n",
      "2      7435.1    1005  In stock     33  \n",
      "3      7135.7     690  In stock     41  \n",
      "4     16209.9     587  In stock    177  \n"
     ]
    }
   ],
   "source": [
    "df_pl = pd.read_csv('datasets/ProductList.csv')\n",
    "print(df_pl.head())"
   ]
  },
  {
   "cell_type": "code",
   "execution_count": 4,
   "id": "86b5cc84a7d4e1ac",
   "metadata": {
    "ExecuteTime": {
     "end_time": "2023-11-07T17:10:14.921121Z",
     "start_time": "2023-11-07T17:10:14.809032Z"
    },
    "collapsed": false
   },
   "outputs": [
    {
     "name": "stdout",
     "output_type": "stream",
     "text": [
      "                  Date  Orders  Gross sales  Returns  Coupons  Net sales  \\\n",
      "0  2023-10-26 00:00:00      12        917.7      0.0      0.0      917.7   \n",
      "1  2023-10-25 00:00:00      31       1664.7      0.0      0.0     1664.7   \n",
      "2  2023-10-24 00:00:00      11        803.0      0.0      0.0      803.0   \n",
      "3  2023-10-23 00:00:00      16        867.5      0.0      0.0      867.5   \n",
      "4  2023-10-22 00:00:00      17        986.9      0.0      0.0      986.9   \n",
      "\n",
      "   Taxes  Shipping  Total sales  \n",
      "0    0.0     100.0       1017.7  \n",
      "1    0.0     264.0       1928.7  \n",
      "2    0.0      96.0        899.0  \n",
      "3    0.0     136.0       1003.5  \n",
      "4    0.0     144.0       1130.9  \n"
     ]
    }
   ],
   "source": [
    "df_rr = pd.read_csv('datasets/RevenueReport.csv')\n",
    "print(df_rr.head())"
   ]
  },
  {
   "cell_type": "code",
   "execution_count": 5,
   "id": "7eaec18aa00d7dee",
   "metadata": {
    "ExecuteTime": {
     "end_time": "2023-11-07T17:10:14.921188Z",
     "start_time": "2023-11-07T17:10:14.813792Z"
    },
    "collapsed": false
   },
   "outputs": [
    {
     "name": "stdout",
     "output_type": "stream",
     "text": [
      "                          product_name  product_price\n",
      "0                          LIP BOOSTER           24.9\n",
      "1  COLLAGEN SERUM FOUNDATION ALHA ALFA           49.9\n",
      "2                SET DIMENSI ALHA ALFA           79.9\n",
      "3         MAGIC GLOW LIP TREATMENT OIL           24.9\n",
      "4     ROYAL PROPOLIS POWDER FOUNDATION           59.9\n"
     ]
    }
   ],
   "source": [
    "df_wb = pd.read_csv('datasets/website_bestsellers.csv')\n",
    "print(df_wb.head())"
   ]
  },
  {
   "cell_type": "code",
   "execution_count": 6,
   "id": "74d7d88c575bb28a",
   "metadata": {
    "ExecuteTime": {
     "end_time": "2023-11-07T17:10:14.921255Z",
     "start_time": "2023-11-07T17:10:14.817304Z"
    },
    "collapsed": false
   },
   "outputs": [
    {
     "name": "stdout",
     "output_type": "stream",
     "text": [
      "                                        product_name  product_price  \\\n",
      "0                   ALHA ALFA LIP BOOSTER SERUM Lips           24.9   \n",
      "1             ALHA ALFA MAGIC GLOW LIP TREATMENT OIL           24.9   \n",
      "2   ALHA ALFA ROYAL PROPOLIS FOUNDATION PERFECT GLOW           69.9   \n",
      "3  ALHA ALFA COMPACT POWDER ROYAL PROPOLIS FOUNDA...           59.9   \n",
      "4                     ALHA ALFA SETTING SPRAY MAKEUP           59.9   \n",
      "\n",
      "   items_sold  rating  rating_count  \n",
      "0      104400     4.9         27000  \n",
      "1       35400     4.8          8800  \n",
      "2       30400     4.9          8300  \n",
      "3       27400     4.9         27600  \n",
      "4       23500     4.9          6400  \n"
     ]
    }
   ],
   "source": [
    "df_ttb = pd.read_csv('datasets/tiktok_bestsellers.csv')\n",
    "print(df_ttb.head())"
   ]
  },
  {
   "cell_type": "markdown",
   "id": "7026e8753424000d",
   "metadata": {
    "collapsed": false
   },
   "source": [
    "# Identifying and Handling Missing Values, Duplicate Data, and Incorrect Data Types"
   ]
  },
  {
   "cell_type": "code",
   "execution_count": 7,
   "id": "7ff13d4b8769739b",
   "metadata": {
    "ExecuteTime": {
     "end_time": "2023-11-07T17:10:14.921328Z",
     "start_time": "2023-11-07T17:10:14.821989Z"
    },
    "collapsed": false
   },
   "outputs": [
    {
     "name": "stdout",
     "output_type": "stream",
     "text": [
      "OrderReport:  (8014, 12)\n",
      "ProductList:  (111, 7)\n",
      "RevenueReport:  (299, 9)\n",
      "WebsiteBestsellers:  (37, 2)\n",
      "TiktokBestsellers:  (23, 5)\n"
     ]
    }
   ],
   "source": [
    "# Find out the number of rows and columns in each dataset\n",
    "print(\"OrderReport: \", df_or.shape)\n",
    "print(\"ProductList: \", df_pl.shape)\n",
    "print(\"RevenueReport: \", df_rr.shape)\n",
    "print(\"WebsiteBestsellers: \", df_wb.shape)\n",
    "print(\"TiktokBestsellers: \", df_ttb.shape)"
   ]
  },
  {
   "cell_type": "code",
   "execution_count": 8,
   "id": "6ba89f48143f60f5",
   "metadata": {
    "ExecuteTime": {
     "end_time": "2023-11-07T17:10:14.921398Z",
     "start_time": "2023-11-07T17:10:14.824267Z"
    },
    "collapsed": false
   },
   "outputs": [
    {
     "name": "stdout",
     "output_type": "stream",
     "text": [
      "OrderReport: \n",
      " Date                                                                                                                                                                                                                                                                                                                                                                                                                                                                                                                                                                                                                        0\n",
      "Order #                                                                                                                                                                                                                                                                                                                                                                                                                                                                                                                                                                                                                     0\n",
      "N. Revenue (formatted)                                                                                                                                                                                                                                                                                                                                                                                                                                                                                                                                                                                                      0\n",
      "Status                                                                                                                                                                                                                                                                                                                                                                                                                                                                                                                                                                                                                      0\n",
      "Customer                                                                                                                                                                                                                                                                                                                                                                                                                                                                                                                                                                                                                    0\n",
      "Customer type                                                                                                                                                                                                                                                                                                                                                                                                                                                                                                                                                                                                               0\n",
      "Product(s)                                                                                                                                                                                                                                                                                                                                                                                                                                                                                                                                                                                                                  0\n",
      "Items sold                                                                                                                                                                                                                                                                                                                                                                                                                                                                                                                                                                                                                  0\n",
      "N. Revenue                                                                                                                                                                                                                                                                                                                                                                                                                                                                                                                                                                                                                  0\n",
      "State                                                                                                                                                                                                                                                                                                                                                                                                                                                                                                                                                                                                                       0\n",
      "Age                                                                                                                                                                                                                                                                                                                                                                                                                                                                                                                                                                                                                         0\n",
      "Gender                                                                                                                                                                                                                                                                                                                                                                                                                                                                                                                                                                                                                      0\n",
      "dtype: int64\n",
      "ProductList: \n",
      " Product       0\n",
      "SKU           0\n",
      "Items sold    0\n",
      "N. Revenue    0\n",
      "Orders        0\n",
      "Status        0\n",
      "Stock         0\n",
      "dtype: int64\n",
      "RevenueReport: \n",
      " Date           0\n",
      "Orders         0\n",
      "Gross sales    0\n",
      "Returns        0\n",
      "Coupons        0\n",
      "Net sales      0\n",
      "Taxes          0\n",
      "Shipping       0\n",
      "Total sales    0\n",
      "dtype: int64\n",
      "WebsiteBestsellers: \n",
      " product_name     0\n",
      "product_price    0\n",
      "dtype: int64\n",
      "TiktokBestsellers: \n",
      " product_name     0\n",
      "product_price    0\n",
      "items_sold       0\n",
      "rating           0\n",
      "rating_count     0\n",
      "dtype: int64\n"
     ]
    }
   ],
   "source": [
    "# Find out the number of missing values in each dataset\n",
    "print(\"OrderReport: \\n\", df_or.isnull().sum())\n",
    "print(\"ProductList: \\n\", df_pl.isnull().sum())\n",
    "print(\"RevenueReport: \\n\", df_rr.isnull().sum())\n",
    "print(\"WebsiteBestsellers: \\n\", df_wb.isnull().sum())\n",
    "print(\"TiktokBestsellers: \\n\", df_ttb.isnull().sum())"
   ]
  },
  {
   "cell_type": "code",
   "execution_count": 9,
   "id": "f6b6d6bd86b1ef7",
   "metadata": {
    "ExecuteTime": {
     "end_time": "2023-11-07T17:10:14.921467Z",
     "start_time": "2023-11-07T17:10:14.831334Z"
    },
    "collapsed": false
   },
   "outputs": [
    {
     "name": "stdout",
     "output_type": "stream",
     "text": [
      "OrderReport: \n",
      " Date                                                                                                                                                                                                                                                                                                                                                                                                                                                                                                                                                                                                                         object\n",
      "Order #                                                                                                                                                                                                                                                                                                                                                                                                                                                                                                                                                                                                                     float64\n",
      "N. Revenue (formatted)                                                                                                                                                                                                                                                                                                                                                                                                                                                                                                                                                                                                       object\n",
      "Status                                                                                                                                                                                                                                                                                                                                                                                                                                                                                                                                                                                                                       object\n",
      "Customer                                                                                                                                                                                                                                                                                                                                                                                                                                                                                                                                                                                                                     object\n",
      "Customer type                                                                                                                                                                                                                                                                                                                                                                                                                                                                                                                                                                                                                object\n",
      "Product(s)                                                                                                                                                                                                                                                                                                                                                                                                                                                                                                                                                                                                                   object\n",
      "Items sold                                                                                                                                                                                                                                                                                                                                                                                                                                                                                                                                                                                                                  float64\n",
      "N. Revenue                                                                                                                                                                                                                                                                                                                                                                                                                                                                                                                                                                                                                  float64\n",
      "State                                                                                                                                                                                                                                                                                                                                                                                                                                                                                                                                                                                                                        object\n",
      "Age                                                                                                                                                                                                                                                                                                                                                                                                                                                                                                                                                                                                                           int64\n",
      "Gender                                                                                                                                                                                                                                                                                                                                                                                                                                                                                                                                                                                                                       object\n",
      "dtype: object\n",
      "ProductList: \n",
      " Product        object\n",
      "SKU            object\n",
      "Items sold      int64\n",
      "N. Revenue    float64\n",
      "Orders          int64\n",
      "Status         object\n",
      "Stock           int64\n",
      "dtype: object\n",
      "RevenueReport: \n",
      " Date            object\n",
      "Orders           int64\n",
      "Gross sales    float64\n",
      "Returns        float64\n",
      "Coupons        float64\n",
      "Net sales      float64\n",
      "Taxes          float64\n",
      "Shipping       float64\n",
      "Total sales    float64\n",
      "dtype: object\n",
      "WebsiteBestsellers: \n",
      " product_name      object\n",
      "product_price    float64\n",
      "dtype: object\n",
      "TiktokBestsellers: \n",
      " product_name      object\n",
      "product_price    float64\n",
      "items_sold         int64\n",
      "rating           float64\n",
      "rating_count       int64\n",
      "dtype: object\n"
     ]
    }
   ],
   "source": [
    "# Find out the data types of each column in each dataset\n",
    "print(\"OrderReport: \\n\", df_or.dtypes)\n",
    "print(\"ProductList: \\n\", df_pl.dtypes)\n",
    "print(\"RevenueReport: \\n\", df_rr.dtypes)\n",
    "print(\"WebsiteBestsellers: \\n\", df_wb.dtypes)\n",
    "print(\"TiktokBestsellers: \\n\", df_ttb.dtypes)"
   ]
  },
  {
   "cell_type": "code",
   "execution_count": 10,
   "id": "b9e7c5cf345f3058",
   "metadata": {
    "ExecuteTime": {
     "end_time": "2023-11-07T17:10:14.921530Z",
     "start_time": "2023-11-07T17:10:14.835576Z"
    },
    "collapsed": false
   },
   "outputs": [
    {
     "name": "stdout",
     "output_type": "stream",
     "text": [
      "OrderReport:  0\n",
      "ProductList:  0\n",
      "RevenueReport:  0\n",
      "WebsiteBestsellers:  0\n",
      "TiktokBestsellers:  0\n"
     ]
    }
   ],
   "source": [
    "# Find out the number of duplicate rows in each dataset\n",
    "print(\"OrderReport: \", df_or.duplicated().sum())\n",
    "print(\"ProductList: \", df_pl.duplicated().sum())\n",
    "print(\"RevenueReport: \", df_rr.duplicated().sum())\n",
    "print(\"WebsiteBestsellers: \", df_wb.duplicated().sum())\n",
    "print(\"TiktokBestsellers: \", df_ttb.duplicated().sum())"
   ]
  },
  {
   "cell_type": "code",
   "execution_count": 11,
   "id": "72b43a9eb339b16f",
   "metadata": {
    "ExecuteTime": {
     "end_time": "2023-11-07T17:10:14.922934Z",
     "start_time": "2023-11-07T17:10:14.851349Z"
    },
    "collapsed": false
   },
   "outputs": [
    {
     "name": "stdout",
     "output_type": "stream",
     "text": [
      "Empty DataFrame\n",
      "Columns: [Product, SKU, Items sold, N. Revenue, Orders, Status, Stock]\n",
      "Index: []\n"
     ]
    }
   ],
   "source": [
    "# check empty sku\n",
    "# print(df_pl[df_pl['SKU'].isnull()])\n",
    "# generate sku of 5 digits and random assign to empty sku\n",
    "random_sku = np.random.randint(10000, 99999)\n",
    "while random_sku in df_pl['SKU']:\n",
    "    random_sku = np.random.randint(10000, 99999)\n",
    "    \n",
    "df_pl['SKU'] = df_pl['SKU'].fillna(random_sku)\n",
    "print(df_pl[df_pl['SKU'].isnull()])\n",
    "\n",
    "# save to csv\n",
    "df_pl.to_csv('datasets/ProductList.csv', index=False)"
   ]
  },
  {
   "cell_type": "markdown",
   "id": "4bb71fbc1fc03ba5",
   "metadata": {
    "collapsed": false
   },
   "source": [
    "# Data Augmentation"
   ]
  },
  {
   "cell_type": "markdown",
   "id": "e662779187275b7b",
   "metadata": {
    "collapsed": false
   },
   "source": [
    "## Add a new column to the OrderReport dataset called 'State' and populate it with random states"
   ]
  },
  {
   "cell_type": "code",
   "execution_count": 12,
   "id": "241b5790915b6ce0",
   "metadata": {
    "ExecuteTime": {
     "end_time": "2023-11-07T17:10:14.922983Z",
     "start_time": "2023-11-07T17:10:14.858543Z"
    },
    "collapsed": false
   },
   "outputs": [],
   "source": [
    "# Malaysian States\n",
    "states = ['Johor', 'Kedah', 'Kelantan', 'Labuan', 'Melaka', 'Negeri Sembilan', 'Pahang', 'Penang', 'Perak', 'Perlis', 'Putrajaya', 'Sabah', 'Sarawak', 'Selangor', 'Terengganu', 'WP Kuala Lumpur']\n",
    "\n",
    "# states distribution\n",
    "states_distribution = {\n",
    "    'Johor': 0.6,\n",
    "    'Kedah': 0.5,\n",
    "    'Kelantan': 0.5,\n",
    "    'Labuan': 0.01,\n",
    "    'Melaka': 0.6,\n",
    "    'Negeri Sembilan': 0.6,\n",
    "    'Pahang': 0.4,\n",
    "    'Penang': 0.3,\n",
    "    'Perak': 0.4,\n",
    "    'Perlis': 0.5,\n",
    "    'Putrajaya': 0.06,\n",
    "    'Sabah': 0.02,\n",
    "    'Sarawak': 0.02,\n",
    "    'Selangor': 0.8,\n",
    "    'Terengganu': 0.4,\n",
    "    'WP Kuala Lumpur': 0.2\n",
    "}\n",
    "\n",
    "# Initialize random number generator with a fixed seed for consistency\n",
    "random.seed(42)\n",
    "\n",
    "# Sample the same number of states as rows in your existing dataset\n",
    "existing_rows = len(df_or)\n",
    "sampled_states = random.choices(states, weights=states_distribution.values(), k=existing_rows)\n",
    "# Assign the sampled states to your existing DataFrame\n",
    "df_or['State'] = sampled_states\n",
    "\n",
    "# Save the DataFrame to a CSV file\n",
    "df_or.to_csv('datasets/OrderReports.csv', index=False)"
   ]
  },
  {
   "cell_type": "markdown",
   "id": "7d095c75cd680ae9",
   "metadata": {
    "collapsed": false
   },
   "source": [
    "## Adding a new column called to the OrderReport dataset called 'Age' and populate it with random ages"
   ]
  },
  {
   "cell_type": "code",
   "execution_count": 13,
   "id": "6623ee1f78758306",
   "metadata": {
    "ExecuteTime": {
     "end_time": "2023-11-07T17:10:14.923117Z",
     "start_time": "2023-11-07T17:10:14.890559Z"
    },
    "collapsed": false
   },
   "outputs": [
    {
     "name": "stdout",
     "output_type": "stream",
     "text": [
      "   Date                  Order #   N. Revenue (formatted)   Status       \\\n",
      "0  2023-10-26 14:50:17    16698.0  RM57.80                  processing    \n",
      "1  2023-10-26 13:53:47    16697.0  RM32.90                  processing    \n",
      "2  2023-10-26 13:04:17    16696.0  RM32.90                  processing    \n",
      "3  2023-10-26 13:00:49    16695.0  RM82.70                  processing    \n",
      "4  2023-10-26 12:47:36    16694.0  RM32.90                  processing    \n",
      "\n",
      "  Customer                                                            \\\n",
      "0  AINAA SYAFIQAH ABD RAHMAN ABD RAHMAN          ...                   \n",
      "1  Ja Hasim                                      ...                   \n",
      "2  nasy anis                                     ...                   \n",
      "3  Herny erdawati binti Mohamad Rashed           ...                   \n",
      "4  Suhaina Sulaiman                              ...                   \n",
      "\n",
      "   Customer type   \\\n",
      "0  new              \n",
      "1  new              \n",
      "2  new              \n",
      "3  new              \n",
      "4  new              \n",
      "\n",
      "  Product(s)                                                                                                                                                                                                                                                                                                                                                                                                                                                                                                                                                                                                                \\\n",
      "0  1× LIP BOOSTER - WATERMELON, 1× LIP BOOSTER - ...                                                                                                                                                                                                                                                                                                                                                                                                                                                                                                                                                                         \n",
      "1  1× LIP BOOSTER - MELON                        ...                                                                                                                                                                                                                                                                                                                                                                                                                                                                                                                                                                         \n",
      "2  1× LIP BOOSTER - MELON                        ...                                                                                                                                                                                                                                                                                                                                                                                                                                                                                                                                                                         \n",
      "3  1× LIP BOOSTER - STRAWBERRY, 2× LIP BOOSTER - ...                                                                                                                                                                                                                                                                                                                                                                                                                                                                                                                                                                         \n",
      "4  1× LIP BOOSTER - WATERMELON                   ...                                                                                                                                                                                                                                                                                                                                                                                                                                                                                                                                                                         \n",
      "\n",
      "   Items sold   N. Revenue   State             Age  Gender     State  Age  \n",
      "0          2.0         49.8  Perak               36      F     Perak   36  \n",
      "1          1.0         24.9  Johor               25      F     Johor   25  \n",
      "2          1.0         24.9  Melaka              31      F    Melaka   31  \n",
      "3          3.0         74.7  Kelantan            31      F  Kelantan   31  \n",
      "4          1.0         24.9  Perlis              38      F    Perlis   38  \n",
      "36    618\n",
      "34    611\n",
      "32    608\n",
      "35    593\n",
      "33    575\n",
      "31    573\n",
      "37    336\n",
      "28    315\n",
      "27    312\n",
      "45    306\n",
      "40    305\n",
      "41    304\n",
      "26    300\n",
      "29    297\n",
      "38    296\n",
      "39    288\n",
      "42    286\n",
      "30    283\n",
      "44    282\n",
      "25    265\n",
      "43    261\n",
      "Name: Age, dtype: int64\n",
      "F    7829\n",
      "M     185\n",
      "Name: Gender, dtype: int64\n"
     ]
    }
   ],
   "source": [
    "age_distribution = [25, 26, 27, 28, 29, 30, 31, 32, 33, 34, 35, 36, 37, 38, 39, 40, 41, 42, 43, 44, 45]\n",
    "# the percentage of customers in each age group\n",
    "age_distribution_percentage = [0.05, 0.05, 0.05, 0.05, 0.05, 0.05,\n",
    "                               0.10, 0.10, 0.10, 0.10, 0.10, 0.10, 0.05, 0.05, 0.05, 0.05, 0.05, 0.05, 0.05, 0.05, 0.05]  # 100%\n",
    "\n",
    "random.seed(42)\n",
    "\n",
    "# Sample the same number of customers as rows in your existing dataset\n",
    "existing_rows = len(df_or)\n",
    "sampled_age = random.choices(age_distribution, weights=age_distribution_percentage, k=existing_rows)\n",
    "\n",
    "# Assign the sampled age to your existing DataFrame\n",
    "df_or['Age'] = sampled_age\n",
    "\n",
    "# Save the DataFrame to a CSV file\n",
    "df_or.to_csv('datasets/OrderReports.csv', index=False)\n",
    "\n",
    "print(df_or.head())\n",
    "print(df_or['Age'].value_counts())\n",
    "print(df_or['Gender'].value_counts())\n"
   ]
  },
  {
   "cell_type": "markdown",
   "id": "df57e3c00a94a08e",
   "metadata": {
    "collapsed": false
   },
   "source": [
    "## Creating a Machine Learning Model using Logistic Regression to predict gender of names"
   ]
  },
  {
   "cell_type": "code",
   "execution_count": 14,
   "id": "ce0fd00beeb6fdb0",
   "metadata": {
    "ExecuteTime": {
     "end_time": "2023-11-07T17:10:14.945948Z",
     "start_time": "2023-11-07T17:10:14.920742Z"
    },
    "collapsed": false
   },
   "outputs": [],
   "source": [
    "# df_mn = pd.read_csv('datasets/MalaysianNames_clean.csv')\n",
    "# \n",
    "# name_vectorizer = CountVectorizer(analyzer='char', ngram_range=(2, 3))\n",
    "# name_features = name_vectorizer.fit_transform(df_mn['name'])\n",
    "# \n",
    "# label_encoder = LabelEncoder()\n",
    "# df_mn[\"gender\"] = label_encoder.fit_transform(df_mn[\"gender\"])\n",
    "# \n",
    "# X_train, X_test, y_train, y_test = train_test_split(name_features, df_mn[\"gender\"], test_size=0.2, random_state=42)\n",
    "# \n",
    "# model = LogisticRegression()\n",
    "# model.fit(X_train, y_train)\n",
    "# y_pred = model.predict(X_test)\n",
    "# \n",
    "# accuracy = accuracy_score(y_test, y_pred)\n",
    "# \n",
    "# print(f\"Model Accuracy: {accuracy}\")\n",
    "# \n",
    "# new_names = df_or['Customer'].tolist()\n",
    "# # new_names = ['Lee Mann Heyy']\n",
    "# new_name_features = name_vectorizer.transform(new_names)\n",
    "# new_name_features = new_name_features.toarray()\n",
    "# \n",
    "# # predict gender of new names\n",
    "# new_names_pred = model.predict(new_name_features)\n",
    "# new_names_pred = label_encoder.inverse_transform(new_names_pred)\n",
    "# print(new_names_pred)\n",
    "# \n",
    "# #print total number of M and F in the list\n",
    "# print(\"Total number of M: \", new_names_pred.tolist().count('M'))\n",
    "# print(\"Total number of F: \", new_names_pred.tolist().count('F'))"
   ]
  },
  {
   "cell_type": "markdown",
   "id": "8de327f9778793e9",
   "metadata": {
    "collapsed": false
   },
   "source": [
    "# Encoding Categorical Data"
   ]
  },
  {
   "cell_type": "markdown",
   "id": "629d84f7720276d2",
   "metadata": {
    "collapsed": false
   },
   "source": [
    "### For OrderReport dataset"
   ]
  },
  {
   "cell_type": "code",
   "execution_count": 15,
   "id": "6fe019244a16e2f4",
   "metadata": {
    "ExecuteTime": {
     "end_time": "2023-11-07T17:10:15.114928Z",
     "start_time": "2023-11-07T17:10:14.923779Z"
    },
    "collapsed": false
   },
   "outputs": [
    {
     "ename": "KeyError",
     "evalue": "'Customer type'",
     "output_type": "error",
     "traceback": [
      "\u001b[0;31m---------------------------------------------------------------------------\u001b[0m",
      "\u001b[0;31mKeyError\u001b[0m                                  Traceback (most recent call last)",
      "File \u001b[0;32m~/anaconda3/lib/python3.11/site-packages/pandas/core/indexes/base.py:3802\u001b[0m, in \u001b[0;36mIndex.get_loc\u001b[0;34m(self, key, method, tolerance)\u001b[0m\n\u001b[1;32m   3801\u001b[0m \u001b[39mtry\u001b[39;00m:\n\u001b[0;32m-> 3802\u001b[0m     \u001b[39mreturn\u001b[39;00m \u001b[39mself\u001b[39m\u001b[39m.\u001b[39m_engine\u001b[39m.\u001b[39mget_loc(casted_key)\n\u001b[1;32m   3803\u001b[0m \u001b[39mexcept\u001b[39;00m \u001b[39mKeyError\u001b[39;00m \u001b[39mas\u001b[39;00m err:\n",
      "File \u001b[0;32m~/anaconda3/lib/python3.11/site-packages/pandas/_libs/index.pyx:138\u001b[0m, in \u001b[0;36mpandas._libs.index.IndexEngine.get_loc\u001b[0;34m()\u001b[0m\n",
      "File \u001b[0;32m~/anaconda3/lib/python3.11/site-packages/pandas/_libs/index.pyx:165\u001b[0m, in \u001b[0;36mpandas._libs.index.IndexEngine.get_loc\u001b[0;34m()\u001b[0m\n",
      "File \u001b[0;32mpandas/_libs/hashtable_class_helper.pxi:5745\u001b[0m, in \u001b[0;36mpandas._libs.hashtable.PyObjectHashTable.get_item\u001b[0;34m()\u001b[0m\n",
      "File \u001b[0;32mpandas/_libs/hashtable_class_helper.pxi:5753\u001b[0m, in \u001b[0;36mpandas._libs.hashtable.PyObjectHashTable.get_item\u001b[0;34m()\u001b[0m\n",
      "\u001b[0;31mKeyError\u001b[0m: 'Customer type'",
      "\nThe above exception was the direct cause of the following exception:\n",
      "\u001b[0;31mKeyError\u001b[0m                                  Traceback (most recent call last)",
      "\u001b[1;32m/Users/sanjivrajah./PycharmProjects/AlhaAlfa/AlhaAlfa_main(1).ipynb Cell 24\u001b[0m line \u001b[0;36m2\n\u001b[1;32m      <a href='vscode-notebook-cell:/Users/sanjivrajah./PycharmProjects/AlhaAlfa/AlhaAlfa_main%281%29.ipynb#X32sZmlsZQ%3D%3D?line=0'>1</a>\u001b[0m lb \u001b[39m=\u001b[39m LabelBinarizer()\n\u001b[0;32m----> <a href='vscode-notebook-cell:/Users/sanjivrajah./PycharmProjects/AlhaAlfa/AlhaAlfa_main%281%29.ipynb#X32sZmlsZQ%3D%3D?line=1'>2</a>\u001b[0m df_or[\u001b[39m'\u001b[39m\u001b[39mCustomer type enc\u001b[39m\u001b[39m'\u001b[39m] \u001b[39m=\u001b[39m lb\u001b[39m.\u001b[39mfit_transform(df_or[\u001b[39m'\u001b[39m\u001b[39mCustomer type\u001b[39m\u001b[39m'\u001b[39m])\n\u001b[1;32m      <a href='vscode-notebook-cell:/Users/sanjivrajah./PycharmProjects/AlhaAlfa/AlhaAlfa_main%281%29.ipynb#X32sZmlsZQ%3D%3D?line=2'>3</a>\u001b[0m df_or[\u001b[39m'\u001b[39m\u001b[39mGender_enc\u001b[39m\u001b[39m'\u001b[39m] \u001b[39m=\u001b[39m lb\u001b[39m.\u001b[39mfit_transform(df_or[\u001b[39m'\u001b[39m\u001b[39mGender\u001b[39m\u001b[39m'\u001b[39m])\n\u001b[1;32m      <a href='vscode-notebook-cell:/Users/sanjivrajah./PycharmProjects/AlhaAlfa/AlhaAlfa_main%281%29.ipynb#X32sZmlsZQ%3D%3D?line=4'>5</a>\u001b[0m le \u001b[39m=\u001b[39m LabelEncoder()\n",
      "File \u001b[0;32m~/anaconda3/lib/python3.11/site-packages/pandas/core/frame.py:3807\u001b[0m, in \u001b[0;36mDataFrame.__getitem__\u001b[0;34m(self, key)\u001b[0m\n\u001b[1;32m   3805\u001b[0m \u001b[39mif\u001b[39;00m \u001b[39mself\u001b[39m\u001b[39m.\u001b[39mcolumns\u001b[39m.\u001b[39mnlevels \u001b[39m>\u001b[39m \u001b[39m1\u001b[39m:\n\u001b[1;32m   3806\u001b[0m     \u001b[39mreturn\u001b[39;00m \u001b[39mself\u001b[39m\u001b[39m.\u001b[39m_getitem_multilevel(key)\n\u001b[0;32m-> 3807\u001b[0m indexer \u001b[39m=\u001b[39m \u001b[39mself\u001b[39m\u001b[39m.\u001b[39mcolumns\u001b[39m.\u001b[39mget_loc(key)\n\u001b[1;32m   3808\u001b[0m \u001b[39mif\u001b[39;00m is_integer(indexer):\n\u001b[1;32m   3809\u001b[0m     indexer \u001b[39m=\u001b[39m [indexer]\n",
      "File \u001b[0;32m~/anaconda3/lib/python3.11/site-packages/pandas/core/indexes/base.py:3804\u001b[0m, in \u001b[0;36mIndex.get_loc\u001b[0;34m(self, key, method, tolerance)\u001b[0m\n\u001b[1;32m   3802\u001b[0m     \u001b[39mreturn\u001b[39;00m \u001b[39mself\u001b[39m\u001b[39m.\u001b[39m_engine\u001b[39m.\u001b[39mget_loc(casted_key)\n\u001b[1;32m   3803\u001b[0m \u001b[39mexcept\u001b[39;00m \u001b[39mKeyError\u001b[39;00m \u001b[39mas\u001b[39;00m err:\n\u001b[0;32m-> 3804\u001b[0m     \u001b[39mraise\u001b[39;00m \u001b[39mKeyError\u001b[39;00m(key) \u001b[39mfrom\u001b[39;00m \u001b[39merr\u001b[39;00m\n\u001b[1;32m   3805\u001b[0m \u001b[39mexcept\u001b[39;00m \u001b[39mTypeError\u001b[39;00m:\n\u001b[1;32m   3806\u001b[0m     \u001b[39m# If we have a listlike key, _check_indexing_error will raise\u001b[39;00m\n\u001b[1;32m   3807\u001b[0m     \u001b[39m#  InvalidIndexError. Otherwise we fall through and re-raise\u001b[39;00m\n\u001b[1;32m   3808\u001b[0m     \u001b[39m#  the TypeError.\u001b[39;00m\n\u001b[1;32m   3809\u001b[0m     \u001b[39mself\u001b[39m\u001b[39m.\u001b[39m_check_indexing_error(key)\n",
      "\u001b[0;31mKeyError\u001b[0m: 'Customer type'"
     ]
    }
   ],
   "source": [
    "lb = LabelBinarizer()\n",
    "df_or['Customer type enc'] = lb.fit_transform(df_or['Customer type'])\n",
    "df_or['Gender_enc'] = lb.fit_transform(df_or['Gender'])\n",
    "\n",
    "le = LabelEncoder()\n",
    "df_or['State_enc'] = le.fit_transform(df_or['State'])\n",
    "print(df_or.head())"
   ]
  },
  {
   "cell_type": "markdown",
   "id": "8f423c8f8c5eb5ac",
   "metadata": {
    "collapsed": false
   },
   "source": [
    "### For ProductList dataset"
   ]
  },
  {
   "cell_type": "code",
   "execution_count": null,
   "id": "f1553fed2560e1b5",
   "metadata": {
    "ExecuteTime": {
     "end_time": "2023-11-07T17:10:15.119813Z",
     "start_time": "2023-11-07T17:10:14.948393Z"
    },
    "collapsed": false
   },
   "outputs": [
    {
     "name": "stdout",
     "output_type": "stream",
     "text": [
      "                                        Product    SKU  Items sold  \\\n",
      "0                      LIP BOOSTER - WATERMELON  00597        2590   \n",
      "1                      LIP BOOSTER - STRAWBERRY  00602        2563   \n",
      "2  COLLAGEN SERUM FOUNDATION ALHA ALFA - MEDIUM  00608        1067   \n",
      "3   COLLAGEN SERUM FOUNDATION ALHA ALFA - LIGHT  00607         728   \n",
      "4                           LIP BOOSTER - MELON  00610         651   \n",
      "\n",
      "   N. Revenue  Orders    Status  Stock  Status enc  \n",
      "0     63270.9    2299  In stock     11           0  \n",
      "1     63768.9    2280  In stock    134           0  \n",
      "2      7435.1    1005  In stock     33           0  \n",
      "3      7135.7     690  In stock     41           0  \n",
      "4     16209.9     587  In stock    177           0  \n"
     ]
    }
   ],
   "source": [
    "lb = LabelBinarizer()\n",
    "df_pl['Status enc'] = lb.fit_transform(df_pl['Status'])\n",
    "print(df_pl.head())"
   ]
  },
  {
   "cell_type": "markdown",
   "id": "37ec56a6479691c1",
   "metadata": {
    "collapsed": false
   },
   "source": [
    "# Enhanced Targeted Advertising"
   ]
  },
  {
   "cell_type": "code",
   "execution_count": null,
   "id": "938dd64375ff3a68",
   "metadata": {
    "ExecuteTime": {
     "end_time": "2023-11-07T17:10:15.119983Z",
     "start_time": "2023-11-07T17:10:14.952121Z"
    },
    "collapsed": false
   },
   "outputs": [],
   "source": [
    "# split dataset into training and testing set\n",
    "data = df_or[['Customer type enc', 'Age', 'State_enc']]\n",
    "trainset, testset = train_test_split(data, test_size=0.2, random_state=42)    "
   ]
  },
  {
   "cell_type": "code",
   "execution_count": null,
   "id": "cefd265ec8ca0c24",
   "metadata": {
    "ExecuteTime": {
     "end_time": "2023-11-07T17:10:15.389025Z",
     "start_time": "2023-11-07T17:10:15.322781Z"
    },
    "collapsed": false
   },
   "outputs": [
    {
     "name": "stdout",
     "output_type": "stream",
     "text": [
      "DBSCAN()\n"
     ]
    }
   ],
   "source": [
    "# use DBSCAN to cluster the data\n",
    "dbscan = DBSCAN(eps=0.5, min_samples=5)\n",
    "print(dbscan.fit(trainset))"
   ]
  },
  {
   "cell_type": "code",
   "execution_count": null,
   "id": "c0f84d62f3c54bd",
   "metadata": {
    "ExecuteTime": {
     "end_time": "2023-11-07T17:10:15.390808Z",
     "start_time": "2023-11-07T17:10:15.372917Z"
    },
    "collapsed": false
   },
   "outputs": [
    {
     "name": "stdout",
     "output_type": "stream",
     "text": [
      "[ 0  1  2 ...  5 10 10]\n"
     ]
    }
   ],
   "source": [
    "# predict the clusters for the testset\n",
    "y_pred = dbscan.fit_predict(testset)\n",
    "print(y_pred)"
   ]
  },
  {
   "cell_type": "code",
   "execution_count": null,
   "id": "723a9777c72aef0a",
   "metadata": {
    "ExecuteTime": {
     "end_time": "2023-11-07T17:10:15.501718Z",
     "start_time": "2023-11-07T17:10:15.388399Z"
    },
    "collapsed": false
   },
   "outputs": [
    {
     "data": {
      "image/png": "[encoded data removed]",
      "text/plain": [
       "<Figure size 640x480 with 1 Axes>"
      ]
     },
     "metadata": {},
     "output_type": "display_data"
    }
   ],
   "source": [
    "# plot the clusters\n",
    "plt.scatter(testset['Age'], testset['State_enc'], c=y_pred, cmap='rainbow')\n",
    "plt.xlabel('Age')\n",
    "plt.ylabel('State')\n",
    "plt.yticks(np.arange(0, 16), le.inverse_transform(np.arange(0, 16)))\n",
    "plt.show()\n"
   ]
  },
  {
   "cell_type": "code",
   "execution_count": null,
   "id": "1c538f39e3b49f8c",
   "metadata": {
    "ExecuteTime": {
     "end_time": "2023-11-07T17:10:15.546301Z",
     "start_time": "2023-11-07T17:10:15.499284Z"
    },
    "collapsed": false
   },
   "outputs": [
    {
     "name": "stdout",
     "output_type": "stream",
     "text": [
      "0.9365001452004044\n"
     ]
    }
   ],
   "source": [
    "# Evaluate the model\n",
    "from sklearn.metrics import silhouette_score\n",
    "print(silhouette_score(testset, y_pred))\n",
    "\n"
   ]
  },
  {
   "cell_type": "markdown",
   "metadata": {},
   "source": [
    "# Identifying Best-Selling Products"
   ]
  },
  {
   "cell_type": "code",
   "execution_count": null,
   "metadata": {},
   "outputs": [
    {
     "name": "stdout",
     "output_type": "stream",
     "text": [
      "Mean Squared Error: 17001.648443478254\n",
      "R-squared: 0.9403231865475162\n",
      "The best-selling product for 2023 is: LIP BOOSTER - WATERMELON\n",
      "                                        Product    SKU  Items sold  \\\n",
      "0                      LIP BOOSTER - WATERMELON  00597        2590   \n",
      "1                      LIP BOOSTER - STRAWBERRY  00602        2563   \n",
      "2  COLLAGEN SERUM FOUNDATION ALHA ALFA - MEDIUM  00608        1067   \n",
      "3   COLLAGEN SERUM FOUNDATION ALHA ALFA - LIGHT  00607         728   \n",
      "4                           LIP BOOSTER - MELON  00610         651   \n",
      "\n",
      "   N. Revenue  Orders    Status  Stock  Status enc  Predicted items sold  \n",
      "0     63270.9    2299  In stock     11           0                  2166  \n",
      "1     63768.9    2280  In stock    134           0                  2166  \n",
      "2      7435.1    1005  In stock     33           0                   926  \n",
      "3      7135.7     690  In stock     41           0                   763  \n",
      "4     16209.9     587  In stock    177           0                   763  \n"
     ]
    }
   ],
   "source": [
    "X = df_pl[['Product', 'N. Revenue', 'Orders']]\n",
    "le = LabelEncoder()\n",
    "X['Product'] = le.fit_transform(X['Product'])\n",
    "# X['Status'] = le.fit_transform(X['Status'])\n",
    "# X['SKU'] = le.fit_transform(X['SKU'])\n",
    "y = df_pl['Items sold']\n",
    "\n",
    "# Split the data into training and testing sets\n",
    "X_train, X_test, y_train, y_test = train_test_split(X, y, test_size=0.2, random_state=42)\n",
    "\n",
    "# # Create and train a Linear Regression model\n",
    "# model = LinearRegression()\n",
    "# model.fit(X_train, y_train)\n",
    "\n",
    "# # Make predictions on the testing data\n",
    "# y_pred = model.predict(X_test)\n",
    "\n",
    "# # Evaluate the model\n",
    "# mse = mean_squared_error(y_test, y_pred)\n",
    "# r2 = r2_score(y_test, y_pred)\n",
    "# print(f'Mean Squared Error: {mse}')\n",
    "# print(f'R-squared: {r2}')\n",
    "# # print mape\n",
    "# mape = np.mean(np.abs((y_test - y_pred) / y_test)) * 100\n",
    "# print(f'Mean Absolute Percentage Error: {mape}')\n",
    "# # print accuracy\n",
    "# accuracy = 100 - mape\n",
    "# print(f'Accuracy: {accuracy}')\n",
    "\n",
    "# Create and train a Random Forest Regressor\n",
    "model = RandomForestRegressor(n_estimators=100, random_state=42)\n",
    "model.fit(X_train, y_train)\n",
    "\n",
    "# Make predictions on the testing data\n",
    "y_pred = model.predict(X_test)\n",
    "\n",
    "# Evaluate the model\n",
    "mse = mean_squared_error(y_test, y_pred)\n",
    "r2 = r2_score(y_test, y_pred)\n",
    "print(f'Mean Squared Error: {mse}')\n",
    "print(f'R-squared: {r2}')\n",
    "\n",
    "\n",
    "\n",
    "# Predict the number of items sold for each product\n",
    "predicted_items_sold = model.predict(X)\n",
    "\n",
    "# Identify the best-selling product\n",
    "best_selling_product_index = predicted_items_sold.argmax()\n",
    "best_selling_product = df_pl.loc[best_selling_product_index, 'Product']\n",
    "\n",
    "print(f'The best-selling product for 2023 is: {best_selling_product}')\n",
    "\n",
    "# predict the number of items for each products in the next year 2024\n",
    "df_pl_2024 = df_pl.copy()\n",
    "# add a new column for predicted items sold\n",
    "df_pl_2024['Predicted items sold'] = predicted_items_sold\n",
    "# multiply the predicted items sold by 1.1\n",
    "df_pl_2024['Predicted items sold'] = df_pl_2024['Predicted items sold'] * 1.1 \n",
    "# make it an integer\n",
    "df_pl_2024['Predicted items sold'] = df_pl_2024['Predicted items sold'].astype(int)\n",
    "# display the dataframe\n",
    "print(df_pl_2024.head())\n",
    "\n",
    "# save to csv\n",
    "df_pl_2024.to_csv('datasets/ProductList_2024.csv', index=False)\n"
   ]
  },
  {
   "cell_type": "code",
   "execution_count": null,
   "metadata": {},
   "outputs": [
    {
     "name": "stdout",
     "output_type": "stream",
     "text": [
      "     predicted  actual\n",
      "0      1969.66    2590\n",
      "1      1969.66    2563\n",
      "2       842.45    1067\n",
      "3       693.73     728\n",
      "4       694.20     651\n",
      "..         ...     ...\n",
      "106       1.00       1\n",
      "107       1.00       1\n",
      "108       1.00       1\n",
      "109       1.00       1\n",
      "110       1.00       1\n",
      "\n",
      "[111 rows x 2 columns]\n",
      "111 111\n"
     ]
    },
    {
     "data": {
      "image/png": "[encoded data removed]",
      "text/plain": [
       "<Figure size 640x480 with 1 Axes>"
      ]
     },
     "metadata": {},
     "output_type": "display_data"
    }
   ],
   "source": [
    "# visualize the best selling product\n",
    "import matplotlib.pyplot as plt\n",
    "import seaborn as sns\n",
    "\n",
    "# Create a DataFrame from the predicted and actual values\n",
    "df = pd.DataFrame({'predicted': predicted_items_sold, 'actual': y})\n",
    "print(df)\n",
    "\n",
    "# Check the lengths of 'predicted' and 'actual'\n",
    "print(len(df['predicted']), len(df['actual']))\n",
    "\n",
    "# Plot the DataFrame as a scatter plot and make both different colors\n",
    "colors = ['blue' for _ in range(len(df['predicted']))] + ['red' for _ in range(len(df['actual']))]\n",
    "plt.scatter(df['predicted'].append(df['predicted']),\n",
    "                df['actual'].append(df['actual']),\n",
    "                c=colors,\n",
    "                alpha=0.5)\n",
    "\n",
    "# Add a line for perfect correlation. Can you see the correlation?\n",
    "# y = df['actual']\n",
    "# plt.plot(np.unique(df['predicted']), np.poly1d(np.polyfit(df['predicted'], y, 1))(np.unique(df['predicted'])))\n",
    "plt.xlabel('Predicted Items Sold')\n",
    "plt.ylabel('Actual Items Sold')\n",
    "plt.title('Actual vs. Predicted Items Sold')\n",
    "plt.show()\n",
    "\n",
    "# how to read the plot\n",
    "# The closer the points are to the line, the more accurate the predictions are. "
   ]
  },
  {
   "cell_type": "code",
   "execution_count": null,
   "metadata": {},
   "outputs": [
    {
     "name": "stdout",
     "output_type": "stream",
     "text": [
      "   predicted  actual\n",
      "0    1969.66    2590\n"
     ]
    },
    {
     "data": {
      "image/png": "[encoded data removed]",
      "text/plain": [
       "<Figure size 640x480 with 1 Axes>"
      ]
     },
     "metadata": {},
     "output_type": "display_data"
    }
   ],
   "source": [
    "# visualize the product with the highest number of items sold\n",
    "# Create a DataFrame from the predicted and actual values\n",
    "df = pd.DataFrame({'predicted': predicted_items_sold, 'actual': y})\n",
    "\n",
    "# Filter the DataFrame to only include the best-selling product\n",
    "\n",
    "df = df[df['actual'] == df['actual'].max()]\n",
    "print(df)\n",
    "\n",
    "# Plot the DataFrame as a scatter plot\n",
    "sns.scatterplot(data=df, x='predicted', y='actual', alpha=0.5)\n",
    "# draw a line\n",
    "plt.xlabel('Predicted Items Sold')\n",
    "plt.ylabel('Actual Items Sold')\n",
    "plt.title('Actual vs. Predicted Items Sold')\n",
    "plt.show()"
   ]
  },
  {
   "cell_type": "code",
   "execution_count": null,
   "metadata": {},
   "outputs": [
    {
     "name": "stdout",
     "output_type": "stream",
     "text": [
      "     predicted  actual\n",
      "96        1.00       1\n",
      "97        1.17       1\n",
      "98        1.00       1\n",
      "99        1.17       1\n",
      "100       1.00       1\n",
      "101       1.00       1\n",
      "102       1.00       1\n",
      "103       1.00       1\n",
      "104       1.00       1\n",
      "105       1.00       1\n",
      "106       1.00       1\n",
      "107       1.00       1\n",
      "108       1.00       1\n",
      "109       1.00       1\n",
      "110       1.00       1\n"
     ]
    },
    {
     "data": {
      "image/png": "[encoded data removed]",
      "text/plain": [
       "<Figure size 640x480 with 1 Axes>"
      ]
     },
     "metadata": {},
     "output_type": "display_data"
    }
   ],
   "source": [
    "# visualize the product with the lowest number of items sold\n",
    "# Create a DataFrame from the predicted and actual values\n",
    "df = pd.DataFrame({'predicted': predicted_items_sold, 'actual': y})\n",
    "\n",
    "# Filter the DataFrame to only include the worst-selling product\n",
    "df = df[df['actual'] == df['actual'].min()]\n",
    "print(df)\n",
    "\n",
    "# Plot the DataFrame as a scatter plot\n",
    "sns.scatterplot(data=df, x='predicted', y='actual', alpha=0.5)\n",
    "# draw a line\n",
    "plt.xlabel('Predicted Items Sold')\n",
    "plt.ylabel('Actual Items Sold')\n",
    "plt.title('Actual vs. Predicted Items Sold')\n",
    "plt.show()"
   ]
  },
  {
   "cell_type": "code",
   "execution_count": null,
   "metadata": {},
   "outputs": [
    {
     "name": "stdout",
     "output_type": "stream",
     "text": [
      "   residuals  predicted\n",
      "0     620.34    1969.66\n",
      "1     593.34    1969.66\n",
      "2     224.55     842.45\n",
      "3      34.27     693.73\n",
      "4     -43.20     694.20\n"
     ]
    },
    {
     "data": {
      "image/png": "[encoded data removed]",
      "text/plain": [
       "<Figure size 640x480 with 1 Axes>"
      ]
     },
     "metadata": {},
     "output_type": "display_data"
    }
   ],
   "source": [
    "# Visualize the residuals\n",
    "# Calculate the residuals\n",
    "residuals = y - predicted_items_sold # residual = actual - predicted\n",
    "\n",
    "# Create a DataFrame of the residuals\n",
    "df = pd.DataFrame({'residuals': residuals, 'predicted': predicted_items_sold})\n",
    "print(df.head())\n",
    "\n",
    "# Plot the residuals as a histogram\n",
    "sns.histplot(data=df, x='residuals', bins=20)\n",
    "plt.show()"
   ]
  },
  {
   "cell_type": "markdown",
   "metadata": {},
   "source": [
    "# Streamlining Inventory Management\n"
   ]
  },
  {
   "cell_type": "code",
   "execution_count": null,
   "metadata": {},
   "outputs": [
    {
     "name": "stdout",
     "output_type": "stream",
     "text": [
      "Mean Absolute Error (Linear Regression): 22.082436489240973\n",
      "Mean Squared Error (Linear Regression): 2364.2030558144643\n"
     ]
    }
   ],
   "source": [
    "# Data Preprocessing\n",
    "from sklearn.discriminant_analysis import StandardScaler\n",
    "from sklearn.metrics import mean_absolute_error\n",
    "import numpy as np\n",
    "\n",
    "df_pl_2024 = pd.read_csv('datasets/ProductList_2024.csv')\n",
    "\n",
    "X = df_pl_2024[['Items sold', 'Stock', 'Product']]\n",
    "y = df_pl_2024['Predicted items sold']\n",
    "\n",
    "# label encode the product column\n",
    "le = LabelEncoder()\n",
    "X['Product'] = le.fit_transform(X['Product'])\n",
    "\n",
    "\n",
    "# Split the data into training and testing sets\n",
    "X_train, X_test, y_train, y_test = train_test_split(X, y, test_size=0.2, random_state=42)\n",
    "\n",
    "# Standardize the features\n",
    "scaler = StandardScaler()\n",
    "X_train_scaled = scaler.fit_transform(X_train)\n",
    "X_test_scaled = scaler.transform(X_test)\n",
    "\n",
    "\n",
    "\n",
    "# Choose a Model (Linear Regression)\n",
    "model = LinearRegression()\n",
    "\n",
    "# Train the model\n",
    "model.fit(X_train_scaled, y_train)\n",
    "\n",
    "# Make predictions on the test set\n",
    "y_pred = model.predict(X_test_scaled)\n",
    "\n",
    "# Evaluate the model\n",
    "mae = mean_absolute_error(y_test, y_pred)\n",
    "mse = mean_squared_error(y_test, y_pred)\n",
    "\n",
    "print(f'Mean Absolute Error (Linear Regression): {mae}')\n",
    "print(f'Mean Squared Error (Linear Regression): {mse}')\n"
   ]
  },
  {
   "cell_type": "code",
   "execution_count": null,
   "metadata": {},
   "outputs": [
    {
     "name": "stdout",
     "output_type": "stream",
     "text": [
      "                                        Product    SKU  Items sold  \\\n",
      "0                      LIP BOOSTER - WATERMELON  00597        2590   \n",
      "1                      LIP BOOSTER - STRAWBERRY  00602        2563   \n",
      "2  COLLAGEN SERUM FOUNDATION ALHA ALFA - MEDIUM  00608        1067   \n",
      "3   COLLAGEN SERUM FOUNDATION ALHA ALFA - LIGHT  00607         728   \n",
      "4                           LIP BOOSTER - MELON  00610         651   \n",
      "\n",
      "   N. Revenue  Orders    Status  Stock  Status enc  Predicted items sold  \\\n",
      "0     63270.9    2299  In stock     11           0                  2166   \n",
      "1     63768.9    2280  In stock    134           0                  2166   \n",
      "2      7435.1    1005  In stock     33           0                   926   \n",
      "3      7135.7     690  In stock     41           0                   763   \n",
      "4     16209.9     587  In stock    177           0                   763   \n",
      "\n",
      "   Predicted Inventory  \n",
      "0                 2242  \n",
      "1                 2218  \n",
      "2                  926  \n",
      "3                  633  \n",
      "4                  567  \n"
     ]
    }
   ],
   "source": [
    "# Features for predicting inventory\n",
    "full_data = df_pl_2024.copy()\n",
    "X_full_data = full_data[['Items sold', 'Stock', 'Product']]\n",
    "X_full_data['Product'] = le.fit_transform(X_full_data['Product'])\n",
    "\n",
    "# Standardize the features using the scaler\n",
    "X_full_data_scaled = scaler.transform(X_full_data)\n",
    "\n",
    "# Make predictions for inventory for all products\n",
    "inventory_predictions_all = model.predict(X_full_data_scaled)\n",
    "\n",
    "# Add the inventory predictions to a new column in the original dataset\n",
    "full_data['Predicted Inventory'] = inventory_predictions_all\n",
    "full_data['Predicted Inventory'] = full_data['Predicted Inventory'].astype(int)\n",
    "\n",
    "# Display the full_data DataFrame with predicted inventory for all products\n",
    "print(full_data.head())\n",
    "\n",
    "# predicted inventory should be integer\n",
    "\n",
    "# Save the full_data DataFrame to a CSV file\n",
    "full_data.to_csv('datasets/ProductList_2024.csv', index=False)\n",
    "\n",
    "\n",
    "\n"
   ]
  },
  {
   "cell_type": "code",
   "execution_count": null,
   "metadata": {},
   "outputs": [
    {
     "data": {
      "image/png": "[encoded data removed]",
      "text/plain": [
       "<Figure size 640x480 with 1 Axes>"
      ]
     },
     "metadata": {},
     "output_type": "display_data"
    }
   ],
   "source": [
    "# Visualize the inventory predictions for all products\n",
    "df = pd.DataFrame({'predicted': inventory_predictions_all, 'actual': df_pl_2024['Stock']})\n",
    "\n",
    "# Plot the DataFrame as a scatter plot\n",
    "sns.scatterplot(data=df, x='predicted', y='actual', alpha=0.5)\n",
    "plt.xlabel('Predicted Inventory')\n",
    "plt.ylabel('Actual Inventory')\n",
    "plt.title('Actual vs. Predicted Inventory')\n",
    "plt.show()\n",
    "\n",
    "# this graph is about the predicted inventory vs actual inventory which shows "
   ]
  }
 ],
 "metadata": {
  "kernelspec": {
   "display_name": "Python 3",
   "language": "python",
   "name": "python3"
  },
  "language_info": {
   "codemirror_mode": {
    "name": "ipython",
    "version": 3
   },
   "file_extension": ".py",
   "mimetype": "text/x-python",
   "name": "python",
   "nbconvert_exporter": "python",
   "pygments_lexer": "ipython3",
   "version": "3.11.4"
  }
 },
 "nbformat": 4,
 "nbformat_minor": 5
}

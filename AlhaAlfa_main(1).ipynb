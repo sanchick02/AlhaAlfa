{
 "cells": [
  {
   "cell_type": "markdown",
   "id": "e085471683513eb0",
   "metadata": {
    "collapsed": false
   },
   "source": [
    "# Import Libraries"
   ]
  },
  {
   "cell_type": "code",
   "execution_count": 2679,
   "id": "initial_id",
   "metadata": {
    "collapsed": true,
    "ExecuteTime": {
     "end_time": "2023-11-15T17:57:20.332227Z",
     "start_time": "2023-11-15T17:57:20.105939Z"
    }
   },
   "outputs": [],
   "source": [
    "import pandas as pd\n",
    "import numpy as np\n",
    "import random\n",
    "import warnings\n",
    "warnings.filterwarnings('ignore')\n",
    "from sklearn.feature_extraction.text import CountVectorizer\n",
    "from sklearn.metrics import accuracy_score\n",
    "from sklearn.linear_model import LogisticRegression\n",
    "from sklearn.preprocessing import LabelEncoder\n",
    "from sklearn.preprocessing import LabelBinarizer\n",
    "from sklearn.model_selection import train_test_split\n",
    "from sklearn.linear_model import LinearRegression\n",
    "from sklearn.metrics import mean_squared_error, r2_score\n",
    "from sklearn.cluster import DBSCAN\n",
    "from sklearn.discriminant_analysis import StandardScaler\n",
    "from sklearn.metrics import mean_absolute_error\n",
    "from sklearn.metrics import silhouette_score\n",
    "import matplotlib.pyplot as plt\n",
    "import seaborn as sns\n",
    "from sklearn.cluster import KMeans\n",
    "from sklearn.ensemble import RandomForestRegressor\n",
    "import os\n",
    "import sys"
   ]
  },
  {
   "cell_type": "markdown",
   "id": "f523edf9c29fe612",
   "metadata": {
    "collapsed": false
   },
   "source": [
    "# Import Datasets"
   ]
  },
  {
   "cell_type": "code",
   "execution_count": 2680,
   "id": "72b1bf274a7a5fad",
   "metadata": {
    "collapsed": false,
    "ExecuteTime": {
     "end_time": "2023-11-15T17:57:20.660621Z",
     "start_time": "2023-11-15T17:57:20.110449Z"
    }
   },
   "outputs": [
    {
     "name": "stdout",
     "output_type": "stream",
     "text": [
      "                  Date  Order # N. Revenue (formatted)      Status  \\\n",
      "0  2023-10-26 14:50:17  16698.0                RM57.80  processing   \n",
      "1  2023-10-26 13:53:47  16697.0                RM32.90  processing   \n",
      "2  2023-10-26 13:04:17  16696.0                RM32.90  processing   \n",
      "3  2023-10-26 13:00:49  16695.0                RM82.70  processing   \n",
      "4  2023-10-26 12:47:36  16694.0                RM32.90  processing   \n",
      "\n",
      "                               Customer Customer type  \\\n",
      "0  AINAA SYAFIQAH ABD RAHMAN ABD RAHMAN           new   \n",
      "1                              Ja Hasim           new   \n",
      "2                             nasy anis           new   \n",
      "3   Herny erdawati binti Mohamad Rashed           new   \n",
      "4                      Suhaina Sulaiman           new   \n",
      "\n",
      "                                          Product(s)  Items sold  N. Revenue  \\\n",
      "0  1× LIP BOOSTER - WATERMELON, 1× LIP BOOSTER - ...         2.0        49.8   \n",
      "1                             1× LIP BOOSTER - MELON         1.0        24.9   \n",
      "2                             1× LIP BOOSTER - MELON         1.0        24.9   \n",
      "3  1× LIP BOOSTER - STRAWBERRY, 2× LIP BOOSTER - ...         3.0        74.7   \n",
      "4                        1× LIP BOOSTER - WATERMELON         1.0        24.9   \n",
      "\n",
      "      State  Age Gender  \n",
      "0     Perak   36      F  \n",
      "1     Johor   25      F  \n",
      "2    Melaka   31      F  \n",
      "3  Kelantan   31      F  \n",
      "4    Perlis   38      F  \n"
     ]
    }
   ],
   "source": [
    "df_or = pd.read_csv('datasets/OrderReports.csv')\n",
    "print(df_or.head())"
   ]
  },
  {
   "cell_type": "code",
   "execution_count": 2681,
   "id": "14210bee85561a09",
   "metadata": {
    "collapsed": false,
    "ExecuteTime": {
     "end_time": "2023-11-15T17:57:20.665099Z",
     "start_time": "2023-11-15T17:57:20.131934Z"
    }
   },
   "outputs": [
    {
     "name": "stdout",
     "output_type": "stream",
     "text": [
      "                                        Product    SKU  Items sold  \\\n",
      "0                      LIP BOOSTER - WATERMELON  00597        2590   \n",
      "1                      LIP BOOSTER - STRAWBERRY  00602        2563   \n",
      "2  COLLAGEN SERUM FOUNDATION ALHA ALFA - MEDIUM  00608        1067   \n",
      "3   COLLAGEN SERUM FOUNDATION ALHA ALFA - LIGHT  00607         728   \n",
      "4                           LIP BOOSTER - MELON  00610         651   \n",
      "\n",
      "   N. Revenue  Orders    Status  Stock  \n",
      "0     63270.9    2299  In stock     11  \n",
      "1     63768.9    2280  In stock    134  \n",
      "2      7435.1    1005  In stock     33  \n",
      "3      7135.7     690  In stock     41  \n",
      "4     16209.9     587  In stock    177  \n"
     ]
    }
   ],
   "source": [
    "df_pl = pd.read_csv('datasets/ProductList.csv')\n",
    "print(df_pl.head())"
   ]
  },
  {
   "cell_type": "code",
   "execution_count": 2682,
   "id": "86b5cc84a7d4e1ac",
   "metadata": {
    "collapsed": false,
    "ExecuteTime": {
     "end_time": "2023-11-15T17:57:20.665199Z",
     "start_time": "2023-11-15T17:57:20.136699Z"
    }
   },
   "outputs": [
    {
     "name": "stdout",
     "output_type": "stream",
     "text": [
      "                  Date  Orders  Gross sales  Returns  Coupons  Net sales  \\\n",
      "0  2023-10-26 00:00:00      12        917.7      0.0      0.0      917.7   \n",
      "1  2023-10-25 00:00:00      31       1664.7      0.0      0.0     1664.7   \n",
      "2  2023-10-24 00:00:00      11        803.0      0.0      0.0      803.0   \n",
      "3  2023-10-23 00:00:00      16        867.5      0.0      0.0      867.5   \n",
      "4  2023-10-22 00:00:00      17        986.9      0.0      0.0      986.9   \n",
      "\n",
      "   Taxes  Shipping  Total sales  \n",
      "0    0.0     100.0       1017.7  \n",
      "1    0.0     264.0       1928.7  \n",
      "2    0.0      96.0        899.0  \n",
      "3    0.0     136.0       1003.5  \n",
      "4    0.0     144.0       1130.9  \n"
     ]
    }
   ],
   "source": [
    "df_rr = pd.read_csv('datasets/RevenueReport.csv')\n",
    "print(df_rr.head())"
   ]
  },
  {
   "cell_type": "code",
   "execution_count": 2683,
   "id": "7eaec18aa00d7dee",
   "metadata": {
    "collapsed": false,
    "ExecuteTime": {
     "end_time": "2023-11-15T17:57:20.677189Z",
     "start_time": "2023-11-15T17:57:20.141606Z"
    }
   },
   "outputs": [
    {
     "name": "stdout",
     "output_type": "stream",
     "text": [
      "                          product_name  product_price\n",
      "0                          LIP BOOSTER           24.9\n",
      "1  COLLAGEN SERUM FOUNDATION ALHA ALFA           49.9\n",
      "2                SET DIMENSI ALHA ALFA           79.9\n",
      "3         MAGIC GLOW LIP TREATMENT OIL           24.9\n",
      "4     ROYAL PROPOLIS POWDER FOUNDATION           59.9\n"
     ]
    }
   ],
   "source": [
    "df_wb = pd.read_csv('datasets/website_bestsellers.csv')\n",
    "print(df_wb.head())"
   ]
  },
  {
   "cell_type": "code",
   "execution_count": 2684,
   "id": "74d7d88c575bb28a",
   "metadata": {
    "collapsed": false,
    "ExecuteTime": {
     "end_time": "2023-11-15T17:57:20.681380Z",
     "start_time": "2023-11-15T17:57:20.145909Z"
    }
   },
   "outputs": [
    {
     "name": "stdout",
     "output_type": "stream",
     "text": [
      "                                        product_name  product_price  \\\n",
      "0                   ALHA ALFA LIP BOOSTER SERUM Lips           24.9   \n",
      "1             ALHA ALFA MAGIC GLOW LIP TREATMENT OIL           24.9   \n",
      "2   ALHA ALFA ROYAL PROPOLIS FOUNDATION PERFECT GLOW           69.9   \n",
      "3  ALHA ALFA COMPACT POWDER ROYAL PROPOLIS FOUNDA...           59.9   \n",
      "4                     ALHA ALFA SETTING SPRAY MAKEUP           59.9   \n",
      "\n",
      "   items_sold  rating  rating_count  \n",
      "0      104400     4.9         27000  \n",
      "1       35400     4.8          8800  \n",
      "2       30400     4.9          8300  \n",
      "3       27400     4.9         27600  \n",
      "4       23500     4.9          6400  \n"
     ]
    }
   ],
   "source": [
    "df_ttb = pd.read_csv('datasets/tiktok_bestsellers.csv')\n",
    "print(df_ttb.head())"
   ]
  },
  {
   "cell_type": "markdown",
   "id": "7026e8753424000d",
   "metadata": {
    "collapsed": false
   },
   "source": [
    "# Identifying and Handling Missing Values, Duplicate Data, and Incorrect Data Types"
   ]
  },
  {
   "cell_type": "markdown",
   "source": [
    "## Find out the number of rows and columns in each dataset\n"
   ],
   "metadata": {
    "collapsed": false
   },
   "id": "4834b5569ce651ea"
  },
  {
   "cell_type": "code",
   "execution_count": 2685,
   "id": "7ff13d4b8769739b",
   "metadata": {
    "collapsed": false,
    "ExecuteTime": {
     "end_time": "2023-11-15T17:57:20.681456Z",
     "start_time": "2023-11-15T17:57:20.150698Z"
    }
   },
   "outputs": [
    {
     "name": "stdout",
     "output_type": "stream",
     "text": [
      "OrderReport:  (8014, 12)\n",
      "ProductList:  (111, 7)\n",
      "RevenueReport:  (299, 9)\n",
      "WebsiteBestsellers:  (37, 2)\n",
      "TiktokBestsellers:  (23, 5)\n"
     ]
    }
   ],
   "source": [
    "print(\"OrderReport: \", df_or.shape)\n",
    "print(\"ProductList: \", df_pl.shape)\n",
    "print(\"RevenueReport: \", df_rr.shape)\n",
    "print(\"WebsiteBestsellers: \", df_wb.shape)\n",
    "print(\"TiktokBestsellers: \", df_ttb.shape)"
   ]
  },
  {
   "cell_type": "markdown",
   "source": [
    "## Find out the number of missing values in each dataset"
   ],
   "metadata": {
    "collapsed": false
   },
   "id": "674979163f228e86"
  },
  {
   "cell_type": "code",
   "execution_count": 2686,
   "id": "6ba89f48143f60f5",
   "metadata": {
    "collapsed": false,
    "ExecuteTime": {
     "end_time": "2023-11-15T17:57:20.688368Z",
     "start_time": "2023-11-15T17:57:20.153332Z"
    }
   },
   "outputs": [
    {
     "name": "stdout",
     "output_type": "stream",
     "text": [
      "OrderReport: \n",
      " Date                      0\n",
      "Order #                   0\n",
      "N. Revenue (formatted)    0\n",
      "Status                    0\n",
      "Customer                  0\n",
      "Customer type             0\n",
      "Product(s)                0\n",
      "Items sold                0\n",
      "N. Revenue                0\n",
      "State                     0\n",
      "Age                       0\n",
      "Gender                    0\n",
      "dtype: int64\n",
      "ProductList: \n",
      " Product       0\n",
      "SKU           0\n",
      "Items sold    0\n",
      "N. Revenue    0\n",
      "Orders        0\n",
      "Status        0\n",
      "Stock         0\n",
      "dtype: int64\n",
      "RevenueReport: \n",
      " Date           0\n",
      "Orders         0\n",
      "Gross sales    0\n",
      "Returns        0\n",
      "Coupons        0\n",
      "Net sales      0\n",
      "Taxes          0\n",
      "Shipping       0\n",
      "Total sales    0\n",
      "dtype: int64\n",
      "WebsiteBestsellers: \n",
      " product_name     0\n",
      "product_price    0\n",
      "dtype: int64\n",
      "TiktokBestsellers: \n",
      " product_name     0\n",
      "product_price    0\n",
      "items_sold       0\n",
      "rating           0\n",
      "rating_count     0\n",
      "dtype: int64\n"
     ]
    }
   ],
   "source": [
    "print(\"OrderReport: \\n\", df_or.isnull().sum())\n",
    "print(\"ProductList: \\n\", df_pl.isnull().sum())\n",
    "print(\"RevenueReport: \\n\", df_rr.isnull().sum())\n",
    "print(\"WebsiteBestsellers: \\n\", df_wb.isnull().sum())\n",
    "print(\"TiktokBestsellers: \\n\", df_ttb.isnull().sum())"
   ]
  },
  {
   "cell_type": "markdown",
   "source": [
    "## Find out the data types of each column in each dataset"
   ],
   "metadata": {
    "collapsed": false
   },
   "id": "d7a6db1f75302d"
  },
  {
   "cell_type": "code",
   "execution_count": 2687,
   "id": "f6b6d6bd86b1ef7",
   "metadata": {
    "collapsed": false,
    "ExecuteTime": {
     "end_time": "2023-11-15T17:57:20.692666Z",
     "start_time": "2023-11-15T17:57:20.164069Z"
    }
   },
   "outputs": [
    {
     "name": "stdout",
     "output_type": "stream",
     "text": [
      "OrderReport: \n",
      " Date                       object\n",
      "Order #                   float64\n",
      "N. Revenue (formatted)     object\n",
      "Status                     object\n",
      "Customer                   object\n",
      "Customer type              object\n",
      "Product(s)                 object\n",
      "Items sold                float64\n",
      "N. Revenue                float64\n",
      "State                      object\n",
      "Age                         int64\n",
      "Gender                     object\n",
      "dtype: object\n",
      "ProductList: \n",
      " Product        object\n",
      "SKU            object\n",
      "Items sold      int64\n",
      "N. Revenue    float64\n",
      "Orders          int64\n",
      "Status         object\n",
      "Stock           int64\n",
      "dtype: object\n",
      "RevenueReport: \n",
      " Date            object\n",
      "Orders           int64\n",
      "Gross sales    float64\n",
      "Returns        float64\n",
      "Coupons        float64\n",
      "Net sales      float64\n",
      "Taxes          float64\n",
      "Shipping       float64\n",
      "Total sales    float64\n",
      "dtype: object\n",
      "WebsiteBestsellers: \n",
      " product_name      object\n",
      "product_price    float64\n",
      "dtype: object\n",
      "TiktokBestsellers: \n",
      " product_name      object\n",
      "product_price    float64\n",
      "items_sold         int64\n",
      "rating           float64\n",
      "rating_count       int64\n",
      "dtype: object\n"
     ]
    }
   ],
   "source": [
    "print(\"OrderReport: \\n\", df_or.dtypes)\n",
    "print(\"ProductList: \\n\", df_pl.dtypes)\n",
    "print(\"RevenueReport: \\n\", df_rr.dtypes)\n",
    "print(\"WebsiteBestsellers: \\n\", df_wb.dtypes)\n",
    "print(\"TiktokBestsellers: \\n\", df_ttb.dtypes)"
   ]
  },
  {
   "cell_type": "markdown",
   "source": [
    "## Find out the number of duplicate rows in each dataset"
   ],
   "metadata": {
    "collapsed": false
   },
   "id": "9f68a833a0cb00d7"
  },
  {
   "cell_type": "code",
   "execution_count": 2688,
   "id": "b9e7c5cf345f3058",
   "metadata": {
    "collapsed": false,
    "ExecuteTime": {
     "end_time": "2023-11-15T17:57:20.696752Z",
     "start_time": "2023-11-15T17:57:20.166989Z"
    }
   },
   "outputs": [
    {
     "name": "stdout",
     "output_type": "stream",
     "text": [
      "OrderReport:  0\n",
      "ProductList:  0\n",
      "RevenueReport:  0\n",
      "WebsiteBestsellers:  0\n",
      "TiktokBestsellers:  0\n"
     ]
    }
   ],
   "source": [
    "print(\"OrderReport: \", df_or.duplicated().sum())\n",
    "print(\"ProductList: \", df_pl.duplicated().sum())\n",
    "print(\"RevenueReport: \", df_rr.duplicated().sum())\n",
    "print(\"WebsiteBestsellers: \", df_wb.duplicated().sum())\n",
    "print(\"TiktokBestsellers: \", df_ttb.duplicated().sum())"
   ]
  },
  {
   "cell_type": "markdown",
   "source": [
    "## Check Empty SKU in ProductList dataset\n"
   ],
   "metadata": {
    "collapsed": false
   },
   "id": "2de961c83b774053"
  },
  {
   "cell_type": "code",
   "execution_count": 2689,
   "id": "72b43a9eb339b16f",
   "metadata": {
    "collapsed": false,
    "ExecuteTime": {
     "end_time": "2023-11-15T17:57:20.696826Z",
     "start_time": "2023-11-15T17:57:20.176064Z"
    }
   },
   "outputs": [
    {
     "name": "stdout",
     "output_type": "stream",
     "text": [
      "Empty DataFrame\n",
      "Columns: [Product, SKU, Items sold, N. Revenue, Orders, Status, Stock]\n",
      "Index: []\n"
     ]
    }
   ],
   "source": [
    "print(df_pl[df_pl['SKU'].isnull()])"
   ]
  },
  {
   "cell_type": "markdown",
   "source": [
    "## Assign a random SKU to the empty SKU"
   ],
   "metadata": {
    "collapsed": false
   },
   "id": "48fd02d422319300"
  },
  {
   "cell_type": "code",
   "execution_count": 2690,
   "outputs": [
    {
     "name": "stdout",
     "output_type": "stream",
     "text": [
      "Empty DataFrame\n",
      "Columns: [Product, SKU, Items sold, N. Revenue, Orders, Status, Stock]\n",
      "Index: []\n"
     ]
    }
   ],
   "source": [
    "random_sku = np.random.randint(10000, 99999)\n",
    "while random_sku in df_pl['SKU']:\n",
    "    random_sku = np.random.randint(10000, 99999)\n",
    "    \n",
    "df_pl['SKU'] = df_pl['SKU'].fillna(random_sku)\n",
    "print(df_pl[df_pl['SKU'].isnull()])\n",
    "\n",
    "# save to csv\n",
    "df_pl.to_csv('datasets/ProductList.csv', index=False)"
   ],
   "metadata": {
    "collapsed": false,
    "ExecuteTime": {
     "end_time": "2023-11-15T17:57:20.706728Z",
     "start_time": "2023-11-15T17:57:20.180852Z"
    }
   },
   "id": "39d24ede35b275e0"
  },
  {
   "cell_type": "markdown",
   "id": "4bb71fbc1fc03ba5",
   "metadata": {
    "collapsed": false
   },
   "source": [
    "# Data Augmentation"
   ]
  },
  {
   "cell_type": "markdown",
   "id": "e662779187275b7b",
   "metadata": {
    "collapsed": false
   },
   "source": [
    "## Add a new column to the OrderReport dataset called 'State' and populate it with random states"
   ]
  },
  {
   "cell_type": "code",
   "execution_count": 2691,
   "id": "241b5790915b6ce0",
   "metadata": {
    "collapsed": false,
    "ExecuteTime": {
     "end_time": "2023-11-15T17:57:20.765077Z",
     "start_time": "2023-11-15T17:57:20.186702Z"
    }
   },
   "outputs": [],
   "source": [
    "# Malaysian States\n",
    "states = ['Johor', 'Kedah', 'Kelantan', 'Labuan', 'Melaka', 'Negeri Sembilan', 'Pahang', 'Penang', 'Perak', 'Perlis', 'Putrajaya', 'Sabah', 'Sarawak', 'Selangor', 'Terengganu', 'WP Kuala Lumpur']\n",
    "\n",
    "# states distribution\n",
    "states_distribution = {\n",
    "    'Johor': 0.6,\n",
    "    'Kedah': 0.5,\n",
    "    'Kelantan': 0.5,\n",
    "    'Labuan': 0.01,\n",
    "    'Melaka': 0.6,\n",
    "    'Negeri Sembilan': 0.6,\n",
    "    'Pahang': 0.4,\n",
    "    'Penang': 0.3,\n",
    "    'Perak': 0.4,\n",
    "    'Perlis': 0.5,\n",
    "    'Putrajaya': 0.06,\n",
    "    'Sabah': 0.02,\n",
    "    'Sarawak': 0.02,\n",
    "    'Selangor': 0.8,\n",
    "    'Terengganu': 0.4,\n",
    "    'WP Kuala Lumpur': 0.2\n",
    "}\n",
    "\n",
    "# Initialize random number generator with a fixed seed for consistency\n",
    "random.seed(42)\n",
    "\n",
    "# Sample the same number of states as rows in your existing dataset\n",
    "existing_rows = len(df_or)\n",
    "sampled_states = random.choices(states, weights=states_distribution.values(), k=existing_rows)\n",
    "# Assign the sampled states to your existing DataFrame\n",
    "df_or['State'] = sampled_states\n",
    "\n",
    "# Save the DataFrame to a CSV file\n",
    "df_or.to_csv('datasets/OrderReports.csv', index=False)"
   ]
  },
  {
   "cell_type": "markdown",
   "id": "7d095c75cd680ae9",
   "metadata": {
    "collapsed": false
   },
   "source": [
    "## Adding a new column called to the OrderReport dataset called 'Age' and populate it with random ages"
   ]
  },
  {
   "cell_type": "code",
   "execution_count": 2692,
   "id": "6623ee1f78758306",
   "metadata": {
    "collapsed": false,
    "ExecuteTime": {
     "end_time": "2023-11-15T17:57:20.801989Z",
     "start_time": "2023-11-15T17:57:20.225778Z"
    }
   },
   "outputs": [
    {
     "name": "stdout",
     "output_type": "stream",
     "text": [
      "                  Date  Order # N. Revenue (formatted)      Status  \\\n",
      "0  2023-10-26 14:50:17  16698.0                RM57.80  processing   \n",
      "1  2023-10-26 13:53:47  16697.0                RM32.90  processing   \n",
      "2  2023-10-26 13:04:17  16696.0                RM32.90  processing   \n",
      "3  2023-10-26 13:00:49  16695.0                RM82.70  processing   \n",
      "4  2023-10-26 12:47:36  16694.0                RM32.90  processing   \n",
      "\n",
      "                               Customer Customer type  \\\n",
      "0  AINAA SYAFIQAH ABD RAHMAN ABD RAHMAN           new   \n",
      "1                              Ja Hasim           new   \n",
      "2                             nasy anis           new   \n",
      "3   Herny erdawati binti Mohamad Rashed           new   \n",
      "4                      Suhaina Sulaiman           new   \n",
      "\n",
      "                                          Product(s)  Items sold  N. Revenue  \\\n",
      "0  1× LIP BOOSTER - WATERMELON, 1× LIP BOOSTER - ...         2.0        49.8   \n",
      "1                             1× LIP BOOSTER - MELON         1.0        24.9   \n",
      "2                             1× LIP BOOSTER - MELON         1.0        24.9   \n",
      "3  1× LIP BOOSTER - STRAWBERRY, 2× LIP BOOSTER - ...         3.0        74.7   \n",
      "4                        1× LIP BOOSTER - WATERMELON         1.0        24.9   \n",
      "\n",
      "      State  Age Gender  \n",
      "0     Perak   36      F  \n",
      "1     Johor   25      F  \n",
      "2    Melaka   31      F  \n",
      "3  Kelantan   31      F  \n",
      "4    Perlis   38      F  \n",
      "36    618\n",
      "34    611\n",
      "32    608\n",
      "35    593\n",
      "33    575\n",
      "31    573\n",
      "37    336\n",
      "28    315\n",
      "27    312\n",
      "45    306\n",
      "40    305\n",
      "41    304\n",
      "26    300\n",
      "29    297\n",
      "38    296\n",
      "39    288\n",
      "42    286\n",
      "30    283\n",
      "44    282\n",
      "25    265\n",
      "43    261\n",
      "Name: Age, dtype: int64\n"
     ]
    }
   ],
   "source": [
    "age_distribution = [25, 26, 27, 28, 29, 30, 31, 32, 33, 34, 35, 36, 37, 38, 39, 40, 41, 42, 43, 44, 45]\n",
    "# the percentage of customers in each age group\n",
    "age_distribution_percentage = [0.05, 0.05, 0.05, 0.05, 0.05, 0.05,\n",
    "                               0.10, 0.10, 0.10, 0.10, 0.10, 0.10, 0.05, 0.05, 0.05, 0.05, 0.05, 0.05, 0.05, 0.05, 0.05]  # 100%\n",
    "\n",
    "random.seed(42)\n",
    "\n",
    "# Sample the same number of customers as rows in your existing dataset\n",
    "existing_rows = len(df_or)\n",
    "sampled_age = random.choices(age_distribution, weights=age_distribution_percentage, k=existing_rows)\n",
    "\n",
    "# Assign the sampled age to your existing DataFrame\n",
    "df_or['Age'] = sampled_age\n",
    "\n",
    "# Save the DataFrame to a CSV file\n",
    "df_or.to_csv('datasets/OrderReports.csv', index=False)\n",
    "\n",
    "print(df_or.head())\n",
    "print(df_or['Age'].value_counts())"
   ]
  },
  {
   "cell_type": "markdown",
   "id": "df57e3c00a94a08e",
   "metadata": {
    "collapsed": false
   },
   "source": [
    "## Creating a Machine Learning Model using Logistic Regression to predict gender of names"
   ]
  },
  {
   "cell_type": "code",
   "execution_count": 2693,
   "id": "ce0fd00beeb6fdb0",
   "metadata": {
    "collapsed": false,
    "ExecuteTime": {
     "end_time": "2023-11-15T17:57:20.804757Z",
     "start_time": "2023-11-15T17:57:20.266065Z"
    }
   },
   "outputs": [
    {
     "name": "stdout",
     "output_type": "stream",
     "text": [
      "F    7829\n",
      "M     185\n",
      "Name: Gender, dtype: int64\n"
     ]
    }
   ],
   "source": [
    "# df_mn = pd.read_csv('datasets/MalaysianNames_clean.csv')\n",
    "# \n",
    "# name_vectorizer = CountVectorizer(analyzer='char', ngram_range=(2, 3))\n",
    "# name_features = name_vectorizer.fit_transform(df_mn['name'])\n",
    "# \n",
    "# label_encoder = LabelEncoder()\n",
    "# df_mn[\"gender\"] = label_encoder.fit_transform(df_mn[\"gender\"])\n",
    "# \n",
    "# X_train, X_test, y_train, y_test = train_test_split(name_features, df_mn[\"gender\"], test_size=0.2, random_state=42)\n",
    "# \n",
    "# model = LogisticRegression()\n",
    "# model.fit(X_train, y_train)\n",
    "# y_pred = model.predict(X_test)\n",
    "# \n",
    "# accuracy = accuracy_score(y_test, y_pred)\n",
    "# \n",
    "# print(f\"Model Accuracy: {accuracy}\")\n",
    "# \n",
    "# new_names = df_or['Customer'].tolist()\n",
    "# # new_names = ['Lee Mann Heyy']\n",
    "# new_name_features = name_vectorizer.transform(new_names)\n",
    "# new_name_features = new_name_features.toarray()\n",
    "# \n",
    "# # predict gender of new names\n",
    "# new_names_pred = model.predict(new_name_features)\n",
    "# new_names_pred = label_encoder.inverse_transform(new_names_pred)\n",
    "# print(new_names_pred)\n",
    "# \n",
    "# #print total number of M and F in the list\n",
    "# print(\"Total number of M: \", new_names_pred.tolist().count('M'))\n",
    "# print(\"Total number of F: \", new_names_pred.tolist().count('F'))\n",
    "print(df_or['Gender'].value_counts())"
   ]
  },
  {
   "cell_type": "markdown",
   "id": "8de327f9778793e9",
   "metadata": {
    "collapsed": false
   },
   "source": [
    "# Encoding Categorical Data"
   ]
  },
  {
   "cell_type": "markdown",
   "id": "629d84f7720276d2",
   "metadata": {
    "collapsed": false
   },
   "source": [
    "### For OrderReport dataset"
   ]
  },
  {
   "cell_type": "code",
   "execution_count": 2694,
   "id": "6fe019244a16e2f4",
   "metadata": {
    "collapsed": false,
    "ExecuteTime": {
     "end_time": "2023-11-15T17:57:20.833068Z",
     "start_time": "2023-11-15T17:57:20.279490Z"
    }
   },
   "outputs": [
    {
     "name": "stdout",
     "output_type": "stream",
     "text": [
      "                  Date  Order # N. Revenue (formatted)      Status  \\\n",
      "0  2023-10-26 14:50:17  16698.0                RM57.80  processing   \n",
      "1  2023-10-26 13:53:47  16697.0                RM32.90  processing   \n",
      "2  2023-10-26 13:04:17  16696.0                RM32.90  processing   \n",
      "3  2023-10-26 13:00:49  16695.0                RM82.70  processing   \n",
      "4  2023-10-26 12:47:36  16694.0                RM32.90  processing   \n",
      "\n",
      "                               Customer Customer type  \\\n",
      "0  AINAA SYAFIQAH ABD RAHMAN ABD RAHMAN           new   \n",
      "1                              Ja Hasim           new   \n",
      "2                             nasy anis           new   \n",
      "3   Herny erdawati binti Mohamad Rashed           new   \n",
      "4                      Suhaina Sulaiman           new   \n",
      "\n",
      "                                          Product(s)  Items sold  N. Revenue  \\\n",
      "0  1× LIP BOOSTER - WATERMELON, 1× LIP BOOSTER - ...         2.0        49.8   \n",
      "1                             1× LIP BOOSTER - MELON         1.0        24.9   \n",
      "2                             1× LIP BOOSTER - MELON         1.0        24.9   \n",
      "3  1× LIP BOOSTER - STRAWBERRY, 2× LIP BOOSTER - ...         3.0        74.7   \n",
      "4                        1× LIP BOOSTER - WATERMELON         1.0        24.9   \n",
      "\n",
      "      State  Age Gender  Customer type enc  Gender_enc  State_enc  \n",
      "0     Perak   36      F                  0           0          8  \n",
      "1     Johor   25      F                  0           0          0  \n",
      "2    Melaka   31      F                  0           0          4  \n",
      "3  Kelantan   31      F                  0           0          2  \n",
      "4    Perlis   38      F                  0           0          9  \n"
     ]
    }
   ],
   "source": [
    "lb = LabelBinarizer()\n",
    "df_or['Customer type enc'] = lb.fit_transform(df_or['Customer type'])\n",
    "df_or['Gender_enc'] = lb.fit_transform(df_or['Gender'])\n",
    "\n",
    "le = LabelEncoder()\n",
    "df_or['State_enc'] = le.fit_transform(df_or['State'])\n",
    "print(df_or.head())"
   ]
  },
  {
   "cell_type": "markdown",
   "id": "8f423c8f8c5eb5ac",
   "metadata": {
    "collapsed": false
   },
   "source": [
    "### For ProductList dataset"
   ]
  },
  {
   "cell_type": "code",
   "execution_count": 2695,
   "id": "f1553fed2560e1b5",
   "metadata": {
    "collapsed": false,
    "ExecuteTime": {
     "end_time": "2023-11-15T17:57:20.833188Z",
     "start_time": "2023-11-15T17:57:20.298052Z"
    }
   },
   "outputs": [
    {
     "name": "stdout",
     "output_type": "stream",
     "text": [
      "                                        Product  SKU  Items sold  N. Revenue  \\\n",
      "0                      LIP BOOSTER - WATERMELON   95        2590     63270.9   \n",
      "1                      LIP BOOSTER - STRAWBERRY   96        2563     63768.9   \n",
      "2  COLLAGEN SERUM FOUNDATION ALHA ALFA - MEDIUM   98        1067      7435.1   \n",
      "3   COLLAGEN SERUM FOUNDATION ALHA ALFA - LIGHT   97         728      7135.7   \n",
      "4                           LIP BOOSTER - MELON  100         651     16209.9   \n",
      "\n",
      "   Orders    Status  Stock  Status enc  \n",
      "0    2299  In stock     11           0  \n",
      "1    2280  In stock    134           0  \n",
      "2    1005  In stock     33           0  \n",
      "3     690  In stock     41           0  \n",
      "4     587  In stock    177           0  \n"
     ]
    }
   ],
   "source": [
    "lb = LabelBinarizer()\n",
    "df_pl['Status enc'] = lb.fit_transform(df_pl['Status'])\n",
    "\n",
    "le = LabelEncoder()\n",
    "df_pl['SKU'] = le.fit_transform(df_pl['SKU'])\n",
    "\n",
    "print(df_pl.head())"
   ]
  },
  {
   "cell_type": "markdown",
   "id": "37ec56a6479691c1",
   "metadata": {
    "collapsed": false
   },
   "source": [
    "# Enhanced Targeted Advertising"
   ]
  },
  {
   "cell_type": "markdown",
   "source": [
    "## Split the dataset into training and testing set"
   ],
   "metadata": {
    "collapsed": false
   },
   "id": "313a41f26808653a"
  },
  {
   "cell_type": "code",
   "execution_count": 2696,
   "id": "938dd64375ff3a68",
   "metadata": {
    "collapsed": false,
    "ExecuteTime": {
     "end_time": "2023-11-15T17:57:20.915462Z",
     "start_time": "2023-11-15T17:57:20.301119Z"
    }
   },
   "outputs": [],
   "source": [
    "data = df_or[['Customer type', 'Age', 'State']]\n",
    "#encode State\n",
    "le = LabelEncoder()\n",
    "data['State'] = le.fit_transform(data['State'])\n",
    "#encode Customer type\n",
    "lb = LabelBinarizer()\n",
    "data['Customer type'] = lb.fit_transform(data['Customer type'])\n",
    "\n",
    "trainset, testset = train_test_split(data, test_size=0.2, random_state=42)    "
   ]
  },
  {
   "cell_type": "markdown",
   "source": [
    "## Train the model using DBSCAN"
   ],
   "metadata": {
    "collapsed": false
   },
   "id": "bfcabcdfd1f3f4f6"
  },
  {
   "cell_type": "code",
   "execution_count": 2697,
   "id": "cefd265ec8ca0c24",
   "metadata": {
    "collapsed": false,
    "ExecuteTime": {
     "end_time": "2023-11-15T17:57:20.921113Z",
     "start_time": "2023-11-15T17:57:20.316898Z"
    }
   },
   "outputs": [
    {
     "name": "stdout",
     "output_type": "stream",
     "text": [
      "DBSCAN()\n"
     ]
    }
   ],
   "source": [
    "dbscan = DBSCAN(eps=0.5, min_samples=5)\n",
    "print(dbscan.fit(trainset))"
   ]
  },
  {
   "cell_type": "markdown",
   "source": [
    "## Predict the clusters for the training set"
   ],
   "metadata": {
    "collapsed": false
   },
   "id": "893e267ce613d990"
  },
  {
   "cell_type": "code",
   "execution_count": 2698,
   "id": "c0f84d62f3c54bd",
   "metadata": {
    "collapsed": false,
    "ExecuteTime": {
     "end_time": "2023-11-15T17:57:20.921199Z",
     "start_time": "2023-11-15T17:57:20.353286Z"
    }
   },
   "outputs": [
    {
     "name": "stdout",
     "output_type": "stream",
     "text": [
      "[ 0  1  2 ...  5 10 10]\n"
     ]
    }
   ],
   "source": [
    "# predict the clusters for the testset\n",
    "y_pred = dbscan.fit_predict(testset)\n",
    "print(y_pred)"
   ]
  },
  {
   "cell_type": "markdown",
   "source": [
    "## Visualize the clusters"
   ],
   "metadata": {
    "collapsed": false
   },
   "id": "5bc5a138f6ac887c"
  },
  {
   "cell_type": "code",
   "execution_count": 2699,
   "id": "723a9777c72aef0a",
   "metadata": {
    "collapsed": false,
    "ExecuteTime": {
     "end_time": "2023-11-15T17:57:20.921326Z",
     "start_time": "2023-11-15T17:57:20.361193Z"
    }
   },
   "outputs": [
    {
     "data": {
      "text/plain": "<Figure size 640x480 with 1 Axes>",
      "image/png": "[encoded data removed]"
     },
     "metadata": {},
     "output_type": "display_data"
    }
   ],
   "source": [
    "plt.scatter(testset['Age'], testset['State'], c=y_pred, cmap='rainbow')\n",
    "plt.yticks(np.arange(0, 16), le.inverse_transform(np.arange(0, 16)))\n",
    "# put all the age\n",
    "plt.xticks(np.arange(25, 46))\n",
    "plt.xlabel('Age')\n",
    "plt.ylabel('State')\n",
    "plt.show()"
   ]
  },
  {
   "cell_type": "markdown",
   "source": [
    "## Print Age at each State"
   ],
   "metadata": {
    "collapsed": false
   },
   "id": "8294bec9613d57cb"
  },
  {
   "cell_type": "code",
   "execution_count": 2700,
   "outputs": [
    {
     "name": "stdout",
     "output_type": "stream",
     "text": [
      "State 0: 25.937888198757765\n",
      "State 1: 28.356643356643357\n",
      "State 2: 30.558333333333334\n",
      "State 3: 31.0\n",
      "State 4: 31.83431952662722\n",
      "State 5: 33.26875\n",
      "State 6: 34.38655462184874\n",
      "State 7: 35.03658536585366\n",
      "State 8: 36.0\n",
      "State 9: 37.5\n",
      "State 10: 39.0\n",
      "State 11: 39.0\n",
      "State 12: 39.0\n",
      "State 13: 40.933035714285715\n",
      "State 14: 43.625\n",
      "State 15: 45.0\n"
     ]
    }
   ],
   "source": [
    "for i in range(0, 16):\n",
    "    print(f\"State {i}: {testset[testset['State'] == i]['Age'].mean()}\")"
   ],
   "metadata": {
    "collapsed": false,
    "ExecuteTime": {
     "end_time": "2023-11-15T17:57:20.921400Z",
     "start_time": "2023-11-15T17:57:20.502205Z"
    }
   },
   "id": "29acb108d6f5a196"
  },
  {
   "cell_type": "markdown",
   "source": [
    "## Evaluate the model using Silhouette Score"
   ],
   "metadata": {
    "collapsed": false
   },
   "id": "209ce32469b61e91"
  },
  {
   "cell_type": "code",
   "execution_count": 2701,
   "id": "1c538f39e3b49f8c",
   "metadata": {
    "collapsed": false,
    "ExecuteTime": {
     "end_time": "2023-11-15T17:57:20.921487Z",
     "start_time": "2023-11-15T17:57:20.508573Z"
    }
   },
   "outputs": [
    {
     "name": "stdout",
     "output_type": "stream",
     "text": [
      "0.9365001452004044\n"
     ]
    }
   ],
   "source": [
    "print(silhouette_score(testset, y_pred))"
   ]
  },
  {
   "cell_type": "markdown",
   "metadata": {},
   "source": [
    "# Identifying Best-Selling Products"
   ],
   "id": "1a6a84de2e001597"
  },
  {
   "cell_type": "markdown",
   "source": [
    "## Split the Dataset into Training and Testing Sets"
   ],
   "metadata": {
    "collapsed": false
   },
   "id": "7900ce171d21a9cc"
  },
  {
   "cell_type": "code",
   "execution_count": 2702,
   "outputs": [],
   "source": [
    "X = df_pl[['Product', 'N. Revenue', 'Orders']]\n",
    "le = LabelEncoder()\n",
    "X['Product'] = le.fit_transform(X['Product'])\n",
    "y = df_pl['Items sold']\n",
    "\n",
    "# Split the data into training and testing sets\n",
    "X_train, X_test, y_train, y_test = train_test_split(X, y, test_size=0.2, random_state=42)"
   ],
   "metadata": {
    "collapsed": false,
    "ExecuteTime": {
     "end_time": "2023-11-15T17:57:20.921865Z",
     "start_time": "2023-11-15T17:57:20.595759Z"
    }
   },
   "id": "2ed9339c854a8e8"
  },
  {
   "cell_type": "markdown",
   "source": [
    "## Train Model using Random Forest Regressor"
   ],
   "metadata": {
    "collapsed": false
   },
   "id": "815173ac38b59703"
  },
  {
   "cell_type": "code",
   "execution_count": 2703,
   "outputs": [],
   "source": [
    "# # Create and train a Random Forest Regressor\n",
    "# model = RandomForestRegressor(n_estimators=100, random_state=42)\n",
    "# model.fit(X_train, y_train)\n",
    "\n",
    "# # Make predictions on the testing data\n",
    "# y_pred = model.predict(X_test)"
   ],
   "metadata": {
    "collapsed": false,
    "ExecuteTime": {
     "end_time": "2023-11-15T17:57:20.921951Z",
     "start_time": "2023-11-15T17:57:20.599828Z"
    }
   },
   "id": "1f053c652d97699a"
  },
  {
   "cell_type": "markdown",
   "source": [
    "## Train Model using Linear Regression"
   ],
   "metadata": {
    "collapsed": false
   },
   "id": "4b215bcad441bfcc"
  },
  {
   "cell_type": "code",
   "execution_count": 2704,
   "outputs": [],
   "source": [
    "# use linear regression\n",
    "model = LinearRegression()\n",
    "model.fit(X_train, y_train)\n",
    "\n",
    "# Make predictions on the testing data\n",
    "y_pred = model.predict(X_test)"
   ],
   "metadata": {
    "collapsed": false,
    "ExecuteTime": {
     "end_time": "2023-11-15T17:57:20.922008Z",
     "start_time": "2023-11-15T17:57:20.605435Z"
    }
   },
   "id": "c24bc39bf0301f40"
  },
  {
   "cell_type": "markdown",
   "source": [
    "## Model Evaluation"
   ],
   "metadata": {
    "collapsed": false
   },
   "id": "fc061f7b87e0c013"
  },
  {
   "cell_type": "code",
   "execution_count": 2705,
   "outputs": [
    {
     "name": "stdout",
     "output_type": "stream",
     "text": [
      "Mean Squared Error: 50.60064301741112\n",
      "R-squared: 0.9998223886851934\n"
     ]
    }
   ],
   "source": [
    "# Evaluate the model\n",
    "mse = mean_squared_error(y_test, y_pred)\n",
    "r2 = r2_score(y_test, y_pred)\n",
    "print(f'Mean Squared Error: {mse}')\n",
    "print(f'R-squared: {r2}')"
   ],
   "metadata": {
    "collapsed": false,
    "ExecuteTime": {
     "end_time": "2023-11-15T17:57:20.922107Z",
     "start_time": "2023-11-15T17:57:20.613839Z"
    }
   },
   "id": "349e902cab4002a2"
  },
  {
   "cell_type": "markdown",
   "source": [
    "## Predict Best Selling Product for 2023"
   ],
   "metadata": {
    "collapsed": false
   },
   "id": "3d4841556cb78399"
  },
  {
   "cell_type": "code",
   "execution_count": 2706,
   "outputs": [
    {
     "name": "stdout",
     "output_type": "stream",
     "text": [
      "The best-selling product for 2023 is: LIP BOOSTER - WATERMELON\n"
     ]
    }
   ],
   "source": [
    "# Predict the number of items sold for each product\n",
    "predicted_items_sold = model.predict(X)\n",
    "\n",
    "# Identify the best-selling product\n",
    "best_selling_product_index = predicted_items_sold.argmax()\n",
    "best_selling_product = df_pl.loc[best_selling_product_index, 'Product'] \n",
    "\n",
    "print(f'The best-selling product for 2023 is: {best_selling_product}')"
   ],
   "metadata": {
    "collapsed": false,
    "ExecuteTime": {
     "end_time": "2023-11-15T17:57:20.922180Z",
     "start_time": "2023-11-15T17:57:20.618664Z"
    }
   },
   "id": "c735f4e95ae9181a"
  },
  {
   "cell_type": "markdown",
   "source": [
    "## Prediction for 2024 ProductList"
   ],
   "metadata": {
    "collapsed": false
   },
   "id": "40a78e4eaa657bd9"
  },
  {
   "cell_type": "code",
   "execution_count": 2707,
   "metadata": {
    "ExecuteTime": {
     "end_time": "2023-11-15T17:57:20.922215Z",
     "start_time": "2023-11-15T17:57:20.627639Z"
    }
   },
   "outputs": [],
   "source": [
    "# predict the number of items for each product in the next year 2024\n",
    "df_pl_2024 = df_pl.copy()\n",
    "# add a new column for predicted items sold\n",
    "df_pl_2024['Predicted items sold 2024'] = predicted_items_sold\n",
    "# multiply the predicted items sold by 1.1\n",
    "df_pl_2024['Predicted items sold 2024'] = df_pl_2024['Predicted items sold 2024'] * 1.1 \n",
    "df_pl_2024['Predicted items sold 2024'] = df_pl_2024['Predicted items sold 2024'].astype(int)\n",
    "#predict number of orders should be made based on the predicted items sold\n",
    "df_pl_2024['Conversion rate'] = df_pl['Orders'] / df_pl['Items sold']\n",
    "df_pl_2024['Predicted orders 2024'] = df_pl_2024['Predicted items sold 2024'] / df_pl_2024['Conversion rate']\n",
    "df_pl_2024['Predicted orders 2024'] = df_pl_2024['Predicted orders 2024'].astype(int)\n",
    "#predict revenue based on the predicted items sold\n",
    "df_pl_2024['Price'] = df_pl['N. Revenue'] / df_pl['Orders']\n",
    "df_pl_2024['Predicted revenue 2024'] = df_pl_2024['Predicted items sold 2024'] * df_pl_2024['Price']\n",
    "df_pl_2024['Predicted revenue 2024'] = df_pl_2024['Predicted revenue 2024'].astype(int)\n",
    "# rename N. Revenue to Past Revenue\n",
    "df_pl_2024 = df_pl_2024.rename(columns={'N. Revenue': 'Past Revenue'})\n",
    "# rename Orders to Past Orders\n",
    "df_pl_2024 = df_pl_2024.rename(columns={'Orders': 'Past Orders'})\n",
    "# rename Items sold to Past Items sold\n",
    "df_pl_2024 = df_pl_2024.rename(columns={'Items sold': 'Past Items sold'})\n",
    "# rename Stock to Past Stock\n",
    "df_pl_2024 = df_pl_2024.rename(columns={'Stock': 'Past Stock'})\n",
    "# rename Status to Past Status\n",
    "df_pl_2024 = df_pl_2024.rename(columns={'Status': 'Past Status'})\n",
    "# rename Status enc to Past Status enc\n",
    "df_pl_2024 = df_pl_2024.rename(columns={'Status enc': 'Past Status enc'})"
   ],
   "id": "73c749477a2f82bf"
  },
  {
   "cell_type": "markdown",
   "source": [
    "## Prediction for 2025 ProductList"
   ],
   "metadata": {
    "collapsed": false
   },
   "id": "10e16eaa046ec2ca"
  },
  {
   "cell_type": "code",
   "execution_count": 2708,
   "outputs": [],
   "source": [
    "# predict items sold for each product for the year 2025 based on 2024\n",
    "df_pl_2025 = df_pl_2024.copy()\n",
    "# remove all the past columns \n",
    "df_pl_2025 = df_pl_2025.drop(columns=['Past Revenue', 'Past Orders', 'Past Items sold', 'Past Stock', 'Past Status', 'Past Status enc'])\n",
    "# rename Predicted items sold 2024 to Past Items sold\n",
    "df_pl_2025 = df_pl_2025.rename(columns={'Predicted items sold 2024': 'Past Items sold'})\n",
    "# rename Predicted orders 2024 to Past Orders\n",
    "df_pl_2025 = df_pl_2025.rename(columns={'Predicted orders 2024': 'Past Stock'})\n",
    "# rename Predicted revenue 2024 to Past Revenue\n",
    "df_pl_2025 = df_pl_2025.rename(columns={'Predicted revenue 2024': 'Past Revenue'})\n",
    "# rename Predicted orders 2024 to Past Stock\n",
    "\n",
    "# new column for predicted items sold 2025\n",
    "df_pl_2025['Predicted items sold 2025'] = predicted_items_sold\n",
    "# multiply the predicted items sold by 1.1 * 1.1\n",
    "df_pl_2025['Predicted items sold 2025'] = df_pl_2025['Predicted items sold 2025'] * 1.1 * 1.1\n",
    "df_pl_2025['Predicted items sold 2025'] = df_pl_2025['Predicted items sold 2025'].astype(int)\n",
    "#predict number of orders should be made based on the predicted items sold\n",
    "df_pl_2025['Conversion rate'] = df_pl_2024['Past Orders'] / df_pl_2024['Past Items sold']\n",
    "df_pl_2025['Predicted orders 2025'] = df_pl_2025['Predicted items sold 2025'] / df_pl_2025['Conversion rate']\n",
    "df_pl_2025['Predicted orders 2025'] = df_pl_2025['Predicted orders 2025'].astype(int)\n",
    "#predict revenue based on the predicted items sold\n",
    "df_pl_2025['Price'] = df_pl_2025['Past Revenue'] / df_pl_2024['Past Orders']\n",
    "df_pl_2025['Predicted revenue 2025'] = df_pl_2025['Predicted items sold 2025'] * df_pl_2025['Price']\n",
    "df_pl_2025['Predicted revenue 2025'] = df_pl_2025['Predicted revenue 2025'].astype(int)"
   ],
   "metadata": {
    "collapsed": false,
    "ExecuteTime": {
     "end_time": "2023-11-15T17:57:20.923575Z",
     "start_time": "2023-11-15T17:57:20.634997Z"
    }
   },
   "id": "ae65515ab20b4866"
  },
  {
   "cell_type": "markdown",
   "source": [
    "## Convert the Predicted Items Sold to a DataFrame"
   ],
   "metadata": {
    "collapsed": false
   },
   "id": "8f0b6ee9e2769671"
  },
  {
   "cell_type": "code",
   "execution_count": 2709,
   "outputs": [
    {
     "name": "stdout",
     "output_type": "stream",
     "text": [
      "                                        Product  SKU  Past Items sold  \\\n",
      "0                      LIP BOOSTER - WATERMELON   95             2590   \n",
      "1                      LIP BOOSTER - STRAWBERRY   96             2563   \n",
      "2  COLLAGEN SERUM FOUNDATION ALHA ALFA - MEDIUM   98             1067   \n",
      "3   COLLAGEN SERUM FOUNDATION ALHA ALFA - LIGHT   97              728   \n",
      "4                           LIP BOOSTER - MELON  100              651   \n",
      "\n",
      "   Past Revenue  Past Orders Past Status  Past Stock  Past Status enc  \\\n",
      "0       63270.9         2299    In stock          11                0   \n",
      "1       63768.9         2280    In stock         134                0   \n",
      "2        7435.1         1005    In stock          33                0   \n",
      "3        7135.7          690    In stock          41                0   \n",
      "4       16209.9          587    In stock         177                0   \n",
      "\n",
      "   Predicted items sold 2024  Conversion rate  Predicted orders 2024  \\\n",
      "0                       2827         0.887645                   3184   \n",
      "1                       2806         0.889583                   3154   \n",
      "2                       1178         0.941893                   1250   \n",
      "3                        813         0.947802                    857   \n",
      "4                        720         0.901690                    798   \n",
      "\n",
      "       Price  Predicted revenue 2024  \n",
      "0  27.521053                   77802  \n",
      "1  27.968816                   78480  \n",
      "2   7.398109                    8714  \n",
      "3  10.341594                    8407  \n",
      "4  27.614821                   19882  \n",
      "                                        Product  SKU  Past Items sold  \\\n",
      "0                      LIP BOOSTER - WATERMELON   95             2827   \n",
      "1                      LIP BOOSTER - STRAWBERRY   96             2806   \n",
      "2  COLLAGEN SERUM FOUNDATION ALHA ALFA - MEDIUM   98             1178   \n",
      "3   COLLAGEN SERUM FOUNDATION ALHA ALFA - LIGHT   97              813   \n",
      "4                           LIP BOOSTER - MELON  100              720   \n",
      "\n",
      "   Conversion rate  Past Stock      Price  Past Revenue  \\\n",
      "0         0.887645        3184  33.841670         77802   \n",
      "1         0.889583        3154  34.421053         78480   \n",
      "2         0.941893        1250   8.670647          8714   \n",
      "3         0.947802         857  12.184058          8407   \n",
      "4         0.901690         798  33.870528         19882   \n",
      "\n",
      "   Predicted items sold 2025  Predicted orders 2025  Predicted revenue 2025  \n",
      "0                       3110                   3503                  105247  \n",
      "1                       3087                   3470                  106257  \n",
      "2                       1295                   1374                   11228  \n",
      "3                        895                    944                   10904  \n",
      "4                        792                    878                   26825  \n"
     ]
    }
   ],
   "source": [
    "# display the dataframe\n",
    "print(df_pl_2024.head())\n",
    "print(df_pl_2025.head())\n",
    "\n",
    "# save to csv\n",
    "# add header to true\n",
    "df_pl_2024.to_csv('datasets/ProductList_2024.csv', index=False, header=True)\n",
    "df_pl_2025.to_csv('datasets/ProductList_2025.csv', index=False, header=True)"
   ],
   "metadata": {
    "collapsed": false,
    "ExecuteTime": {
     "end_time": "2023-11-15T17:57:20.923946Z",
     "start_time": "2023-11-15T17:57:20.641954Z"
    }
   },
   "id": "62cac9f0a2d32a36"
  },
  {
   "cell_type": "markdown",
   "source": [
    "## Visualizing the Predictions"
   ],
   "metadata": {
    "collapsed": false
   },
   "id": "e9450ce9ec9ca9c"
  },
  {
   "cell_type": "markdown",
   "source": [
    "### Correlation Matrix and Heatmap for ProductList"
   ],
   "metadata": {
    "collapsed": false
   },
   "id": "f70fcf30070decb1"
  },
  {
   "cell_type": "code",
   "execution_count": 2710,
   "outputs": [
    {
     "name": "stdout",
     "output_type": "stream",
     "text": [
      "                 SKU  Items sold  N. Revenue    Orders     Stock  Status enc\n",
      "SKU         1.000000    0.249647    0.196588  0.253374 -0.283340   -0.120486\n",
      "Items sold  0.249647    1.000000    0.965229  0.999743  0.003703   -0.126438\n",
      "N. Revenue  0.196588    0.965229    1.000000  0.961153 -0.001204   -0.115258\n",
      "Orders      0.253374    0.999743    0.961153  1.000000  0.003032   -0.130066\n",
      "Stock      -0.283340    0.003703   -0.001204  0.003032  1.000000   -0.244943\n",
      "Status enc -0.120486   -0.126438   -0.115258 -0.130066 -0.244943    1.000000\n"
     ]
    },
    {
     "data": {
      "text/plain": "<Figure size 640x480 with 2 Axes>",
      "image/png": "[encoded data removed]"
     },
     "metadata": {},
     "output_type": "display_data"
    }
   ],
   "source": [
    "# Create correlation matrix\n",
    "corr_matrix = df_pl.corr()\n",
    "print(corr_matrix)\n",
    "\n",
    "# Create a heatmap\n",
    "sns.heatmap(corr_matrix, annot=True)\n",
    "plt.title('Correlation Matrix for ProductList')\n",
    "plt.show()\n"
   ],
   "metadata": {
    "collapsed": false,
    "ExecuteTime": {
     "end_time": "2023-11-15T17:57:21.216428Z",
     "start_time": "2023-11-15T17:57:20.686588Z"
    }
   },
   "id": "6f9c51a16310fbb"
  },
  {
   "cell_type": "markdown",
   "source": [
    "### Scatter Plot for Predicted Items Sold vs. Actual Items Sold"
   ],
   "metadata": {
    "collapsed": false
   },
   "id": "3a669fe4cfa9ec56"
  },
  {
   "cell_type": "code",
   "execution_count": 2711,
   "metadata": {
    "ExecuteTime": {
     "end_time": "2023-11-15T17:57:21.258726Z",
     "start_time": "2023-11-15T17:57:20.835012Z"
    }
   },
   "outputs": [
    {
     "name": "stdout",
     "output_type": "stream",
     "text": [
      "111 111\n"
     ]
    },
    {
     "data": {
      "text/plain": "<Figure size 640x480 with 1 Axes>",
      "image/png": "[encoded data removed]"
     },
     "metadata": {},
     "output_type": "display_data"
    }
   ],
   "source": [
    "# visualize the best-selling product\n",
    "# Create a DataFrame from the predicted and actual values\n",
    "df = pd.DataFrame({'predicted': predicted_items_sold, 'actual': y})\n",
    "# print(df)\n",
    "\n",
    "# Check the lengths of 'predicted' and 'actual'\n",
    "print(len(df['predicted']), len(df['actual']))\n",
    "\n",
    "# Plot the DataFrame as a scatter plot and make both different colors\n",
    "colors = ['blue' for _ in range(len(df['predicted']))] + ['red' for _ in range(len(df['actual']))]\n",
    "plt.scatter(df['predicted'].append(df['predicted']),\n",
    "                df['actual'].append(df['actual']),\n",
    "                c=colors,\n",
    "                alpha=0.5)\n",
    "\n",
    "# Add a line for perfect correlation.\n",
    "# y = df['actual']\n",
    "# plt.plot(np.unique(df['predicted']), np.poly1d(np.polyfit(df['predicted'], y, 1))(np.unique(df['predicted'])))\n",
    "plt.xlabel('Predicted Items Sold')\n",
    "plt.ylabel('Actual Items Sold')\n",
    "plt.title('Actual vs. Predicted Items Sold')\n",
    "plt.show()"
   ],
   "id": "f48d58aac4ebbc8b"
  },
  {
   "cell_type": "code",
   "execution_count": 2712,
   "metadata": {
    "ExecuteTime": {
     "end_time": "2023-11-15T17:57:21.261109Z",
     "start_time": "2023-11-15T17:57:20.937734Z"
    }
   },
   "outputs": [
    {
     "name": "stdout",
     "output_type": "stream",
     "text": [
      "     predicted  actual\n",
      "0  2570.288467    2590\n"
     ]
    },
    {
     "data": {
      "text/plain": "<Figure size 640x480 with 1 Axes>",
      "image/png": "[encoded data removed]"
     },
     "metadata": {},
     "output_type": "display_data"
    }
   ],
   "source": [
    "# visualize the product with the highest number of items sold\n",
    "# Create a DataFrame from the predicted and actual values\n",
    "df = pd.DataFrame({'predicted': predicted_items_sold, 'actual': y})\n",
    "\n",
    "# Filter the DataFrame to only include the best-selling product\n",
    "\n",
    "df = df[df['actual'] == df['actual'].max()]\n",
    "print(df)\n",
    "\n",
    "# Plot the DataFrame as a scatter plot\n",
    "sns.scatterplot(data=df, x='predicted', y='actual', alpha=0.5)\n",
    "# draw a line\n",
    "plt.xlabel('Predicted Items Sold')\n",
    "plt.ylabel('Actual Items Sold')\n",
    "plt.title('Actual vs. Predicted Items Sold')\n",
    "plt.show()"
   ],
   "id": "8a22f2a33a6226bd"
  },
  {
   "cell_type": "code",
   "execution_count": 2713,
   "metadata": {
    "ExecuteTime": {
     "end_time": "2023-11-15T17:57:21.262083Z",
     "start_time": "2023-11-15T17:57:21.032548Z"
    }
   },
   "outputs": [
    {
     "name": "stdout",
     "output_type": "stream",
     "text": [
      "   residuals    predicted\n",
      "0  19.711533  2570.288467\n",
      "1  11.307542  2551.692458\n",
      "2  -3.923627  1070.923627\n",
      "3 -11.965474   739.965474\n",
      "4  -3.627350   654.627350\n"
     ]
    },
    {
     "data": {
      "text/plain": "<Figure size 640x480 with 1 Axes>",
      "image/png": "[encoded data removed]"
     },
     "metadata": {},
     "output_type": "display_data"
    }
   ],
   "source": [
    "# Visualize the residuals\n",
    "# Calculate the residuals\n",
    "residuals = y - predicted_items_sold # residual = actual - predicted\n",
    "\n",
    "# Create a DataFrame of the residuals\n",
    "df = pd.DataFrame({'residuals': residuals, 'predicted': predicted_items_sold})\n",
    "print(df.head())\n",
    "\n",
    "# Plot the residuals as a histogram\n",
    "sns.histplot(data=df, x='residuals', bins=20)\n",
    "plt.show()"
   ],
   "id": "419d51efc904af6e"
  },
  {
   "cell_type": "markdown",
   "metadata": {},
   "source": [
    "# Streamlining Inventory Management\n"
   ],
   "id": "aa342fbc096234e8"
  },
  {
   "cell_type": "markdown",
   "metadata": {},
   "source": [
    "## Year 2024"
   ],
   "id": "d25063c1a5d2c49d"
  },
  {
   "cell_type": "code",
   "execution_count": 2714,
   "metadata": {
    "ExecuteTime": {
     "end_time": "2023-11-15T17:57:21.262239Z",
     "start_time": "2023-11-15T17:57:21.120457Z"
    }
   },
   "outputs": [
    {
     "name": "stdout",
     "output_type": "stream",
     "text": [
      "Mean Absolute Error (Linear Regression): 4.517494188646526\n",
      "Mean Squared Error (Linear Regression): 58.659888162783865\n"
     ]
    }
   ],
   "source": [
    "# Data Preprocessing\n",
    "df_pl_2024 = pd.read_csv('datasets/ProductList_2024.csv')\n",
    "\n",
    "X = df_pl_2024[['Past Items sold', 'Past Stock', 'Product']]\n",
    "y = df_pl_2024['Predicted items sold 2024']\n",
    "\n",
    "# label encode the product column\n",
    "le = LabelEncoder()\n",
    "X['Product'] = le.fit_transform(X['Product'])\n",
    "\n",
    "\n",
    "# Split the data into training and testing sets\n",
    "X_train, X_test, y_train, y_test = train_test_split(X, y, test_size=0.2, random_state=42)\n",
    "\n",
    "# Standardize the features\n",
    "scaler = StandardScaler()\n",
    "X_train_scaled = scaler.fit_transform(X_train)\n",
    "X_test_scaled = scaler.transform(X_test)\n",
    "\n",
    "# Choose a Model (Linear Regression)\n",
    "model = LinearRegression()\n",
    "\n",
    "# Train the model\n",
    "model.fit(X_train_scaled, y_train)\n",
    "\n",
    "# Make predictions on the test set\n",
    "y_pred = model.predict(X_test_scaled)\n",
    "\n",
    "# Evaluate the model\n",
    "mae = mean_absolute_error(y_test, y_pred)\n",
    "mse = mean_squared_error(y_test, y_pred)\n",
    "\n",
    "print(f'Mean Absolute Error (Linear Regression): {mae}')\n",
    "print(f'Mean Squared Error (Linear Regression): {mse}')\n"
   ],
   "id": "3a2b2fc30ffd4128"
  },
  {
   "cell_type": "code",
   "execution_count": 2715,
   "metadata": {
    "ExecuteTime": {
     "end_time": "2023-11-15T17:57:21.262319Z",
     "start_time": "2023-11-15T17:57:21.131501Z"
    }
   },
   "outputs": [
    {
     "name": "stdout",
     "output_type": "stream",
     "text": [
      "                                        Product  SKU  Past Items sold  \\\n",
      "0                      LIP BOOSTER - WATERMELON   95             2590   \n",
      "1                      LIP BOOSTER - STRAWBERRY   96             2563   \n",
      "2  COLLAGEN SERUM FOUNDATION ALHA ALFA - MEDIUM   98             1067   \n",
      "3   COLLAGEN SERUM FOUNDATION ALHA ALFA - LIGHT   97              728   \n",
      "4                           LIP BOOSTER - MELON  100              651   \n",
      "\n",
      "   Past Revenue  Past Orders Past Status  Past Stock  Past Status enc  \\\n",
      "0       63270.9         2299    In stock          11                0   \n",
      "1       63768.9         2280    In stock         134                0   \n",
      "2        7435.1         1005    In stock          33                0   \n",
      "3        7135.7          690    In stock          41                0   \n",
      "4       16209.9          587    In stock         177                0   \n",
      "\n",
      "   Predicted items sold 2024  Conversion rate  Predicted orders 2024  \\\n",
      "0                       2827         0.887645                   3184   \n",
      "1                       2806         0.889583                   3154   \n",
      "2                       1178         0.941893                   1250   \n",
      "3                        813         0.947802                    857   \n",
      "4                        720         0.901690                    798   \n",
      "\n",
      "       Price  Predicted revenue 2024  Predicted Inventory  \n",
      "0  27.521053                   77802                 2847  \n",
      "1  27.968816                   78480                 2817  \n",
      "2   7.398109                    8714                 1172  \n",
      "3  10.341594                    8407                  800  \n",
      "4  27.614821                   19882                  715  \n"
     ]
    }
   ],
   "source": [
    "# Features for predicting inventory\n",
    "full_data = df_pl_2024.copy()\n",
    "X_full_data = full_data[['Past Items sold', 'Past Stock', 'Product']]\n",
    "X_full_data['Product'] = le.fit_transform(X_full_data['Product'])\n",
    "\n",
    "# Standardize the features using the scaler\n",
    "X_full_data_scaled = scaler.transform(X_full_data)\n",
    "\n",
    "# Make predictions for inventory for all products\n",
    "inventory_predictions_all = model.predict(X_full_data_scaled)\n",
    "\n",
    "# Add the inventory predictions to a new column in the original dataset\n",
    "full_data['Predicted Inventory'] = inventory_predictions_all\n",
    "full_data['Predicted Inventory'] = full_data['Predicted Inventory'].astype(int)\n",
    "\n",
    "# Display the full_data DataFrame with predicted inventory for all products\n",
    "print(full_data.head())\n",
    "\n",
    "# Save the full_data DataFrame to a CSV file\n",
    "full_data.to_csv('datasets/ProductList_2024.csv', index=False)"
   ],
   "id": "3922c297afc24cbd"
  },
  {
   "cell_type": "code",
   "execution_count": 2716,
   "metadata": {
    "ExecuteTime": {
     "end_time": "2023-11-15T17:57:21.535162Z",
     "start_time": "2023-11-15T17:57:21.134505Z"
    }
   },
   "outputs": [
    {
     "data": {
      "text/plain": "<Figure size 640x480 with 1 Axes>",
      "image/png": "[encoded data removed]"
     },
     "metadata": {},
     "output_type": "display_data"
    }
   ],
   "source": [
    "# Visualize the inventory predictions for all products\n",
    "df = pd.DataFrame({'predicted': inventory_predictions_all, 'actual': df_pl_2024['Past Stock']})\n",
    "\n",
    "# Plot the DataFrame as a scatter plot\n",
    "sns.scatterplot(data=df, x='predicted', y='actual', alpha=0.5)\n",
    "plt.xlabel('Predicted Inventory')\n",
    "plt.ylabel('Actual Inventory')\n",
    "plt.title('Actual vs. Predicted Inventory')\n",
    "plt.show()"
   ],
   "id": "6ebf402ed55d2748"
  },
  {
   "cell_type": "markdown",
   "metadata": {},
   "source": [
    "## Year 2025"
   ],
   "id": "8bf672e5c3267c95"
  },
  {
   "cell_type": "code",
   "execution_count": 2717,
   "metadata": {
    "ExecuteTime": {
     "end_time": "2023-11-15T17:57:21.535650Z",
     "start_time": "2023-11-15T17:57:21.232343Z"
    }
   },
   "outputs": [
    {
     "name": "stdout",
     "output_type": "stream",
     "text": [
      "Mean Absolute Error (Linear Regression): 0.3777120971360376\n",
      "Mean Squared Error (Linear Regression): 0.21581667538798183\n"
     ]
    }
   ],
   "source": [
    "df_pl_2025 = pd.read_csv('datasets/ProductList_2025.csv')\n",
    "\n",
    "X = df_pl_2025[['Past Items sold', 'Past Stock', 'Product']]\n",
    "y = df_pl_2025['Predicted items sold 2025']\n",
    "\n",
    "# label encode the product column\n",
    "le = LabelEncoder()\n",
    "X['Product'] = le.fit_transform(X['Product'])\n",
    "\n",
    "\n",
    "# Split the data into training and testing sets\n",
    "X_train, X_test, y_train, y_test = train_test_split(X, y, test_size=0.2, random_state=42)\n",
    "\n",
    "# Standardize the features\n",
    "scaler = StandardScaler()\n",
    "X_train_scaled = scaler.fit_transform(X_train)\n",
    "X_test_scaled = scaler.transform(X_test)\n",
    "\n",
    "# Choose a Model (Linear Regression)\n",
    "model = LinearRegression()\n",
    "\n",
    "# Train the model\n",
    "model.fit(X_train_scaled, y_train)\n",
    "\n",
    "# Make predictions on the test set\n",
    "y_pred = model.predict(X_test_scaled)\n",
    "\n",
    "# Evaluate the model\n",
    "mae = mean_absolute_error(y_test, y_pred)\n",
    "mse = mean_squared_error(y_test, y_pred)\n",
    "\n",
    "print(f'Mean Absolute Error (Linear Regression): {mae}')\n",
    "print(f'Mean Squared Error (Linear Regression): {mse}')\n",
    "\n"
   ],
   "id": "90973a8ee606da3"
  },
  {
   "cell_type": "code",
   "execution_count": 2718,
   "metadata": {
    "ExecuteTime": {
     "end_time": "2023-11-15T17:57:21.536065Z",
     "start_time": "2023-11-15T17:57:21.243396Z"
    }
   },
   "outputs": [
    {
     "name": "stdout",
     "output_type": "stream",
     "text": [
      "                                        Product  SKU  Past Items sold  \\\n",
      "0                      LIP BOOSTER - WATERMELON   95             2827   \n",
      "1                      LIP BOOSTER - STRAWBERRY   96             2806   \n",
      "2  COLLAGEN SERUM FOUNDATION ALHA ALFA - MEDIUM   98             1178   \n",
      "3   COLLAGEN SERUM FOUNDATION ALHA ALFA - LIGHT   97              813   \n",
      "4                           LIP BOOSTER - MELON  100              720   \n",
      "\n",
      "   Conversion rate  Past Stock      Price  Past Revenue  \\\n",
      "0         0.887645        3184  33.841670         77802   \n",
      "1         0.889583        3154  34.421053         78480   \n",
      "2         0.941893        1250   8.670647          8714   \n",
      "3         0.947802         857  12.184058          8407   \n",
      "4         0.901690         798  33.870528         19882   \n",
      "\n",
      "   Predicted items sold 2025  Predicted orders 2025  Predicted revenue 2025  \\\n",
      "0                       3110                   3503                  105247   \n",
      "1                       3087                   3470                  106257   \n",
      "2                       1295                   1374                   11228   \n",
      "3                        895                    944                   10904   \n",
      "4                        792                    878                   26825   \n",
      "\n",
      "   Predicted Inventory  \n",
      "0                 3109  \n",
      "1                 3086  \n",
      "2                 1295  \n",
      "3                  894  \n",
      "4                  792  \n"
     ]
    }
   ],
   "source": [
    "# Features for predicting inventory\n",
    "full_data = df_pl_2025.copy()\n",
    "X_full_data = full_data[['Past Items sold', 'Past Stock', 'Product']]\n",
    "X_full_data['Product'] = le.fit_transform(X_full_data['Product'])\n",
    "\n",
    "# Standardize the features using the scaler\n",
    "X_full_data_scaled = scaler.transform(X_full_data)\n",
    "\n",
    "# Make predictions for inventory for all products\n",
    "inventory_predictions_all = model.predict(X_full_data_scaled)\n",
    "\n",
    "# Add the inventory predictions to a new column in the original dataset\n",
    "full_data['Predicted Inventory'] = inventory_predictions_all\n",
    "full_data['Predicted Inventory'] = full_data['Predicted Inventory'].astype(int)\n",
    "\n",
    "# Display the full_data DataFrame with predicted inventory for all products\n",
    "print(full_data.head())\n",
    "\n",
    "# Save the full_data DataFrame to a CSV file\n",
    "full_data.to_csv('datasets/ProductList_2025.csv', index=False)\n"
   ],
   "id": "7687167bdc3e6acb"
  },
  {
   "cell_type": "code",
   "execution_count": 2719,
   "metadata": {
    "ExecuteTime": {
     "end_time": "2023-11-15T17:57:21.586929Z",
     "start_time": "2023-11-15T17:57:21.252032Z"
    }
   },
   "outputs": [
    {
     "data": {
      "text/plain": "<Figure size 640x480 with 1 Axes>",
      "image/png": "[encoded data removed]"
     },
     "metadata": {},
     "output_type": "display_data"
    }
   ],
   "source": [
    "# Visualize the inventory predictions for all products\n",
    "df = pd.DataFrame({'predicted': inventory_predictions_all, 'actual': df_pl_2025['Past Stock']})\n",
    "\n",
    "# Plot the DataFrame as a scatter plot\n",
    "sns.scatterplot(data=df, x='predicted', y='actual', alpha=0.5)\n",
    "plt.xlabel('Predicted Inventory')\n",
    "plt.ylabel('Actual Inventory')\n",
    "plt.title('Actual vs. Predicted Inventory')\n",
    "plt.show()"
   ],
   "id": "d225f1bca912368a"
  },
  {
   "cell_type": "markdown",
   "source": [
    "# Viability of Monthly Subscription Plan\n"
   ],
   "metadata": {
    "collapsed": false
   },
   "id": "d8488a2d98537dfc"
  },
  {
   "cell_type": "code",
   "execution_count": 2720,
   "outputs": [
    {
     "name": "stdout",
     "output_type": "stream",
     "text": [
      "Accuracy: 0.9968808484092326\n",
      "[[9.97148695e-01 2.85130543e-03]\n",
      " [9.99999969e-01 3.05042806e-08]\n",
      " [9.99999965e-01 3.53672626e-08]\n",
      " ...\n",
      " [9.99999851e-01 1.48960025e-07]\n",
      " [1.00000000e+00 2.50575537e-10]\n",
      " [9.95288565e-01 4.71143500e-03]]\n",
      "                 Date  Order #  N. Revenue (formatted)  Status  Customer  \\\n",
      "0 2023-10-26 14:50:17  16698.0                    57.8       1        19   \n",
      "1 2023-10-26 13:53:47  16697.0                    32.9       1      1991   \n",
      "2 2023-10-26 13:04:17  16696.0                    32.9       1      6993   \n",
      "3 2023-10-26 13:00:49  16695.0                    82.7       1      1763   \n",
      "4 2023-10-26 12:47:36  16694.0                    32.9       1      6114   \n",
      "\n",
      "   Customer type  Product(s)  Items sold  N. Revenue  State  Age  Gender  \\\n",
      "0              0         398         2.0        49.8      8   36       0   \n",
      "1              0         259         1.0        24.9      0   25       0   \n",
      "2              0         259         1.0        24.9      4   31       0   \n",
      "3              0         366         3.0        74.7      2   31       0   \n",
      "4              0         370         1.0        24.9      9   38       0   \n",
      "\n",
      "   Product Count  Avg Revenue per Item  Interest  Probability of Interest  \n",
      "0            2.0                  24.9         0             8.364460e-07  \n",
      "1            1.0                  24.9         0             2.561875e-08  \n",
      "2            1.0                  24.9         0             2.550155e-08  \n",
      "3            3.0                  24.9         0             4.291531e-06  \n",
      "4            1.0                  24.9         0             3.849441e-08  \n"
     ]
    }
   ],
   "source": [
    "# Load Order Report Dataset\n",
    "order_df = pd.read_csv('datasets/OrderReports.csv')\n",
    "\n",
    "# Remove ',' and 'RM', convert 'N. Revenue (formatted)' to float\n",
    "order_df['N. Revenue (formatted)'] = order_df['N. Revenue (formatted)'].replace({',': '', 'RM': ''}, regex=True).astype(float)\n",
    "\n",
    "# Convert 'Product(s)' to the count of products sold\n",
    "order_df['Product Count'] = order_df['Items sold']\n",
    "\n",
    "# Feature engineering\n",
    "order_df['Avg Revenue per Item'] = order_df['N. Revenue'] / order_df['Items sold']\n",
    "\n",
    "# convert State, Customer, Product(s), Gender, Customer type to categorical using label encoder\n",
    "order_df['State'] = le.fit_transform(order_df['State'])\n",
    "order_df['Customer'] = le.fit_transform(order_df['Customer'])\n",
    "order_df['Product(s)'] = le.fit_transform(order_df['Product(s)'])\n",
    "lb = LabelBinarizer\n",
    "order_df['Gender'] = le.fit_transform(order_df['Gender'])\n",
    "order_df['Customer type'] = le.fit_transform(order_df['Customer type'])\n",
    "order_df['Status'] = le.fit_transform(order_df['Status'])\n",
    "\n",
    "# convert Date to datetime\n",
    "order_df['Date'] = pd.to_datetime(order_df['Date'])\n",
    "\n",
    "# Define 'Interest' column based on certain criteria\n",
    "interest_threshold = 600\n",
    "order_df['Interest'] = ((order_df['N. Revenue (formatted)'] > interest_threshold) | (order_df['Product Count'] > 5)).astype(int)\n",
    "\n",
    "# Define features (X) and target variable (Y)\n",
    "X = order_df.drop(['Interest', 'Date',], axis=1)  # Exclude 'Date' from features\n",
    "Y = order_df['Interest']\n",
    "\n",
    "# Split data into training and testing sets\n",
    "X_train, X_test, Y_train, Y_test = train_test_split(X, Y, test_size=0.2, random_state=42)\n",
    "\n",
    "# Initialize and train the model\n",
    "model = LogisticRegression()\n",
    "model.fit(X_train, Y_train)\n",
    "\n",
    "# Make predictions\n",
    "predictions = model.predict(X_test)\n",
    "\n",
    "# Evaluate accuracy\n",
    "accuracy = accuracy_score(Y_test, predictions)\n",
    "print(f\"Accuracy: {accuracy}\")\n",
    "\n",
    "# predict the probability of interest\n",
    "probabilities = model.predict_proba(X_test)\n",
    "print(probabilities)\n",
    "\n",
    "# predict the probability of interest for each customer\n",
    "order_df['Probability of Interest'] = model.predict_proba(order_df.drop(['Interest', 'Date'], axis=1))[:, 1]\n",
    "print(order_df.head())\n",
    "\n"
   ],
   "metadata": {
    "collapsed": false,
    "ExecuteTime": {
     "end_time": "2023-11-15T17:57:21.598240Z",
     "start_time": "2023-11-15T17:57:21.349152Z"
    }
   },
   "id": "482f1af2f945be8c"
  },
  {
   "cell_type": "code",
   "execution_count": 2721,
   "outputs": [
    {
     "name": "stdout",
     "output_type": "stream",
     "text": [
      "                 Date  Order #  N. Revenue (formatted)  Status  Customer  \\\n",
      "0 2023-10-26 14:50:17  16698.0                    57.8       1        19   \n",
      "1 2023-10-26 13:53:47  16697.0                    32.9       1      1991   \n",
      "2 2023-10-26 13:04:17  16696.0                    32.9       1      6993   \n",
      "3 2023-10-26 13:00:49  16695.0                    82.7       1      1763   \n",
      "4 2023-10-26 12:47:36  16694.0                    32.9       1      6114   \n",
      "\n",
      "   Customer type  Product(s)  Items sold  N. Revenue  State  Age  Gender  \\\n",
      "0              0         398         2.0        49.8      8   36       0   \n",
      "1              0         259         1.0        24.9      0   25       0   \n",
      "2              0         259         1.0        24.9      4   31       0   \n",
      "3              0         366         3.0        74.7      2   31       0   \n",
      "4              0         370         1.0        24.9      9   38       0   \n",
      "\n",
      "   Product Count  Avg Revenue per Item  Interest  Probability of Interest  \\\n",
      "0            2.0                  24.9         0             8.364460e-07   \n",
      "1            1.0                  24.9         0             2.561875e-08   \n",
      "2            1.0                  24.9         0             2.550155e-08   \n",
      "3            3.0                  24.9         0             4.291531e-06   \n",
      "4            1.0                  24.9         0             3.849441e-08   \n",
      "\n",
      "   Viability of Monthly Subscription Plan  \n",
      "0                                       0  \n",
      "1                                       0  \n",
      "2                                       0  \n",
      "3                                       0  \n",
      "4                                       0  \n"
     ]
    }
   ],
   "source": [
    "# predict the viability of monthly subscription plan\n",
    "order_df['Viability of Monthly Subscription Plan'] = (order_df['Probability of Interest'] > 0.5).astype(int)\n",
    "print(order_df.head())\n",
    "\n",
    "order_df.to_csv('datasets/scam.csv', index= False, header= True)"
   ],
   "metadata": {
    "collapsed": false,
    "ExecuteTime": {
     "end_time": "2023-11-15T17:57:21.758768Z",
     "start_time": "2023-11-15T17:57:21.501489Z"
    }
   },
   "id": "b5360aa0d7480894"
  },
  {
   "cell_type": "code",
   "execution_count": 2722,
   "outputs": [
    {
     "data": {
      "text/plain": "<Figure size 800x600 with 1 Axes>",
      "image/png": "[encoded data removed]"
     },
     "metadata": {},
     "output_type": "display_data"
    }
   ],
   "source": [
    "# Example 1: Age Distribution of Potential Members\n",
    "plt.figure(figsize=(8, 6))\n",
    "sns.histplot(order_df[order_df['Interest'] == 1]['Age'], bins=20, kde=True, color='skyblue', label='Interested')\n",
    "plt.title('Age Distribution of Potential Members')\n",
    "plt.xlabel('Age')\n",
    "plt.ylabel('Count')\n",
    "plt.legend()\n",
    "plt.tight_layout()\n",
    "plt.show()\n"
   ],
   "metadata": {
    "collapsed": false,
    "ExecuteTime": {
     "end_time": "2023-11-15T17:57:21.879535Z",
     "start_time": "2023-11-15T17:57:21.568815Z"
    }
   },
   "id": "6ade1dbc94823747"
  },
  {
   "cell_type": "code",
   "execution_count": 2723,
   "outputs": [
    {
     "data": {
      "text/plain": "<Figure size 600x600 with 1 Axes>",
      "image/png": "[encoded data removed]"
     },
     "metadata": {},
     "output_type": "display_data"
    }
   ],
   "source": [
    "# Example 2: Gender Distribution of Potential Members\n",
    "plt.figure(figsize=(6, 6))\n",
    "order_df_interested = order_df[order_df['Interest'] == 1]\n",
    "sns.countplot(x='Gender', data=order_df_interested, palette='pastel')\n",
    "plt.title('Gender Distribution of Potential Members')\n",
    "plt.xlabel('Gender')\n",
    "plt.ylabel('Count')\n",
    "plt.tight_layout()\n",
    "plt.show()"
   ],
   "metadata": {
    "collapsed": false,
    "ExecuteTime": {
     "end_time": "2023-11-15T17:57:22.011775Z",
     "start_time": "2023-11-15T17:57:21.804777Z"
    }
   },
   "id": "31ece4cecb076eef"
  },
  {
   "cell_type": "code",
   "execution_count": 2724,
   "outputs": [
    {
     "data": {
      "text/plain": "<Figure size 800x600 with 1 Axes>",
      "image/png": "[encoded data removed]"
     },
     "metadata": {},
     "output_type": "display_data"
    }
   ],
   "source": [
    "# Example 3: State-wise Membership Eligibility\n",
    "plt.figure(figsize=(8, 6))\n",
    "sns.countplot(x='State', data=order_df_interested, palette='pastel')\n",
    "plt.title('State-wise Membership Eligibility')\n",
    "plt.xlabel('State')\n",
    "# un-encode the state\n",
    "# plt.xticks(np.arange(0, 16), le.inverse_transform(np.arange(0, 16)))\n",
    "plt.ylabel('Count')\n",
    "plt.tight_layout()\n",
    "plt.show()"
   ],
   "metadata": {
    "collapsed": false,
    "ExecuteTime": {
     "end_time": "2023-11-15T17:57:22.070424Z",
     "start_time": "2023-11-15T17:57:21.916431Z"
    }
   },
   "id": "73b0ff17e87e00f2"
  },
  {
   "cell_type": "code",
   "execution_count": 2725,
   "outputs": [
    {
     "data": {
      "text/plain": "<Figure size 800x600 with 1 Axes>",
      "image/png": "[encoded data removed]"
     },
     "metadata": {},
     "output_type": "display_data"
    }
   ],
   "source": [
    "# Example 4: Customer Type and Membership Eligibility\n",
    "plt.figure(figsize=(8, 6))\n",
    "sns.countplot(x='Customer type', data=order_df_interested, palette='Set2')\n",
    "plt.title('Customer Type and Membership Eligibility')\n",
    "plt.xlabel('Customer Type')\n",
    "plt.ylabel('Count')\n",
    "plt.tight_layout()\n",
    "plt.show()"
   ],
   "metadata": {
    "collapsed": false,
    "ExecuteTime": {
     "end_time": "2023-11-15T17:57:22.163472Z",
     "start_time": "2023-11-15T17:57:22.056244Z"
    }
   },
   "id": "262543157f345fd6"
  },
  {
   "cell_type": "code",
   "execution_count": 2726,
   "outputs": [
    {
     "data": {
      "text/plain": "<Figure size 2400x1200 with 1 Axes>",
      "image/png": "[encoded data removed]"
     },
     "metadata": {},
     "output_type": "display_data"
    }
   ],
   "source": [
    "# Example 5: Product-wise Membership Eligibility (DEEETING SOON)\n",
    "# make figure bigger than 8, 6\n",
    "plt.figure(figsize=(24, 12))\n",
    "sns.countplot(x='Product(s)', data=order_df_interested, palette='Set2')\n",
    "plt.title('Product-wise Membership Eligibility')\n",
    "plt.xlabel('Product(s)')\n",
    "plt.xticks(rotation=90)\n",
    "plt.ylabel('Count')\n",
    "# plt.tight_layout()\n",
    "plt.show()"
   ],
   "metadata": {
    "collapsed": false,
    "ExecuteTime": {
     "end_time": "2023-11-15T17:57:22.721137Z",
     "start_time": "2023-11-15T17:57:22.130074Z"
    }
   },
   "id": "77d7f9bc115acffa"
  },
  {
   "cell_type": "code",
   "execution_count": 2727,
   "outputs": [
    {
     "data": {
      "text/plain": "<Figure size 800x600 with 1 Axes>",
      "image/png": "[encoded data removed]"
     },
     "metadata": {},
     "output_type": "display_data"
    }
   ],
   "source": [
    "# Example 6: Membership Eligibility by Month\n",
    "plt.figure(figsize=(8, 6))\n",
    "sns.countplot(x=order_df_interested['Date'].dt.month, data=order_df_interested, palette='Set2')\n",
    "plt.title('Membership Eligibility by Month')\n",
    "plt.xlabel('Month')\n",
    "plt.ylabel('Count')\n",
    "plt.tight_layout()\n",
    "plt.show()"
   ],
   "metadata": {
    "collapsed": false,
    "ExecuteTime": {
     "end_time": "2023-11-15T17:57:22.954597Z",
     "start_time": "2023-11-15T17:57:22.724043Z"
    }
   },
   "id": "73d2fc39daf1c948"
  }
 ],
 "metadata": {
  "kernelspec": {
   "display_name": "Python 3",
   "language": "python",
   "name": "python3"
  },
  "language_info": {
   "codemirror_mode": {
    "name": "ipython",
    "version": 3
   },
   "file_extension": ".py",
   "mimetype": "text/x-python",
   "name": "python",
   "nbconvert_exporter": "python",
   "pygments_lexer": "ipython3",
   "version": "3.11.4"
  }
 },
 "nbformat": 4,
 "nbformat_minor": 5
}

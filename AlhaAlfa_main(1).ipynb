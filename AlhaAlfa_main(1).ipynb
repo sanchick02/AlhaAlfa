{
 "cells": [
  {
   "cell_type": "markdown",
   "id": "e085471683513eb0",
   "metadata": {
    "collapsed": false
   },
   "source": [
    "# Import Libraries"
   ]
  },
  {
   "cell_type": "code",
   "execution_count": 344,
   "id": "initial_id",
   "metadata": {
    "collapsed": true,
    "ExecuteTime": {
     "end_time": "2023-11-21T07:17:13.841629Z",
     "start_time": "2023-11-21T07:17:13.467791Z"
    }
   },
   "outputs": [],
   "source": [
    "import pandas as pd\n",
    "import numpy as np\n",
    "import random\n",
    "import warnings\n",
    "warnings.filterwarnings('ignore')\n",
    "from sklearn.metrics import accuracy_score\n",
    "from sklearn.linear_model import LogisticRegression\n",
    "from sklearn.preprocessing import LabelEncoder\n",
    "from sklearn.preprocessing import LabelBinarizer\n",
    "from sklearn.model_selection import train_test_split\n",
    "from sklearn.linear_model import LinearRegression\n",
    "from sklearn.metrics import mean_squared_error, r2_score\n",
    "from sklearn.cluster import DBSCAN\n",
    "from sklearn.discriminant_analysis import StandardScaler\n",
    "from sklearn.metrics import mean_absolute_error\n",
    "from sklearn.metrics import silhouette_score\n",
    "import matplotlib.pyplot as plt\n",
    "import seaborn as sns"
   ]
  },
  {
   "cell_type": "markdown",
   "id": "f523edf9c29fe612",
   "metadata": {
    "collapsed": false
   },
   "source": [
    "# Import Datasets"
   ]
  },
  {
   "cell_type": "code",
   "execution_count": 345,
   "id": "72b1bf274a7a5fad",
   "metadata": {
    "collapsed": false,
    "ExecuteTime": {
     "end_time": "2023-11-21T07:17:14.311637Z",
     "start_time": "2023-11-21T07:17:13.474055Z"
    }
   },
   "outputs": [
    {
     "data": {
      "text/plain": "                  Date  Order # N. Revenue (formatted)      Status  \\\n0  2023-10-26 14:50:17  16698.0                RM57.80  processing   \n1  2023-10-26 13:53:47  16697.0                RM32.90  processing   \n2  2023-10-26 13:04:17  16696.0                RM32.90  processing   \n3  2023-10-26 13:00:49  16695.0                RM82.70  processing   \n4  2023-10-26 12:47:36  16694.0                RM32.90  processing   \n\n                               Customer Customer type  \\\n0  AINAA SYAFIQAH ABD RAHMAN ABD RAHMAN           new   \n1                              Ja Hasim           new   \n2                             nasy anis           new   \n3   Herny erdawati binti Mohamad Rashed           new   \n4                      Suhaina Sulaiman           new   \n\n                                          Product(s)  Items sold  N. Revenue  \\\n0  1× LIP BOOSTER - WATERMELON, 1× LIP BOOSTER - ...         2.0        49.8   \n1                             1× LIP BOOSTER - MELON         1.0        24.9   \n2                             1× LIP BOOSTER - MELON         1.0        24.9   \n3  1× LIP BOOSTER - STRAWBERRY, 2× LIP BOOSTER - ...         3.0        74.7   \n4                        1× LIP BOOSTER - WATERMELON         1.0        24.9   \n\n      State  Age Gender  \n0     Perak   36      F  \n1     Johor   25      F  \n2    Melaka   31      F  \n3  Kelantan   31      F  \n4    Perlis   38      F  ",
      "text/html": "<div>\n<style scoped>\n    .dataframe tbody tr th:only-of-type {\n        vertical-align: middle;\n    }\n\n    .dataframe tbody tr th {\n        vertical-align: top;\n    }\n\n    .dataframe thead th {\n        text-align: right;\n    }\n</style>\n<table border=\"1\" class=\"dataframe\">\n  <thead>\n    <tr style=\"text-align: right;\">\n      <th></th>\n      <th>Date</th>\n      <th>Order #</th>\n      <th>N. Revenue (formatted)</th>\n      <th>Status</th>\n      <th>Customer</th>\n      <th>Customer type</th>\n      <th>Product(s)</th>\n      <th>Items sold</th>\n      <th>N. Revenue</th>\n      <th>State</th>\n      <th>Age</th>\n      <th>Gender</th>\n    </tr>\n  </thead>\n  <tbody>\n    <tr>\n      <th>0</th>\n      <td>2023-10-26 14:50:17</td>\n      <td>16698.0</td>\n      <td>RM57.80</td>\n      <td>processing</td>\n      <td>AINAA SYAFIQAH ABD RAHMAN ABD RAHMAN</td>\n      <td>new</td>\n      <td>1× LIP BOOSTER - WATERMELON, 1× LIP BOOSTER - ...</td>\n      <td>2.0</td>\n      <td>49.8</td>\n      <td>Perak</td>\n      <td>36</td>\n      <td>F</td>\n    </tr>\n    <tr>\n      <th>1</th>\n      <td>2023-10-26 13:53:47</td>\n      <td>16697.0</td>\n      <td>RM32.90</td>\n      <td>processing</td>\n      <td>Ja Hasim</td>\n      <td>new</td>\n      <td>1× LIP BOOSTER - MELON</td>\n      <td>1.0</td>\n      <td>24.9</td>\n      <td>Johor</td>\n      <td>25</td>\n      <td>F</td>\n    </tr>\n    <tr>\n      <th>2</th>\n      <td>2023-10-26 13:04:17</td>\n      <td>16696.0</td>\n      <td>RM32.90</td>\n      <td>processing</td>\n      <td>nasy anis</td>\n      <td>new</td>\n      <td>1× LIP BOOSTER - MELON</td>\n      <td>1.0</td>\n      <td>24.9</td>\n      <td>Melaka</td>\n      <td>31</td>\n      <td>F</td>\n    </tr>\n    <tr>\n      <th>3</th>\n      <td>2023-10-26 13:00:49</td>\n      <td>16695.0</td>\n      <td>RM82.70</td>\n      <td>processing</td>\n      <td>Herny erdawati binti Mohamad Rashed</td>\n      <td>new</td>\n      <td>1× LIP BOOSTER - STRAWBERRY, 2× LIP BOOSTER - ...</td>\n      <td>3.0</td>\n      <td>74.7</td>\n      <td>Kelantan</td>\n      <td>31</td>\n      <td>F</td>\n    </tr>\n    <tr>\n      <th>4</th>\n      <td>2023-10-26 12:47:36</td>\n      <td>16694.0</td>\n      <td>RM32.90</td>\n      <td>processing</td>\n      <td>Suhaina Sulaiman</td>\n      <td>new</td>\n      <td>1× LIP BOOSTER - WATERMELON</td>\n      <td>1.0</td>\n      <td>24.9</td>\n      <td>Perlis</td>\n      <td>38</td>\n      <td>F</td>\n    </tr>\n  </tbody>\n</table>\n</div>"
     },
     "metadata": {},
     "output_type": "display_data"
    }
   ],
   "source": [
    "df_or = pd.read_csv('datasets/OrderReports.csv')\n",
    "display(df_or.head())"
   ]
  },
  {
   "cell_type": "code",
   "execution_count": 346,
   "id": "14210bee85561a09",
   "metadata": {
    "collapsed": false,
    "ExecuteTime": {
     "end_time": "2023-11-21T07:17:14.316021Z",
     "start_time": "2023-11-21T07:17:13.493641Z"
    }
   },
   "outputs": [
    {
     "data": {
      "text/plain": "                                        Product    SKU  Items sold  \\\n0                      LIP BOOSTER - WATERMELON  00597        2590   \n1                      LIP BOOSTER - STRAWBERRY  00602        2563   \n2  COLLAGEN SERUM FOUNDATION ALHA ALFA - MEDIUM  00608        1067   \n3   COLLAGEN SERUM FOUNDATION ALHA ALFA - LIGHT  00607         728   \n4                           LIP BOOSTER - MELON  00610         651   \n\n   N. Revenue  Orders    Status  Stock  \n0     63270.9    2299  In stock     11  \n1     63768.9    2280  In stock    134  \n2      7435.1    1005  In stock     33  \n3      7135.7     690  In stock     41  \n4     16209.9     587  In stock    177  ",
      "text/html": "<div>\n<style scoped>\n    .dataframe tbody tr th:only-of-type {\n        vertical-align: middle;\n    }\n\n    .dataframe tbody tr th {\n        vertical-align: top;\n    }\n\n    .dataframe thead th {\n        text-align: right;\n    }\n</style>\n<table border=\"1\" class=\"dataframe\">\n  <thead>\n    <tr style=\"text-align: right;\">\n      <th></th>\n      <th>Product</th>\n      <th>SKU</th>\n      <th>Items sold</th>\n      <th>N. Revenue</th>\n      <th>Orders</th>\n      <th>Status</th>\n      <th>Stock</th>\n    </tr>\n  </thead>\n  <tbody>\n    <tr>\n      <th>0</th>\n      <td>LIP BOOSTER - WATERMELON</td>\n      <td>00597</td>\n      <td>2590</td>\n      <td>63270.9</td>\n      <td>2299</td>\n      <td>In stock</td>\n      <td>11</td>\n    </tr>\n    <tr>\n      <th>1</th>\n      <td>LIP BOOSTER - STRAWBERRY</td>\n      <td>00602</td>\n      <td>2563</td>\n      <td>63768.9</td>\n      <td>2280</td>\n      <td>In stock</td>\n      <td>134</td>\n    </tr>\n    <tr>\n      <th>2</th>\n      <td>COLLAGEN SERUM FOUNDATION ALHA ALFA - MEDIUM</td>\n      <td>00608</td>\n      <td>1067</td>\n      <td>7435.1</td>\n      <td>1005</td>\n      <td>In stock</td>\n      <td>33</td>\n    </tr>\n    <tr>\n      <th>3</th>\n      <td>COLLAGEN SERUM FOUNDATION ALHA ALFA - LIGHT</td>\n      <td>00607</td>\n      <td>728</td>\n      <td>7135.7</td>\n      <td>690</td>\n      <td>In stock</td>\n      <td>41</td>\n    </tr>\n    <tr>\n      <th>4</th>\n      <td>LIP BOOSTER - MELON</td>\n      <td>00610</td>\n      <td>651</td>\n      <td>16209.9</td>\n      <td>587</td>\n      <td>In stock</td>\n      <td>177</td>\n    </tr>\n  </tbody>\n</table>\n</div>"
     },
     "metadata": {},
     "output_type": "display_data"
    }
   ],
   "source": [
    "df_pl = pd.read_csv('datasets/ProductList.csv')\n",
    "display(df_pl.head())"
   ]
  },
  {
   "cell_type": "code",
   "execution_count": 347,
   "id": "86b5cc84a7d4e1ac",
   "metadata": {
    "collapsed": false,
    "ExecuteTime": {
     "end_time": "2023-11-21T07:17:14.316207Z",
     "start_time": "2023-11-21T07:17:13.498887Z"
    }
   },
   "outputs": [
    {
     "data": {
      "text/plain": "                  Date  Orders  Gross sales  Returns  Coupons  Net sales  \\\n0  2023-10-26 00:00:00      12        917.7      0.0      0.0      917.7   \n1  2023-10-25 00:00:00      31       1664.7      0.0      0.0     1664.7   \n2  2023-10-24 00:00:00      11        803.0      0.0      0.0      803.0   \n3  2023-10-23 00:00:00      16        867.5      0.0      0.0      867.5   \n4  2023-10-22 00:00:00      17        986.9      0.0      0.0      986.9   \n\n   Taxes  Shipping  Total sales  \n0    0.0     100.0       1017.7  \n1    0.0     264.0       1928.7  \n2    0.0      96.0        899.0  \n3    0.0     136.0       1003.5  \n4    0.0     144.0       1130.9  ",
      "text/html": "<div>\n<style scoped>\n    .dataframe tbody tr th:only-of-type {\n        vertical-align: middle;\n    }\n\n    .dataframe tbody tr th {\n        vertical-align: top;\n    }\n\n    .dataframe thead th {\n        text-align: right;\n    }\n</style>\n<table border=\"1\" class=\"dataframe\">\n  <thead>\n    <tr style=\"text-align: right;\">\n      <th></th>\n      <th>Date</th>\n      <th>Orders</th>\n      <th>Gross sales</th>\n      <th>Returns</th>\n      <th>Coupons</th>\n      <th>Net sales</th>\n      <th>Taxes</th>\n      <th>Shipping</th>\n      <th>Total sales</th>\n    </tr>\n  </thead>\n  <tbody>\n    <tr>\n      <th>0</th>\n      <td>2023-10-26 00:00:00</td>\n      <td>12</td>\n      <td>917.7</td>\n      <td>0.0</td>\n      <td>0.0</td>\n      <td>917.7</td>\n      <td>0.0</td>\n      <td>100.0</td>\n      <td>1017.7</td>\n    </tr>\n    <tr>\n      <th>1</th>\n      <td>2023-10-25 00:00:00</td>\n      <td>31</td>\n      <td>1664.7</td>\n      <td>0.0</td>\n      <td>0.0</td>\n      <td>1664.7</td>\n      <td>0.0</td>\n      <td>264.0</td>\n      <td>1928.7</td>\n    </tr>\n    <tr>\n      <th>2</th>\n      <td>2023-10-24 00:00:00</td>\n      <td>11</td>\n      <td>803.0</td>\n      <td>0.0</td>\n      <td>0.0</td>\n      <td>803.0</td>\n      <td>0.0</td>\n      <td>96.0</td>\n      <td>899.0</td>\n    </tr>\n    <tr>\n      <th>3</th>\n      <td>2023-10-23 00:00:00</td>\n      <td>16</td>\n      <td>867.5</td>\n      <td>0.0</td>\n      <td>0.0</td>\n      <td>867.5</td>\n      <td>0.0</td>\n      <td>136.0</td>\n      <td>1003.5</td>\n    </tr>\n    <tr>\n      <th>4</th>\n      <td>2023-10-22 00:00:00</td>\n      <td>17</td>\n      <td>986.9</td>\n      <td>0.0</td>\n      <td>0.0</td>\n      <td>986.9</td>\n      <td>0.0</td>\n      <td>144.0</td>\n      <td>1130.9</td>\n    </tr>\n  </tbody>\n</table>\n</div>"
     },
     "metadata": {},
     "output_type": "display_data"
    }
   ],
   "source": [
    "df_rr = pd.read_csv('datasets/RevenueReport.csv')\n",
    "display(df_rr.head())"
   ]
  },
  {
   "cell_type": "code",
   "execution_count": 348,
   "id": "7eaec18aa00d7dee",
   "metadata": {
    "collapsed": false,
    "ExecuteTime": {
     "end_time": "2023-11-21T07:17:14.339374Z",
     "start_time": "2023-11-21T07:17:13.504733Z"
    }
   },
   "outputs": [
    {
     "data": {
      "text/plain": "                          product_name  product_price\n0                          LIP BOOSTER           24.9\n1  COLLAGEN SERUM FOUNDATION ALHA ALFA           49.9\n2                SET DIMENSI ALHA ALFA           79.9\n3         MAGIC GLOW LIP TREATMENT OIL           24.9\n4     ROYAL PROPOLIS POWDER FOUNDATION           59.9",
      "text/html": "<div>\n<style scoped>\n    .dataframe tbody tr th:only-of-type {\n        vertical-align: middle;\n    }\n\n    .dataframe tbody tr th {\n        vertical-align: top;\n    }\n\n    .dataframe thead th {\n        text-align: right;\n    }\n</style>\n<table border=\"1\" class=\"dataframe\">\n  <thead>\n    <tr style=\"text-align: right;\">\n      <th></th>\n      <th>product_name</th>\n      <th>product_price</th>\n    </tr>\n  </thead>\n  <tbody>\n    <tr>\n      <th>0</th>\n      <td>LIP BOOSTER</td>\n      <td>24.9</td>\n    </tr>\n    <tr>\n      <th>1</th>\n      <td>COLLAGEN SERUM FOUNDATION ALHA ALFA</td>\n      <td>49.9</td>\n    </tr>\n    <tr>\n      <th>2</th>\n      <td>SET DIMENSI ALHA ALFA</td>\n      <td>79.9</td>\n    </tr>\n    <tr>\n      <th>3</th>\n      <td>MAGIC GLOW LIP TREATMENT OIL</td>\n      <td>24.9</td>\n    </tr>\n    <tr>\n      <th>4</th>\n      <td>ROYAL PROPOLIS POWDER FOUNDATION</td>\n      <td>59.9</td>\n    </tr>\n  </tbody>\n</table>\n</div>"
     },
     "metadata": {},
     "output_type": "display_data"
    }
   ],
   "source": [
    "df_wb = pd.read_csv('datasets/website_bestsellers.csv')\n",
    "display(df_wb.head())"
   ]
  },
  {
   "cell_type": "code",
   "execution_count": 349,
   "id": "74d7d88c575bb28a",
   "metadata": {
    "collapsed": false,
    "ExecuteTime": {
     "end_time": "2023-11-21T07:17:14.350781Z",
     "start_time": "2023-11-21T07:17:13.509878Z"
    }
   },
   "outputs": [
    {
     "data": {
      "text/plain": "                                        product_name  product_price  \\\n0                   ALHA ALFA LIP BOOSTER SERUM Lips           24.9   \n1             ALHA ALFA MAGIC GLOW LIP TREATMENT OIL           24.9   \n2   ALHA ALFA ROYAL PROPOLIS FOUNDATION PERFECT GLOW           69.9   \n3  ALHA ALFA COMPACT POWDER ROYAL PROPOLIS FOUNDA...           59.9   \n4                     ALHA ALFA SETTING SPRAY MAKEUP           59.9   \n\n   items_sold  rating  rating_count  \n0      104400     4.9         27000  \n1       35400     4.8          8800  \n2       30400     4.9          8300  \n3       27400     4.9         27600  \n4       23500     4.9          6400  ",
      "text/html": "<div>\n<style scoped>\n    .dataframe tbody tr th:only-of-type {\n        vertical-align: middle;\n    }\n\n    .dataframe tbody tr th {\n        vertical-align: top;\n    }\n\n    .dataframe thead th {\n        text-align: right;\n    }\n</style>\n<table border=\"1\" class=\"dataframe\">\n  <thead>\n    <tr style=\"text-align: right;\">\n      <th></th>\n      <th>product_name</th>\n      <th>product_price</th>\n      <th>items_sold</th>\n      <th>rating</th>\n      <th>rating_count</th>\n    </tr>\n  </thead>\n  <tbody>\n    <tr>\n      <th>0</th>\n      <td>ALHA ALFA LIP BOOSTER SERUM Lips</td>\n      <td>24.9</td>\n      <td>104400</td>\n      <td>4.9</td>\n      <td>27000</td>\n    </tr>\n    <tr>\n      <th>1</th>\n      <td>ALHA ALFA MAGIC GLOW LIP TREATMENT OIL</td>\n      <td>24.9</td>\n      <td>35400</td>\n      <td>4.8</td>\n      <td>8800</td>\n    </tr>\n    <tr>\n      <th>2</th>\n      <td>ALHA ALFA ROYAL PROPOLIS FOUNDATION PERFECT GLOW</td>\n      <td>69.9</td>\n      <td>30400</td>\n      <td>4.9</td>\n      <td>8300</td>\n    </tr>\n    <tr>\n      <th>3</th>\n      <td>ALHA ALFA COMPACT POWDER ROYAL PROPOLIS FOUNDA...</td>\n      <td>59.9</td>\n      <td>27400</td>\n      <td>4.9</td>\n      <td>27600</td>\n    </tr>\n    <tr>\n      <th>4</th>\n      <td>ALHA ALFA SETTING SPRAY MAKEUP</td>\n      <td>59.9</td>\n      <td>23500</td>\n      <td>4.9</td>\n      <td>6400</td>\n    </tr>\n  </tbody>\n</table>\n</div>"
     },
     "metadata": {},
     "output_type": "display_data"
    }
   ],
   "source": [
    "df_ttb = pd.read_csv('datasets/tiktok_bestsellers.csv')\n",
    "display(df_ttb.head())"
   ]
  },
  {
   "cell_type": "markdown",
   "id": "7026e8753424000d",
   "metadata": {
    "collapsed": false
   },
   "source": [
    "# Identifying and Handling Missing Values, Duplicate Data, and Incorrect Data Types"
   ]
  },
  {
   "cell_type": "markdown",
   "source": [
    "## Find out the number of rows and columns in each dataset\n"
   ],
   "metadata": {
    "collapsed": false
   },
   "id": "4834b5569ce651ea"
  },
  {
   "cell_type": "code",
   "execution_count": 350,
   "id": "7ff13d4b8769739b",
   "metadata": {
    "collapsed": false,
    "ExecuteTime": {
     "end_time": "2023-11-21T07:17:14.351343Z",
     "start_time": "2023-11-21T07:17:13.514848Z"
    }
   },
   "outputs": [
    {
     "data": {
      "text/plain": "'OrderReport: '"
     },
     "metadata": {},
     "output_type": "display_data"
    },
    {
     "data": {
      "text/plain": "(8014, 12)"
     },
     "metadata": {},
     "output_type": "display_data"
    },
    {
     "data": {
      "text/plain": "'ProductList: '"
     },
     "metadata": {},
     "output_type": "display_data"
    },
    {
     "data": {
      "text/plain": "(111, 7)"
     },
     "metadata": {},
     "output_type": "display_data"
    },
    {
     "data": {
      "text/plain": "'RevenueReport: '"
     },
     "metadata": {},
     "output_type": "display_data"
    },
    {
     "data": {
      "text/plain": "(299, 9)"
     },
     "metadata": {},
     "output_type": "display_data"
    },
    {
     "data": {
      "text/plain": "'WebsiteBestsellers: '"
     },
     "metadata": {},
     "output_type": "display_data"
    },
    {
     "data": {
      "text/plain": "(37, 2)"
     },
     "metadata": {},
     "output_type": "display_data"
    },
    {
     "data": {
      "text/plain": "'TiktokBestsellers: '"
     },
     "metadata": {},
     "output_type": "display_data"
    },
    {
     "data": {
      "text/plain": "(23, 5)"
     },
     "metadata": {},
     "output_type": "display_data"
    }
   ],
   "source": [
    "display(\"OrderReport: \", df_or.shape)\n",
    "display(\"ProductList: \", df_pl.shape)\n",
    "display(\"RevenueReport: \", df_rr.shape)\n",
    "display(\"WebsiteBestsellers: \", df_wb.shape)\n",
    "display(\"TiktokBestsellers: \", df_ttb.shape)"
   ]
  },
  {
   "cell_type": "markdown",
   "source": [
    "## Find out the number of missing values in each dataset"
   ],
   "metadata": {
    "collapsed": false
   },
   "id": "674979163f228e86"
  },
  {
   "cell_type": "code",
   "execution_count": 351,
   "id": "6ba89f48143f60f5",
   "metadata": {
    "collapsed": false,
    "ExecuteTime": {
     "end_time": "2023-11-21T07:17:14.365103Z",
     "start_time": "2023-11-21T07:17:13.520619Z"
    }
   },
   "outputs": [
    {
     "data": {
      "text/plain": "'OrderReport:'"
     },
     "metadata": {},
     "output_type": "display_data"
    },
    {
     "data": {
      "text/plain": "Date                      0\nOrder #                   0\nN. Revenue (formatted)    0\nStatus                    0\nCustomer                  0\nCustomer type             0\nProduct(s)                0\nItems sold                0\nN. Revenue                0\nState                     0\nAge                       0\nGender                    0\ndtype: int64"
     },
     "metadata": {},
     "output_type": "display_data"
    },
    {
     "data": {
      "text/plain": "'ProductList:'"
     },
     "metadata": {},
     "output_type": "display_data"
    },
    {
     "data": {
      "text/plain": "Product       0\nSKU           0\nItems sold    0\nN. Revenue    0\nOrders        0\nStatus        0\nStock         0\ndtype: int64"
     },
     "metadata": {},
     "output_type": "display_data"
    },
    {
     "data": {
      "text/plain": "'RevenueReport:'"
     },
     "metadata": {},
     "output_type": "display_data"
    },
    {
     "data": {
      "text/plain": "Date           0\nOrders         0\nGross sales    0\nReturns        0\nCoupons        0\nNet sales      0\nTaxes          0\nShipping       0\nTotal sales    0\ndtype: int64"
     },
     "metadata": {},
     "output_type": "display_data"
    },
    {
     "data": {
      "text/plain": "'WebsiteBestsellers:'"
     },
     "metadata": {},
     "output_type": "display_data"
    },
    {
     "data": {
      "text/plain": "product_name     0\nproduct_price    0\ndtype: int64"
     },
     "metadata": {},
     "output_type": "display_data"
    },
    {
     "data": {
      "text/plain": "'TiktokBestsellers:'"
     },
     "metadata": {},
     "output_type": "display_data"
    },
    {
     "data": {
      "text/plain": "product_name     0\nproduct_price    0\nitems_sold       0\nrating           0\nrating_count     0\ndtype: int64"
     },
     "metadata": {},
     "output_type": "display_data"
    }
   ],
   "source": [
    "display(\"OrderReport:\", df_or.isnull().sum())\n",
    "display(\"ProductList:\", df_pl.isnull().sum())\n",
    "display(\"RevenueReport:\", df_rr.isnull().sum())\n",
    "display(\"WebsiteBestsellers:\", df_wb.isnull().sum())\n",
    "display(\"TiktokBestsellers:\", df_ttb.isnull().sum())"
   ]
  },
  {
   "cell_type": "markdown",
   "source": [
    "## Find out the data types of each column in each dataset"
   ],
   "metadata": {
    "collapsed": false
   },
   "id": "d7a6db1f75302d"
  },
  {
   "cell_type": "code",
   "execution_count": 352,
   "id": "f6b6d6bd86b1ef7",
   "metadata": {
    "collapsed": false,
    "ExecuteTime": {
     "end_time": "2023-11-21T07:17:14.369564Z",
     "start_time": "2023-11-21T07:17:13.533936Z"
    }
   },
   "outputs": [
    {
     "data": {
      "text/plain": "'OrderReport:'"
     },
     "metadata": {},
     "output_type": "display_data"
    },
    {
     "data": {
      "text/plain": "Date                       object\nOrder #                   float64\nN. Revenue (formatted)     object\nStatus                     object\nCustomer                   object\nCustomer type              object\nProduct(s)                 object\nItems sold                float64\nN. Revenue                float64\nState                      object\nAge                         int64\nGender                     object\ndtype: object"
     },
     "metadata": {},
     "output_type": "display_data"
    },
    {
     "data": {
      "text/plain": "'ProductList:'"
     },
     "metadata": {},
     "output_type": "display_data"
    },
    {
     "data": {
      "text/plain": "Product        object\nSKU            object\nItems sold      int64\nN. Revenue    float64\nOrders          int64\nStatus         object\nStock           int64\ndtype: object"
     },
     "metadata": {},
     "output_type": "display_data"
    },
    {
     "data": {
      "text/plain": "'RevenueReport:'"
     },
     "metadata": {},
     "output_type": "display_data"
    },
    {
     "data": {
      "text/plain": "Date            object\nOrders           int64\nGross sales    float64\nReturns        float64\nCoupons        float64\nNet sales      float64\nTaxes          float64\nShipping       float64\nTotal sales    float64\ndtype: object"
     },
     "metadata": {},
     "output_type": "display_data"
    },
    {
     "data": {
      "text/plain": "'WebsiteBestsellers:'"
     },
     "metadata": {},
     "output_type": "display_data"
    },
    {
     "data": {
      "text/plain": "product_name      object\nproduct_price    float64\ndtype: object"
     },
     "metadata": {},
     "output_type": "display_data"
    },
    {
     "data": {
      "text/plain": "'TiktokBestsellers:'"
     },
     "metadata": {},
     "output_type": "display_data"
    },
    {
     "data": {
      "text/plain": "product_name      object\nproduct_price    float64\nitems_sold         int64\nrating           float64\nrating_count       int64\ndtype: object"
     },
     "metadata": {},
     "output_type": "display_data"
    }
   ],
   "source": [
    "display(\"OrderReport:\", df_or.dtypes)\n",
    "display(\"ProductList:\", df_pl.dtypes)\n",
    "display(\"RevenueReport:\", df_rr.dtypes)\n",
    "display(\"WebsiteBestsellers:\", df_wb.dtypes)\n",
    "display(\"TiktokBestsellers:\", df_ttb.dtypes)"
   ]
  },
  {
   "cell_type": "markdown",
   "source": [
    "## Find out the number of duplicate rows in each dataset"
   ],
   "metadata": {
    "collapsed": false
   },
   "id": "9f68a833a0cb00d7"
  },
  {
   "cell_type": "code",
   "execution_count": 353,
   "id": "b9e7c5cf345f3058",
   "metadata": {
    "collapsed": false,
    "ExecuteTime": {
     "end_time": "2023-11-21T07:17:14.379398Z",
     "start_time": "2023-11-21T07:17:13.541884Z"
    }
   },
   "outputs": [
    {
     "name": "stdout",
     "output_type": "stream",
     "text": [
      "OrderReport:  0\n",
      "ProductList:  0\n",
      "RevenueReport:  0\n",
      "WebsiteBestsellers:  0\n",
      "TiktokBestsellers:  0\n"
     ]
    }
   ],
   "source": [
    "print(\"OrderReport: \", df_or.duplicated().sum())\n",
    "print(\"ProductList: \", df_pl.duplicated().sum())\n",
    "print(\"RevenueReport: \", df_rr.duplicated().sum())\n",
    "print(\"WebsiteBestsellers: \", df_wb.duplicated().sum())\n",
    "print(\"TiktokBestsellers: \", df_ttb.duplicated().sum())"
   ]
  },
  {
   "cell_type": "markdown",
   "source": [
    "## Check Empty SKU in ProductList dataset\n"
   ],
   "metadata": {
    "collapsed": false
   },
   "id": "2de961c83b774053"
  },
  {
   "cell_type": "code",
   "execution_count": 354,
   "id": "72b43a9eb339b16f",
   "metadata": {
    "collapsed": false,
    "ExecuteTime": {
     "end_time": "2023-11-21T07:17:14.379519Z",
     "start_time": "2023-11-21T07:17:13.550330Z"
    }
   },
   "outputs": [
    {
     "name": "stdout",
     "output_type": "stream",
     "text": [
      "Empty DataFrame\n",
      "Columns: [Product, SKU, Items sold, N. Revenue, Orders, Status, Stock]\n",
      "Index: []\n"
     ]
    }
   ],
   "source": [
    "print(df_pl[df_pl['SKU'].isnull()])"
   ]
  },
  {
   "cell_type": "markdown",
   "source": [
    "## Assign a random SKU to the empty SKU"
   ],
   "metadata": {
    "collapsed": false
   },
   "id": "48fd02d422319300"
  },
  {
   "cell_type": "code",
   "execution_count": 355,
   "outputs": [
    {
     "name": "stdout",
     "output_type": "stream",
     "text": [
      "Empty DataFrame\n",
      "Columns: [Product, SKU, Items sold, N. Revenue, Orders, Status, Stock]\n",
      "Index: []\n"
     ]
    }
   ],
   "source": [
    "random_sku = np.random.randint(10000, 99999)\n",
    "while random_sku in df_pl['SKU']:\n",
    "    random_sku = np.random.randint(10000, 99999)\n",
    "    \n",
    "df_pl['SKU'] = df_pl['SKU'].fillna(random_sku)\n",
    "print(df_pl[df_pl['SKU'].isnull()])\n",
    "\n",
    "# save to csv\n",
    "df_pl.to_csv('datasets/ProductList.csv', index=False)"
   ],
   "metadata": {
    "collapsed": false,
    "ExecuteTime": {
     "end_time": "2023-11-21T07:17:14.388833Z",
     "start_time": "2023-11-21T07:17:13.553460Z"
    }
   },
   "id": "39d24ede35b275e0"
  },
  {
   "cell_type": "markdown",
   "id": "4bb71fbc1fc03ba5",
   "metadata": {
    "collapsed": false
   },
   "source": [
    "# Data Augmentation"
   ]
  },
  {
   "cell_type": "markdown",
   "id": "e662779187275b7b",
   "metadata": {
    "collapsed": false
   },
   "source": [
    "## Add a new column to the OrderReport dataset called 'State' and populate it with random states"
   ]
  },
  {
   "cell_type": "code",
   "execution_count": 356,
   "id": "241b5790915b6ce0",
   "metadata": {
    "collapsed": false,
    "ExecuteTime": {
     "end_time": "2023-11-21T07:17:14.397774Z",
     "start_time": "2023-11-21T07:17:13.558364Z"
    }
   },
   "outputs": [],
   "source": [
    "# Malaysian States\n",
    "states = ['Johor', 'Kedah', 'Kelantan', 'Labuan', 'Melaka', 'Negeri Sembilan', 'Pahang', 'Penang', 'Perak', 'Perlis', 'Putrajaya', 'Sabah', 'Sarawak', 'Selangor', 'Terengganu', 'WP Kuala Lumpur']\n",
    "\n",
    "# states distribution\n",
    "states_distribution = {\n",
    "    'Johor': 0.6,\n",
    "    'Kedah': 0.5,\n",
    "    'Kelantan': 0.5,\n",
    "    'Labuan': 0.01,\n",
    "    'Melaka': 0.6,\n",
    "    'Negeri Sembilan': 0.6,\n",
    "    'Pahang': 0.4,\n",
    "    'Penang': 0.3,\n",
    "    'Perak': 0.4,\n",
    "    'Perlis': 0.5,\n",
    "    'Putrajaya': 0.06,\n",
    "    'Sabah': 0.02,\n",
    "    'Sarawak': 0.02,\n",
    "    'Selangor': 0.8,\n",
    "    'Terengganu': 0.4,\n",
    "    'WP Kuala Lumpur': 0.2\n",
    "}\n",
    "\n",
    "# Initialize random number generator with a fixed seed for consistency\n",
    "random.seed(42)\n",
    "\n",
    "# Sample the same number of states as rows in your existing dataset\n",
    "existing_rows = len(df_or)\n",
    "sampled_states = random.choices(states, weights=states_distribution.values(), k=existing_rows)\n",
    "# Assign the sampled states to your existing DataFrame\n",
    "df_or['State'] = sampled_states\n",
    "\n",
    "# Save the DataFrame to a CSV file\n",
    "df_or.to_csv('datasets/OrderReports.csv', index=False)"
   ]
  },
  {
   "cell_type": "markdown",
   "id": "7d095c75cd680ae9",
   "metadata": {
    "collapsed": false
   },
   "source": [
    "## Adding a new column called to the OrderReport dataset called 'Age' and populate it with random ages"
   ]
  },
  {
   "cell_type": "code",
   "execution_count": 357,
   "id": "6623ee1f78758306",
   "metadata": {
    "collapsed": false,
    "ExecuteTime": {
     "end_time": "2023-11-21T07:17:14.465066Z",
     "start_time": "2023-11-21T07:17:13.589059Z"
    }
   },
   "outputs": [
    {
     "data": {
      "text/plain": "                  Date  Order # N. Revenue (formatted)      Status  \\\n0  2023-10-26 14:50:17  16698.0                RM57.80  processing   \n1  2023-10-26 13:53:47  16697.0                RM32.90  processing   \n2  2023-10-26 13:04:17  16696.0                RM32.90  processing   \n3  2023-10-26 13:00:49  16695.0                RM82.70  processing   \n4  2023-10-26 12:47:36  16694.0                RM32.90  processing   \n\n                               Customer Customer type  \\\n0  AINAA SYAFIQAH ABD RAHMAN ABD RAHMAN           new   \n1                              Ja Hasim           new   \n2                             nasy anis           new   \n3   Herny erdawati binti Mohamad Rashed           new   \n4                      Suhaina Sulaiman           new   \n\n                                          Product(s)  Items sold  N. Revenue  \\\n0  1× LIP BOOSTER - WATERMELON, 1× LIP BOOSTER - ...         2.0        49.8   \n1                             1× LIP BOOSTER - MELON         1.0        24.9   \n2                             1× LIP BOOSTER - MELON         1.0        24.9   \n3  1× LIP BOOSTER - STRAWBERRY, 2× LIP BOOSTER - ...         3.0        74.7   \n4                        1× LIP BOOSTER - WATERMELON         1.0        24.9   \n\n      State  Age Gender  \n0     Perak   36      F  \n1     Johor   25      F  \n2    Melaka   31      F  \n3  Kelantan   31      F  \n4    Perlis   38      F  ",
      "text/html": "<div>\n<style scoped>\n    .dataframe tbody tr th:only-of-type {\n        vertical-align: middle;\n    }\n\n    .dataframe tbody tr th {\n        vertical-align: top;\n    }\n\n    .dataframe thead th {\n        text-align: right;\n    }\n</style>\n<table border=\"1\" class=\"dataframe\">\n  <thead>\n    <tr style=\"text-align: right;\">\n      <th></th>\n      <th>Date</th>\n      <th>Order #</th>\n      <th>N. Revenue (formatted)</th>\n      <th>Status</th>\n      <th>Customer</th>\n      <th>Customer type</th>\n      <th>Product(s)</th>\n      <th>Items sold</th>\n      <th>N. Revenue</th>\n      <th>State</th>\n      <th>Age</th>\n      <th>Gender</th>\n    </tr>\n  </thead>\n  <tbody>\n    <tr>\n      <th>0</th>\n      <td>2023-10-26 14:50:17</td>\n      <td>16698.0</td>\n      <td>RM57.80</td>\n      <td>processing</td>\n      <td>AINAA SYAFIQAH ABD RAHMAN ABD RAHMAN</td>\n      <td>new</td>\n      <td>1× LIP BOOSTER - WATERMELON, 1× LIP BOOSTER - ...</td>\n      <td>2.0</td>\n      <td>49.8</td>\n      <td>Perak</td>\n      <td>36</td>\n      <td>F</td>\n    </tr>\n    <tr>\n      <th>1</th>\n      <td>2023-10-26 13:53:47</td>\n      <td>16697.0</td>\n      <td>RM32.90</td>\n      <td>processing</td>\n      <td>Ja Hasim</td>\n      <td>new</td>\n      <td>1× LIP BOOSTER - MELON</td>\n      <td>1.0</td>\n      <td>24.9</td>\n      <td>Johor</td>\n      <td>25</td>\n      <td>F</td>\n    </tr>\n    <tr>\n      <th>2</th>\n      <td>2023-10-26 13:04:17</td>\n      <td>16696.0</td>\n      <td>RM32.90</td>\n      <td>processing</td>\n      <td>nasy anis</td>\n      <td>new</td>\n      <td>1× LIP BOOSTER - MELON</td>\n      <td>1.0</td>\n      <td>24.9</td>\n      <td>Melaka</td>\n      <td>31</td>\n      <td>F</td>\n    </tr>\n    <tr>\n      <th>3</th>\n      <td>2023-10-26 13:00:49</td>\n      <td>16695.0</td>\n      <td>RM82.70</td>\n      <td>processing</td>\n      <td>Herny erdawati binti Mohamad Rashed</td>\n      <td>new</td>\n      <td>1× LIP BOOSTER - STRAWBERRY, 2× LIP BOOSTER - ...</td>\n      <td>3.0</td>\n      <td>74.7</td>\n      <td>Kelantan</td>\n      <td>31</td>\n      <td>F</td>\n    </tr>\n    <tr>\n      <th>4</th>\n      <td>2023-10-26 12:47:36</td>\n      <td>16694.0</td>\n      <td>RM32.90</td>\n      <td>processing</td>\n      <td>Suhaina Sulaiman</td>\n      <td>new</td>\n      <td>1× LIP BOOSTER - WATERMELON</td>\n      <td>1.0</td>\n      <td>24.9</td>\n      <td>Perlis</td>\n      <td>38</td>\n      <td>F</td>\n    </tr>\n  </tbody>\n</table>\n</div>"
     },
     "metadata": {},
     "output_type": "display_data"
    },
    {
     "data": {
      "text/plain": "36    618\n34    611\n32    608\n35    593\n33    575\n31    573\n37    336\n28    315\n27    312\n45    306\n40    305\n41    304\n26    300\n29    297\n38    296\n39    288\n42    286\n30    283\n44    282\n25    265\n43    261\nName: Age, dtype: int64"
     },
     "metadata": {},
     "output_type": "display_data"
    }
   ],
   "source": [
    "age_distribution = [25, 26, 27, 28, 29, 30, 31, 32, 33, 34, 35, 36, 37, 38, 39, 40, 41, 42, 43, 44, 45]\n",
    "# the percentage of customers in each age group\n",
    "age_distribution_percentage = [0.05, 0.05, 0.05, 0.05, 0.05, 0.05,\n",
    "                               0.10, 0.10, 0.10, 0.10, 0.10, 0.10, 0.05, 0.05, 0.05, 0.05, 0.05, 0.05, 0.05, 0.05, 0.05]  # 100%\n",
    "\n",
    "random.seed(42)\n",
    "\n",
    "# Sample the same number of customers as rows in your existing dataset\n",
    "existing_rows = len(df_or)\n",
    "sampled_age = random.choices(age_distribution, weights=age_distribution_percentage, k=existing_rows)\n",
    "\n",
    "# Assign the sampled age to your existing DataFrame\n",
    "df_or['Age'] = sampled_age\n",
    "\n",
    "# Save the DataFrame to a CSV file\n",
    "df_or.to_csv('datasets/OrderReports.csv', index=False)\n",
    "\n",
    "display(df_or.head())\n",
    "display(df_or['Age'].value_counts())"
   ]
  },
  {
   "cell_type": "markdown",
   "id": "df57e3c00a94a08e",
   "metadata": {
    "collapsed": false
   },
   "source": [
    "## Creating a Machine Learning Model using Logistic Regression to predict gender of names"
   ]
  },
  {
   "cell_type": "code",
   "execution_count": 358,
   "id": "ce0fd00beeb6fdb0",
   "metadata": {
    "collapsed": false,
    "ExecuteTime": {
     "end_time": "2023-11-21T07:17:14.465296Z",
     "start_time": "2023-11-21T07:17:13.619768Z"
    }
   },
   "outputs": [
    {
     "data": {
      "text/plain": "F    7829\nM     185\nName: Gender, dtype: int64"
     },
     "metadata": {},
     "output_type": "display_data"
    }
   ],
   "source": [
    "# df_mn = pd.read_csv('datasets/MalaysianNames_clean.csv')\n",
    "# \n",
    "# name_vectorizer = CountVectorizer(analyzer='char', ngram_range=(2, 3))\n",
    "# name_features = name_vectorizer.fit_transform(df_mn['name'])\n",
    "# \n",
    "# label_encoder = LabelEncoder()\n",
    "# df_mn[\"gender\"] = label_encoder.fit_transform(df_mn[\"gender\"])\n",
    "# \n",
    "# X_train, X_test, y_train, y_test = train_test_split(name_features, df_mn[\"gender\"], test_size=0.2, random_state=42)\n",
    "# \n",
    "# model = LogisticRegression()\n",
    "# model.fit(X_train, y_train)\n",
    "# y_pred = model.predict(X_test)\n",
    "# \n",
    "# accuracy = accuracy_score(y_test, y_pred)\n",
    "# \n",
    "# print(f\"Model Accuracy: {accuracy}\")\n",
    "# \n",
    "# new_names = df_or['Customer'].tolist()\n",
    "# # new_names = ['Lee Mann Heyy']\n",
    "# new_name_features = name_vectorizer.transform(new_names)\n",
    "# new_name_features = new_name_features.toarray()\n",
    "# \n",
    "# # predict gender of new names\n",
    "# new_names_pred = model.predict(new_name_features)\n",
    "# new_names_pred = label_encoder.inverse_transform(new_names_pred)\n",
    "# print(new_names_pred)\n",
    "# \n",
    "# #print total number of M and F in the list\n",
    "# print(\"Total number of M: \", new_names_pred.tolist().count('M'))\n",
    "# print(\"Total number of F: \", new_names_pred.tolist().count('F'))\n",
    "display(df_or['Gender'].value_counts())"
   ]
  },
  {
   "cell_type": "markdown",
   "id": "8de327f9778793e9",
   "metadata": {
    "collapsed": false
   },
   "source": [
    "# Encoding Categorical Data"
   ]
  },
  {
   "cell_type": "markdown",
   "id": "629d84f7720276d2",
   "metadata": {
    "collapsed": false
   },
   "source": [
    "## For OrderReport dataset"
   ]
  },
  {
   "cell_type": "code",
   "execution_count": 359,
   "id": "6fe019244a16e2f4",
   "metadata": {
    "collapsed": false,
    "ExecuteTime": {
     "end_time": "2023-11-21T07:17:14.483490Z",
     "start_time": "2023-11-21T07:17:13.629579Z"
    }
   },
   "outputs": [
    {
     "data": {
      "text/plain": "                  Date  Order # N. Revenue (formatted)      Status  \\\n0  2023-10-26 14:50:17  16698.0                RM57.80  processing   \n1  2023-10-26 13:53:47  16697.0                RM32.90  processing   \n2  2023-10-26 13:04:17  16696.0                RM32.90  processing   \n3  2023-10-26 13:00:49  16695.0                RM82.70  processing   \n4  2023-10-26 12:47:36  16694.0                RM32.90  processing   \n\n                               Customer Customer type  \\\n0  AINAA SYAFIQAH ABD RAHMAN ABD RAHMAN           new   \n1                              Ja Hasim           new   \n2                             nasy anis           new   \n3   Herny erdawati binti Mohamad Rashed           new   \n4                      Suhaina Sulaiman           new   \n\n                                          Product(s)  Items sold  N. Revenue  \\\n0  1× LIP BOOSTER - WATERMELON, 1× LIP BOOSTER - ...         2.0        49.8   \n1                             1× LIP BOOSTER - MELON         1.0        24.9   \n2                             1× LIP BOOSTER - MELON         1.0        24.9   \n3  1× LIP BOOSTER - STRAWBERRY, 2× LIP BOOSTER - ...         3.0        74.7   \n4                        1× LIP BOOSTER - WATERMELON         1.0        24.9   \n\n      State  Age Gender  Customer type enc  Gender_enc  State_enc  \n0     Perak   36      F                  0           0          8  \n1     Johor   25      F                  0           0          0  \n2    Melaka   31      F                  0           0          4  \n3  Kelantan   31      F                  0           0          2  \n4    Perlis   38      F                  0           0          9  ",
      "text/html": "<div>\n<style scoped>\n    .dataframe tbody tr th:only-of-type {\n        vertical-align: middle;\n    }\n\n    .dataframe tbody tr th {\n        vertical-align: top;\n    }\n\n    .dataframe thead th {\n        text-align: right;\n    }\n</style>\n<table border=\"1\" class=\"dataframe\">\n  <thead>\n    <tr style=\"text-align: right;\">\n      <th></th>\n      <th>Date</th>\n      <th>Order #</th>\n      <th>N. Revenue (formatted)</th>\n      <th>Status</th>\n      <th>Customer</th>\n      <th>Customer type</th>\n      <th>Product(s)</th>\n      <th>Items sold</th>\n      <th>N. Revenue</th>\n      <th>State</th>\n      <th>Age</th>\n      <th>Gender</th>\n      <th>Customer type enc</th>\n      <th>Gender_enc</th>\n      <th>State_enc</th>\n    </tr>\n  </thead>\n  <tbody>\n    <tr>\n      <th>0</th>\n      <td>2023-10-26 14:50:17</td>\n      <td>16698.0</td>\n      <td>RM57.80</td>\n      <td>processing</td>\n      <td>AINAA SYAFIQAH ABD RAHMAN ABD RAHMAN</td>\n      <td>new</td>\n      <td>1× LIP BOOSTER - WATERMELON, 1× LIP BOOSTER - ...</td>\n      <td>2.0</td>\n      <td>49.8</td>\n      <td>Perak</td>\n      <td>36</td>\n      <td>F</td>\n      <td>0</td>\n      <td>0</td>\n      <td>8</td>\n    </tr>\n    <tr>\n      <th>1</th>\n      <td>2023-10-26 13:53:47</td>\n      <td>16697.0</td>\n      <td>RM32.90</td>\n      <td>processing</td>\n      <td>Ja Hasim</td>\n      <td>new</td>\n      <td>1× LIP BOOSTER - MELON</td>\n      <td>1.0</td>\n      <td>24.9</td>\n      <td>Johor</td>\n      <td>25</td>\n      <td>F</td>\n      <td>0</td>\n      <td>0</td>\n      <td>0</td>\n    </tr>\n    <tr>\n      <th>2</th>\n      <td>2023-10-26 13:04:17</td>\n      <td>16696.0</td>\n      <td>RM32.90</td>\n      <td>processing</td>\n      <td>nasy anis</td>\n      <td>new</td>\n      <td>1× LIP BOOSTER - MELON</td>\n      <td>1.0</td>\n      <td>24.9</td>\n      <td>Melaka</td>\n      <td>31</td>\n      <td>F</td>\n      <td>0</td>\n      <td>0</td>\n      <td>4</td>\n    </tr>\n    <tr>\n      <th>3</th>\n      <td>2023-10-26 13:00:49</td>\n      <td>16695.0</td>\n      <td>RM82.70</td>\n      <td>processing</td>\n      <td>Herny erdawati binti Mohamad Rashed</td>\n      <td>new</td>\n      <td>1× LIP BOOSTER - STRAWBERRY, 2× LIP BOOSTER - ...</td>\n      <td>3.0</td>\n      <td>74.7</td>\n      <td>Kelantan</td>\n      <td>31</td>\n      <td>F</td>\n      <td>0</td>\n      <td>0</td>\n      <td>2</td>\n    </tr>\n    <tr>\n      <th>4</th>\n      <td>2023-10-26 12:47:36</td>\n      <td>16694.0</td>\n      <td>RM32.90</td>\n      <td>processing</td>\n      <td>Suhaina Sulaiman</td>\n      <td>new</td>\n      <td>1× LIP BOOSTER - WATERMELON</td>\n      <td>1.0</td>\n      <td>24.9</td>\n      <td>Perlis</td>\n      <td>38</td>\n      <td>F</td>\n      <td>0</td>\n      <td>0</td>\n      <td>9</td>\n    </tr>\n  </tbody>\n</table>\n</div>"
     },
     "metadata": {},
     "output_type": "display_data"
    }
   ],
   "source": [
    "lb = LabelBinarizer()\n",
    "df_or['Customer type enc'] = lb.fit_transform(df_or['Customer type'])\n",
    "df_or['Gender_enc'] = lb.fit_transform(df_or['Gender'])\n",
    "\n",
    "le = LabelEncoder()\n",
    "df_or['State_enc'] = le.fit_transform(df_or['State'])\n",
    "display(df_or.head())"
   ]
  },
  {
   "cell_type": "markdown",
   "id": "8f423c8f8c5eb5ac",
   "metadata": {
    "collapsed": false
   },
   "source": [
    "## For ProductList dataset"
   ]
  },
  {
   "cell_type": "code",
   "execution_count": 360,
   "id": "f1553fed2560e1b5",
   "metadata": {
    "collapsed": false,
    "ExecuteTime": {
     "end_time": "2023-11-21T07:17:14.483745Z",
     "start_time": "2023-11-21T07:17:13.642899Z"
    }
   },
   "outputs": [
    {
     "data": {
      "text/plain": "                                        Product  SKU  Items sold  N. Revenue  \\\n0                      LIP BOOSTER - WATERMELON   95        2590     63270.9   \n1                      LIP BOOSTER - STRAWBERRY   96        2563     63768.9   \n2  COLLAGEN SERUM FOUNDATION ALHA ALFA - MEDIUM   98        1067      7435.1   \n3   COLLAGEN SERUM FOUNDATION ALHA ALFA - LIGHT   97         728      7135.7   \n4                           LIP BOOSTER - MELON  100         651     16209.9   \n\n   Orders    Status  Stock  Status enc  \n0    2299  In stock     11           0  \n1    2280  In stock    134           0  \n2    1005  In stock     33           0  \n3     690  In stock     41           0  \n4     587  In stock    177           0  ",
      "text/html": "<div>\n<style scoped>\n    .dataframe tbody tr th:only-of-type {\n        vertical-align: middle;\n    }\n\n    .dataframe tbody tr th {\n        vertical-align: top;\n    }\n\n    .dataframe thead th {\n        text-align: right;\n    }\n</style>\n<table border=\"1\" class=\"dataframe\">\n  <thead>\n    <tr style=\"text-align: right;\">\n      <th></th>\n      <th>Product</th>\n      <th>SKU</th>\n      <th>Items sold</th>\n      <th>N. Revenue</th>\n      <th>Orders</th>\n      <th>Status</th>\n      <th>Stock</th>\n      <th>Status enc</th>\n    </tr>\n  </thead>\n  <tbody>\n    <tr>\n      <th>0</th>\n      <td>LIP BOOSTER - WATERMELON</td>\n      <td>95</td>\n      <td>2590</td>\n      <td>63270.9</td>\n      <td>2299</td>\n      <td>In stock</td>\n      <td>11</td>\n      <td>0</td>\n    </tr>\n    <tr>\n      <th>1</th>\n      <td>LIP BOOSTER - STRAWBERRY</td>\n      <td>96</td>\n      <td>2563</td>\n      <td>63768.9</td>\n      <td>2280</td>\n      <td>In stock</td>\n      <td>134</td>\n      <td>0</td>\n    </tr>\n    <tr>\n      <th>2</th>\n      <td>COLLAGEN SERUM FOUNDATION ALHA ALFA - MEDIUM</td>\n      <td>98</td>\n      <td>1067</td>\n      <td>7435.1</td>\n      <td>1005</td>\n      <td>In stock</td>\n      <td>33</td>\n      <td>0</td>\n    </tr>\n    <tr>\n      <th>3</th>\n      <td>COLLAGEN SERUM FOUNDATION ALHA ALFA - LIGHT</td>\n      <td>97</td>\n      <td>728</td>\n      <td>7135.7</td>\n      <td>690</td>\n      <td>In stock</td>\n      <td>41</td>\n      <td>0</td>\n    </tr>\n    <tr>\n      <th>4</th>\n      <td>LIP BOOSTER - MELON</td>\n      <td>100</td>\n      <td>651</td>\n      <td>16209.9</td>\n      <td>587</td>\n      <td>In stock</td>\n      <td>177</td>\n      <td>0</td>\n    </tr>\n  </tbody>\n</table>\n</div>"
     },
     "metadata": {},
     "output_type": "display_data"
    }
   ],
   "source": [
    "lb = LabelBinarizer()\n",
    "df_pl['Status enc'] = lb.fit_transform(df_pl['Status'])\n",
    "\n",
    "le = LabelEncoder()\n",
    "df_pl['SKU'] = le.fit_transform(df_pl['SKU'])\n",
    "\n",
    "display(df_pl.head())"
   ]
  },
  {
   "cell_type": "markdown",
   "id": "37ec56a6479691c1",
   "metadata": {
    "collapsed": false
   },
   "source": [
    "# 1. Enhanced Targeted Advertising (Analysing Demographics)"
   ]
  },
  {
   "cell_type": "markdown",
   "source": [
    "## 1.1 Distribution of Customer's Age by State"
   ],
   "metadata": {
    "collapsed": false
   },
   "id": "574eab662246d4c3"
  },
  {
   "cell_type": "markdown",
   "source": [
    "### Split the dataset into training and testing set"
   ],
   "metadata": {
    "collapsed": false
   },
   "id": "313a41f26808653a"
  },
  {
   "cell_type": "code",
   "execution_count": 361,
   "id": "938dd64375ff3a68",
   "metadata": {
    "collapsed": false,
    "ExecuteTime": {
     "end_time": "2023-11-21T07:17:14.505990Z",
     "start_time": "2023-11-21T07:17:13.648253Z"
    }
   },
   "outputs": [],
   "source": [
    "data = df_or[['Customer type', 'Age', 'State']]\n",
    "#encode State\n",
    "le = LabelEncoder()\n",
    "data['State'] = le.fit_transform(data['State'])\n",
    "#encode Customer type\n",
    "lb = LabelBinarizer()\n",
    "data['Customer type'] = lb.fit_transform(data['Customer type'])\n",
    "\n",
    "trainset, testset = train_test_split(data, test_size=0.2, random_state=42)    "
   ]
  },
  {
   "cell_type": "markdown",
   "source": [
    "### Train the model using DBSCAN"
   ],
   "metadata": {
    "collapsed": false
   },
   "id": "bfcabcdfd1f3f4f6"
  },
  {
   "cell_type": "code",
   "execution_count": 362,
   "outputs": [],
   "source": [
    "# from sklearn.cluster import KMeans\n",
    "# kmeans = KMeans(n_clusters=3, random_state=42)\n",
    "# print(kmeans.fit(trainset))\n",
    "# # predict the clusters for the testset\n",
    "# y_pred = kmeans.predict(testset)"
   ],
   "metadata": {
    "collapsed": false,
    "ExecuteTime": {
     "end_time": "2023-11-21T07:17:14.506107Z",
     "start_time": "2023-11-21T07:17:13.659748Z"
    }
   },
   "id": "cd8f87f9745f0c53"
  },
  {
   "cell_type": "code",
   "execution_count": 363,
   "id": "cefd265ec8ca0c24",
   "metadata": {
    "collapsed": false,
    "ExecuteTime": {
     "end_time": "2023-11-21T07:17:14.527360Z",
     "start_time": "2023-11-21T07:17:13.661373Z"
    }
   },
   "outputs": [
    {
     "data": {
      "text/plain": "DBSCAN()",
      "text/html": "<style>#sk-container-id-7 {color: black;}#sk-container-id-7 pre{padding: 0;}#sk-container-id-7 div.sk-toggleable {background-color: white;}#sk-container-id-7 label.sk-toggleable__label {cursor: pointer;display: block;width: 100%;margin-bottom: 0;padding: 0.3em;box-sizing: border-box;text-align: center;}#sk-container-id-7 label.sk-toggleable__label-arrow:before {content: \"▸\";float: left;margin-right: 0.25em;color: #696969;}#sk-container-id-7 label.sk-toggleable__label-arrow:hover:before {color: black;}#sk-container-id-7 div.sk-estimator:hover label.sk-toggleable__label-arrow:before {color: black;}#sk-container-id-7 div.sk-toggleable__content {max-height: 0;max-width: 0;overflow: hidden;text-align: left;background-color: #f0f8ff;}#sk-container-id-7 div.sk-toggleable__content pre {margin: 0.2em;color: black;border-radius: 0.25em;background-color: #f0f8ff;}#sk-container-id-7 input.sk-toggleable__control:checked~div.sk-toggleable__content {max-height: 200px;max-width: 100%;overflow: auto;}#sk-container-id-7 input.sk-toggleable__control:checked~label.sk-toggleable__label-arrow:before {content: \"▾\";}#sk-container-id-7 div.sk-estimator input.sk-toggleable__control:checked~label.sk-toggleable__label {background-color: #d4ebff;}#sk-container-id-7 div.sk-label input.sk-toggleable__control:checked~label.sk-toggleable__label {background-color: #d4ebff;}#sk-container-id-7 input.sk-hidden--visually {border: 0;clip: rect(1px 1px 1px 1px);clip: rect(1px, 1px, 1px, 1px);height: 1px;margin: -1px;overflow: hidden;padding: 0;position: absolute;width: 1px;}#sk-container-id-7 div.sk-estimator {font-family: monospace;background-color: #f0f8ff;border: 1px dotted black;border-radius: 0.25em;box-sizing: border-box;margin-bottom: 0.5em;}#sk-container-id-7 div.sk-estimator:hover {background-color: #d4ebff;}#sk-container-id-7 div.sk-parallel-item::after {content: \"\";width: 100%;border-bottom: 1px solid gray;flex-grow: 1;}#sk-container-id-7 div.sk-label:hover label.sk-toggleable__label {background-color: #d4ebff;}#sk-container-id-7 div.sk-serial::before {content: \"\";position: absolute;border-left: 1px solid gray;box-sizing: border-box;top: 0;bottom: 0;left: 50%;z-index: 0;}#sk-container-id-7 div.sk-serial {display: flex;flex-direction: column;align-items: center;background-color: white;padding-right: 0.2em;padding-left: 0.2em;position: relative;}#sk-container-id-7 div.sk-item {position: relative;z-index: 1;}#sk-container-id-7 div.sk-parallel {display: flex;align-items: stretch;justify-content: center;background-color: white;position: relative;}#sk-container-id-7 div.sk-item::before, #sk-container-id-7 div.sk-parallel-item::before {content: \"\";position: absolute;border-left: 1px solid gray;box-sizing: border-box;top: 0;bottom: 0;left: 50%;z-index: -1;}#sk-container-id-7 div.sk-parallel-item {display: flex;flex-direction: column;z-index: 1;position: relative;background-color: white;}#sk-container-id-7 div.sk-parallel-item:first-child::after {align-self: flex-end;width: 50%;}#sk-container-id-7 div.sk-parallel-item:last-child::after {align-self: flex-start;width: 50%;}#sk-container-id-7 div.sk-parallel-item:only-child::after {width: 0;}#sk-container-id-7 div.sk-dashed-wrapped {border: 1px dashed gray;margin: 0 0.4em 0.5em 0.4em;box-sizing: border-box;padding-bottom: 0.4em;background-color: white;}#sk-container-id-7 div.sk-label label {font-family: monospace;font-weight: bold;display: inline-block;line-height: 1.2em;}#sk-container-id-7 div.sk-label-container {text-align: center;}#sk-container-id-7 div.sk-container {/* jupyter's `normalize.less` sets `[hidden] { display: none; }` but bootstrap.min.css set `[hidden] { display: none !important; }` so we also need the `!important` here to be able to override the default hidden behavior on the sphinx rendered scikit-learn.org. See: https://github.com/scikit-learn/scikit-learn/issues/21755 */display: inline-block !important;position: relative;}#sk-container-id-7 div.sk-text-repr-fallback {display: none;}</style><div id=\"sk-container-id-7\" class=\"sk-top-container\"><div class=\"sk-text-repr-fallback\"><pre>DBSCAN()</pre><b>In a Jupyter environment, please rerun this cell to show the HTML representation or trust the notebook. <br />On GitHub, the HTML representation is unable to render, please try loading this page with nbviewer.org.</b></div><div class=\"sk-container\" hidden><div class=\"sk-item\"><div class=\"sk-estimator sk-toggleable\"><input class=\"sk-toggleable__control sk-hidden--visually\" id=\"sk-estimator-id-7\" type=\"checkbox\" checked><label for=\"sk-estimator-id-7\" class=\"sk-toggleable__label sk-toggleable__label-arrow\">DBSCAN</label><div class=\"sk-toggleable__content\"><pre>DBSCAN()</pre></div></div></div></div></div>"
     },
     "metadata": {},
     "output_type": "display_data"
    }
   ],
   "source": [
    "dbscan = DBSCAN(eps=0.5, min_samples=5)\n",
    "display(dbscan.fit(trainset))"
   ]
  },
  {
   "cell_type": "markdown",
   "source": [
    "### Predict the clusters for the training set"
   ],
   "metadata": {
    "collapsed": false
   },
   "id": "893e267ce613d990"
  },
  {
   "cell_type": "code",
   "execution_count": 364,
   "id": "c0f84d62f3c54bd",
   "metadata": {
    "collapsed": false,
    "ExecuteTime": {
     "end_time": "2023-11-21T07:17:14.536292Z",
     "start_time": "2023-11-21T07:17:13.689239Z"
    }
   },
   "outputs": [
    {
     "name": "stdout",
     "output_type": "stream",
     "text": [
      "[ 0  1  2 ...  5 10 10]\n"
     ]
    }
   ],
   "source": [
    "y_pred = dbscan.fit_predict(testset)\n",
    "print(y_pred)"
   ]
  },
  {
   "cell_type": "markdown",
   "source": [
    "### Visualize the clusters"
   ],
   "metadata": {
    "collapsed": false
   },
   "id": "5bc5a138f6ac887c"
  },
  {
   "cell_type": "code",
   "execution_count": 365,
   "id": "723a9777c72aef0a",
   "metadata": {
    "collapsed": false,
    "ExecuteTime": {
     "end_time": "2023-11-21T07:17:14.696315Z",
     "start_time": "2023-11-21T07:17:13.699578Z"
    }
   },
   "outputs": [
    {
     "data": {
      "text/plain": "<Figure size 640x480 with 1 Axes>",
      "image/png": "[encoded data removed]"
     },
     "metadata": {},
     "output_type": "display_data"
    }
   ],
   "source": [
    "plt.scatter(testset['Age'], testset['State'], c=y_pred, cmap='rainbow')\n",
    "plt.title('Clusters of Customers between Age and State')\n",
    "plt.yticks(np.arange(0, 16), le.inverse_transform(np.arange(0, 16)))\n",
    "plt.xticks(np.arange(25, 46))\n",
    "plt.xlabel('Age')\n",
    "plt.ylabel('State')\n",
    "plt.tight_layout()\n",
    "plt.show()"
   ]
  },
  {
   "cell_type": "markdown",
   "source": [
    "### Current Average Age at each State"
   ],
   "metadata": {
    "collapsed": false
   },
   "id": "8294bec9613d57cb"
  },
  {
   "cell_type": "code",
   "execution_count": 366,
   "outputs": [
    {
     "name": "stdout",
     "output_type": "stream",
     "text": [
      "State Johor's average age = 25\n",
      "State Kedah's average age = 28\n",
      "State Kelantan's average age = 30\n",
      "State Labuan's average age = 31\n",
      "State Melaka's average age = 31\n",
      "State Negeri Sembilan's average age = 33\n",
      "State Pahang's average age = 34\n",
      "State Penang's average age = 35\n",
      "State Perak's average age = 36\n",
      "State Perlis's average age = 37\n",
      "State Putrajaya's average age = 39\n",
      "State Sabah's average age = 39\n",
      "State Sarawak's average age = 39\n",
      "State Selangor's average age = 40\n",
      "State Terengganu's average age = 43\n",
      "State WP Kuala Lumpur's average age = 45\n"
     ]
    }
   ],
   "source": [
    "#unencode State\n",
    "for i in range(0, 16):\n",
    "    test_age = int(testset[testset['State'] == i]['Age'].mean())\n",
    "    state = le.inverse_transform([i])\n",
    "    state = state[0]\n",
    "    print(f\"State {state}'s average age = {test_age}\")"
   ],
   "metadata": {
    "collapsed": false,
    "ExecuteTime": {
     "end_time": "2023-11-21T07:17:14.696632Z",
     "start_time": "2023-11-21T07:17:13.825861Z"
    }
   },
   "id": "29acb108d6f5a196"
  },
  {
   "cell_type": "markdown",
   "source": [
    "### Predict the average age for the next 3 years\n"
   ],
   "metadata": {
    "collapsed": false
   },
   "id": "47586843646b1a77"
  },
  {
   "cell_type": "code",
   "execution_count": 367,
   "outputs": [
    {
     "name": "stdout",
     "output_type": "stream",
     "text": [
      "State Johor's average age = 25\n",
      "State Kedah's average age = 28\n",
      "State Kelantan's average age = 34\n",
      "State Labuan's average age = 31\n",
      "State Melaka's average age = 34\n",
      "State Negeri Sembilan's average age = 39\n",
      "State Pahang's average age = 34\n",
      "State Penang's average age = 38\n",
      "State Perak's average age = 36\n",
      "State Perlis's average age = 41\n",
      "State Putrajaya's average age = 46\n",
      "State Sabah's average age = 44\n",
      "State Sarawak's average age = 46\n",
      "State Selangor's average age = 43\n",
      "State Terengganu's average age = 45\n",
      "State WP Kuala Lumpur's average age = 48\n"
     ]
    }
   ],
   "source": [
    "for i in range(0, 16):\n",
    "    test_age = int(testset[testset['State'] == i]['Age'].mean())\n",
    "    state = le.inverse_transform([i])\n",
    "    state = state[0]\n",
    "    age_percentage = random.uniform(1.0, 1.2)\n",
    "    test_age = int(test_age * age_percentage)\n",
    "    print(f\"State {state}'s average age = {test_age}\")\n"
   ],
   "metadata": {
    "collapsed": false,
    "ExecuteTime": {
     "end_time": "2023-11-21T07:17:14.696721Z",
     "start_time": "2023-11-21T07:17:13.832442Z"
    }
   },
   "id": "16ef011a5a5fdc81"
  },
  {
   "cell_type": "markdown",
   "source": [
    "### Evaluate the model using Silhouette Score"
   ],
   "metadata": {
    "collapsed": false
   },
   "id": "209ce32469b61e91"
  },
  {
   "cell_type": "code",
   "execution_count": 368,
   "id": "1c538f39e3b49f8c",
   "metadata": {
    "collapsed": false,
    "ExecuteTime": {
     "end_time": "2023-11-21T07:17:14.698912Z",
     "start_time": "2023-11-21T07:17:13.838190Z"
    }
   },
   "outputs": [
    {
     "name": "stdout",
     "output_type": "stream",
     "text": [
      "0.9365001452004044\n"
     ]
    }
   ],
   "source": [
    "print(silhouette_score(testset, y_pred))"
   ]
  },
  {
   "cell_type": "markdown",
   "source": [
    "## 1.2 Distribution of Total Items Sold by State"
   ],
   "metadata": {
    "collapsed": false
   },
   "id": "b7d9fb4df03320ee"
  },
  {
   "cell_type": "markdown",
   "source": [
    "### Sales by State"
   ],
   "metadata": {
    "collapsed": false
   },
   "id": "ca7c7a43e7a71e29"
  },
  {
   "cell_type": "code",
   "execution_count": 369,
   "outputs": [
    {
     "name": "stdout",
     "output_type": "stream",
     "text": [
      "State Johor total sales = 1604\n",
      "State Kedah total sales = 1401\n",
      "State Kelantan total sales = 1219\n",
      "State Labuan total sales = 23\n",
      "State Melaka total sales = 1708\n",
      "State Negeri Sembilan total sales = 1566\n",
      "State Pahang total sales = 1221\n",
      "State Penang total sales = 753\n",
      "State Perak total sales = 1086\n",
      "State Perlis total sales = 1419\n",
      "State Putrajaya total sales = 165\n",
      "State Sabah total sales = 44\n",
      "State Sarawak total sales = 49\n",
      "State Selangor total sales = 2159\n",
      "State Terengganu total sales = 1036\n",
      "State WP Kuala Lumpur total sales = 569\n"
     ]
    }
   ],
   "source": [
    "df_or['Items sold'] = df_or['Items sold'].astype(int)\n",
    "total_sales_by_state = df_or.groupby('State')['Items sold'].sum().reset_index()\n",
    "\n",
    "for index, row in total_sales_by_state.iterrows():\n",
    "    state = row['State']\n",
    "    total_items_sold = row['Items sold']\n",
    "    print(f\"State {state} total sales = {total_items_sold}\")"
   ],
   "metadata": {
    "collapsed": false,
    "ExecuteTime": {
     "end_time": "2023-11-21T07:17:14.699850Z",
     "start_time": "2023-11-21T07:17:13.916592Z"
    }
   },
   "id": "9ffd3b186070fd14"
  },
  {
   "cell_type": "markdown",
   "source": [
    "### Visualize the distribution of total items sold by state (SKIP)"
   ],
   "metadata": {
    "collapsed": false
   },
   "id": "990032c9446e553c"
  },
  {
   "cell_type": "code",
   "execution_count": 370,
   "outputs": [
    {
     "data": {
      "text/plain": "<Figure size 2500x1000 with 1 Axes>",
      "image/png": "[encoded data removed]"
     },
     "metadata": {},
     "output_type": "display_data"
    }
   ],
   "source": [
    "plt.figure(figsize=(25, 10))\n",
    "plt.bar(total_sales_by_state['State'], total_sales_by_state['Items sold'], color='skyblue')\n",
    "plt.xlabel('State')\n",
    "plt.ylabel('Total Sales')\n",
    "plt.title('Total Sales by State')\n",
    "plt.show()"
   ],
   "metadata": {
    "collapsed": false,
    "ExecuteTime": {
     "end_time": "2023-11-21T07:17:14.702632Z",
     "start_time": "2023-11-21T07:17:13.997122Z"
    }
   },
   "id": "5f7b2a46aca53493"
  },
  {
   "cell_type": "markdown",
   "source": [
    "## 1.3 Distribution of Total Revenue by State"
   ],
   "metadata": {
    "collapsed": false
   },
   "id": "5e4080dff94f9f03"
  },
  {
   "cell_type": "code",
   "execution_count": 371,
   "outputs": [
    {
     "name": "stdout",
     "output_type": "stream",
     "text": [
      "State Johor total revenue = 55258.8\n",
      "State Kedah total revenue = 46232.2\n",
      "State Kelantan total revenue = 41770.5\n",
      "State Labuan total revenue = 865.1\n",
      "State Melaka total revenue = 56761.1\n",
      "State Negeri Sembilan total revenue = 53255.6\n",
      "State Pahang total revenue = 41644.8\n",
      "State Penang total revenue = 25257.9\n",
      "State Perak total revenue = 37586.7\n",
      "State Perlis total revenue = 47355.8\n",
      "State Putrajaya total revenue = 5573.1\n",
      "State Sabah total revenue = 1513.6\n",
      "State Sarawak total revenue = 1450.8\n",
      "State Selangor total revenue = 74012.8\n",
      "State Terengganu total revenue = 35559.0\n",
      "State WP Kuala Lumpur total revenue = 18583.5\n"
     ]
    }
   ],
   "source": [
    "df_or['N. Revenue (formatted)'] = df_or['N. Revenue (formatted)'].replace({',': '', 'RM': ''}, regex=True).astype(float)\n",
    "total_revenue_by_state = df_or.groupby('State')['N. Revenue (formatted)'].sum().reset_index()\n",
    "\n",
    "for index, row in total_revenue_by_state.iterrows():\n",
    "    state = row['State']\n",
    "    total_revenue = row['N. Revenue (formatted)']\n",
    "    print(f\"State {state} total revenue = {total_revenue}\")\n"
   ],
   "metadata": {
    "collapsed": false,
    "ExecuteTime": {
     "end_time": "2023-11-21T07:17:14.702733Z",
     "start_time": "2023-11-21T07:17:14.163161Z"
    }
   },
   "id": "7ec7c8cc0150250e"
  },
  {
   "cell_type": "markdown",
   "source": [
    "### Visualize the distribution of total revenue by state"
   ],
   "metadata": {
    "collapsed": false
   },
   "id": "118b6902357e6f6f"
  },
  {
   "cell_type": "code",
   "execution_count": 372,
   "outputs": [
    {
     "data": {
      "text/plain": "<Figure size 2500x1000 with 1 Axes>",
      "image/png": "[encoded data removed]"
     },
     "metadata": {},
     "output_type": "display_data"
    }
   ],
   "source": [
    "plt.figure(figsize=(25, 10))\n",
    "plt.bar(total_revenue_by_state['State'], total_revenue_by_state['N. Revenue (formatted)'], color='skyblue')\n",
    "plt.xlabel('State')\n",
    "plt.ylabel('Total Revenue')\n",
    "plt.title('Total Sales by State')\n",
    "plt.show()"
   ],
   "metadata": {
    "collapsed": false,
    "ExecuteTime": {
     "end_time": "2023-11-21T07:17:14.702842Z",
     "start_time": "2023-11-21T07:17:14.168398Z"
    }
   },
   "id": "43355e13c401f353"
  },
  {
   "cell_type": "markdown",
   "source": [
    "## 1.4 Distribution of Total Items Sold by Age (SKIP)"
   ],
   "metadata": {
    "collapsed": false
   },
   "id": "72d82bf531f37412"
  },
  {
   "cell_type": "code",
   "execution_count": 373,
   "outputs": [
    {
     "name": "stdout",
     "output_type": "stream",
     "text": [
      "Age 25 total sales = 506\n",
      "Age 26 total sales = 632\n",
      "Age 27 total sales = 622\n",
      "Age 28 total sales = 661\n",
      "Age 29 total sales = 560\n",
      "Age 30 total sales = 526\n",
      "Age 31 total sales = 1175\n",
      "Age 32 total sales = 1209\n",
      "Age 33 total sales = 1124\n",
      "Age 34 total sales = 1357\n",
      "Age 35 total sales = 1108\n",
      "Age 36 total sales = 1181\n",
      "Age 37 total sales = 683\n",
      "Age 38 total sales = 573\n",
      "Age 39 total sales = 564\n",
      "Age 40 total sales = 607\n",
      "Age 41 total sales = 653\n",
      "Age 42 total sales = 567\n",
      "Age 43 total sales = 514\n",
      "Age 44 total sales = 578\n",
      "Age 45 total sales = 622\n"
     ]
    }
   ],
   "source": [
    "age = df_or['Age']\n",
    "total_sales_by_age = df_or.groupby('Age')['Items sold'].sum().reset_index()\n",
    "\n",
    "for index, row in total_sales_by_age.iterrows():\n",
    "    ages = row['Age']\n",
    "    total_items_sold = row['Items sold']\n",
    "    print(f\"Age {ages} total sales = {total_items_sold}\")"
   ],
   "metadata": {
    "collapsed": false,
    "ExecuteTime": {
     "end_time": "2023-11-21T07:17:14.702924Z",
     "start_time": "2023-11-21T07:17:14.286096Z"
    }
   },
   "id": "66d69959c301aadc"
  },
  {
   "cell_type": "markdown",
   "source": [
    "### Visualize the distribution of total items sold by age"
   ],
   "metadata": {
    "collapsed": false
   },
   "id": "907911072edacced"
  },
  {
   "cell_type": "code",
   "execution_count": 374,
   "outputs": [
    {
     "data": {
      "text/plain": "<Figure size 2500x1000 with 1 Axes>",
      "image/png": "[encoded data removed]"
     },
     "metadata": {},
     "output_type": "display_data"
    }
   ],
   "source": [
    "plt.figure(figsize=(25, 10))\n",
    "plt.bar(total_sales_by_age['Age'], total_sales_by_age['Items sold'], color='skyblue')\n",
    "plt.xlabel('Age')\n",
    "plt.ylabel('Total Sales')\n",
    "plt.title('Total Sales by Age')\n",
    "plt.show()"
   ],
   "metadata": {
    "collapsed": false,
    "ExecuteTime": {
     "end_time": "2023-11-21T07:17:15.494981Z",
     "start_time": "2023-11-21T07:17:14.289851Z"
    }
   },
   "id": "dd2f9c83501cc53c"
  },
  {
   "cell_type": "markdown",
   "source": [
    "## 1.5 Distribution of Total Revenue by Age"
   ],
   "metadata": {
    "collapsed": false
   },
   "id": "22ae7a943eeafc33"
  },
  {
   "cell_type": "code",
   "execution_count": 375,
   "outputs": [
    {
     "name": "stdout",
     "output_type": "stream",
     "text": [
      "Age 25.0 total revenue = 17287.2\n",
      "Age 26.0 total revenue = 22251.6\n",
      "Age 27.0 total revenue = 20833.3\n",
      "Age 28.0 total revenue = 21431.7\n",
      "Age 29.0 total revenue = 18614.1\n",
      "Age 30.0 total revenue = 18703.5\n",
      "Age 31.0 total revenue = 38814.4\n",
      "Age 32.0 total revenue = 40808.8\n",
      "Age 33.0 total revenue = 37656.5\n",
      "Age 34.0 total revenue = 46811.2\n",
      "Age 35.0 total revenue = 37360.0\n",
      "Age 36.0 total revenue = 40687.2\n",
      "Age 37.0 total revenue = 22876.5\n",
      "Age 38.0 total revenue = 19077.2\n",
      "Age 39.0 total revenue = 19419.4\n",
      "Age 40.0 total revenue = 21768.6\n",
      "Age 41.0 total revenue = 21706.4\n",
      "Age 42.0 total revenue = 18988.0\n",
      "Age 43.0 total revenue = 17098.7\n",
      "Age 44.0 total revenue = 20082.2\n",
      "Age 45.0 total revenue = 20404.8\n"
     ]
    }
   ],
   "source": [
    "total_revenue_by_age = df_or.groupby('Age')['N. Revenue (formatted)'].sum().reset_index()\n",
    "\n",
    "for index, row in total_revenue_by_age.iterrows():\n",
    "    ages = row['Age']\n",
    "    total_revenue = row['N. Revenue (formatted)']\n",
    "    print(f\"Age {ages} total revenue = {total_revenue}\")"
   ],
   "metadata": {
    "collapsed": false,
    "ExecuteTime": {
     "end_time": "2023-11-21T07:17:15.496797Z",
     "start_time": "2023-11-21T07:17:14.398276Z"
    }
   },
   "id": "84467a016e395a87"
  },
  {
   "cell_type": "markdown",
   "source": [
    "### Visualize the distribution of total revenue by age"
   ],
   "metadata": {
    "collapsed": false
   },
   "id": "93b63546cbe615b2"
  },
  {
   "cell_type": "code",
   "execution_count": 376,
   "outputs": [
    {
     "data": {
      "text/plain": "<Figure size 2500x1000 with 1 Axes>",
      "image/png": "[encoded data removed]"
     },
     "metadata": {},
     "output_type": "display_data"
    }
   ],
   "source": [
    "plt.figure(figsize=(25, 10))\n",
    "plt.bar(total_revenue_by_age['Age'], total_revenue_by_age['N. Revenue (formatted)'], color='skyblue')\n",
    "plt.xlabel('Age')\n",
    "plt.ylabel('Total Revenue')\n",
    "plt.title('Total Revenue by Age')\n",
    "plt.tight_layout()\n",
    "plt.show()"
   ],
   "metadata": {
    "collapsed": false,
    "ExecuteTime": {
     "end_time": "2023-11-21T07:17:15.547129Z",
     "start_time": "2023-11-21T07:17:14.402660Z"
    }
   },
   "id": "eeb1c2ae288c8cb7"
  },
  {
   "cell_type": "markdown",
   "source": [
    "### Testing"
   ],
   "metadata": {
    "collapsed": false
   },
   "id": "8cdd3d350c3550aa"
  },
  {
   "cell_type": "code",
   "execution_count": 377,
   "outputs": [
    {
     "name": "stdout",
     "output_type": "stream",
     "text": [
      "Product Counts:\n",
      "LIP BOOSTER - WATERMELON: 2590\n",
      "LIP BOOSTER - STRAWBERRY: 2562\n",
      "LIP BOOSTER - MELON: 651\n",
      "ALHA ALFA SKIN BOOSTER: 372\n",
      "MASCARA - Dimensional: 44\n",
      "ROYAL PROPOLIS FOUNDATION SPF 45 - HONEY: 95\n",
      "GLOW GLITTER SETTING SPRAY: 69\n",
      "BRIGHT BOOST MOISTURIZER FACE CREAM: 100\n",
      "PREBIOTIC UV SUNSCREEN: 57\n",
      "LONG LASTING MAKEUP SETTING SPRAY - REAL GLOW: 48\n",
      "ROYAL PROPOLIS FOUNDATION SPF 45 - LIGHT MEDIUM: 110\n",
      "ROYAL PROPOLIS POWDER FOUNDATION - AA20 MEDIUM LIGHT: 220\n",
      "ROYAL PROPOLIS FOUNDATION SPF 45 - WARM NATURAL: 19\n",
      "SUPER STAY FIXING POWDER - MINI - TRANSLUCENT: 65\n",
      "LONG LASTING MAKEUP SETTING SPRAY - REAL MATTE: 127\n",
      "COLLAGEN SERUM FOUNDATION ALHA ALFA - LIGHT: 728\n",
      "CENTELLA SKIN BOOSTER: 106\n",
      "COLLAGEN SERUM FOUNDATION ALHA ALFA - MEDIUM: 1067\n",
      "ROYAL PROPOLIS POWDER FOUNDATION - AA30 NATURAL BEIGE: 274\n",
      "SUPER STAY FIXING POWDER - MINI - BROWN: 9\n",
      "HEART APPLICATOR SPONGE - PEACH: 7\n",
      "MASCARA - Doll Eye: 72\n",
      "SUPER STAY FIXING POWDER - BROWN: 31\n",
      "ALHA ALFA FOGGY LIPS - MERLIN: 13\n",
      "SATIN STAY SPF30 &amp; COMPACT POWDER - CP10: 2\n",
      "ALHA ALFA FACE BRUSH - BRUSH F01: 13\n",
      "MAGIC GLOW LIP TREATMENT OIL: 1272\n",
      "ROYAL PROPOLIS LUMINOUS SILK FOUNDATION SPF35 - RPF40 FERVI: 66\n",
      "ALHA ALFA CHEEKY MATTE POWDER BLUSH - BL03: 12\n",
      "ROYAL PROPOLIS LUMINOUS SILK FOUNDATION - MINI - AURI: 19\n",
      "BRIGHTEN UP & HYDRATE SKINCARE DUO: 4\n",
      "ALHA ALFA FOGGY LIPS - CHERRY: 7\n",
      "ROYAL PROPOLIS LUMINOUS SILK FOUNDATION - MINI - FERVI: 18\n",
      "ALHA ALFA BE YOU MATTE FOUNDATION - M40 NATURAL: 22\n",
      "ROYAL PROPOLIS FOUNDATION SPF 45 - NATURAL: 94\n",
      "SET F 10.10 MEGA SALE: 1\n",
      "ROYAL PROPOLIS FOUNDATION SPF 45 - LIGHT: 43\n",
      "LIP BOOSTER - CHERRY: 200\n",
      "MERDEKA SET PRETTYOTIC: 98\n",
      "SET B 10.10 MEGA SALE: 4\n",
      "SATIN STAY SPF30 &amp; COMPACT POWDER - CP60: 17\n",
      "SATIN STAY SPF30 &amp; COMPACT POWDER - CP40: 13\n",
      "PRESSED POWDER PALETTE - TANGERINE: 15\n",
      "ALHA ALFA FOGGY LIPS - CARNATION: 29\n",
      "SATIN STAY SPF30 &amp; COMPACT POWDER - CP50: 4\n",
      "SET E 10.10 MEGA SALE: 1\n",
      "SET C 10.10 MEGA SALE: 1\n",
      "ROYAL PROPOLIS LUMINOUS SILK FOUNDATION SPF35 - RPF30 BLUEBELL: 54\n",
      "SET XOXO: 200\n",
      "PRESSED POWDER PALETTE - RED VELVET: 17\n",
      "ALHA ALFA BE YOU MATTE FOUNDATION - M50 WARM NATURAL: 4\n",
      "EID ALHA LIP MATTE SET: 59\n",
      "SUPER STAY FIXING POWDER - TRANSLUCENT: 160\n",
      "POCKET CAMOUFLAGE CREAM - AAP30: 28\n",
      "ROYAL PROPOLIS POWDER FOUNDATION - AA10 LIGHT: 82\n",
      "ROYAL PROPOLIS LUMINOUS SILK FOUNDATION - MINI - EDEL: 17\n",
      "ALHA ALFA CHEEKY MATTE POWDER BLUSH - BL05: 8\n",
      "ALHA ALFA FOGGY LIPS - JULIET: 34\n",
      "SATIN STAY SPF30 &amp; COMPACT POWDER - CP30: 6\n",
      "ROYAL PROPOLIS LUMINOUS SILK FOUNDATION SPF35 - RPF70 MORRI: 5\n",
      "ROYAL PROPOLIS LUMINOUS SILK FOUNDATION SPF35 - RPF10 ACACIA: 21\n",
      "COLLAGEN SERUM FOUNDATION ALHA ALFA - DARK: 57\n",
      "SATIN STAY SPF30 &amp; COMPACT POWDER - CP70: 7\n",
      "HEART APPLICATOR SPONGE - NUDE: 6\n",
      "ALHA ALFA BE YOU GLOW FOUNDATION - G60 NATURAL TAN: 8\n",
      "ROYAL PROPOLIS FOUNDATION - SALVIA: 4\n",
      "POCKET CAMOUFLAGE CREAM - AAP10: 17\n",
      "ROYAL PROPOLIS FOUNDATION SPF 45 - FAIR: 27\n",
      "ROYAL PROPOLIS LUMINOUS SILK FOUNDATION SPF35 - RPF50 FICUS: 39\n",
      "SUPER STAY FIXING POWDER - PINK: 34\n",
      "POCKET CAMOUFLAGE CREAM - AAP20: 23\n",
      "SATIN STAY SPF30 &amp; COMPACT POWDER - CP20: 5\n",
      "ALHA ALFA GLITZ RAYA HAJI SET: 45\n",
      "ROYAL PROPOLIS POWDER FOUNDATION - HD - HIGH DEFINITION OIL FREE POWDER: 130\n",
      "ROYAL PROPOLIS FOUNDATION SPF 45 - NATURAL TAN: 8\n",
      "ALHA ALFA CHEEKY MATTE POWDER BLUSH - BL04: 8\n",
      "ROYAL PROPOLIS POWDER FOUNDATION - AA40 MEDIUM DARK: 19\n",
      "SATIN STAY SPF30 &amp; COMPACT POWDER - CP80: 1\n",
      "ROYAL PROPOLIS LUMINOUS SILK FOUNDATION SPF35 - RPF20 AURI: 39\n",
      "ALHA ALFA CHEEKY MATTE POWDER BLUSH - BL01: 11\n",
      "ROYAL PROPOLIS LUMINOUS SILK FOUNDATION SPF35 - RPF60 EDEL: 29\n",
      "ALHA ALFA LASHES PREMIUM COLLECTION - Code 006: 1\n",
      "ALHA ALFA LASHES PREMIUM COLLECTION - Code 007: 5\n",
      "ALHA ALFA 5TH ANNIVERSARY MAKEUP BAG: 17\n",
      "ALHA ALFA CHEEKY MATTE POWDER BLUSH - BL02: 6\n",
      "ROYAL PROPOLIS LUMINOUS SILK FOUNDATION - MINI - MORRI: 2\n",
      "CUSHION GLOW BLUSHER - SWEET ROSE: 17\n",
      "ALHA ALFA SUNSCREEN &amp; FOUNDATION - FAIR: 53\n",
      "CUSHION GLOW BLUSHER - ZINNIA: 29\n",
      "SET MISI BANTUAN ADIK ATIF: 150\n",
      "ROYAL PROPOLIS POWDER FOUNDATION - AA50 DARK: 2\n",
      "ROYAL PROPOLIS FOUNDATION SPF 45 - DEEP: 1\n",
      "ALHA ALFA SUNSCREEN &amp; FOUNDATION - TAN: 5\n",
      "ALHA ALFA FACE BRUSH - BRUSH SET: 1\n",
      "ALHA ALFA EYE BRUSH - BRUSH SET: 1\n",
      "ALHA ALFA CHEEKY MATTE POWDER BLUSH - BL10: 1\n",
      "ALHA ALFA BE YOU GLOW FOUNDATION - G50 WARM NATURAL: 12\n",
      "COMPACT POWDER &amp; CUSHION FOUNDATION - M30: 14\n",
      "ALHA ALFA EYE BRUSH - BRUSH E01: 1\n",
      "ALHA ALFA CHEEKY MATTE POWDER BLUSH - BL08: 5\n",
      "COMPACT POWDER &amp; CUSHION FOUNDATION - M10: 7\n",
      "ALHA ALFA SUNSCREEN &amp; FOUNDATION - LIGHT: 31\n",
      "ALHA ALFA CHEEKY MATTE POWDER BLUSH - BL06: 3\n",
      "MERDEKA SALES 2022 - SET MATTE: 5\n",
      "ALHA ALFA FACE BRUSH - BRUSH F05: 2\n",
      "HEART APPLICATOR SPONGE - BLACK: 17\n",
      "ALHA ALFA FACE BRUSH - BRUSH F02: 1\n",
      "LIP &amp; COLOR MAGIC ERASER: 8\n",
      "BUY 1 GET 1: 24\n",
      "GLOW SKIN TINTED HIDRATOR - LIGHT: 22\n",
      "ALHA ALFA FACE BRUSH - BRUSH F03: 1\n",
      "SET DIMENSI ALHA ALFA: 1452\n",
      "ALHA ALFA SUNSCREEN &amp; FOUNDATION - MEDIUM: 5\n",
      "FACIAL CLEANSER &amp; MAKEUP REMOVER - NORMAL TO DRY: 3\n",
      "GLOW SKIN TINTED HIDRATOR - MEDIUM: 22\n",
      "POCKET CAMOUFLAGE CREAM - AAP40: 2\n",
      "COMPACT POWDER &amp; CUSHION FOUNDATION - M20: 9\n",
      "ALHA ALFA FACE MASK - 01 BLACK: 1\n",
      "ALHA ALFA BE YOU MATTE FOUNDATION - M60 NATURAL TAN: 2\n",
      "LIP BOOSTER DIMENSI ALHA ALFA: 1434\n",
      "ALHA ALFA LASHES PREMIUM COLLECTION - Code 008: 1\n",
      "POCKET CAMOUFLAGE CREAM - AAP50: 2\n",
      "ROYAL PROPOLIS LUMINOUS SILK FOUNDATION SPF35 - RPF80 OXALIS: 1\n",
      "ALHA ALFA LASHES PREMIUM COLLECTION - Code 009: 3\n",
      "COMPACT POWDER &amp; CUSHION FOUNDATION - M50: 2\n",
      "ALHA ALFA BE YOU MATTE FOUNDATION - M20 LIGHT: 2\n",
      "GLOW SKIN TINTED HIDRATOR - DARK: 5\n",
      "ALHA ALFA TINTED BROW SHAPING WAX: 14\n",
      "ALHA ALFA SUNSCREEN &amp; FOUNDATION - DEEP: 1\n",
      "ALHA ALFA BE YOU MATTE FOUNDATION - M70 HONEY: 2\n",
      "ALHA ALFA BE YOU MATTE FOUNDATION - M30 LIGHT MEDIUM: 1\n",
      "ROYAL PROPOLIS FOUNDATION - AURI: 7\n",
      "ROYAL PROPOLIS FOUNDATION - FERVI: 3\n",
      "ALHA ALFA BE YOU MATTE FOUNDATION - M10 FAIR: 1\n"
     ]
    }
   ],
   "source": [
    "import pandas as pd\n",
    "from collections import defaultdict\n",
    "\n",
    "# Load the dataset\n",
    "data = pd.read_csv('datasets/OrderReports.csv') \n",
    "\n",
    "product_count = defaultdict(int)\n",
    "\n",
    "# Iterate through each row in the dataset\n",
    "for index, row in data.iterrows():\n",
    "    products = row['Product(s)'].split(\", \")\n",
    "    \n",
    "    # Counting product types in each row\n",
    "    for product in products:\n",
    "        parts = product.split(\"×\")\n",
    "        quantity = int(parts[0].strip())\n",
    "        product_name = parts[1].strip()\n",
    "        product_count[product_name] += quantity\n",
    "\n",
    "# Printing the product count\n",
    "print(\"Product Counts:\")\n",
    "for product, count in product_count.items():\n",
    "    print(f\"{product}: {count}\")\n",
    "\n",
    "\n"
   ],
   "metadata": {
    "collapsed": false,
    "ExecuteTime": {
     "end_time": "2023-11-21T07:17:15.547295Z",
     "start_time": "2023-11-21T07:17:14.541122Z"
    }
   },
   "id": "25d537f2aee9969d"
  },
  {
   "cell_type": "markdown",
   "source": [
    "## Testing 2"
   ],
   "metadata": {
    "collapsed": false
   },
   "id": "1eb75874d3a38dd3"
  },
  {
   "cell_type": "code",
   "execution_count": 378,
   "outputs": [
    {
     "name": "stdout",
     "output_type": "stream",
     "text": [
      "Best Product for Each State:\n",
      "Perak: LIP BOOSTER - STRAWBERRY\n",
      "Johor: LIP BOOSTER - WATERMELON\n",
      "Melaka: LIP BOOSTER - WATERMELON\n",
      "Kelantan: LIP BOOSTER - WATERMELON\n",
      "Perlis: LIP BOOSTER - WATERMELON\n",
      "Selangor: LIP BOOSTER - STRAWBERRY\n",
      "Negeri Sembilan: LIP BOOSTER - WATERMELON\n",
      "Pahang: LIP BOOSTER - STRAWBERRY\n",
      "Penang: LIP BOOSTER - STRAWBERRY\n",
      "Kedah: LIP BOOSTER - STRAWBERRY\n",
      "Terengganu: LIP BOOSTER - WATERMELON\n",
      "WP Kuala Lumpur: LIP BOOSTER - WATERMELON\n",
      "Sarawak: LIP BOOSTER - WATERMELON\n",
      "Putrajaya: LIP BOOSTER - STRAWBERRY\n",
      "Labuan: LIP BOOSTER - STRAWBERRY\n",
      "Sabah: LIP BOOSTER - WATERMELON\n"
     ]
    }
   ],
   "source": [
    "state_product_sales = defaultdict(lambda: defaultdict(int))\n",
    "\n",
    "for index, row in data.iterrows():\n",
    "    state = row['State']\n",
    "    products = row['Product(s)'].split(\",\")\n",
    "    \n",
    "    for product in products:\n",
    "        parts = product.split(\"×\")\n",
    "        quantity = int(parts[0].strip())\n",
    "        product_name = parts[1].strip()\n",
    "        state_product_sales[state][product_name] += quantity\n",
    "        \n",
    "best_product_per_state = {}\n",
    "\n",
    "for state, product_sales in state_product_sales.items():\n",
    "    best_product = max(product_sales, key=product_sales.get)\n",
    "    best_product_per_state[state] = best_product\n",
    "    \n",
    "print(\"Best Product for Each State:\")\n",
    "for state, best_product in best_product_per_state.items():\n",
    "     print(f\"{state}: {best_product}\")"
   ],
   "metadata": {
    "collapsed": false,
    "ExecuteTime": {
     "end_time": "2023-11-21T07:17:15.604187Z",
     "start_time": "2023-11-21T07:17:14.679616Z"
    }
   },
   "id": "292a2f93d42b6a4"
  },
  {
   "cell_type": "markdown",
   "source": [
    "## Test 3"
   ],
   "metadata": {
    "collapsed": false
   },
   "id": "45f593015fba4f3"
  },
  {
   "cell_type": "code",
   "execution_count": 379,
   "outputs": [
    {
     "name": "stdout",
     "output_type": "stream",
     "text": [
      "Best Product for Each Age:\n",
      "36: LIP BOOSTER - STRAWBERRY\n",
      "25: LIP BOOSTER - WATERMELON\n",
      "31: LIP BOOSTER - STRAWBERRY\n",
      "38: LIP BOOSTER - WATERMELON\n",
      "37: LIP BOOSTER - WATERMELON\n",
      "43: LIP BOOSTER - STRAWBERRY\n",
      "27: LIP BOOSTER - STRAWBERRY\n",
      "33: LIP BOOSTER - WATERMELON\n",
      "30: LIP BOOSTER - WATERMELON\n",
      "34: LIP BOOSTER - STRAWBERRY\n",
      "35: LIP BOOSTER - STRAWBERRY\n",
      "40: LIP BOOSTER - STRAWBERRY\n",
      "32: LIP BOOSTER - WATERMELON\n",
      "29: LIP BOOSTER - WATERMELON\n",
      "44: LIP BOOSTER - WATERMELON\n",
      "41: LIP BOOSTER - STRAWBERRY\n",
      "45: LIP BOOSTER - WATERMELON\n",
      "42: LIP BOOSTER - WATERMELON\n",
      "26: LIP BOOSTER - STRAWBERRY\n",
      "39: LIP BOOSTER - WATERMELON\n",
      "28: LIP BOOSTER - STRAWBERRY\n"
     ]
    }
   ],
   "source": [
    "import pandas as pd\n",
    "from collections import defaultdict\n",
    "\n",
    "age_product_sales = defaultdict(lambda: defaultdict(int))\n",
    "\n",
    "# Iterate through each row in the dataset\n",
    "for index, row in data.iterrows():\n",
    "    age = row['Age']\n",
    "    products = row['Product(s)'].split(\", \")\n",
    "    \n",
    "    # Counting product types for each age\n",
    "    for product in products:\n",
    "        parts = product.split(\"×\")\n",
    "        quantity = int(parts[0].strip())\n",
    "        product_name = parts[1].strip()\n",
    "        age_product_sales[age][product_name] += quantity\n",
    "\n",
    "# Finding the best product for each age\n",
    "best_products_per_age = {}\n",
    "for age, product_sales in age_product_sales.items():\n",
    "    best_product = max(product_sales, key=product_sales.get)\n",
    "    best_products_per_age[age] = best_product\n",
    "\n",
    "# Printing the best product for each age\n",
    "print(\"Best Product for Each Age:\")\n",
    "for age, best_product in best_products_per_age.items():\n",
    "    print(f\"{age}: {best_product}\")"
   ],
   "metadata": {
    "collapsed": false,
    "ExecuteTime": {
     "end_time": "2023-11-21T07:17:15.743334Z",
     "start_time": "2023-11-21T07:17:14.737070Z"
    }
   },
   "id": "c6833f320927c2b2"
  },
  {
   "cell_type": "markdown",
   "source": [
    "# each state what products bought and how much "
   ],
   "metadata": {
    "collapsed": false
   },
   "id": "726148354051866f"
  },
  {
   "cell_type": "code",
   "execution_count": 380,
   "outputs": [
    {
     "name": "stdout",
     "output_type": "stream",
     "text": [
      "Product Counts:\n",
      "SATIN STAY SPF30 &amp; COMPACT POWDER - CP30:\n",
      "\tPerak: 1\n",
      "\tJohor: 1\n",
      "\tMelaka: 0\n",
      "\tKelantan: 0\n",
      "\tPerlis: 0\n",
      "\tSelangor: 0\n",
      "\tNegeri Sembilan: 3\n",
      "\tPahang: 1\n",
      "\tPenang: 0\n",
      "\tKedah: 0\n",
      "\tTerengganu: 0\n",
      "\tWP Kuala Lumpur: 0\n",
      "\tSarawak: 0\n",
      "\tPutrajaya: 0\n",
      "\tLabuan: 0\n",
      "\tSabah: 0\n",
      "ROYAL PROPOLIS FOUNDATION SPF 45 - NATURAL:\n",
      "\tPerak: 2\n",
      "\tJohor: 12\n",
      "\tMelaka: 13\n",
      "\tKelantan: 6\n",
      "\tPerlis: 3\n",
      "\tSelangor: 15\n",
      "\tNegeri Sembilan: 5\n",
      "\tPahang: 9\n",
      "\tPenang: 5\n",
      "\tKedah: 10\n",
      "\tTerengganu: 5\n",
      "\tWP Kuala Lumpur: 5\n",
      "\tSarawak: 2\n",
      "\tPutrajaya: 2\n",
      "\tLabuan: 0\n",
      "\tSabah: 0\n",
      "PREBIOTIC UV SUNSCREEN:\n",
      "\tPerak: 5\n",
      "\tJohor: 6\n",
      "\tMelaka: 2\n",
      "\tKelantan: 8\n",
      "\tPerlis: 3\n",
      "\tSelangor: 6\n",
      "\tNegeri Sembilan: 4\n",
      "\tPahang: 4\n",
      "\tPenang: 2\n",
      "\tKedah: 6\n",
      "\tTerengganu: 5\n",
      "\tWP Kuala Lumpur: 5\n",
      "\tSarawak: 0\n",
      "\tPutrajaya: 1\n",
      "\tLabuan: 0\n",
      "\tSabah: 0\n",
      "SET F 10.10 MEGA SALE:\n",
      "\tPerak: 0\n",
      "\tJohor: 0\n",
      "\tMelaka: 0\n",
      "\tKelantan: 0\n",
      "\tPerlis: 0\n",
      "\tSelangor: 1\n",
      "\tNegeri Sembilan: 0\n",
      "\tPahang: 0\n",
      "\tPenang: 0\n",
      "\tKedah: 0\n",
      "\tTerengganu: 0\n",
      "\tWP Kuala Lumpur: 0\n",
      "\tSarawak: 0\n",
      "\tPutrajaya: 0\n",
      "\tLabuan: 0\n",
      "\tSabah: 0\n",
      "LIP BOOSTER - STRAWBERRY:\n",
      "\tPerak: 184\n",
      "\tJohor: 230\n",
      "\tMelaka: 251\n",
      "\tKelantan: 185\n",
      "\tPerlis: 221\n",
      "\tSelangor: 351\n",
      "\tNegeri Sembilan: 256\n",
      "\tPahang: 228\n",
      "\tPenang: 144\n",
      "\tKedah: 240\n",
      "\tTerengganu: 147\n",
      "\tWP Kuala Lumpur: 81\n",
      "\tSarawak: 8\n",
      "\tPutrajaya: 27\n",
      "\tLabuan: 5\n",
      "\tSabah: 4\n",
      "ROYAL PROPOLIS LUMINOUS SILK FOUNDATION SPF35 - RPF30 BLUEBELL:\n",
      "\tPerak: 6\n",
      "\tJohor: 6\n",
      "\tMelaka: 3\n",
      "\tKelantan: 4\n",
      "\tPerlis: 4\n",
      "\tSelangor: 6\n",
      "\tNegeri Sembilan: 3\n",
      "\tPahang: 3\n",
      "\tPenang: 5\n",
      "\tKedah: 5\n",
      "\tTerengganu: 4\n",
      "\tWP Kuala Lumpur: 5\n",
      "\tSarawak: 0\n",
      "\tPutrajaya: 0\n",
      "\tLabuan: 0\n",
      "\tSabah: 0\n",
      "ROYAL PROPOLIS LUMINOUS SILK FOUNDATION - MINI - AURI:\n",
      "\tPerak: 1\n",
      "\tJohor: 2\n",
      "\tMelaka: 7\n",
      "\tKelantan: 1\n",
      "\tPerlis: 0\n",
      "\tSelangor: 2\n",
      "\tNegeri Sembilan: 2\n",
      "\tPahang: 0\n",
      "\tPenang: 1\n",
      "\tKedah: 1\n",
      "\tTerengganu: 1\n",
      "\tWP Kuala Lumpur: 1\n",
      "\tSarawak: 0\n",
      "\tPutrajaya: 0\n",
      "\tLabuan: 0\n",
      "\tSabah: 0\n",
      "POCKET CAMOUFLAGE CREAM - AAP10:\n",
      "\tPerak: 2\n",
      "\tJohor: 2\n",
      "\tMelaka: 2\n",
      "\tKelantan: 2\n",
      "\tPerlis: 1\n",
      "\tSelangor: 0\n",
      "\tNegeri Sembilan: 1\n",
      "\tPahang: 1\n",
      "\tPenang: 0\n",
      "\tKedah: 4\n",
      "\tTerengganu: 2\n",
      "\tWP Kuala Lumpur: 0\n",
      "\tSarawak: 0\n",
      "\tPutrajaya: 0\n",
      "\tLabuan: 0\n",
      "\tSabah: 0\n",
      "ALHA ALFA LASHES PREMIUM COLLECTION - Code 007:\n",
      "\tPerak: 1\n",
      "\tJohor: 0\n",
      "\tMelaka: 0\n",
      "\tKelantan: 1\n",
      "\tPerlis: 0\n",
      "\tSelangor: 2\n",
      "\tNegeri Sembilan: 0\n",
      "\tPahang: 0\n",
      "\tPenang: 0\n",
      "\tKedah: 1\n",
      "\tTerengganu: 0\n",
      "\tWP Kuala Lumpur: 0\n",
      "\tSarawak: 0\n",
      "\tPutrajaya: 0\n",
      "\tLabuan: 0\n",
      "\tSabah: 0\n",
      "BUY 1 GET 1:\n",
      "\tPerak: 1\n",
      "\tJohor: 2\n",
      "\tMelaka: 2\n",
      "\tKelantan: 2\n",
      "\tPerlis: 3\n",
      "\tSelangor: 1\n",
      "\tNegeri Sembilan: 2\n",
      "\tPahang: 1\n",
      "\tPenang: 3\n",
      "\tKedah: 2\n",
      "\tTerengganu: 3\n",
      "\tWP Kuala Lumpur: 1\n",
      "\tSarawak: 0\n",
      "\tPutrajaya: 0\n",
      "\tLabuan: 0\n",
      "\tSabah: 1\n",
      "LIP BOOSTER - CHERRY:\n",
      "\tPerak: 13\n",
      "\tJohor: 16\n",
      "\tMelaka: 21\n",
      "\tKelantan: 16\n",
      "\tPerlis: 19\n",
      "\tSelangor: 34\n",
      "\tNegeri Sembilan: 22\n",
      "\tPahang: 14\n",
      "\tPenang: 12\n",
      "\tKedah: 10\n",
      "\tTerengganu: 6\n",
      "\tWP Kuala Lumpur: 10\n",
      "\tSarawak: 1\n",
      "\tPutrajaya: 4\n",
      "\tLabuan: 0\n",
      "\tSabah: 2\n",
      "LIP &amp; COLOR MAGIC ERASER:\n",
      "\tPerak: 0\n",
      "\tJohor: 1\n",
      "\tMelaka: 0\n",
      "\tKelantan: 0\n",
      "\tPerlis: 3\n",
      "\tSelangor: 1\n",
      "\tNegeri Sembilan: 2\n",
      "\tPahang: 0\n",
      "\tPenang: 0\n",
      "\tKedah: 0\n",
      "\tTerengganu: 0\n",
      "\tWP Kuala Lumpur: 1\n",
      "\tSarawak: 0\n",
      "\tPutrajaya: 0\n",
      "\tLabuan: 0\n",
      "\tSabah: 0\n",
      "COLLAGEN SERUM FOUNDATION ALHA ALFA - LIGHT:\n",
      "\tPerak: 52\n",
      "\tJohor: 67\n",
      "\tMelaka: 82\n",
      "\tKelantan: 49\n",
      "\tPerlis: 62\n",
      "\tSelangor: 91\n",
      "\tNegeri Sembilan: 73\n",
      "\tPahang: 55\n",
      "\tPenang: 29\n",
      "\tKedah: 78\n",
      "\tTerengganu: 53\n",
      "\tWP Kuala Lumpur: 19\n",
      "\tSarawak: 2\n",
      "\tPutrajaya: 13\n",
      "\tLabuan: 0\n",
      "\tSabah: 3\n",
      "ALHA ALFA CHEEKY MATTE POWDER BLUSH - BL03:\n",
      "\tPerak: 0\n",
      "\tJohor: 1\n",
      "\tMelaka: 1\n",
      "\tKelantan: 1\n",
      "\tPerlis: 1\n",
      "\tSelangor: 2\n",
      "\tNegeri Sembilan: 3\n",
      "\tPahang: 3\n",
      "\tPenang: 0\n",
      "\tKedah: 0\n",
      "\tTerengganu: 0\n",
      "\tWP Kuala Lumpur: 0\n",
      "\tSarawak: 0\n",
      "\tPutrajaya: 0\n",
      "\tLabuan: 0\n",
      "\tSabah: 0\n",
      "COMPACT POWDER &amp; CUSHION FOUNDATION - M20:\n",
      "\tPerak: 0\n",
      "\tJohor: 0\n",
      "\tMelaka: 0\n",
      "\tKelantan: 1\n",
      "\tPerlis: 1\n",
      "\tSelangor: 2\n",
      "\tNegeri Sembilan: 0\n",
      "\tPahang: 2\n",
      "\tPenang: 1\n",
      "\tKedah: 1\n",
      "\tTerengganu: 1\n",
      "\tWP Kuala Lumpur: 0\n",
      "\tSarawak: 0\n",
      "\tPutrajaya: 0\n",
      "\tLabuan: 0\n",
      "\tSabah: 0\n",
      "SET C 10.10 MEGA SALE:\n",
      "\tPerak: 0\n",
      "\tJohor: 0\n",
      "\tMelaka: 0\n",
      "\tKelantan: 0\n",
      "\tPerlis: 0\n",
      "\tSelangor: 0\n",
      "\tNegeri Sembilan: 0\n",
      "\tPahang: 0\n",
      "\tPenang: 0\n",
      "\tKedah: 1\n",
      "\tTerengganu: 0\n",
      "\tWP Kuala Lumpur: 0\n",
      "\tSarawak: 0\n",
      "\tPutrajaya: 0\n",
      "\tLabuan: 0\n",
      "\tSabah: 0\n",
      "ALHA ALFA BE YOU GLOW FOUNDATION - G50 WARM NATURAL:\n",
      "\tPerak: 2\n",
      "\tJohor: 1\n",
      "\tMelaka: 1\n",
      "\tKelantan: 1\n",
      "\tPerlis: 1\n",
      "\tSelangor: 2\n",
      "\tNegeri Sembilan: 1\n",
      "\tPahang: 0\n",
      "\tPenang: 0\n",
      "\tKedah: 2\n",
      "\tTerengganu: 1\n",
      "\tWP Kuala Lumpur: 0\n",
      "\tSarawak: 0\n",
      "\tPutrajaya: 0\n",
      "\tLabuan: 0\n",
      "\tSabah: 0\n",
      "ROYAL PROPOLIS POWDER FOUNDATION - AA40 MEDIUM DARK:\n",
      "\tPerak: 4\n",
      "\tJohor: 4\n",
      "\tMelaka: 3\n",
      "\tKelantan: 1\n",
      "\tPerlis: 0\n",
      "\tSelangor: 0\n",
      "\tNegeri Sembilan: 1\n",
      "\tPahang: 0\n",
      "\tPenang: 1\n",
      "\tKedah: 2\n",
      "\tTerengganu: 2\n",
      "\tWP Kuala Lumpur: 1\n",
      "\tSarawak: 0\n",
      "\tPutrajaya: 0\n",
      "\tLabuan: 0\n",
      "\tSabah: 0\n",
      "SATIN STAY SPF30 &amp; COMPACT POWDER - CP40:\n",
      "\tPerak: 2\n",
      "\tJohor: 2\n",
      "\tMelaka: 2\n",
      "\tKelantan: 0\n",
      "\tPerlis: 0\n",
      "\tSelangor: 2\n",
      "\tNegeri Sembilan: 1\n",
      "\tPahang: 1\n",
      "\tPenang: 1\n",
      "\tKedah: 2\n",
      "\tTerengganu: 0\n",
      "\tWP Kuala Lumpur: 0\n",
      "\tSarawak: 0\n",
      "\tPutrajaya: 0\n",
      "\tLabuan: 0\n",
      "\tSabah: 0\n",
      "FACIAL CLEANSER &amp; MAKEUP REMOVER - NORMAL TO DRY:\n",
      "\tPerak: 0\n",
      "\tJohor: 0\n",
      "\tMelaka: 1\n",
      "\tKelantan: 1\n",
      "\tPerlis: 0\n",
      "\tSelangor: 0\n",
      "\tNegeri Sembilan: 0\n",
      "\tPahang: 0\n",
      "\tPenang: 0\n",
      "\tKedah: 0\n",
      "\tTerengganu: 0\n",
      "\tWP Kuala Lumpur: 0\n",
      "\tSarawak: 0\n",
      "\tPutrajaya: 1\n",
      "\tLabuan: 0\n",
      "\tSabah: 0\n",
      "SET MISI BANTUAN ADIK ATIF:\n",
      "\tPerak: 7\n",
      "\tJohor: 17\n",
      "\tMelaka: 19\n",
      "\tKelantan: 11\n",
      "\tPerlis: 16\n",
      "\tSelangor: 21\n",
      "\tNegeri Sembilan: 13\n",
      "\tPahang: 9\n",
      "\tPenang: 4\n",
      "\tKedah: 16\n",
      "\tTerengganu: 6\n",
      "\tWP Kuala Lumpur: 7\n",
      "\tSarawak: 2\n",
      "\tPutrajaya: 2\n",
      "\tLabuan: 0\n",
      "\tSabah: 0\n",
      "ROYAL PROPOLIS LUMINOUS SILK FOUNDATION - MINI - EDEL:\n",
      "\tPerak: 1\n",
      "\tJohor: 1\n",
      "\tMelaka: 0\n",
      "\tKelantan: 0\n",
      "\tPerlis: 3\n",
      "\tSelangor: 1\n",
      "\tNegeri Sembilan: 5\n",
      "\tPahang: 2\n",
      "\tPenang: 1\n",
      "\tKedah: 1\n",
      "\tTerengganu: 1\n",
      "\tWP Kuala Lumpur: 1\n",
      "\tSarawak: 0\n",
      "\tPutrajaya: 0\n",
      "\tLabuan: 0\n",
      "\tSabah: 0\n",
      "MAGIC GLOW LIP TREATMENT OIL:\n",
      "\tPerak: 90\n",
      "\tJohor: 138\n",
      "\tMelaka: 140\n",
      "\tKelantan: 114\n",
      "\tPerlis: 107\n",
      "\tSelangor: 191\n",
      "\tNegeri Sembilan: 97\n",
      "\tPahang: 95\n",
      "\tPenang: 64\n",
      "\tKedah: 109\n",
      "\tTerengganu: 66\n",
      "\tWP Kuala Lumpur: 41\n",
      "\tSarawak: 5\n",
      "\tPutrajaya: 10\n",
      "\tLabuan: 3\n",
      "\tSabah: 2\n",
      "ROYAL PROPOLIS LUMINOUS SILK FOUNDATION SPF35 - RPF50 FICUS:\n",
      "\tPerak: 2\n",
      "\tJohor: 3\n",
      "\tMelaka: 4\n",
      "\tKelantan: 3\n",
      "\tPerlis: 2\n",
      "\tSelangor: 11\n",
      "\tNegeri Sembilan: 3\n",
      "\tPahang: 3\n",
      "\tPenang: 1\n",
      "\tKedah: 4\n",
      "\tTerengganu: 1\n",
      "\tWP Kuala Lumpur: 2\n",
      "\tSarawak: 0\n",
      "\tPutrajaya: 0\n",
      "\tLabuan: 0\n",
      "\tSabah: 0\n",
      "HEART APPLICATOR SPONGE - PEACH:\n",
      "\tPerak: 0\n",
      "\tJohor: 1\n",
      "\tMelaka: 0\n",
      "\tKelantan: 1\n",
      "\tPerlis: 0\n",
      "\tSelangor: 1\n",
      "\tNegeri Sembilan: 1\n",
      "\tPahang: 0\n",
      "\tPenang: 0\n",
      "\tKedah: 2\n",
      "\tTerengganu: 0\n",
      "\tWP Kuala Lumpur: 0\n",
      "\tSarawak: 0\n",
      "\tPutrajaya: 0\n",
      "\tLabuan: 0\n",
      "\tSabah: 1\n",
      "ALHA ALFA FACE BRUSH - BRUSH F05:\n",
      "\tPerak: 0\n",
      "\tJohor: 1\n",
      "\tMelaka: 0\n",
      "\tKelantan: 0\n",
      "\tPerlis: 0\n",
      "\tSelangor: 0\n",
      "\tNegeri Sembilan: 0\n",
      "\tPahang: 0\n",
      "\tPenang: 0\n",
      "\tKedah: 0\n",
      "\tTerengganu: 1\n",
      "\tWP Kuala Lumpur: 0\n",
      "\tSarawak: 0\n",
      "\tPutrajaya: 0\n",
      "\tLabuan: 0\n",
      "\tSabah: 0\n",
      "ALHA ALFA BE YOU MATTE FOUNDATION - M20 LIGHT:\n",
      "\tPerak: 0\n",
      "\tJohor: 0\n",
      "\tMelaka: 0\n",
      "\tKelantan: 1\n",
      "\tPerlis: 0\n",
      "\tSelangor: 0\n",
      "\tNegeri Sembilan: 0\n",
      "\tPahang: 0\n",
      "\tPenang: 0\n",
      "\tKedah: 0\n",
      "\tTerengganu: 0\n",
      "\tWP Kuala Lumpur: 0\n",
      "\tSarawak: 0\n",
      "\tPutrajaya: 0\n",
      "\tLabuan: 0\n",
      "\tSabah: 1\n",
      "GLOW SKIN TINTED HIDRATOR - DARK:\n",
      "\tPerak: 0\n",
      "\tJohor: 0\n",
      "\tMelaka: 0\n",
      "\tKelantan: 0\n",
      "\tPerlis: 1\n",
      "\tSelangor: 2\n",
      "\tNegeri Sembilan: 1\n",
      "\tPahang: 0\n",
      "\tPenang: 1\n",
      "\tKedah: 0\n",
      "\tTerengganu: 0\n",
      "\tWP Kuala Lumpur: 0\n",
      "\tSarawak: 0\n",
      "\tPutrajaya: 0\n",
      "\tLabuan: 0\n",
      "\tSabah: 0\n",
      "ALHA ALFA LASHES PREMIUM COLLECTION - Code 006:\n",
      "\tPerak: 1\n",
      "\tJohor: 0\n",
      "\tMelaka: 0\n",
      "\tKelantan: 0\n",
      "\tPerlis: 0\n",
      "\tSelangor: 0\n",
      "\tNegeri Sembilan: 0\n",
      "\tPahang: 0\n",
      "\tPenang: 0\n",
      "\tKedah: 0\n",
      "\tTerengganu: 0\n",
      "\tWP Kuala Lumpur: 0\n",
      "\tSarawak: 0\n",
      "\tPutrajaya: 0\n",
      "\tLabuan: 0\n",
      "\tSabah: 0\n",
      "ALHA ALFA CHEEKY MATTE POWDER BLUSH - BL06:\n",
      "\tPerak: 0\n",
      "\tJohor: 2\n",
      "\tMelaka: 1\n",
      "\tKelantan: 0\n",
      "\tPerlis: 0\n",
      "\tSelangor: 0\n",
      "\tNegeri Sembilan: 0\n",
      "\tPahang: 0\n",
      "\tPenang: 0\n",
      "\tKedah: 0\n",
      "\tTerengganu: 0\n",
      "\tWP Kuala Lumpur: 0\n",
      "\tSarawak: 0\n",
      "\tPutrajaya: 0\n",
      "\tLabuan: 0\n",
      "\tSabah: 0\n",
      "ROYAL PROPOLIS FOUNDATION SPF 45 - NATURAL TAN:\n",
      "\tPerak: 0\n",
      "\tJohor: 2\n",
      "\tMelaka: 0\n",
      "\tKelantan: 0\n",
      "\tPerlis: 0\n",
      "\tSelangor: 1\n",
      "\tNegeri Sembilan: 2\n",
      "\tPahang: 0\n",
      "\tPenang: 0\n",
      "\tKedah: 0\n",
      "\tTerengganu: 0\n",
      "\tWP Kuala Lumpur: 3\n",
      "\tSarawak: 0\n",
      "\tPutrajaya: 0\n",
      "\tLabuan: 0\n",
      "\tSabah: 0\n",
      "LIP BOOSTER - WATERMELON:\n",
      "\tPerak: 170\n",
      "\tJohor: 242\n",
      "\tMelaka: 254\n",
      "\tKelantan: 212\n",
      "\tPerlis: 237\n",
      "\tSelangor: 338\n",
      "\tNegeri Sembilan: 257\n",
      "\tPahang: 223\n",
      "\tPenang: 129\n",
      "\tKedah: 235\n",
      "\tTerengganu: 153\n",
      "\tWP Kuala Lumpur: 96\n",
      "\tSarawak: 10\n",
      "\tPutrajaya: 22\n",
      "\tLabuan: 3\n",
      "\tSabah: 9\n",
      "MERDEKA SALES 2022 - SET MATTE:\n",
      "\tPerak: 1\n",
      "\tJohor: 1\n",
      "\tMelaka: 0\n",
      "\tKelantan: 0\n",
      "\tPerlis: 1\n",
      "\tSelangor: 0\n",
      "\tNegeri Sembilan: 0\n",
      "\tPahang: 1\n",
      "\tPenang: 0\n",
      "\tKedah: 1\n",
      "\tTerengganu: 0\n",
      "\tWP Kuala Lumpur: 0\n",
      "\tSarawak: 0\n",
      "\tPutrajaya: 0\n",
      "\tLabuan: 0\n",
      "\tSabah: 0\n",
      "ALHA ALFA FACE BRUSH - BRUSH F02:\n",
      "\tPerak: 0\n",
      "\tJohor: 0\n",
      "\tMelaka: 0\n",
      "\tKelantan: 0\n",
      "\tPerlis: 0\n",
      "\tSelangor: 0\n",
      "\tNegeri Sembilan: 0\n",
      "\tPahang: 0\n",
      "\tPenang: 0\n",
      "\tKedah: 0\n",
      "\tTerengganu: 1\n",
      "\tWP Kuala Lumpur: 0\n",
      "\tSarawak: 0\n",
      "\tPutrajaya: 0\n",
      "\tLabuan: 0\n",
      "\tSabah: 0\n",
      "CUSHION GLOW BLUSHER - SWEET ROSE:\n",
      "\tPerak: 1\n",
      "\tJohor: 0\n",
      "\tMelaka: 4\n",
      "\tKelantan: 1\n",
      "\tPerlis: 5\n",
      "\tSelangor: 1\n",
      "\tNegeri Sembilan: 2\n",
      "\tPahang: 1\n",
      "\tPenang: 1\n",
      "\tKedah: 0\n",
      "\tTerengganu: 1\n",
      "\tWP Kuala Lumpur: 0\n",
      "\tSarawak: 0\n",
      "\tPutrajaya: 0\n",
      "\tLabuan: 0\n",
      "\tSabah: 0\n",
      "SATIN STAY SPF30 &amp; COMPACT POWDER - CP10:\n",
      "\tPerak: 0\n",
      "\tJohor: 0\n",
      "\tMelaka: 1\n",
      "\tKelantan: 1\n",
      "\tPerlis: 0\n",
      "\tSelangor: 0\n",
      "\tNegeri Sembilan: 0\n",
      "\tPahang: 0\n",
      "\tPenang: 0\n",
      "\tKedah: 0\n",
      "\tTerengganu: 0\n",
      "\tWP Kuala Lumpur: 0\n",
      "\tSarawak: 0\n",
      "\tPutrajaya: 0\n",
      "\tLabuan: 0\n",
      "\tSabah: 0\n",
      "SATIN STAY SPF30 &amp; COMPACT POWDER - CP50:\n",
      "\tPerak: 0\n",
      "\tJohor: 0\n",
      "\tMelaka: 0\n",
      "\tKelantan: 0\n",
      "\tPerlis: 0\n",
      "\tSelangor: 2\n",
      "\tNegeri Sembilan: 2\n",
      "\tPahang: 0\n",
      "\tPenang: 0\n",
      "\tKedah: 0\n",
      "\tTerengganu: 0\n",
      "\tWP Kuala Lumpur: 0\n",
      "\tSarawak: 0\n",
      "\tPutrajaya: 0\n",
      "\tLabuan: 0\n",
      "\tSabah: 0\n",
      "ALHA ALFA CHEEKY MATTE POWDER BLUSH - BL02:\n",
      "\tPerak: 0\n",
      "\tJohor: 1\n",
      "\tMelaka: 0\n",
      "\tKelantan: 0\n",
      "\tPerlis: 0\n",
      "\tSelangor: 5\n",
      "\tNegeri Sembilan: 0\n",
      "\tPahang: 0\n",
      "\tPenang: 0\n",
      "\tKedah: 0\n",
      "\tTerengganu: 0\n",
      "\tWP Kuala Lumpur: 0\n",
      "\tSarawak: 0\n",
      "\tPutrajaya: 0\n",
      "\tLabuan: 0\n",
      "\tSabah: 0\n",
      "ROYAL PROPOLIS LUMINOUS SILK FOUNDATION SPF35 - RPF70 MORRI:\n",
      "\tPerak: 0\n",
      "\tJohor: 0\n",
      "\tMelaka: 1\n",
      "\tKelantan: 0\n",
      "\tPerlis: 0\n",
      "\tSelangor: 2\n",
      "\tNegeri Sembilan: 1\n",
      "\tPahang: 0\n",
      "\tPenang: 1\n",
      "\tKedah: 0\n",
      "\tTerengganu: 0\n",
      "\tWP Kuala Lumpur: 0\n",
      "\tSarawak: 0\n",
      "\tPutrajaya: 0\n",
      "\tLabuan: 0\n",
      "\tSabah: 0\n",
      "SATIN STAY SPF30 &amp; COMPACT POWDER - CP80:\n",
      "\tPerak: 0\n",
      "\tJohor: 1\n",
      "\tMelaka: 0\n",
      "\tKelantan: 0\n",
      "\tPerlis: 0\n",
      "\tSelangor: 0\n",
      "\tNegeri Sembilan: 0\n",
      "\tPahang: 0\n",
      "\tPenang: 0\n",
      "\tKedah: 0\n",
      "\tTerengganu: 0\n",
      "\tWP Kuala Lumpur: 0\n",
      "\tSarawak: 0\n",
      "\tPutrajaya: 0\n",
      "\tLabuan: 0\n",
      "\tSabah: 0\n",
      "LIP BOOSTER DIMENSI ALHA ALFA:\n",
      "\tPerak: 100\n",
      "\tJohor: 140\n",
      "\tMelaka: 172\n",
      "\tKelantan: 98\n",
      "\tPerlis: 122\n",
      "\tSelangor: 190\n",
      "\tNegeri Sembilan: 144\n",
      "\tPahang: 93\n",
      "\tPenang: 68\n",
      "\tKedah: 129\n",
      "\tTerengganu: 102\n",
      "\tWP Kuala Lumpur: 52\n",
      "\tSarawak: 4\n",
      "\tPutrajaya: 16\n",
      "\tLabuan: 0\n",
      "\tSabah: 4\n",
      "ALHA ALFA BE YOU MATTE FOUNDATION - M30 LIGHT MEDIUM:\n",
      "\tPerak: 0\n",
      "\tJohor: 0\n",
      "\tMelaka: 0\n",
      "\tKelantan: 0\n",
      "\tPerlis: 0\n",
      "\tSelangor: 1\n",
      "\tNegeri Sembilan: 0\n",
      "\tPahang: 0\n",
      "\tPenang: 0\n",
      "\tKedah: 0\n",
      "\tTerengganu: 0\n",
      "\tWP Kuala Lumpur: 0\n",
      "\tSarawak: 0\n",
      "\tPutrajaya: 0\n",
      "\tLabuan: 0\n",
      "\tSabah: 0\n",
      "ROYAL PROPOLIS LUMINOUS SILK FOUNDATION SPF35 - RPF20 AURI:\n",
      "\tPerak: 2\n",
      "\tJohor: 3\n",
      "\tMelaka: 3\n",
      "\tKelantan: 4\n",
      "\tPerlis: 6\n",
      "\tSelangor: 5\n",
      "\tNegeri Sembilan: 3\n",
      "\tPahang: 1\n",
      "\tPenang: 2\n",
      "\tKedah: 5\n",
      "\tTerengganu: 4\n",
      "\tWP Kuala Lumpur: 1\n",
      "\tSarawak: 0\n",
      "\tPutrajaya: 0\n",
      "\tLabuan: 0\n",
      "\tSabah: 0\n",
      "POCKET CAMOUFLAGE CREAM - AAP50:\n",
      "\tPerak: 0\n",
      "\tJohor: 0\n",
      "\tMelaka: 0\n",
      "\tKelantan: 0\n",
      "\tPerlis: 1\n",
      "\tSelangor: 1\n",
      "\tNegeri Sembilan: 0\n",
      "\tPahang: 0\n",
      "\tPenang: 0\n",
      "\tKedah: 0\n",
      "\tTerengganu: 0\n",
      "\tWP Kuala Lumpur: 0\n",
      "\tSarawak: 0\n",
      "\tPutrajaya: 0\n",
      "\tLabuan: 0\n",
      "\tSabah: 0\n",
      "ALHA ALFA CHEEKY MATTE POWDER BLUSH - BL01:\n",
      "\tPerak: 1\n",
      "\tJohor: 0\n",
      "\tMelaka: 1\n",
      "\tKelantan: 3\n",
      "\tPerlis: 2\n",
      "\tSelangor: 1\n",
      "\tNegeri Sembilan: 0\n",
      "\tPahang: 1\n",
      "\tPenang: 0\n",
      "\tKedah: 2\n",
      "\tTerengganu: 0\n",
      "\tWP Kuala Lumpur: 0\n",
      "\tSarawak: 0\n",
      "\tPutrajaya: 0\n",
      "\tLabuan: 0\n",
      "\tSabah: 0\n",
      "ALHA ALFA SUNSCREEN &amp; FOUNDATION - TAN:\n",
      "\tPerak: 0\n",
      "\tJohor: 0\n",
      "\tMelaka: 1\n",
      "\tKelantan: 0\n",
      "\tPerlis: 1\n",
      "\tSelangor: 2\n",
      "\tNegeri Sembilan: 0\n",
      "\tPahang: 0\n",
      "\tPenang: 0\n",
      "\tKedah: 0\n",
      "\tTerengganu: 1\n",
      "\tWP Kuala Lumpur: 0\n",
      "\tSarawak: 0\n",
      "\tPutrajaya: 0\n",
      "\tLabuan: 0\n",
      "\tSabah: 0\n",
      "ALHA ALFA FACE BRUSH - BRUSH F01:\n",
      "\tPerak: 1\n",
      "\tJohor: 0\n",
      "\tMelaka: 3\n",
      "\tKelantan: 0\n",
      "\tPerlis: 1\n",
      "\tSelangor: 2\n",
      "\tNegeri Sembilan: 3\n",
      "\tPahang: 0\n",
      "\tPenang: 0\n",
      "\tKedah: 0\n",
      "\tTerengganu: 2\n",
      "\tWP Kuala Lumpur: 1\n",
      "\tSarawak: 0\n",
      "\tPutrajaya: 0\n",
      "\tLabuan: 0\n",
      "\tSabah: 0\n",
      "MASCARA - Dimensional:\n",
      "\tPerak: 1\n",
      "\tJohor: 5\n",
      "\tMelaka: 2\n",
      "\tKelantan: 3\n",
      "\tPerlis: 8\n",
      "\tSelangor: 8\n",
      "\tNegeri Sembilan: 3\n",
      "\tPahang: 5\n",
      "\tPenang: 0\n",
      "\tKedah: 2\n",
      "\tTerengganu: 4\n",
      "\tWP Kuala Lumpur: 2\n",
      "\tSarawak: 0\n",
      "\tPutrajaya: 1\n",
      "\tLabuan: 0\n",
      "\tSabah: 0\n",
      "CUSHION GLOW BLUSHER - ZINNIA:\n",
      "\tPerak: 0\n",
      "\tJohor: 1\n",
      "\tMelaka: 6\n",
      "\tKelantan: 2\n",
      "\tPerlis: 2\n",
      "\tSelangor: 6\n",
      "\tNegeri Sembilan: 7\n",
      "\tPahang: 0\n",
      "\tPenang: 1\n",
      "\tKedah: 3\n",
      "\tTerengganu: 0\n",
      "\tWP Kuala Lumpur: 0\n",
      "\tSarawak: 1\n",
      "\tPutrajaya: 0\n",
      "\tLabuan: 0\n",
      "\tSabah: 0\n",
      "ROYAL PROPOLIS POWDER FOUNDATION - AA50 DARK:\n",
      "\tPerak: 0\n",
      "\tJohor: 0\n",
      "\tMelaka: 0\n",
      "\tKelantan: 0\n",
      "\tPerlis: 2\n",
      "\tSelangor: 0\n",
      "\tNegeri Sembilan: 0\n",
      "\tPahang: 0\n",
      "\tPenang: 0\n",
      "\tKedah: 0\n",
      "\tTerengganu: 0\n",
      "\tWP Kuala Lumpur: 0\n",
      "\tSarawak: 0\n",
      "\tPutrajaya: 0\n",
      "\tLabuan: 0\n",
      "\tSabah: 0\n",
      "ROYAL PROPOLIS POWDER FOUNDATION - AA30 NATURAL BEIGE:\n",
      "\tPerak: 20\n",
      "\tJohor: 26\n",
      "\tMelaka: 28\n",
      "\tKelantan: 17\n",
      "\tPerlis: 23\n",
      "\tSelangor: 31\n",
      "\tNegeri Sembilan: 33\n",
      "\tPahang: 22\n",
      "\tPenang: 14\n",
      "\tKedah: 26\n",
      "\tTerengganu: 27\n",
      "\tWP Kuala Lumpur: 5\n",
      "\tSarawak: 1\n",
      "\tPutrajaya: 1\n",
      "\tLabuan: 0\n",
      "\tSabah: 0\n",
      "COMPACT POWDER &amp; CUSHION FOUNDATION - M10:\n",
      "\tPerak: 0\n",
      "\tJohor: 1\n",
      "\tMelaka: 1\n",
      "\tKelantan: 0\n",
      "\tPerlis: 1\n",
      "\tSelangor: 2\n",
      "\tNegeri Sembilan: 0\n",
      "\tPahang: 1\n",
      "\tPenang: 0\n",
      "\tKedah: 0\n",
      "\tTerengganu: 0\n",
      "\tWP Kuala Lumpur: 0\n",
      "\tSarawak: 0\n",
      "\tPutrajaya: 0\n",
      "\tLabuan: 1\n",
      "\tSabah: 0\n",
      "BRIGHTEN UP & HYDRATE SKINCARE DUO:\n",
      "\tPerak: 1\n",
      "\tJohor: 0\n",
      "\tMelaka: 0\n",
      "\tKelantan: 1\n",
      "\tPerlis: 0\n",
      "\tSelangor: 1\n",
      "\tNegeri Sembilan: 0\n",
      "\tPahang: 0\n",
      "\tPenang: 0\n",
      "\tKedah: 1\n",
      "\tTerengganu: 0\n",
      "\tWP Kuala Lumpur: 0\n",
      "\tSarawak: 0\n",
      "\tPutrajaya: 0\n",
      "\tLabuan: 0\n",
      "\tSabah: 0\n",
      "SUPER STAY FIXING POWDER - BROWN:\n",
      "\tPerak: 1\n",
      "\tJohor: 5\n",
      "\tMelaka: 4\n",
      "\tKelantan: 0\n",
      "\tPerlis: 0\n",
      "\tSelangor: 5\n",
      "\tNegeri Sembilan: 3\n",
      "\tPahang: 1\n",
      "\tPenang: 1\n",
      "\tKedah: 6\n",
      "\tTerengganu: 2\n",
      "\tWP Kuala Lumpur: 2\n",
      "\tSarawak: 0\n",
      "\tPutrajaya: 1\n",
      "\tLabuan: 0\n",
      "\tSabah: 0\n",
      "ALHA ALFA SUNSCREEN &amp; FOUNDATION - DEEP:\n",
      "\tPerak: 0\n",
      "\tJohor: 0\n",
      "\tMelaka: 0\n",
      "\tKelantan: 0\n",
      "\tPerlis: 1\n",
      "\tSelangor: 0\n",
      "\tNegeri Sembilan: 0\n",
      "\tPahang: 0\n",
      "\tPenang: 0\n",
      "\tKedah: 0\n",
      "\tTerengganu: 0\n",
      "\tWP Kuala Lumpur: 0\n",
      "\tSarawak: 0\n",
      "\tPutrajaya: 0\n",
      "\tLabuan: 0\n",
      "\tSabah: 0\n",
      "SUPER STAY FIXING POWDER - PINK:\n",
      "\tPerak: 2\n",
      "\tJohor: 2\n",
      "\tMelaka: 5\n",
      "\tKelantan: 0\n",
      "\tPerlis: 2\n",
      "\tSelangor: 2\n",
      "\tNegeri Sembilan: 5\n",
      "\tPahang: 3\n",
      "\tPenang: 2\n",
      "\tKedah: 5\n",
      "\tTerengganu: 1\n",
      "\tWP Kuala Lumpur: 4\n",
      "\tSarawak: 0\n",
      "\tPutrajaya: 0\n",
      "\tLabuan: 0\n",
      "\tSabah: 1\n",
      "ALHA ALFA LASHES PREMIUM COLLECTION - Code 009:\n",
      "\tPerak: 0\n",
      "\tJohor: 1\n",
      "\tMelaka: 0\n",
      "\tKelantan: 1\n",
      "\tPerlis: 0\n",
      "\tSelangor: 0\n",
      "\tNegeri Sembilan: 1\n",
      "\tPahang: 0\n",
      "\tPenang: 0\n",
      "\tKedah: 0\n",
      "\tTerengganu: 0\n",
      "\tWP Kuala Lumpur: 0\n",
      "\tSarawak: 0\n",
      "\tPutrajaya: 0\n",
      "\tLabuan: 0\n",
      "\tSabah: 0\n",
      "ALHA ALFA EYE BRUSH - BRUSH E01:\n",
      "\tPerak: 0\n",
      "\tJohor: 0\n",
      "\tMelaka: 0\n",
      "\tKelantan: 0\n",
      "\tPerlis: 0\n",
      "\tSelangor: 1\n",
      "\tNegeri Sembilan: 0\n",
      "\tPahang: 0\n",
      "\tPenang: 0\n",
      "\tKedah: 0\n",
      "\tTerengganu: 0\n",
      "\tWP Kuala Lumpur: 0\n",
      "\tSarawak: 0\n",
      "\tPutrajaya: 0\n",
      "\tLabuan: 0\n",
      "\tSabah: 0\n",
      "LONG LASTING MAKEUP SETTING SPRAY - REAL GLOW:\n",
      "\tPerak: 2\n",
      "\tJohor: 4\n",
      "\tMelaka: 5\n",
      "\tKelantan: 5\n",
      "\tPerlis: 2\n",
      "\tSelangor: 8\n",
      "\tNegeri Sembilan: 6\n",
      "\tPahang: 2\n",
      "\tPenang: 2\n",
      "\tKedah: 6\n",
      "\tTerengganu: 6\n",
      "\tWP Kuala Lumpur: 0\n",
      "\tSarawak: 0\n",
      "\tPutrajaya: 0\n",
      "\tLabuan: 0\n",
      "\tSabah: 0\n",
      "ALHA ALFA SKIN BOOSTER:\n",
      "\tPerak: 19\n",
      "\tJohor: 84\n",
      "\tMelaka: 31\n",
      "\tKelantan: 23\n",
      "\tPerlis: 32\n",
      "\tSelangor: 45\n",
      "\tNegeri Sembilan: 31\n",
      "\tPahang: 33\n",
      "\tPenang: 6\n",
      "\tKedah: 25\n",
      "\tTerengganu: 21\n",
      "\tWP Kuala Lumpur: 15\n",
      "\tSarawak: 2\n",
      "\tPutrajaya: 4\n",
      "\tLabuan: 1\n",
      "\tSabah: 0\n",
      "PRESSED POWDER PALETTE - TANGERINE:\n",
      "\tPerak: 1\n",
      "\tJohor: 0\n",
      "\tMelaka: 1\n",
      "\tKelantan: 0\n",
      "\tPerlis: 0\n",
      "\tSelangor: 6\n",
      "\tNegeri Sembilan: 3\n",
      "\tPahang: 0\n",
      "\tPenang: 2\n",
      "\tKedah: 0\n",
      "\tTerengganu: 2\n",
      "\tWP Kuala Lumpur: 0\n",
      "\tSarawak: 0\n",
      "\tPutrajaya: 0\n",
      "\tLabuan: 0\n",
      "\tSabah: 0\n",
      "ROYAL PROPOLIS POWDER FOUNDATION - AA20 MEDIUM LIGHT:\n",
      "\tPerak: 10\n",
      "\tJohor: 24\n",
      "\tMelaka: 23\n",
      "\tKelantan: 20\n",
      "\tPerlis: 23\n",
      "\tSelangor: 28\n",
      "\tNegeri Sembilan: 26\n",
      "\tPahang: 13\n",
      "\tPenang: 8\n",
      "\tKedah: 17\n",
      "\tTerengganu: 14\n",
      "\tWP Kuala Lumpur: 9\n",
      "\tSarawak: 1\n",
      "\tPutrajaya: 4\n",
      "\tLabuan: 0\n",
      "\tSabah: 0\n",
      "ALHA ALFA CHEEKY MATTE POWDER BLUSH - BL04:\n",
      "\tPerak: 1\n",
      "\tJohor: 1\n",
      "\tMelaka: 0\n",
      "\tKelantan: 0\n",
      "\tPerlis: 0\n",
      "\tSelangor: 4\n",
      "\tNegeri Sembilan: 0\n",
      "\tPahang: 2\n",
      "\tPenang: 0\n",
      "\tKedah: 0\n",
      "\tTerengganu: 0\n",
      "\tWP Kuala Lumpur: 0\n",
      "\tSarawak: 0\n",
      "\tPutrajaya: 0\n",
      "\tLabuan: 0\n",
      "\tSabah: 0\n",
      "SET E 10.10 MEGA SALE:\n",
      "\tPerak: 0\n",
      "\tJohor: 0\n",
      "\tMelaka: 0\n",
      "\tKelantan: 1\n",
      "\tPerlis: 0\n",
      "\tSelangor: 0\n",
      "\tNegeri Sembilan: 0\n",
      "\tPahang: 0\n",
      "\tPenang: 0\n",
      "\tKedah: 0\n",
      "\tTerengganu: 0\n",
      "\tWP Kuala Lumpur: 0\n",
      "\tSarawak: 0\n",
      "\tPutrajaya: 0\n",
      "\tLabuan: 0\n",
      "\tSabah: 0\n",
      "ROYAL PROPOLIS POWDER FOUNDATION - HD - HIGH DEFINITION OIL FREE POWDER:\n",
      "\tPerak: 7\n",
      "\tJohor: 8\n",
      "\tMelaka: 13\n",
      "\tKelantan: 8\n",
      "\tPerlis: 7\n",
      "\tSelangor: 13\n",
      "\tNegeri Sembilan: 5\n",
      "\tPahang: 42\n",
      "\tPenang: 6\n",
      "\tKedah: 10\n",
      "\tTerengganu: 7\n",
      "\tWP Kuala Lumpur: 0\n",
      "\tSarawak: 0\n",
      "\tPutrajaya: 3\n",
      "\tLabuan: 0\n",
      "\tSabah: 1\n",
      "HEART APPLICATOR SPONGE - NUDE:\n",
      "\tPerak: 1\n",
      "\tJohor: 0\n",
      "\tMelaka: 1\n",
      "\tKelantan: 1\n",
      "\tPerlis: 0\n",
      "\tSelangor: 1\n",
      "\tNegeri Sembilan: 1\n",
      "\tPahang: 0\n",
      "\tPenang: 1\n",
      "\tKedah: 0\n",
      "\tTerengganu: 0\n",
      "\tWP Kuala Lumpur: 0\n",
      "\tSarawak: 0\n",
      "\tPutrajaya: 0\n",
      "\tLabuan: 0\n",
      "\tSabah: 0\n",
      "COLLAGEN SERUM FOUNDATION ALHA ALFA - DARK:\n",
      "\tPerak: 5\n",
      "\tJohor: 5\n",
      "\tMelaka: 9\n",
      "\tKelantan: 1\n",
      "\tPerlis: 2\n",
      "\tSelangor: 12\n",
      "\tNegeri Sembilan: 5\n",
      "\tPahang: 6\n",
      "\tPenang: 1\n",
      "\tKedah: 5\n",
      "\tTerengganu: 2\n",
      "\tWP Kuala Lumpur: 2\n",
      "\tSarawak: 0\n",
      "\tPutrajaya: 2\n",
      "\tLabuan: 0\n",
      "\tSabah: 0\n",
      "ROYAL PROPOLIS FOUNDATION SPF 45 - WARM NATURAL:\n",
      "\tPerak: 1\n",
      "\tJohor: 2\n",
      "\tMelaka: 2\n",
      "\tKelantan: 2\n",
      "\tPerlis: 1\n",
      "\tSelangor: 1\n",
      "\tNegeri Sembilan: 1\n",
      "\tPahang: 3\n",
      "\tPenang: 2\n",
      "\tKedah: 2\n",
      "\tTerengganu: 2\n",
      "\tWP Kuala Lumpur: 0\n",
      "\tSarawak: 0\n",
      "\tPutrajaya: 0\n",
      "\tLabuan: 0\n",
      "\tSabah: 0\n",
      "ALHA ALFA FOGGY LIPS - CARNATION:\n",
      "\tPerak: 0\n",
      "\tJohor: 1\n",
      "\tMelaka: 8\n",
      "\tKelantan: 1\n",
      "\tPerlis: 3\n",
      "\tSelangor: 1\n",
      "\tNegeri Sembilan: 4\n",
      "\tPahang: 2\n",
      "\tPenang: 1\n",
      "\tKedah: 2\n",
      "\tTerengganu: 3\n",
      "\tWP Kuala Lumpur: 2\n",
      "\tSarawak: 1\n",
      "\tPutrajaya: 0\n",
      "\tLabuan: 0\n",
      "\tSabah: 0\n",
      "SATIN STAY SPF30 &amp; COMPACT POWDER - CP60:\n",
      "\tPerak: 2\n",
      "\tJohor: 3\n",
      "\tMelaka: 2\n",
      "\tKelantan: 1\n",
      "\tPerlis: 1\n",
      "\tSelangor: 2\n",
      "\tNegeri Sembilan: 0\n",
      "\tPahang: 1\n",
      "\tPenang: 0\n",
      "\tKedah: 2\n",
      "\tTerengganu: 1\n",
      "\tWP Kuala Lumpur: 0\n",
      "\tSarawak: 0\n",
      "\tPutrajaya: 2\n",
      "\tLabuan: 0\n",
      "\tSabah: 0\n",
      "SUPER STAY FIXING POWDER - MINI - TRANSLUCENT:\n",
      "\tPerak: 2\n",
      "\tJohor: 7\n",
      "\tMelaka: 11\n",
      "\tKelantan: 3\n",
      "\tPerlis: 7\n",
      "\tSelangor: 6\n",
      "\tNegeri Sembilan: 13\n",
      "\tPahang: 1\n",
      "\tPenang: 2\n",
      "\tKedah: 3\n",
      "\tTerengganu: 4\n",
      "\tWP Kuala Lumpur: 5\n",
      "\tSarawak: 0\n",
      "\tPutrajaya: 0\n",
      "\tLabuan: 1\n",
      "\tSabah: 0\n",
      "SET B 10.10 MEGA SALE:\n",
      "\tPerak: 0\n",
      "\tJohor: 0\n",
      "\tMelaka: 0\n",
      "\tKelantan: 1\n",
      "\tPerlis: 0\n",
      "\tSelangor: 1\n",
      "\tNegeri Sembilan: 2\n",
      "\tPahang: 0\n",
      "\tPenang: 0\n",
      "\tKedah: 0\n",
      "\tTerengganu: 0\n",
      "\tWP Kuala Lumpur: 0\n",
      "\tSarawak: 0\n",
      "\tPutrajaya: 0\n",
      "\tLabuan: 0\n",
      "\tSabah: 0\n",
      "COMPACT POWDER &amp; CUSHION FOUNDATION - M30:\n",
      "\tPerak: 5\n",
      "\tJohor: 3\n",
      "\tMelaka: 1\n",
      "\tKelantan: 0\n",
      "\tPerlis: 1\n",
      "\tSelangor: 0\n",
      "\tNegeri Sembilan: 1\n",
      "\tPahang: 1\n",
      "\tPenang: 1\n",
      "\tKedah: 1\n",
      "\tTerengganu: 0\n",
      "\tWP Kuala Lumpur: 0\n",
      "\tSarawak: 0\n",
      "\tPutrajaya: 0\n",
      "\tLabuan: 0\n",
      "\tSabah: 0\n",
      "SET XOXO:\n",
      "\tPerak: 10\n",
      "\tJohor: 24\n",
      "\tMelaka: 26\n",
      "\tKelantan: 14\n",
      "\tPerlis: 22\n",
      "\tSelangor: 24\n",
      "\tNegeri Sembilan: 19\n",
      "\tPahang: 19\n",
      "\tPenang: 13\n",
      "\tKedah: 14\n",
      "\tTerengganu: 9\n",
      "\tWP Kuala Lumpur: 3\n",
      "\tSarawak: 1\n",
      "\tPutrajaya: 2\n",
      "\tLabuan: 0\n",
      "\tSabah: 0\n",
      "ALHA ALFA FACE BRUSH - BRUSH F03:\n",
      "\tPerak: 1\n",
      "\tJohor: 0\n",
      "\tMelaka: 0\n",
      "\tKelantan: 0\n",
      "\tPerlis: 0\n",
      "\tSelangor: 0\n",
      "\tNegeri Sembilan: 0\n",
      "\tPahang: 0\n",
      "\tPenang: 0\n",
      "\tKedah: 0\n",
      "\tTerengganu: 0\n",
      "\tWP Kuala Lumpur: 0\n",
      "\tSarawak: 0\n",
      "\tPutrajaya: 0\n",
      "\tLabuan: 0\n",
      "\tSabah: 0\n",
      "PRESSED POWDER PALETTE - RED VELVET:\n",
      "\tPerak: 1\n",
      "\tJohor: 3\n",
      "\tMelaka: 1\n",
      "\tKelantan: 0\n",
      "\tPerlis: 1\n",
      "\tSelangor: 3\n",
      "\tNegeri Sembilan: 3\n",
      "\tPahang: 2\n",
      "\tPenang: 2\n",
      "\tKedah: 0\n",
      "\tTerengganu: 0\n",
      "\tWP Kuala Lumpur: 0\n",
      "\tSarawak: 0\n",
      "\tPutrajaya: 0\n",
      "\tLabuan: 0\n",
      "\tSabah: 1\n",
      "ALHA ALFA EYE BRUSH - BRUSH SET:\n",
      "\tPerak: 0\n",
      "\tJohor: 0\n",
      "\tMelaka: 0\n",
      "\tKelantan: 0\n",
      "\tPerlis: 0\n",
      "\tSelangor: 1\n",
      "\tNegeri Sembilan: 0\n",
      "\tPahang: 0\n",
      "\tPenang: 0\n",
      "\tKedah: 0\n",
      "\tTerengganu: 0\n",
      "\tWP Kuala Lumpur: 0\n",
      "\tSarawak: 0\n",
      "\tPutrajaya: 0\n",
      "\tLabuan: 0\n",
      "\tSabah: 0\n",
      "SUPER STAY FIXING POWDER - MINI - BROWN:\n",
      "\tPerak: 1\n",
      "\tJohor: 0\n",
      "\tMelaka: 1\n",
      "\tKelantan: 1\n",
      "\tPerlis: 1\n",
      "\tSelangor: 0\n",
      "\tNegeri Sembilan: 3\n",
      "\tPahang: 2\n",
      "\tPenang: 0\n",
      "\tKedah: 0\n",
      "\tTerengganu: 0\n",
      "\tWP Kuala Lumpur: 0\n",
      "\tSarawak: 0\n",
      "\tPutrajaya: 0\n",
      "\tLabuan: 0\n",
      "\tSabah: 0\n",
      "ALHA ALFA BE YOU MATTE FOUNDATION - M40 NATURAL:\n",
      "\tPerak: 1\n",
      "\tJohor: 4\n",
      "\tMelaka: 5\n",
      "\tKelantan: 1\n",
      "\tPerlis: 1\n",
      "\tSelangor: 0\n",
      "\tNegeri Sembilan: 2\n",
      "\tPahang: 2\n",
      "\tPenang: 1\n",
      "\tKedah: 0\n",
      "\tTerengganu: 4\n",
      "\tWP Kuala Lumpur: 0\n",
      "\tSarawak: 0\n",
      "\tPutrajaya: 0\n",
      "\tLabuan: 0\n",
      "\tSabah: 1\n",
      "MASCARA - Doll Eye:\n",
      "\tPerak: 3\n",
      "\tJohor: 6\n",
      "\tMelaka: 5\n",
      "\tKelantan: 7\n",
      "\tPerlis: 5\n",
      "\tSelangor: 7\n",
      "\tNegeri Sembilan: 9\n",
      "\tPahang: 6\n",
      "\tPenang: 3\n",
      "\tKedah: 8\n",
      "\tTerengganu: 9\n",
      "\tWP Kuala Lumpur: 4\n",
      "\tSarawak: 0\n",
      "\tPutrajaya: 0\n",
      "\tLabuan: 0\n",
      "\tSabah: 0\n",
      "ROYAL PROPOLIS FOUNDATION SPF 45 - FAIR:\n",
      "\tPerak: 3\n",
      "\tJohor: 3\n",
      "\tMelaka: 4\n",
      "\tKelantan: 2\n",
      "\tPerlis: 3\n",
      "\tSelangor: 4\n",
      "\tNegeri Sembilan: 2\n",
      "\tPahang: 1\n",
      "\tPenang: 0\n",
      "\tKedah: 1\n",
      "\tTerengganu: 1\n",
      "\tWP Kuala Lumpur: 3\n",
      "\tSarawak: 0\n",
      "\tPutrajaya: 0\n",
      "\tLabuan: 0\n",
      "\tSabah: 0\n",
      "ALHA ALFA TINTED BROW SHAPING WAX:\n",
      "\tPerak: 1\n",
      "\tJohor: 3\n",
      "\tMelaka: 2\n",
      "\tKelantan: 1\n",
      "\tPerlis: 1\n",
      "\tSelangor: 1\n",
      "\tNegeri Sembilan: 1\n",
      "\tPahang: 1\n",
      "\tPenang: 2\n",
      "\tKedah: 1\n",
      "\tTerengganu: 0\n",
      "\tWP Kuala Lumpur: 0\n",
      "\tSarawak: 0\n",
      "\tPutrajaya: 0\n",
      "\tLabuan: 0\n",
      "\tSabah: 0\n",
      "ROYAL PROPOLIS FOUNDATION SPF 45 - LIGHT:\n",
      "\tPerak: 2\n",
      "\tJohor: 6\n",
      "\tMelaka: 1\n",
      "\tKelantan: 5\n",
      "\tPerlis: 6\n",
      "\tSelangor: 7\n",
      "\tNegeri Sembilan: 6\n",
      "\tPahang: 3\n",
      "\tPenang: 0\n",
      "\tKedah: 3\n",
      "\tTerengganu: 3\n",
      "\tWP Kuala Lumpur: 1\n",
      "\tSarawak: 0\n",
      "\tPutrajaya: 0\n",
      "\tLabuan: 0\n",
      "\tSabah: 0\n",
      "GLOW SKIN TINTED HIDRATOR - LIGHT:\n",
      "\tPerak: 2\n",
      "\tJohor: 2\n",
      "\tMelaka: 4\n",
      "\tKelantan: 2\n",
      "\tPerlis: 3\n",
      "\tSelangor: 0\n",
      "\tNegeri Sembilan: 2\n",
      "\tPahang: 2\n",
      "\tPenang: 1\n",
      "\tKedah: 1\n",
      "\tTerengganu: 2\n",
      "\tWP Kuala Lumpur: 1\n",
      "\tSarawak: 0\n",
      "\tPutrajaya: 0\n",
      "\tLabuan: 0\n",
      "\tSabah: 0\n",
      "ROYAL PROPOLIS FOUNDATION - AURI:\n",
      "\tPerak: 1\n",
      "\tJohor: 1\n",
      "\tMelaka: 0\n",
      "\tKelantan: 1\n",
      "\tPerlis: 0\n",
      "\tSelangor: 0\n",
      "\tNegeri Sembilan: 2\n",
      "\tPahang: 0\n",
      "\tPenang: 0\n",
      "\tKedah: 0\n",
      "\tTerengganu: 1\n",
      "\tWP Kuala Lumpur: 0\n",
      "\tSarawak: 0\n",
      "\tPutrajaya: 0\n",
      "\tLabuan: 1\n",
      "\tSabah: 0\n",
      "ALHA ALFA BE YOU MATTE FOUNDATION - M50 WARM NATURAL:\n",
      "\tPerak: 1\n",
      "\tJohor: 0\n",
      "\tMelaka: 1\n",
      "\tKelantan: 0\n",
      "\tPerlis: 0\n",
      "\tSelangor: 0\n",
      "\tNegeri Sembilan: 1\n",
      "\tPahang: 0\n",
      "\tPenang: 0\n",
      "\tKedah: 0\n",
      "\tTerengganu: 1\n",
      "\tWP Kuala Lumpur: 0\n",
      "\tSarawak: 0\n",
      "\tPutrajaya: 0\n",
      "\tLabuan: 0\n",
      "\tSabah: 0\n",
      "ALHA ALFA LASHES PREMIUM COLLECTION - Code 008:\n",
      "\tPerak: 0\n",
      "\tJohor: 1\n",
      "\tMelaka: 0\n",
      "\tKelantan: 0\n",
      "\tPerlis: 0\n",
      "\tSelangor: 0\n",
      "\tNegeri Sembilan: 0\n",
      "\tPahang: 0\n",
      "\tPenang: 0\n",
      "\tKedah: 0\n",
      "\tTerengganu: 0\n",
      "\tWP Kuala Lumpur: 0\n",
      "\tSarawak: 0\n",
      "\tPutrajaya: 0\n",
      "\tLabuan: 0\n",
      "\tSabah: 0\n",
      "ALHA ALFA SUNSCREEN &amp; FOUNDATION - MEDIUM:\n",
      "\tPerak: 0\n",
      "\tJohor: 0\n",
      "\tMelaka: 0\n",
      "\tKelantan: 0\n",
      "\tPerlis: 2\n",
      "\tSelangor: 1\n",
      "\tNegeri Sembilan: 0\n",
      "\tPahang: 0\n",
      "\tPenang: 0\n",
      "\tKedah: 0\n",
      "\tTerengganu: 2\n",
      "\tWP Kuala Lumpur: 0\n",
      "\tSarawak: 0\n",
      "\tPutrajaya: 0\n",
      "\tLabuan: 0\n",
      "\tSabah: 0\n",
      "SATIN STAY SPF30 &amp; COMPACT POWDER - CP70:\n",
      "\tPerak: 1\n",
      "\tJohor: 1\n",
      "\tMelaka: 1\n",
      "\tKelantan: 0\n",
      "\tPerlis: 1\n",
      "\tSelangor: 0\n",
      "\tNegeri Sembilan: 1\n",
      "\tPahang: 0\n",
      "\tPenang: 0\n",
      "\tKedah: 0\n",
      "\tTerengganu: 2\n",
      "\tWP Kuala Lumpur: 0\n",
      "\tSarawak: 0\n",
      "\tPutrajaya: 0\n",
      "\tLabuan: 0\n",
      "\tSabah: 0\n",
      "ALHA ALFA GLITZ RAYA HAJI SET:\n",
      "\tPerak: 1\n",
      "\tJohor: 4\n",
      "\tMelaka: 9\n",
      "\tKelantan: 2\n",
      "\tPerlis: 5\n",
      "\tSelangor: 4\n",
      "\tNegeri Sembilan: 6\n",
      "\tPahang: 2\n",
      "\tPenang: 2\n",
      "\tKedah: 2\n",
      "\tTerengganu: 3\n",
      "\tWP Kuala Lumpur: 4\n",
      "\tSarawak: 0\n",
      "\tPutrajaya: 0\n",
      "\tLabuan: 1\n",
      "\tSabah: 0\n",
      "COMPACT POWDER &amp; CUSHION FOUNDATION - M50:\n",
      "\tPerak: 0\n",
      "\tJohor: 0\n",
      "\tMelaka: 0\n",
      "\tKelantan: 1\n",
      "\tPerlis: 0\n",
      "\tSelangor: 1\n",
      "\tNegeri Sembilan: 0\n",
      "\tPahang: 0\n",
      "\tPenang: 0\n",
      "\tKedah: 0\n",
      "\tTerengganu: 0\n",
      "\tWP Kuala Lumpur: 0\n",
      "\tSarawak: 0\n",
      "\tPutrajaya: 0\n",
      "\tLabuan: 0\n",
      "\tSabah: 0\n",
      "ALHA ALFA CHEEKY MATTE POWDER BLUSH - BL05:\n",
      "\tPerak: 0\n",
      "\tJohor: 0\n",
      "\tMelaka: 0\n",
      "\tKelantan: 2\n",
      "\tPerlis: 1\n",
      "\tSelangor: 1\n",
      "\tNegeri Sembilan: 1\n",
      "\tPahang: 0\n",
      "\tPenang: 0\n",
      "\tKedah: 2\n",
      "\tTerengganu: 1\n",
      "\tWP Kuala Lumpur: 0\n",
      "\tSarawak: 0\n",
      "\tPutrajaya: 0\n",
      "\tLabuan: 0\n",
      "\tSabah: 0\n",
      "ROYAL PROPOLIS LUMINOUS SILK FOUNDATION SPF35 - RPF60 EDEL:\n",
      "\tPerak: 3\n",
      "\tJohor: 1\n",
      "\tMelaka: 2\n",
      "\tKelantan: 2\n",
      "\tPerlis: 5\n",
      "\tSelangor: 1\n",
      "\tNegeri Sembilan: 4\n",
      "\tPahang: 1\n",
      "\tPenang: 2\n",
      "\tKedah: 4\n",
      "\tTerengganu: 1\n",
      "\tWP Kuala Lumpur: 2\n",
      "\tSarawak: 0\n",
      "\tPutrajaya: 0\n",
      "\tLabuan: 0\n",
      "\tSabah: 1\n",
      "ROYAL PROPOLIS LUMINOUS SILK FOUNDATION - MINI - FERVI:\n",
      "\tPerak: 1\n",
      "\tJohor: 1\n",
      "\tMelaka: 3\n",
      "\tKelantan: 2\n",
      "\tPerlis: 2\n",
      "\tSelangor: 1\n",
      "\tNegeri Sembilan: 1\n",
      "\tPahang: 1\n",
      "\tPenang: 0\n",
      "\tKedah: 2\n",
      "\tTerengganu: 1\n",
      "\tWP Kuala Lumpur: 2\n",
      "\tSarawak: 0\n",
      "\tPutrajaya: 0\n",
      "\tLabuan: 1\n",
      "\tSabah: 0\n",
      "ROYAL PROPOLIS POWDER FOUNDATION - AA10 LIGHT:\n",
      "\tPerak: 5\n",
      "\tJohor: 10\n",
      "\tMelaka: 7\n",
      "\tKelantan: 6\n",
      "\tPerlis: 9\n",
      "\tSelangor: 19\n",
      "\tNegeri Sembilan: 6\n",
      "\tPahang: 5\n",
      "\tPenang: 1\n",
      "\tKedah: 8\n",
      "\tTerengganu: 2\n",
      "\tWP Kuala Lumpur: 3\n",
      "\tSarawak: 0\n",
      "\tPutrajaya: 1\n",
      "\tLabuan: 0\n",
      "\tSabah: 0\n",
      "ALHA ALFA BE YOU MATTE FOUNDATION - M60 NATURAL TAN:\n",
      "\tPerak: 1\n",
      "\tJohor: 0\n",
      "\tMelaka: 0\n",
      "\tKelantan: 0\n",
      "\tPerlis: 0\n",
      "\tSelangor: 0\n",
      "\tNegeri Sembilan: 0\n",
      "\tPahang: 0\n",
      "\tPenang: 0\n",
      "\tKedah: 0\n",
      "\tTerengganu: 1\n",
      "\tWP Kuala Lumpur: 0\n",
      "\tSarawak: 0\n",
      "\tPutrajaya: 0\n",
      "\tLabuan: 0\n",
      "\tSabah: 0\n",
      "LIP BOOSTER - MELON:\n",
      "\tPerak: 39\n",
      "\tJohor: 58\n",
      "\tMelaka: 71\n",
      "\tKelantan: 66\n",
      "\tPerlis: 67\n",
      "\tSelangor: 72\n",
      "\tNegeri Sembilan: 55\n",
      "\tPahang: 41\n",
      "\tPenang: 40\n",
      "\tKedah: 54\n",
      "\tTerengganu: 50\n",
      "\tWP Kuala Lumpur: 27\n",
      "\tSarawak: 2\n",
      "\tPutrajaya: 5\n",
      "\tLabuan: 2\n",
      "\tSabah: 2\n",
      "POCKET CAMOUFLAGE CREAM - AAP20:\n",
      "\tPerak: 2\n",
      "\tJohor: 3\n",
      "\tMelaka: 2\n",
      "\tKelantan: 1\n",
      "\tPerlis: 1\n",
      "\tSelangor: 5\n",
      "\tNegeri Sembilan: 1\n",
      "\tPahang: 3\n",
      "\tPenang: 1\n",
      "\tKedah: 3\n",
      "\tTerengganu: 1\n",
      "\tWP Kuala Lumpur: 0\n",
      "\tSarawak: 0\n",
      "\tPutrajaya: 0\n",
      "\tLabuan: 0\n",
      "\tSabah: 0\n",
      "ROYAL PROPOLIS FOUNDATION SPF 45 - HONEY:\n",
      "\tPerak: 7\n",
      "\tJohor: 10\n",
      "\tMelaka: 12\n",
      "\tKelantan: 9\n",
      "\tPerlis: 7\n",
      "\tSelangor: 11\n",
      "\tNegeri Sembilan: 14\n",
      "\tPahang: 6\n",
      "\tPenang: 5\n",
      "\tKedah: 7\n",
      "\tTerengganu: 5\n",
      "\tWP Kuala Lumpur: 2\n",
      "\tSarawak: 0\n",
      "\tPutrajaya: 0\n",
      "\tLabuan: 0\n",
      "\tSabah: 0\n",
      "ALHA ALFA SUNSCREEN &amp; FOUNDATION - FAIR:\n",
      "\tPerak: 2\n",
      "\tJohor: 4\n",
      "\tMelaka: 6\n",
      "\tKelantan: 4\n",
      "\tPerlis: 1\n",
      "\tSelangor: 12\n",
      "\tNegeri Sembilan: 8\n",
      "\tPahang: 2\n",
      "\tPenang: 0\n",
      "\tKedah: 3\n",
      "\tTerengganu: 3\n",
      "\tWP Kuala Lumpur: 2\n",
      "\tSarawak: 0\n",
      "\tPutrajaya: 3\n",
      "\tLabuan: 2\n",
      "\tSabah: 1\n",
      "ROYAL PROPOLIS FOUNDATION SPF 45 - LIGHT MEDIUM:\n",
      "\tPerak: 7\n",
      "\tJohor: 8\n",
      "\tMelaka: 12\n",
      "\tKelantan: 10\n",
      "\tPerlis: 11\n",
      "\tSelangor: 15\n",
      "\tNegeri Sembilan: 12\n",
      "\tPahang: 6\n",
      "\tPenang: 3\n",
      "\tKedah: 10\n",
      "\tTerengganu: 11\n",
      "\tWP Kuala Lumpur: 4\n",
      "\tSarawak: 0\n",
      "\tPutrajaya: 1\n",
      "\tLabuan: 0\n",
      "\tSabah: 0\n",
      "SATIN STAY SPF30 &amp; COMPACT POWDER - CP20:\n",
      "\tPerak: 0\n",
      "\tJohor: 1\n",
      "\tMelaka: 0\n",
      "\tKelantan: 0\n",
      "\tPerlis: 0\n",
      "\tSelangor: 1\n",
      "\tNegeri Sembilan: 0\n",
      "\tPahang: 2\n",
      "\tPenang: 0\n",
      "\tKedah: 0\n",
      "\tTerengganu: 0\n",
      "\tWP Kuala Lumpur: 0\n",
      "\tSarawak: 0\n",
      "\tPutrajaya: 1\n",
      "\tLabuan: 0\n",
      "\tSabah: 0\n",
      "ALHA ALFA FOGGY LIPS - MERLIN:\n",
      "\tPerak: 0\n",
      "\tJohor: 1\n",
      "\tMelaka: 2\n",
      "\tKelantan: 1\n",
      "\tPerlis: 1\n",
      "\tSelangor: 2\n",
      "\tNegeri Sembilan: 1\n",
      "\tPahang: 1\n",
      "\tPenang: 1\n",
      "\tKedah: 2\n",
      "\tTerengganu: 0\n",
      "\tWP Kuala Lumpur: 1\n",
      "\tSarawak: 0\n",
      "\tPutrajaya: 0\n",
      "\tLabuan: 0\n",
      "\tSabah: 0\n",
      "ROYAL PROPOLIS FOUNDATION - FERVI:\n",
      "\tPerak: 2\n",
      "\tJohor: 0\n",
      "\tMelaka: 0\n",
      "\tKelantan: 0\n",
      "\tPerlis: 0\n",
      "\tSelangor: 0\n",
      "\tNegeri Sembilan: 0\n",
      "\tPahang: 0\n",
      "\tPenang: 0\n",
      "\tKedah: 1\n",
      "\tTerengganu: 0\n",
      "\tWP Kuala Lumpur: 0\n",
      "\tSarawak: 0\n",
      "\tPutrajaya: 0\n",
      "\tLabuan: 0\n",
      "\tSabah: 0\n",
      "ALHA ALFA FACE BRUSH - BRUSH SET:\n",
      "\tPerak: 0\n",
      "\tJohor: 0\n",
      "\tMelaka: 0\n",
      "\tKelantan: 0\n",
      "\tPerlis: 0\n",
      "\tSelangor: 1\n",
      "\tNegeri Sembilan: 0\n",
      "\tPahang: 0\n",
      "\tPenang: 0\n",
      "\tKedah: 0\n",
      "\tTerengganu: 0\n",
      "\tWP Kuala Lumpur: 0\n",
      "\tSarawak: 0\n",
      "\tPutrajaya: 0\n",
      "\tLabuan: 0\n",
      "\tSabah: 0\n",
      "GLOW SKIN TINTED HIDRATOR - MEDIUM:\n",
      "\tPerak: 0\n",
      "\tJohor: 2\n",
      "\tMelaka: 0\n",
      "\tKelantan: 2\n",
      "\tPerlis: 2\n",
      "\tSelangor: 0\n",
      "\tNegeri Sembilan: 2\n",
      "\tPahang: 0\n",
      "\tPenang: 4\n",
      "\tKedah: 3\n",
      "\tTerengganu: 4\n",
      "\tWP Kuala Lumpur: 1\n",
      "\tSarawak: 0\n",
      "\tPutrajaya: 0\n",
      "\tLabuan: 0\n",
      "\tSabah: 2\n",
      "LONG LASTING MAKEUP SETTING SPRAY - REAL MATTE:\n",
      "\tPerak: 6\n",
      "\tJohor: 16\n",
      "\tMelaka: 16\n",
      "\tKelantan: 13\n",
      "\tPerlis: 10\n",
      "\tSelangor: 14\n",
      "\tNegeri Sembilan: 11\n",
      "\tPahang: 11\n",
      "\tPenang: 3\n",
      "\tKedah: 10\n",
      "\tTerengganu: 11\n",
      "\tWP Kuala Lumpur: 5\n",
      "\tSarawak: 0\n",
      "\tPutrajaya: 1\n",
      "\tLabuan: 0\n",
      "\tSabah: 0\n",
      "GLOW GLITTER SETTING SPRAY:\n",
      "\tPerak: 2\n",
      "\tJohor: 4\n",
      "\tMelaka: 11\n",
      "\tKelantan: 4\n",
      "\tPerlis: 9\n",
      "\tSelangor: 6\n",
      "\tNegeri Sembilan: 9\n",
      "\tPahang: 4\n",
      "\tPenang: 3\n",
      "\tKedah: 5\n",
      "\tTerengganu: 5\n",
      "\tWP Kuala Lumpur: 4\n",
      "\tSarawak: 0\n",
      "\tPutrajaya: 2\n",
      "\tLabuan: 1\n",
      "\tSabah: 0\n",
      "ROYAL PROPOLIS LUMINOUS SILK FOUNDATION SPF35 - RPF40 FERVI:\n",
      "\tPerak: 9\n",
      "\tJohor: 10\n",
      "\tMelaka: 8\n",
      "\tKelantan: 4\n",
      "\tPerlis: 6\n",
      "\tSelangor: 7\n",
      "\tNegeri Sembilan: 8\n",
      "\tPahang: 4\n",
      "\tPenang: 2\n",
      "\tKedah: 2\n",
      "\tTerengganu: 4\n",
      "\tWP Kuala Lumpur: 1\n",
      "\tSarawak: 0\n",
      "\tPutrajaya: 0\n",
      "\tLabuan: 0\n",
      "\tSabah: 1\n",
      "ALHA ALFA CHEEKY MATTE POWDER BLUSH - BL10:\n",
      "\tPerak: 0\n",
      "\tJohor: 0\n",
      "\tMelaka: 1\n",
      "\tKelantan: 0\n",
      "\tPerlis: 0\n",
      "\tSelangor: 0\n",
      "\tNegeri Sembilan: 0\n",
      "\tPahang: 0\n",
      "\tPenang: 0\n",
      "\tKedah: 0\n",
      "\tTerengganu: 0\n",
      "\tWP Kuala Lumpur: 0\n",
      "\tSarawak: 0\n",
      "\tPutrajaya: 0\n",
      "\tLabuan: 0\n",
      "\tSabah: 0\n",
      "ALHA ALFA SUNSCREEN &amp; FOUNDATION - LIGHT:\n",
      "\tPerak: 4\n",
      "\tJohor: 5\n",
      "\tMelaka: 1\n",
      "\tKelantan: 0\n",
      "\tPerlis: 2\n",
      "\tSelangor: 7\n",
      "\tNegeri Sembilan: 5\n",
      "\tPahang: 2\n",
      "\tPenang: 0\n",
      "\tKedah: 4\n",
      "\tTerengganu: 1\n",
      "\tWP Kuala Lumpur: 0\n",
      "\tSarawak: 0\n",
      "\tPutrajaya: 0\n",
      "\tLabuan: 0\n",
      "\tSabah: 0\n",
      "ALHA ALFA FOGGY LIPS - JULIET:\n",
      "\tPerak: 1\n",
      "\tJohor: 3\n",
      "\tMelaka: 6\n",
      "\tKelantan: 2\n",
      "\tPerlis: 9\n",
      "\tSelangor: 3\n",
      "\tNegeri Sembilan: 4\n",
      "\tPahang: 0\n",
      "\tPenang: 0\n",
      "\tKedah: 3\n",
      "\tTerengganu: 0\n",
      "\tWP Kuala Lumpur: 2\n",
      "\tSarawak: 0\n",
      "\tPutrajaya: 0\n",
      "\tLabuan: 1\n",
      "\tSabah: 0\n",
      "ROYAL PROPOLIS LUMINOUS SILK FOUNDATION - MINI - MORRI:\n",
      "\tPerak: 0\n",
      "\tJohor: 0\n",
      "\tMelaka: 0\n",
      "\tKelantan: 0\n",
      "\tPerlis: 0\n",
      "\tSelangor: 1\n",
      "\tNegeri Sembilan: 0\n",
      "\tPahang: 0\n",
      "\tPenang: 0\n",
      "\tKedah: 0\n",
      "\tTerengganu: 1\n",
      "\tWP Kuala Lumpur: 0\n",
      "\tSarawak: 0\n",
      "\tPutrajaya: 0\n",
      "\tLabuan: 0\n",
      "\tSabah: 0\n",
      "SET DIMENSI ALHA ALFA:\n",
      "\tPerak: 100\n",
      "\tJohor: 147\n",
      "\tMelaka: 176\n",
      "\tKelantan: 98\n",
      "\tPerlis: 122\n",
      "\tSelangor: 195\n",
      "\tNegeri Sembilan: 144\n",
      "\tPahang: 94\n",
      "\tPenang: 66\n",
      "\tKedah: 131\n",
      "\tTerengganu: 102\n",
      "\tWP Kuala Lumpur: 52\n",
      "\tSarawak: 4\n",
      "\tPutrajaya: 17\n",
      "\tLabuan: 0\n",
      "\tSabah: 4\n",
      "MERDEKA SET PRETTYOTIC:\n",
      "\tPerak: 4\n",
      "\tJohor: 11\n",
      "\tMelaka: 5\n",
      "\tKelantan: 7\n",
      "\tPerlis: 11\n",
      "\tSelangor: 14\n",
      "\tNegeri Sembilan: 10\n",
      "\tPahang: 10\n",
      "\tPenang: 2\n",
      "\tKedah: 7\n",
      "\tTerengganu: 11\n",
      "\tWP Kuala Lumpur: 5\n",
      "\tSarawak: 0\n",
      "\tPutrajaya: 1\n",
      "\tLabuan: 0\n",
      "\tSabah: 0\n",
      "ALHA ALFA CHEEKY MATTE POWDER BLUSH - BL08:\n",
      "\tPerak: 0\n",
      "\tJohor: 1\n",
      "\tMelaka: 0\n",
      "\tKelantan: 0\n",
      "\tPerlis: 0\n",
      "\tSelangor: 2\n",
      "\tNegeri Sembilan: 1\n",
      "\tPahang: 0\n",
      "\tPenang: 0\n",
      "\tKedah: 0\n",
      "\tTerengganu: 1\n",
      "\tWP Kuala Lumpur: 0\n",
      "\tSarawak: 0\n",
      "\tPutrajaya: 0\n",
      "\tLabuan: 0\n",
      "\tSabah: 0\n",
      "ROYAL PROPOLIS FOUNDATION SPF 45 - DEEP:\n",
      "\tPerak: 0\n",
      "\tJohor: 0\n",
      "\tMelaka: 0\n",
      "\tKelantan: 0\n",
      "\tPerlis: 1\n",
      "\tSelangor: 0\n",
      "\tNegeri Sembilan: 0\n",
      "\tPahang: 0\n",
      "\tPenang: 0\n",
      "\tKedah: 0\n",
      "\tTerengganu: 0\n",
      "\tWP Kuala Lumpur: 0\n",
      "\tSarawak: 0\n",
      "\tPutrajaya: 0\n",
      "\tLabuan: 0\n",
      "\tSabah: 0\n",
      "ROYAL PROPOLIS LUMINOUS SILK FOUNDATION SPF35 - RPF10 ACACIA:\n",
      "\tPerak: 2\n",
      "\tJohor: 2\n",
      "\tMelaka: 4\n",
      "\tKelantan: 3\n",
      "\tPerlis: 1\n",
      "\tSelangor: 3\n",
      "\tNegeri Sembilan: 0\n",
      "\tPahang: 3\n",
      "\tPenang: 2\n",
      "\tKedah: 1\n",
      "\tTerengganu: 0\n",
      "\tWP Kuala Lumpur: 0\n",
      "\tSarawak: 0\n",
      "\tPutrajaya: 0\n",
      "\tLabuan: 0\n",
      "\tSabah: 0\n",
      "ALHA ALFA BE YOU MATTE FOUNDATION - M70 HONEY:\n",
      "\tPerak: 0\n",
      "\tJohor: 1\n",
      "\tMelaka: 0\n",
      "\tKelantan: 0\n",
      "\tPerlis: 0\n",
      "\tSelangor: 1\n",
      "\tNegeri Sembilan: 0\n",
      "\tPahang: 0\n",
      "\tPenang: 0\n",
      "\tKedah: 0\n",
      "\tTerengganu: 0\n",
      "\tWP Kuala Lumpur: 0\n",
      "\tSarawak: 0\n",
      "\tPutrajaya: 0\n",
      "\tLabuan: 0\n",
      "\tSabah: 0\n",
      "EID ALHA LIP MATTE SET:\n",
      "\tPerak: 5\n",
      "\tJohor: 4\n",
      "\tMelaka: 4\n",
      "\tKelantan: 6\n",
      "\tPerlis: 6\n",
      "\tSelangor: 6\n",
      "\tNegeri Sembilan: 3\n",
      "\tPahang: 8\n",
      "\tPenang: 3\n",
      "\tKedah: 5\n",
      "\tTerengganu: 6\n",
      "\tWP Kuala Lumpur: 1\n",
      "\tSarawak: 0\n",
      "\tPutrajaya: 2\n",
      "\tLabuan: 0\n",
      "\tSabah: 0\n",
      "ALHA ALFA 5TH ANNIVERSARY MAKEUP BAG:\n",
      "\tPerak: 2\n",
      "\tJohor: 3\n",
      "\tMelaka: 0\n",
      "\tKelantan: 0\n",
      "\tPerlis: 2\n",
      "\tSelangor: 2\n",
      "\tNegeri Sembilan: 0\n",
      "\tPahang: 2\n",
      "\tPenang: 0\n",
      "\tKedah: 3\n",
      "\tTerengganu: 1\n",
      "\tWP Kuala Lumpur: 2\n",
      "\tSarawak: 0\n",
      "\tPutrajaya: 0\n",
      "\tLabuan: 0\n",
      "\tSabah: 0\n",
      "CENTELLA SKIN BOOSTER:\n",
      "\tPerak: 13\n",
      "\tJohor: 9\n",
      "\tMelaka: 10\n",
      "\tKelantan: 8\n",
      "\tPerlis: 9\n",
      "\tSelangor: 19\n",
      "\tNegeri Sembilan: 8\n",
      "\tPahang: 8\n",
      "\tPenang: 5\n",
      "\tKedah: 6\n",
      "\tTerengganu: 7\n",
      "\tWP Kuala Lumpur: 2\n",
      "\tSarawak: 0\n",
      "\tPutrajaya: 1\n",
      "\tLabuan: 0\n",
      "\tSabah: 1\n",
      "ALHA ALFA BE YOU MATTE FOUNDATION - M10 FAIR:\n",
      "\tPerak: 0\n",
      "\tJohor: 0\n",
      "\tMelaka: 0\n",
      "\tKelantan: 0\n",
      "\tPerlis: 0\n",
      "\tSelangor: 0\n",
      "\tNegeri Sembilan: 0\n",
      "\tPahang: 0\n",
      "\tPenang: 0\n",
      "\tKedah: 0\n",
      "\tTerengganu: 0\n",
      "\tWP Kuala Lumpur: 1\n",
      "\tSarawak: 0\n",
      "\tPutrajaya: 0\n",
      "\tLabuan: 0\n",
      "\tSabah: 0\n",
      "ROYAL PROPOLIS LUMINOUS SILK FOUNDATION SPF35 - RPF80 OXALIS:\n",
      "\tPerak: 0\n",
      "\tJohor: 0\n",
      "\tMelaka: 0\n",
      "\tKelantan: 1\n",
      "\tPerlis: 0\n",
      "\tSelangor: 0\n",
      "\tNegeri Sembilan: 0\n",
      "\tPahang: 0\n",
      "\tPenang: 0\n",
      "\tKedah: 0\n",
      "\tTerengganu: 0\n",
      "\tWP Kuala Lumpur: 0\n",
      "\tSarawak: 0\n",
      "\tPutrajaya: 0\n",
      "\tLabuan: 0\n",
      "\tSabah: 0\n",
      "ROYAL PROPOLIS FOUNDATION - SALVIA:\n",
      "\tPerak: 0\n",
      "\tJohor: 1\n",
      "\tMelaka: 0\n",
      "\tKelantan: 1\n",
      "\tPerlis: 0\n",
      "\tSelangor: 1\n",
      "\tNegeri Sembilan: 0\n",
      "\tPahang: 1\n",
      "\tPenang: 0\n",
      "\tKedah: 0\n",
      "\tTerengganu: 0\n",
      "\tWP Kuala Lumpur: 0\n",
      "\tSarawak: 0\n",
      "\tPutrajaya: 0\n",
      "\tLabuan: 0\n",
      "\tSabah: 0\n",
      "POCKET CAMOUFLAGE CREAM - AAP40:\n",
      "\tPerak: 0\n",
      "\tJohor: 0\n",
      "\tMelaka: 0\n",
      "\tKelantan: 0\n",
      "\tPerlis: 0\n",
      "\tSelangor: 0\n",
      "\tNegeri Sembilan: 0\n",
      "\tPahang: 0\n",
      "\tPenang: 1\n",
      "\tKedah: 1\n",
      "\tTerengganu: 0\n",
      "\tWP Kuala Lumpur: 0\n",
      "\tSarawak: 0\n",
      "\tPutrajaya: 0\n",
      "\tLabuan: 0\n",
      "\tSabah: 0\n",
      "ALHA ALFA BE YOU GLOW FOUNDATION - G60 NATURAL TAN:\n",
      "\tPerak: 2\n",
      "\tJohor: 1\n",
      "\tMelaka: 0\n",
      "\tKelantan: 0\n",
      "\tPerlis: 0\n",
      "\tSelangor: 1\n",
      "\tNegeri Sembilan: 1\n",
      "\tPahang: 1\n",
      "\tPenang: 0\n",
      "\tKedah: 0\n",
      "\tTerengganu: 2\n",
      "\tWP Kuala Lumpur: 0\n",
      "\tSarawak: 0\n",
      "\tPutrajaya: 0\n",
      "\tLabuan: 0\n",
      "\tSabah: 0\n",
      "ALHA ALFA FACE MASK - 01 BLACK:\n",
      "\tPerak: 0\n",
      "\tJohor: 0\n",
      "\tMelaka: 0\n",
      "\tKelantan: 0\n",
      "\tPerlis: 1\n",
      "\tSelangor: 0\n",
      "\tNegeri Sembilan: 0\n",
      "\tPahang: 0\n",
      "\tPenang: 0\n",
      "\tKedah: 0\n",
      "\tTerengganu: 0\n",
      "\tWP Kuala Lumpur: 0\n",
      "\tSarawak: 0\n",
      "\tPutrajaya: 0\n",
      "\tLabuan: 0\n",
      "\tSabah: 0\n",
      "HEART APPLICATOR SPONGE - BLACK:\n",
      "\tPerak: 4\n",
      "\tJohor: 3\n",
      "\tMelaka: 1\n",
      "\tKelantan: 1\n",
      "\tPerlis: 1\n",
      "\tSelangor: 3\n",
      "\tNegeri Sembilan: 1\n",
      "\tPahang: 1\n",
      "\tPenang: 0\n",
      "\tKedah: 1\n",
      "\tTerengganu: 1\n",
      "\tWP Kuala Lumpur: 0\n",
      "\tSarawak: 0\n",
      "\tPutrajaya: 0\n",
      "\tLabuan: 0\n",
      "\tSabah: 0\n",
      "SUPER STAY FIXING POWDER - TRANSLUCENT:\n",
      "\tPerak: 13\n",
      "\tJohor: 15\n",
      "\tMelaka: 13\n",
      "\tKelantan: 10\n",
      "\tPerlis: 21\n",
      "\tSelangor: 27\n",
      "\tNegeri Sembilan: 12\n",
      "\tPahang: 14\n",
      "\tPenang: 3\n",
      "\tKedah: 9\n",
      "\tTerengganu: 15\n",
      "\tWP Kuala Lumpur: 6\n",
      "\tSarawak: 0\n",
      "\tPutrajaya: 2\n",
      "\tLabuan: 0\n",
      "\tSabah: 0\n",
      "BRIGHT BOOST MOISTURIZER FACE CREAM:\n",
      "\tPerak: 11\n",
      "\tJohor: 7\n",
      "\tMelaka: 5\n",
      "\tKelantan: 13\n",
      "\tPerlis: 6\n",
      "\tSelangor: 21\n",
      "\tNegeri Sembilan: 13\n",
      "\tPahang: 5\n",
      "\tPenang: 0\n",
      "\tKedah: 6\n",
      "\tTerengganu: 5\n",
      "\tWP Kuala Lumpur: 5\n",
      "\tSarawak: 0\n",
      "\tPutrajaya: 3\n",
      "\tLabuan: 0\n",
      "\tSabah: 0\n",
      "ALHA ALFA FOGGY LIPS - CHERRY:\n",
      "\tPerak: 0\n",
      "\tJohor: 1\n",
      "\tMelaka: 2\n",
      "\tKelantan: 0\n",
      "\tPerlis: 0\n",
      "\tSelangor: 1\n",
      "\tNegeri Sembilan: 3\n",
      "\tPahang: 0\n",
      "\tPenang: 0\n",
      "\tKedah: 0\n",
      "\tTerengganu: 0\n",
      "\tWP Kuala Lumpur: 0\n",
      "\tSarawak: 0\n",
      "\tPutrajaya: 0\n",
      "\tLabuan: 0\n",
      "\tSabah: 0\n",
      "POCKET CAMOUFLAGE CREAM - AAP30:\n",
      "\tPerak: 1\n",
      "\tJohor: 3\n",
      "\tMelaka: 2\n",
      "\tKelantan: 3\n",
      "\tPerlis: 5\n",
      "\tSelangor: 4\n",
      "\tNegeri Sembilan: 1\n",
      "\tPahang: 1\n",
      "\tPenang: 4\n",
      "\tKedah: 2\n",
      "\tTerengganu: 2\n",
      "\tWP Kuala Lumpur: 0\n",
      "\tSarawak: 0\n",
      "\tPutrajaya: 0\n",
      "\tLabuan: 0\n",
      "\tSabah: 0\n",
      "COLLAGEN SERUM FOUNDATION ALHA ALFA - MEDIUM:\n",
      "\tPerak: 75\n",
      "\tJohor: 111\n",
      "\tMelaka: 118\n",
      "\tKelantan: 84\n",
      "\tPerlis: 94\n",
      "\tSelangor: 147\n",
      "\tNegeri Sembilan: 107\n",
      "\tPahang: 55\n",
      "\tPenang: 52\n",
      "\tKedah: 91\n",
      "\tTerengganu: 79\n",
      "\tWP Kuala Lumpur: 44\n",
      "\tSarawak: 2\n",
      "\tPutrajaya: 7\n",
      "\tLabuan: 0\n",
      "\tSabah: 1\n"
     ]
    }
   ],
   "source": [
    "# What products are bought in each state and how many products\n",
    "state_product_sales = defaultdict(lambda: defaultdict(int))\n",
    "\n",
    "for index, row in data.iterrows():\n",
    "    state = row['State']\n",
    "    products = row['Product(s)'].split(\",\")\n",
    "    \n",
    "    for product in products:\n",
    "        parts = product.split(\"×\")\n",
    "        quantity = int(parts[0].strip())\n",
    "        product_name = parts[1].strip()\n",
    "        state_product_sales[state][product_name] += quantity\n",
    "        \n",
    "all_products = set()\n",
    "for state, product_sales in state_product_sales.items():\n",
    "    for product in product_sales:\n",
    "        all_products.add(product)\n",
    "        \n",
    "print(\"Product Counts:\")\n",
    "for product in all_products:\n",
    "    print(f\"{product}:\")\n",
    "    for state, product_sales in state_product_sales.items():\n",
    "        print(f\"\\t{state}: {product_sales[product]}\")\n",
    "    "
   ],
   "metadata": {
    "collapsed": false,
    "ExecuteTime": {
     "end_time": "2023-11-21T07:17:15.776710Z",
     "start_time": "2023-11-21T07:17:14.830333Z"
    }
   },
   "id": "8b9b38087e8523f3"
  },
  {
   "cell_type": "markdown",
   "metadata": {},
   "source": [
    "# 2. Identifying Best-Selling Products"
   ],
   "id": "1a6a84de2e001597"
  },
  {
   "cell_type": "markdown",
   "source": [
    "### Split the Dataset into Training and Testing Sets"
   ],
   "metadata": {
    "collapsed": false
   },
   "id": "7900ce171d21a9cc"
  },
  {
   "cell_type": "code",
   "execution_count": 381,
   "outputs": [],
   "source": [
    "X = df_pl[['Product', 'N. Revenue', 'Orders']]\n",
    "le = LabelEncoder()\n",
    "X['Product'] = le.fit_transform(X['Product'])\n",
    "y = df_pl['Items sold']\n",
    "\n",
    "# Split the data into training and testing sets\n",
    "X_train, X_test, y_train, y_test = train_test_split(X, y, test_size=0.2, random_state=42)"
   ],
   "metadata": {
    "collapsed": false,
    "ExecuteTime": {
     "end_time": "2023-11-21T07:17:15.776826Z",
     "start_time": "2023-11-21T07:17:14.928449Z"
    }
   },
   "id": "2ed9339c854a8e8"
  },
  {
   "cell_type": "markdown",
   "source": [
    "### Train Model using Random Forest Regressor"
   ],
   "metadata": {
    "collapsed": false
   },
   "id": "815173ac38b59703"
  },
  {
   "cell_type": "code",
   "execution_count": 382,
   "outputs": [],
   "source": [
    "# # Create and train a Random Forest Regressor\n",
    "# model = RandomForestRegressor(n_estimators=100, random_state=42)\n",
    "# model.fit(X_train, y_train)\n",
    "\n",
    "# # Make predictions on the testing data\n",
    "# y_pred = model.predict(X_test)"
   ],
   "metadata": {
    "collapsed": false,
    "ExecuteTime": {
     "end_time": "2023-11-21T07:17:15.776988Z",
     "start_time": "2023-11-21T07:17:14.930658Z"
    }
   },
   "id": "1f053c652d97699a"
  },
  {
   "cell_type": "markdown",
   "source": [
    "### Train Model using Linear Regression"
   ],
   "metadata": {
    "collapsed": false
   },
   "id": "4b215bcad441bfcc"
  },
  {
   "cell_type": "code",
   "execution_count": 383,
   "outputs": [],
   "source": [
    "# use linear regression\n",
    "model = LinearRegression()\n",
    "model.fit(X_train, y_train)\n",
    "\n",
    "# Make predictions on the testing data\n",
    "y_pred = model.predict(X_test)"
   ],
   "metadata": {
    "collapsed": false,
    "ExecuteTime": {
     "end_time": "2023-11-21T07:17:15.777062Z",
     "start_time": "2023-11-21T07:17:14.933413Z"
    }
   },
   "id": "c24bc39bf0301f40"
  },
  {
   "cell_type": "markdown",
   "source": [
    "### Model Evaluation"
   ],
   "metadata": {
    "collapsed": false
   },
   "id": "fc061f7b87e0c013"
  },
  {
   "cell_type": "code",
   "execution_count": 384,
   "outputs": [
    {
     "name": "stdout",
     "output_type": "stream",
     "text": [
      "Mean Squared Error: 50.60064301741112\n",
      "R-squared: 0.9998223886851934\n"
     ]
    }
   ],
   "source": [
    "# Evaluate the model\n",
    "mse = mean_squared_error(y_test, y_pred)\n",
    "r2 = r2_score(y_test, y_pred)\n",
    "print(f'Mean Squared Error: {mse}')\n",
    "print(f'R-squared: {r2}')"
   ],
   "metadata": {
    "collapsed": false,
    "ExecuteTime": {
     "end_time": "2023-11-21T07:17:15.777402Z",
     "start_time": "2023-11-21T07:17:14.935886Z"
    }
   },
   "id": "349e902cab4002a2"
  },
  {
   "cell_type": "markdown",
   "source": [
    "## 2.1 Predict Best Selling Product for 2023"
   ],
   "metadata": {
    "collapsed": false
   },
   "id": "3d4841556cb78399"
  },
  {
   "cell_type": "code",
   "execution_count": 385,
   "outputs": [
    {
     "name": "stdout",
     "output_type": "stream",
     "text": [
      "The best-selling product for 2023 is: LIP BOOSTER - WATERMELON\n"
     ]
    }
   ],
   "source": [
    "# Predict the number of items sold for each product\n",
    "predicted_items_sold = model.predict(X)\n",
    "\n",
    "# Identify the best-selling product\n",
    "best_selling_product_index = predicted_items_sold.argmax()\n",
    "best_selling_product = df_pl.loc[best_selling_product_index, 'Product'] \n",
    "\n",
    "print(f'The best-selling product for 2023 is: {best_selling_product}')"
   ],
   "metadata": {
    "collapsed": false,
    "ExecuteTime": {
     "end_time": "2023-11-21T07:17:15.777668Z",
     "start_time": "2023-11-21T07:17:14.938671Z"
    }
   },
   "id": "c735f4e95ae9181a"
  },
  {
   "cell_type": "markdown",
   "source": [
    "## 2.2 Prediction for 2024 ProductList"
   ],
   "metadata": {
    "collapsed": false
   },
   "id": "40a78e4eaa657bd9"
  },
  {
   "cell_type": "code",
   "execution_count": 386,
   "metadata": {
    "ExecuteTime": {
     "end_time": "2023-11-21T07:17:15.777720Z",
     "start_time": "2023-11-21T07:17:14.941648Z"
    }
   },
   "outputs": [],
   "source": [
    "df_pl_2024 = df_pl.copy()\n",
    "# add a new column for predicted items sold\n",
    "df_pl_2024['Predicted items sold 2024'] = predicted_items_sold\n",
    "# multiply the predicted items sold by 1.1\n",
    "df_pl_2024['Predicted items sold 2024'] = df_pl_2024['Predicted items sold 2024'] * 1.1 \n",
    "df_pl_2024['Predicted items sold 2024'] = df_pl_2024['Predicted items sold 2024'].astype(int)\n",
    "#predict number of orders should be made based on the predicted items sold\n",
    "df_pl_2024['Conversion rate'] = (df_pl['Orders'] / df_pl['Items sold']).round(2)\n",
    "df_pl_2024['Predicted inventory orders 2024'] = df_pl_2024['Predicted items sold 2024'] / df_pl_2024['Conversion rate']\n",
    "df_pl_2024['Predicted inventory orders 2024'] = df_pl_2024['Predicted inventory orders 2024'].astype(int)\n",
    "#predict revenue based on the predicted items sold\n",
    "df_pl_2024['Price'] = (df_pl['N. Revenue'] / df_pl['Orders']).round(2)\n",
    "df_pl_2024['Predicted revenue 2024'] = df_pl_2024['Predicted items sold 2024'] * df_pl_2024['Price']\n",
    "df_pl_2024['Predicted revenue 2024'] = df_pl_2024['Predicted revenue 2024'].astype(int)\n",
    "# rename N. Revenue to Past Revenue\n",
    "df_pl_2024 = df_pl_2024.rename(columns={'N. Revenue': 'Past Revenue'})\n",
    "# rename Orders to Past Orders\n",
    "df_pl_2024 = df_pl_2024.rename(columns={'Orders': 'Past Orders'})\n",
    "# rename Items sold to Past Items sold\n",
    "df_pl_2024 = df_pl_2024.rename(columns={'Items sold': 'Past Items sold'})\n",
    "# rename Stock to Past Stock\n",
    "df_pl_2024 = df_pl_2024.rename(columns={'Stock': 'Past Stock'})\n",
    "# rename Status to Past Status\n",
    "df_pl_2024 = df_pl_2024.rename(columns={'Status': 'Past Status'})\n",
    "# rename Status enc to Past Status enc\n",
    "df_pl_2024 = df_pl_2024.rename(columns={'Status enc': 'Past Status enc'})"
   ],
   "id": "73c749477a2f82bf"
  },
  {
   "cell_type": "markdown",
   "source": [
    "## 2.3 Prediction for 2025 ProductList"
   ],
   "metadata": {
    "collapsed": false
   },
   "id": "10e16eaa046ec2ca"
  },
  {
   "cell_type": "code",
   "execution_count": 387,
   "outputs": [],
   "source": [
    "# predict items sold for each product for the year 2025 based on 2024\n",
    "df_pl_2025 = df_pl_2024.copy()\n",
    "# remove all the past columns \n",
    "df_pl_2025 = df_pl_2025.drop(columns=['Past Revenue', 'Past Orders', 'Past Items sold', 'Past Stock', 'Past Status', 'Past Status enc'])\n",
    "# rename Predicted items sold 2024 to Past Items sold\n",
    "df_pl_2025 = df_pl_2025.rename(columns={'Predicted items sold 2024': 'Past Items sold'})\n",
    "# rename Predicted orders 2024 to Past Orders\n",
    "df_pl_2025 = df_pl_2025.rename(columns={'Predicted inventory orders 2024': 'Past Stock'})\n",
    "# rename Predicted revenue 2024 to Past Revenue\n",
    "df_pl_2025 = df_pl_2025.rename(columns={'Predicted revenue 2024': 'Past Revenue'})\n",
    "# rename Predicted orders 2024 to Past Stock\n",
    "\n",
    "# new column for predicted items sold 2025\n",
    "df_pl_2025['Predicted items sold 2025'] = predicted_items_sold\n",
    "# multiply the predicted items sold by 1.1 * 1.1\n",
    "df_pl_2025['Predicted items sold 2025'] = df_pl_2025['Predicted items sold 2025'] * 1.1 * 1.1\n",
    "df_pl_2025['Predicted items sold 2025'] = df_pl_2025['Predicted items sold 2025'].astype(int)\n",
    "#predict number of orders should be made based on the predicted items sold\n",
    "df_pl_2025['Conversion rate'] = (df_pl_2024['Past Orders'] / df_pl_2024['Past Items sold']).round(2)\n",
    "df_pl_2025['Predicted inventory orders 2025'] = df_pl_2025['Predicted items sold 2025'] / df_pl_2025['Conversion rate']\n",
    "df_pl_2025['Predicted inventory orders 2025'] = df_pl_2025['Predicted inventory orders 2025'].astype(int)\n",
    "#predict revenue based on the predicted items sold\n",
    "df_pl_2025['Price'] = (df_pl_2025['Past Revenue'] / df_pl_2024['Past Orders']).round(2)\n",
    "df_pl_2025['Predicted revenue 2025'] = df_pl_2025['Predicted items sold 2025'] * df_pl_2025['Price']\n",
    "df_pl_2025['Predicted revenue 2025'] = df_pl_2025['Predicted revenue 2025'].astype(int)"
   ],
   "metadata": {
    "collapsed": false,
    "ExecuteTime": {
     "end_time": "2023-11-21T07:17:15.777773Z",
     "start_time": "2023-11-21T07:17:14.947741Z"
    }
   },
   "id": "ae65515ab20b4866"
  },
  {
   "cell_type": "markdown",
   "source": [
    "### Convert the Predicted Items Sold to a DataFrame"
   ],
   "metadata": {
    "collapsed": false
   },
   "id": "8f0b6ee9e2769671"
  },
  {
   "cell_type": "code",
   "execution_count": 388,
   "outputs": [
    {
     "data": {
      "text/plain": "                                        Product  SKU  Past Items sold  \\\n0                      LIP BOOSTER - WATERMELON   95             2590   \n1                      LIP BOOSTER - STRAWBERRY   96             2563   \n2  COLLAGEN SERUM FOUNDATION ALHA ALFA - MEDIUM   98             1067   \n3   COLLAGEN SERUM FOUNDATION ALHA ALFA - LIGHT   97              728   \n4                           LIP BOOSTER - MELON  100              651   \n\n   Past Revenue  Past Orders Past Status  Past Stock  Past Status enc  \\\n0       63270.9         2299    In stock          11                0   \n1       63768.9         2280    In stock         134                0   \n2        7435.1         1005    In stock          33                0   \n3        7135.7          690    In stock          41                0   \n4       16209.9          587    In stock         177                0   \n\n   Predicted items sold 2024  Conversion rate  \\\n0                       2827             0.89   \n1                       2806             0.89   \n2                       1178             0.94   \n3                        813             0.95   \n4                        720             0.90   \n\n   Predicted inventory orders 2024  Price  Predicted revenue 2024  \n0                             3176  27.52                   77799  \n1                             3152  27.97                   78483  \n2                             1253   7.40                    8717  \n3                              855  10.34                    8406  \n4                              800  27.61                   19879  ",
      "text/html": "<div>\n<style scoped>\n    .dataframe tbody tr th:only-of-type {\n        vertical-align: middle;\n    }\n\n    .dataframe tbody tr th {\n        vertical-align: top;\n    }\n\n    .dataframe thead th {\n        text-align: right;\n    }\n</style>\n<table border=\"1\" class=\"dataframe\">\n  <thead>\n    <tr style=\"text-align: right;\">\n      <th></th>\n      <th>Product</th>\n      <th>SKU</th>\n      <th>Past Items sold</th>\n      <th>Past Revenue</th>\n      <th>Past Orders</th>\n      <th>Past Status</th>\n      <th>Past Stock</th>\n      <th>Past Status enc</th>\n      <th>Predicted items sold 2024</th>\n      <th>Conversion rate</th>\n      <th>Predicted inventory orders 2024</th>\n      <th>Price</th>\n      <th>Predicted revenue 2024</th>\n    </tr>\n  </thead>\n  <tbody>\n    <tr>\n      <th>0</th>\n      <td>LIP BOOSTER - WATERMELON</td>\n      <td>95</td>\n      <td>2590</td>\n      <td>63270.9</td>\n      <td>2299</td>\n      <td>In stock</td>\n      <td>11</td>\n      <td>0</td>\n      <td>2827</td>\n      <td>0.89</td>\n      <td>3176</td>\n      <td>27.52</td>\n      <td>77799</td>\n    </tr>\n    <tr>\n      <th>1</th>\n      <td>LIP BOOSTER - STRAWBERRY</td>\n      <td>96</td>\n      <td>2563</td>\n      <td>63768.9</td>\n      <td>2280</td>\n      <td>In stock</td>\n      <td>134</td>\n      <td>0</td>\n      <td>2806</td>\n      <td>0.89</td>\n      <td>3152</td>\n      <td>27.97</td>\n      <td>78483</td>\n    </tr>\n    <tr>\n      <th>2</th>\n      <td>COLLAGEN SERUM FOUNDATION ALHA ALFA - MEDIUM</td>\n      <td>98</td>\n      <td>1067</td>\n      <td>7435.1</td>\n      <td>1005</td>\n      <td>In stock</td>\n      <td>33</td>\n      <td>0</td>\n      <td>1178</td>\n      <td>0.94</td>\n      <td>1253</td>\n      <td>7.40</td>\n      <td>8717</td>\n    </tr>\n    <tr>\n      <th>3</th>\n      <td>COLLAGEN SERUM FOUNDATION ALHA ALFA - LIGHT</td>\n      <td>97</td>\n      <td>728</td>\n      <td>7135.7</td>\n      <td>690</td>\n      <td>In stock</td>\n      <td>41</td>\n      <td>0</td>\n      <td>813</td>\n      <td>0.95</td>\n      <td>855</td>\n      <td>10.34</td>\n      <td>8406</td>\n    </tr>\n    <tr>\n      <th>4</th>\n      <td>LIP BOOSTER - MELON</td>\n      <td>100</td>\n      <td>651</td>\n      <td>16209.9</td>\n      <td>587</td>\n      <td>In stock</td>\n      <td>177</td>\n      <td>0</td>\n      <td>720</td>\n      <td>0.90</td>\n      <td>800</td>\n      <td>27.61</td>\n      <td>19879</td>\n    </tr>\n  </tbody>\n</table>\n</div>"
     },
     "metadata": {},
     "output_type": "display_data"
    },
    {
     "data": {
      "text/plain": "                                        Product  SKU  Past Items sold  \\\n0                      LIP BOOSTER - WATERMELON   95             2827   \n1                      LIP BOOSTER - STRAWBERRY   96             2806   \n2  COLLAGEN SERUM FOUNDATION ALHA ALFA - MEDIUM   98             1178   \n3   COLLAGEN SERUM FOUNDATION ALHA ALFA - LIGHT   97              813   \n4                           LIP BOOSTER - MELON  100              720   \n\n   Conversion rate  Past Stock  Price  Past Revenue  \\\n0             0.89        3176  33.84         77799   \n1             0.89        3152  34.42         78483   \n2             0.94        1253   8.67          8717   \n3             0.95         855  12.18          8406   \n4             0.90         800  33.87         19879   \n\n   Predicted items sold 2025  Predicted inventory orders 2025  \\\n0                       3110                             3494   \n1                       3087                             3468   \n2                       1295                             1377   \n3                        895                              942   \n4                        792                              880   \n\n   Predicted revenue 2025  \n0                  105242  \n1                  106254  \n2                   11227  \n3                   10901  \n4                   26825  ",
      "text/html": "<div>\n<style scoped>\n    .dataframe tbody tr th:only-of-type {\n        vertical-align: middle;\n    }\n\n    .dataframe tbody tr th {\n        vertical-align: top;\n    }\n\n    .dataframe thead th {\n        text-align: right;\n    }\n</style>\n<table border=\"1\" class=\"dataframe\">\n  <thead>\n    <tr style=\"text-align: right;\">\n      <th></th>\n      <th>Product</th>\n      <th>SKU</th>\n      <th>Past Items sold</th>\n      <th>Conversion rate</th>\n      <th>Past Stock</th>\n      <th>Price</th>\n      <th>Past Revenue</th>\n      <th>Predicted items sold 2025</th>\n      <th>Predicted inventory orders 2025</th>\n      <th>Predicted revenue 2025</th>\n    </tr>\n  </thead>\n  <tbody>\n    <tr>\n      <th>0</th>\n      <td>LIP BOOSTER - WATERMELON</td>\n      <td>95</td>\n      <td>2827</td>\n      <td>0.89</td>\n      <td>3176</td>\n      <td>33.84</td>\n      <td>77799</td>\n      <td>3110</td>\n      <td>3494</td>\n      <td>105242</td>\n    </tr>\n    <tr>\n      <th>1</th>\n      <td>LIP BOOSTER - STRAWBERRY</td>\n      <td>96</td>\n      <td>2806</td>\n      <td>0.89</td>\n      <td>3152</td>\n      <td>34.42</td>\n      <td>78483</td>\n      <td>3087</td>\n      <td>3468</td>\n      <td>106254</td>\n    </tr>\n    <tr>\n      <th>2</th>\n      <td>COLLAGEN SERUM FOUNDATION ALHA ALFA - MEDIUM</td>\n      <td>98</td>\n      <td>1178</td>\n      <td>0.94</td>\n      <td>1253</td>\n      <td>8.67</td>\n      <td>8717</td>\n      <td>1295</td>\n      <td>1377</td>\n      <td>11227</td>\n    </tr>\n    <tr>\n      <th>3</th>\n      <td>COLLAGEN SERUM FOUNDATION ALHA ALFA - LIGHT</td>\n      <td>97</td>\n      <td>813</td>\n      <td>0.95</td>\n      <td>855</td>\n      <td>12.18</td>\n      <td>8406</td>\n      <td>895</td>\n      <td>942</td>\n      <td>10901</td>\n    </tr>\n    <tr>\n      <th>4</th>\n      <td>LIP BOOSTER - MELON</td>\n      <td>100</td>\n      <td>720</td>\n      <td>0.90</td>\n      <td>800</td>\n      <td>33.87</td>\n      <td>19879</td>\n      <td>792</td>\n      <td>880</td>\n      <td>26825</td>\n    </tr>\n  </tbody>\n</table>\n</div>"
     },
     "metadata": {},
     "output_type": "display_data"
    }
   ],
   "source": [
    "# display the dataframe\n",
    "display(df_pl_2024.head())\n",
    "display(df_pl_2025.head())\n",
    "\n",
    "# save to csv\n",
    "# add header to true\n",
    "df_pl_2024.to_csv('datasets/ProductList_2024.csv', index=False, header=True)\n",
    "df_pl_2025.to_csv('datasets/ProductList_2025.csv', index=False, header=True)"
   ],
   "metadata": {
    "collapsed": false,
    "ExecuteTime": {
     "end_time": "2023-11-21T07:17:15.778153Z",
     "start_time": "2023-11-21T07:17:14.952104Z"
    }
   },
   "id": "62cac9f0a2d32a36"
  },
  {
   "cell_type": "markdown",
   "source": [
    "## 2.4 Visualizing the Predictions"
   ],
   "metadata": {
    "collapsed": false
   },
   "id": "e9450ce9ec9ca9c"
  },
  {
   "cell_type": "markdown",
   "source": [
    "### Correlation Matrix and Heatmap for ProductList"
   ],
   "metadata": {
    "collapsed": false
   },
   "id": "f70fcf30070decb1"
  },
  {
   "cell_type": "code",
   "execution_count": 389,
   "outputs": [
    {
     "data": {
      "text/plain": "                 SKU  Items sold  N. Revenue    Orders     Stock  Status enc\nSKU         1.000000    0.249647    0.196588  0.253374 -0.283340   -0.120486\nItems sold  0.249647    1.000000    0.965229  0.999743  0.003703   -0.126438\nN. Revenue  0.196588    0.965229    1.000000  0.961153 -0.001204   -0.115258\nOrders      0.253374    0.999743    0.961153  1.000000  0.003032   -0.130066\nStock      -0.283340    0.003703   -0.001204  0.003032  1.000000   -0.244943\nStatus enc -0.120486   -0.126438   -0.115258 -0.130066 -0.244943    1.000000",
      "text/html": "<div>\n<style scoped>\n    .dataframe tbody tr th:only-of-type {\n        vertical-align: middle;\n    }\n\n    .dataframe tbody tr th {\n        vertical-align: top;\n    }\n\n    .dataframe thead th {\n        text-align: right;\n    }\n</style>\n<table border=\"1\" class=\"dataframe\">\n  <thead>\n    <tr style=\"text-align: right;\">\n      <th></th>\n      <th>SKU</th>\n      <th>Items sold</th>\n      <th>N. Revenue</th>\n      <th>Orders</th>\n      <th>Stock</th>\n      <th>Status enc</th>\n    </tr>\n  </thead>\n  <tbody>\n    <tr>\n      <th>SKU</th>\n      <td>1.000000</td>\n      <td>0.249647</td>\n      <td>0.196588</td>\n      <td>0.253374</td>\n      <td>-0.283340</td>\n      <td>-0.120486</td>\n    </tr>\n    <tr>\n      <th>Items sold</th>\n      <td>0.249647</td>\n      <td>1.000000</td>\n      <td>0.965229</td>\n      <td>0.999743</td>\n      <td>0.003703</td>\n      <td>-0.126438</td>\n    </tr>\n    <tr>\n      <th>N. Revenue</th>\n      <td>0.196588</td>\n      <td>0.965229</td>\n      <td>1.000000</td>\n      <td>0.961153</td>\n      <td>-0.001204</td>\n      <td>-0.115258</td>\n    </tr>\n    <tr>\n      <th>Orders</th>\n      <td>0.253374</td>\n      <td>0.999743</td>\n      <td>0.961153</td>\n      <td>1.000000</td>\n      <td>0.003032</td>\n      <td>-0.130066</td>\n    </tr>\n    <tr>\n      <th>Stock</th>\n      <td>-0.283340</td>\n      <td>0.003703</td>\n      <td>-0.001204</td>\n      <td>0.003032</td>\n      <td>1.000000</td>\n      <td>-0.244943</td>\n    </tr>\n    <tr>\n      <th>Status enc</th>\n      <td>-0.120486</td>\n      <td>-0.126438</td>\n      <td>-0.115258</td>\n      <td>-0.130066</td>\n      <td>-0.244943</td>\n      <td>1.000000</td>\n    </tr>\n  </tbody>\n</table>\n</div>"
     },
     "metadata": {},
     "output_type": "display_data"
    },
    {
     "data": {
      "text/plain": "<Figure size 640x480 with 2 Axes>",
      "image/png": "[encoded data removed]"
     },
     "metadata": {},
     "output_type": "display_data"
    }
   ],
   "source": [
    "# Create correlation matrix\n",
    "corr_matrix = df_pl.corr()\n",
    "display(corr_matrix)\n",
    "\n",
    "# Create a heatmap\n",
    "sns.heatmap(corr_matrix, annot=True)\n",
    "plt.title('Correlation Matrix for ProductList')\n",
    "plt.show()"
   ],
   "metadata": {
    "collapsed": false,
    "ExecuteTime": {
     "end_time": "2023-11-21T07:17:15.778495Z",
     "start_time": "2023-11-21T07:17:14.959609Z"
    }
   },
   "id": "6f9c51a16310fbb"
  },
  {
   "cell_type": "markdown",
   "source": [
    "### Scatter Plot for Predicted Items Sold vs. Actual Items Sold"
   ],
   "metadata": {
    "collapsed": false
   },
   "id": "3a669fe4cfa9ec56"
  },
  {
   "cell_type": "code",
   "execution_count": 390,
   "metadata": {
    "ExecuteTime": {
     "end_time": "2023-11-21T07:17:15.779125Z",
     "start_time": "2023-11-21T07:17:15.100834Z"
    }
   },
   "outputs": [
    {
     "name": "stdout",
     "output_type": "stream",
     "text": [
      "111 111\n"
     ]
    },
    {
     "data": {
      "text/plain": "<Figure size 640x480 with 1 Axes>",
      "image/png": "[encoded data removed]"
     },
     "metadata": {},
     "output_type": "display_data"
    }
   ],
   "source": [
    "# visualize the best-selling product\n",
    "# Create a DataFrame from the predicted and actual values\n",
    "df = pd.DataFrame({'predicted': predicted_items_sold, 'actual': y})\n",
    "# print(df)\n",
    "\n",
    "# Check the lengths of 'predicted' and 'actual'\n",
    "print(len(df['predicted']), len(df['actual']))\n",
    "\n",
    "# Plot the DataFrame as a scatter plot and make both different colors\n",
    "colors = ['blue' for _ in range(len(df['predicted']))] + ['red' for _ in range(len(df['actual']))]\n",
    "plt.scatter(df['predicted'].append(df['predicted']),\n",
    "                df['actual'].append(df['actual']),\n",
    "                c=colors,\n",
    "                alpha=0.5)\n",
    "\n",
    "# Add a line for perfect correlation.\n",
    "# y = df['actual']\n",
    "# plt.plot(np.unique(df['predicted']), np.poly1d(np.polyfit(df['predicted'], y, 1))(np.unique(df['predicted'])))\n",
    "plt.xlabel('Predicted Items Sold')\n",
    "plt.ylabel('Actual Items Sold')\n",
    "plt.title('Actual vs. Predicted Items Sold')\n",
    "plt.show()"
   ],
   "id": "f48d58aac4ebbc8b"
  },
  {
   "cell_type": "code",
   "execution_count": 391,
   "metadata": {
    "ExecuteTime": {
     "end_time": "2023-11-21T07:17:15.780254Z",
     "start_time": "2023-11-21T07:17:15.169393Z"
    }
   },
   "outputs": [
    {
     "data": {
      "text/plain": "   residuals    predicted\n0  19.711533  2570.288467\n1  11.307542  2551.692458\n2  -3.923627  1070.923627\n3 -11.965474   739.965474\n4  -3.627350   654.627350",
      "text/html": "<div>\n<style scoped>\n    .dataframe tbody tr th:only-of-type {\n        vertical-align: middle;\n    }\n\n    .dataframe tbody tr th {\n        vertical-align: top;\n    }\n\n    .dataframe thead th {\n        text-align: right;\n    }\n</style>\n<table border=\"1\" class=\"dataframe\">\n  <thead>\n    <tr style=\"text-align: right;\">\n      <th></th>\n      <th>residuals</th>\n      <th>predicted</th>\n    </tr>\n  </thead>\n  <tbody>\n    <tr>\n      <th>0</th>\n      <td>19.711533</td>\n      <td>2570.288467</td>\n    </tr>\n    <tr>\n      <th>1</th>\n      <td>11.307542</td>\n      <td>2551.692458</td>\n    </tr>\n    <tr>\n      <th>2</th>\n      <td>-3.923627</td>\n      <td>1070.923627</td>\n    </tr>\n    <tr>\n      <th>3</th>\n      <td>-11.965474</td>\n      <td>739.965474</td>\n    </tr>\n    <tr>\n      <th>4</th>\n      <td>-3.627350</td>\n      <td>654.627350</td>\n    </tr>\n  </tbody>\n</table>\n</div>"
     },
     "metadata": {},
     "output_type": "display_data"
    },
    {
     "data": {
      "text/plain": "<Figure size 640x480 with 1 Axes>",
      "image/png": "[encoded data removed]"
     },
     "metadata": {},
     "output_type": "display_data"
    }
   ],
   "source": [
    "# Visualize the residuals\n",
    "# Calculate the residuals\n",
    "residuals = y - predicted_items_sold # residual = actual - predicted\n",
    "\n",
    "# Create a DataFrame of the residuals\n",
    "df = pd.DataFrame({'residuals': residuals, 'predicted': predicted_items_sold})\n",
    "display(df.head())\n",
    "\n",
    "# Plot the residuals as a histogram\n",
    "sns.histplot(data=df, x='residuals', bins=20)\n",
    "plt.show()"
   ],
   "id": "419d51efc904af6e"
  },
  {
   "cell_type": "markdown",
   "source": [
    "# 3. Viability of Monthly Subscription Plan\n"
   ],
   "metadata": {
    "collapsed": false
   },
   "id": "d8488a2d98537dfc"
  },
  {
   "cell_type": "code",
   "execution_count": 392,
   "outputs": [
    {
     "data": {
      "text/plain": "'Accuracy: 0.9968808484092326'"
     },
     "metadata": {},
     "output_type": "display_data"
    },
    {
     "data": {
      "text/plain": "array([[9.97148695e-01, 2.85130543e-03],\n       [9.99999969e-01, 3.05042806e-08],\n       [9.99999965e-01, 3.53672626e-08],\n       ...,\n       [9.99999851e-01, 1.48960025e-07],\n       [1.00000000e+00, 2.50575537e-10],\n       [9.95288565e-01, 4.71143500e-03]])"
     },
     "metadata": {},
     "output_type": "display_data"
    },
    {
     "data": {
      "text/plain": "                 Date  Order #  N. Revenue (formatted)  Status  Customer  \\\n0 2023-10-26 14:50:17  16698.0                    57.8       1        19   \n1 2023-10-26 13:53:47  16697.0                    32.9       1      1991   \n2 2023-10-26 13:04:17  16696.0                    32.9       1      6993   \n3 2023-10-26 13:00:49  16695.0                    82.7       1      1763   \n4 2023-10-26 12:47:36  16694.0                    32.9       1      6114   \n\n   Customer type  Product(s)  Items sold  N. Revenue  State  Age  Gender  \\\n0              0         398         2.0        49.8      8   36       0   \n1              0         259         1.0        24.9      0   25       0   \n2              0         259         1.0        24.9      4   31       0   \n3              0         366         3.0        74.7      2   31       0   \n4              0         370         1.0        24.9      9   38       0   \n\n   Product Count  Avg Revenue per Item  Interest  Probability of Interest  \n0            2.0                  24.9         0             8.364460e-07  \n1            1.0                  24.9         0             2.561875e-08  \n2            1.0                  24.9         0             2.550155e-08  \n3            3.0                  24.9         0             4.291531e-06  \n4            1.0                  24.9         0             3.849441e-08  ",
      "text/html": "<div>\n<style scoped>\n    .dataframe tbody tr th:only-of-type {\n        vertical-align: middle;\n    }\n\n    .dataframe tbody tr th {\n        vertical-align: top;\n    }\n\n    .dataframe thead th {\n        text-align: right;\n    }\n</style>\n<table border=\"1\" class=\"dataframe\">\n  <thead>\n    <tr style=\"text-align: right;\">\n      <th></th>\n      <th>Date</th>\n      <th>Order #</th>\n      <th>N. Revenue (formatted)</th>\n      <th>Status</th>\n      <th>Customer</th>\n      <th>Customer type</th>\n      <th>Product(s)</th>\n      <th>Items sold</th>\n      <th>N. Revenue</th>\n      <th>State</th>\n      <th>Age</th>\n      <th>Gender</th>\n      <th>Product Count</th>\n      <th>Avg Revenue per Item</th>\n      <th>Interest</th>\n      <th>Probability of Interest</th>\n    </tr>\n  </thead>\n  <tbody>\n    <tr>\n      <th>0</th>\n      <td>2023-10-26 14:50:17</td>\n      <td>16698.0</td>\n      <td>57.8</td>\n      <td>1</td>\n      <td>19</td>\n      <td>0</td>\n      <td>398</td>\n      <td>2.0</td>\n      <td>49.8</td>\n      <td>8</td>\n      <td>36</td>\n      <td>0</td>\n      <td>2.0</td>\n      <td>24.9</td>\n      <td>0</td>\n      <td>8.364460e-07</td>\n    </tr>\n    <tr>\n      <th>1</th>\n      <td>2023-10-26 13:53:47</td>\n      <td>16697.0</td>\n      <td>32.9</td>\n      <td>1</td>\n      <td>1991</td>\n      <td>0</td>\n      <td>259</td>\n      <td>1.0</td>\n      <td>24.9</td>\n      <td>0</td>\n      <td>25</td>\n      <td>0</td>\n      <td>1.0</td>\n      <td>24.9</td>\n      <td>0</td>\n      <td>2.561875e-08</td>\n    </tr>\n    <tr>\n      <th>2</th>\n      <td>2023-10-26 13:04:17</td>\n      <td>16696.0</td>\n      <td>32.9</td>\n      <td>1</td>\n      <td>6993</td>\n      <td>0</td>\n      <td>259</td>\n      <td>1.0</td>\n      <td>24.9</td>\n      <td>4</td>\n      <td>31</td>\n      <td>0</td>\n      <td>1.0</td>\n      <td>24.9</td>\n      <td>0</td>\n      <td>2.550155e-08</td>\n    </tr>\n    <tr>\n      <th>3</th>\n      <td>2023-10-26 13:00:49</td>\n      <td>16695.0</td>\n      <td>82.7</td>\n      <td>1</td>\n      <td>1763</td>\n      <td>0</td>\n      <td>366</td>\n      <td>3.0</td>\n      <td>74.7</td>\n      <td>2</td>\n      <td>31</td>\n      <td>0</td>\n      <td>3.0</td>\n      <td>24.9</td>\n      <td>0</td>\n      <td>4.291531e-06</td>\n    </tr>\n    <tr>\n      <th>4</th>\n      <td>2023-10-26 12:47:36</td>\n      <td>16694.0</td>\n      <td>32.9</td>\n      <td>1</td>\n      <td>6114</td>\n      <td>0</td>\n      <td>370</td>\n      <td>1.0</td>\n      <td>24.9</td>\n      <td>9</td>\n      <td>38</td>\n      <td>0</td>\n      <td>1.0</td>\n      <td>24.9</td>\n      <td>0</td>\n      <td>3.849441e-08</td>\n    </tr>\n  </tbody>\n</table>\n</div>"
     },
     "metadata": {},
     "output_type": "display_data"
    }
   ],
   "source": [
    "# Load Order Report Dataset\n",
    "order_df = pd.read_csv('datasets/OrderReports.csv')\n",
    "\n",
    "# Remove ',' and 'RM', convert 'N. Revenue (formatted)' to float\n",
    "order_df['N. Revenue (formatted)'] = order_df['N. Revenue (formatted)'].replace({',': '', 'RM': ''}, regex=True).astype(float)\n",
    "\n",
    "# Convert 'Product(s)' to the count of products sold\n",
    "order_df['Product Count'] = order_df['Items sold']\n",
    "\n",
    "# Feature engineering\n",
    "order_df['Avg Revenue per Item'] = order_df['N. Revenue'] / order_df['Items sold']\n",
    "\n",
    "# convert State, Customer, Product(s), Gender, Customer type to categorical using label encoder\n",
    "order_df['State'] = le.fit_transform(order_df['State'])\n",
    "order_df['Customer'] = le.fit_transform(order_df['Customer'])\n",
    "order_df['Product(s)'] = le.fit_transform(order_df['Product(s)'])\n",
    "lb = LabelBinarizer\n",
    "order_df['Gender'] = le.fit_transform(order_df['Gender'])\n",
    "order_df['Customer type'] = le.fit_transform(order_df['Customer type'])\n",
    "order_df['Status'] = le.fit_transform(order_df['Status'])\n",
    "\n",
    "# convert Date to datetime\n",
    "order_df['Date'] = pd.to_datetime(order_df['Date'])\n",
    "\n",
    "# Define 'Interest' column based on certain criteria\n",
    "interest_threshold = 600\n",
    "order_df['Interest'] = ((order_df['N. Revenue (formatted)'] > interest_threshold) | (order_df['Product Count'] > 5)).astype(int)\n",
    "\n",
    "# Define features (X) and target variable (Y)\n",
    "X = order_df.drop(['Interest', 'Date'], axis=1)  # Exclude 'Date' from features\n",
    "Y = order_df['Interest']\n",
    "\n",
    "# Split data into training and testing sets\n",
    "X_train, X_test, Y_train, Y_test = train_test_split(X, Y, test_size=0.2, random_state=42)\n",
    "\n",
    "# Initialize and train the model\n",
    "model = LogisticRegression()\n",
    "model.fit(X_train, Y_train)\n",
    "\n",
    "# Make predictions\n",
    "predictions = model.predict(X_test)\n",
    "\n",
    "# Evaluate accuracy\n",
    "accuracy = accuracy_score(Y_test, predictions)\n",
    "display(f\"Accuracy: {accuracy}\")\n",
    "\n",
    "# predict the probability of interest\n",
    "probabilities = model.predict_proba(X_test)\n",
    "display(probabilities)\n",
    "\n",
    "# predict the probability of interest for each customer\n",
    "order_df['Probability of Interest'] = model.predict_proba(order_df.drop(['Interest', 'Date'], axis=1))[:, 1]\n",
    "display(order_df.head())\n",
    "\n"
   ],
   "metadata": {
    "collapsed": false,
    "ExecuteTime": {
     "end_time": "2023-11-21T07:17:15.780867Z",
     "start_time": "2023-11-21T07:17:15.237624Z"
    }
   },
   "id": "482f1af2f945be8c"
  },
  {
   "cell_type": "code",
   "execution_count": 393,
   "outputs": [
    {
     "data": {
      "text/plain": "                 Date  Order #  N. Revenue (formatted)  Status  Customer  \\\n0 2023-10-26 14:50:17  16698.0                    57.8       1        19   \n1 2023-10-26 13:53:47  16697.0                    32.9       1      1991   \n2 2023-10-26 13:04:17  16696.0                    32.9       1      6993   \n3 2023-10-26 13:00:49  16695.0                    82.7       1      1763   \n4 2023-10-26 12:47:36  16694.0                    32.9       1      6114   \n\n   Customer type  Product(s)  Items sold  N. Revenue  State  Age  Gender  \\\n0              0         398         2.0        49.8      8   36       0   \n1              0         259         1.0        24.9      0   25       0   \n2              0         259         1.0        24.9      4   31       0   \n3              0         366         3.0        74.7      2   31       0   \n4              0         370         1.0        24.9      9   38       0   \n\n   Product Count  Avg Revenue per Item  Interest  Probability of Interest  \\\n0            2.0                  24.9         0             8.364460e-07   \n1            1.0                  24.9         0             2.561875e-08   \n2            1.0                  24.9         0             2.550155e-08   \n3            3.0                  24.9         0             4.291531e-06   \n4            1.0                  24.9         0             3.849441e-08   \n\n   Viability of Monthly Subscription Plan  \n0                                       0  \n1                                       0  \n2                                       0  \n3                                       0  \n4                                       0  ",
      "text/html": "<div>\n<style scoped>\n    .dataframe tbody tr th:only-of-type {\n        vertical-align: middle;\n    }\n\n    .dataframe tbody tr th {\n        vertical-align: top;\n    }\n\n    .dataframe thead th {\n        text-align: right;\n    }\n</style>\n<table border=\"1\" class=\"dataframe\">\n  <thead>\n    <tr style=\"text-align: right;\">\n      <th></th>\n      <th>Date</th>\n      <th>Order #</th>\n      <th>N. Revenue (formatted)</th>\n      <th>Status</th>\n      <th>Customer</th>\n      <th>Customer type</th>\n      <th>Product(s)</th>\n      <th>Items sold</th>\n      <th>N. Revenue</th>\n      <th>State</th>\n      <th>Age</th>\n      <th>Gender</th>\n      <th>Product Count</th>\n      <th>Avg Revenue per Item</th>\n      <th>Interest</th>\n      <th>Probability of Interest</th>\n      <th>Viability of Monthly Subscription Plan</th>\n    </tr>\n  </thead>\n  <tbody>\n    <tr>\n      <th>0</th>\n      <td>2023-10-26 14:50:17</td>\n      <td>16698.0</td>\n      <td>57.8</td>\n      <td>1</td>\n      <td>19</td>\n      <td>0</td>\n      <td>398</td>\n      <td>2.0</td>\n      <td>49.8</td>\n      <td>8</td>\n      <td>36</td>\n      <td>0</td>\n      <td>2.0</td>\n      <td>24.9</td>\n      <td>0</td>\n      <td>8.364460e-07</td>\n      <td>0</td>\n    </tr>\n    <tr>\n      <th>1</th>\n      <td>2023-10-26 13:53:47</td>\n      <td>16697.0</td>\n      <td>32.9</td>\n      <td>1</td>\n      <td>1991</td>\n      <td>0</td>\n      <td>259</td>\n      <td>1.0</td>\n      <td>24.9</td>\n      <td>0</td>\n      <td>25</td>\n      <td>0</td>\n      <td>1.0</td>\n      <td>24.9</td>\n      <td>0</td>\n      <td>2.561875e-08</td>\n      <td>0</td>\n    </tr>\n    <tr>\n      <th>2</th>\n      <td>2023-10-26 13:04:17</td>\n      <td>16696.0</td>\n      <td>32.9</td>\n      <td>1</td>\n      <td>6993</td>\n      <td>0</td>\n      <td>259</td>\n      <td>1.0</td>\n      <td>24.9</td>\n      <td>4</td>\n      <td>31</td>\n      <td>0</td>\n      <td>1.0</td>\n      <td>24.9</td>\n      <td>0</td>\n      <td>2.550155e-08</td>\n      <td>0</td>\n    </tr>\n    <tr>\n      <th>3</th>\n      <td>2023-10-26 13:00:49</td>\n      <td>16695.0</td>\n      <td>82.7</td>\n      <td>1</td>\n      <td>1763</td>\n      <td>0</td>\n      <td>366</td>\n      <td>3.0</td>\n      <td>74.7</td>\n      <td>2</td>\n      <td>31</td>\n      <td>0</td>\n      <td>3.0</td>\n      <td>24.9</td>\n      <td>0</td>\n      <td>4.291531e-06</td>\n      <td>0</td>\n    </tr>\n    <tr>\n      <th>4</th>\n      <td>2023-10-26 12:47:36</td>\n      <td>16694.0</td>\n      <td>32.9</td>\n      <td>1</td>\n      <td>6114</td>\n      <td>0</td>\n      <td>370</td>\n      <td>1.0</td>\n      <td>24.9</td>\n      <td>9</td>\n      <td>38</td>\n      <td>0</td>\n      <td>1.0</td>\n      <td>24.9</td>\n      <td>0</td>\n      <td>3.849441e-08</td>\n      <td>0</td>\n    </tr>\n  </tbody>\n</table>\n</div>"
     },
     "metadata": {},
     "output_type": "display_data"
    }
   ],
   "source": [
    "# predict the viability of monthly subscription plan\n",
    "order_df['Viability of Monthly Subscription Plan'] = (order_df['Probability of Interest'] > 0.5).astype(int)\n",
    "display(order_df.head())\n",
    "order_df.to_csv('datasets/ViabilityOfMonthlySubscription.csv', index= False, header= True)"
   ],
   "metadata": {
    "collapsed": false,
    "ExecuteTime": {
     "end_time": "2023-11-21T07:17:15.781101Z",
     "start_time": "2023-11-21T07:17:15.379946Z"
    }
   },
   "id": "b5360aa0d7480894"
  },
  {
   "cell_type": "code",
   "execution_count": 394,
   "outputs": [
    {
     "data": {
      "text/plain": "<Figure size 800x600 with 1 Axes>",
      "image/png": "[encoded data removed]"
     },
     "metadata": {},
     "output_type": "display_data"
    }
   ],
   "source": [
    "# Example 1: Age Distribution of Potential Members\n",
    "plt.figure(figsize=(8, 6))\n",
    "sns.histplot(order_df[order_df['Interest'] == 1]['Age'], bins=20, kde=True, color='skyblue', label='Interested')\n",
    "plt.title('Age Distribution of Potential Members')\n",
    "plt.xlabel('Age')\n",
    "plt.ylabel('Count')\n",
    "plt.legend()\n",
    "plt.tight_layout()\n",
    "plt.show()\n"
   ],
   "metadata": {
    "collapsed": false,
    "ExecuteTime": {
     "end_time": "2023-11-21T07:17:16.407700Z",
     "start_time": "2023-11-21T07:17:15.459121Z"
    }
   },
   "id": "6ade1dbc94823747"
  },
  {
   "cell_type": "code",
   "execution_count": 395,
   "outputs": [
    {
     "data": {
      "text/plain": "<Figure size 600x600 with 1 Axes>",
      "image/png": "[encoded data removed]"
     },
     "metadata": {},
     "output_type": "display_data"
    }
   ],
   "source": [
    "# Example 2: Gender Distribution of Potential Members\n",
    "plt.figure(figsize=(6, 6))\n",
    "order_df_interested = order_df[order_df['Interest'] == 1]\n",
    "sns.countplot(x='Gender', data=order_df_interested, palette='pastel')\n",
    "plt.title('Gender Distribution of Potential Members')\n",
    "plt.xlabel('Gender')\n",
    "plt.xticks(np.arange(0, 2), ['Female', 'Male'])\n",
    "plt.ylabel('Count')\n",
    "plt.tight_layout()\n",
    "plt.show()"
   ],
   "metadata": {
    "collapsed": false,
    "ExecuteTime": {
     "end_time": "2023-11-21T07:17:16.532072Z",
     "start_time": "2023-11-21T07:17:15.625816Z"
    }
   },
   "id": "31ece4cecb076eef"
  },
  {
   "cell_type": "code",
   "execution_count": 396,
   "outputs": [
    {
     "data": {
      "text/plain": "<Figure size 800x600 with 1 Axes>",
      "image/png": "[encoded data removed]"
     },
     "metadata": {},
     "output_type": "display_data"
    }
   ],
   "source": [
    "# Example 3: State-wise Membership Eligibility\n",
    "plt.figure(figsize=(8, 6))\n",
    "sns.countplot(x='State', data=order_df_interested, palette='Set2')\n",
    "plt.title('State-wise Membership Eligibility')\n",
    "plt.xlabel('State')\n",
    "plt.ylabel('Count')\n",
    "plt.tight_layout()\n",
    "plt.xticks(rotation=90)\n",
    "plt.show()"
   ],
   "metadata": {
    "collapsed": false,
    "ExecuteTime": {
     "end_time": "2023-11-21T07:17:16.805441Z",
     "start_time": "2023-11-21T07:17:15.749901Z"
    }
   },
   "id": "73b0ff17e87e00f2"
  },
  {
   "cell_type": "code",
   "execution_count": 397,
   "outputs": [
    {
     "data": {
      "text/plain": "<Figure size 800x600 with 1 Axes>",
      "image/png": "[encoded data removed]"
     },
     "metadata": {},
     "output_type": "display_data"
    }
   ],
   "source": [
    "# Example 4: Customer Type and Membership Eligibility\n",
    "plt.figure(figsize=(8, 6))\n",
    "sns.countplot(x='Customer type', data=order_df_interested, palette='Set2')\n",
    "plt.title('Customer Type and Membership Eligibility')\n",
    "plt.xlabel('Customer Type')\n",
    "plt.ylabel('Count')\n",
    "# legend for customer type\n",
    "plt.xticks(np.arange(0, 2), ['Existing', 'New'])\n",
    "plt.tight_layout()\n",
    "plt.show()"
   ],
   "metadata": {
    "collapsed": false,
    "ExecuteTime": {
     "end_time": "2023-11-21T07:17:16.806500Z",
     "start_time": "2023-11-21T07:17:15.850982Z"
    }
   },
   "id": "262543157f345fd6"
  },
  {
   "cell_type": "code",
   "execution_count": 398,
   "outputs": [
    {
     "data": {
      "text/plain": "<Figure size 2400x1200 with 1 Axes>",
      "image/png": "[encoded data removed]"
     },
     "metadata": {},
     "output_type": "display_data"
    }
   ],
   "source": [
    "# Example 5: Product-wise Membership Eligibility (DEEETING SOON)\n",
    "# make figure bigger than 8, 6\n",
    "plt.figure(figsize=(24, 12))\n",
    "sns.countplot(x='Product(s)', data=order_df_interested, palette='Set2')\n",
    "plt.title('Product-wise Membership Eligibility')\n",
    "plt.xlabel('Product(s)')\n",
    "plt.xticks(rotation=90)\n",
    "plt.ylabel('Count')\n",
    "# plt.tight_layout()\n",
    "plt.show()"
   ],
   "metadata": {
    "collapsed": false,
    "ExecuteTime": {
     "end_time": "2023-11-21T07:17:16.827490Z",
     "start_time": "2023-11-21T07:17:15.906281Z"
    }
   },
   "id": "77d7f9bc115acffa"
  },
  {
   "cell_type": "code",
   "execution_count": 399,
   "outputs": [
    {
     "data": {
      "text/plain": "<Figure size 800x600 with 1 Axes>",
      "image/png": "[encoded data removed]"
     },
     "metadata": {},
     "output_type": "display_data"
    }
   ],
   "source": [
    "# Example 6: Membership Eligibility by Month\n",
    "plt.figure(figsize=(8, 6))\n",
    "sns.countplot(x=order_df_interested['Date'].dt.month, data=order_df_interested, palette='Set2')\n",
    "plt.title('Membership Eligibility by Month')\n",
    "plt.xlabel('Month')\n",
    "plt.ylabel('Count')\n",
    "plt.tight_layout()\n",
    "# legend for month\n",
    "plt.xticks(np.arange(0, 12), ['Jan', 'Feb', 'Mar', 'Apr', 'May', 'Jun', 'Jul', 'Aug', 'Sep', 'Oct', \"Nov\", 'Dec'])\n",
    "plt.show()"
   ],
   "metadata": {
    "collapsed": false,
    "ExecuteTime": {
     "end_time": "2023-11-21T07:17:16.894145Z",
     "start_time": "2023-11-21T07:17:16.251097Z"
    }
   },
   "id": "73d2fc39daf1c948"
  },
  {
   "cell_type": "markdown",
   "source": [
    "# 4. Finding the Best Place to Open a New Branch: K-Means Clustering"
   ],
   "metadata": {
    "collapsed": false
   },
   "id": "58c44773dec1fe0f"
  },
  {
   "cell_type": "code",
   "execution_count": 400,
   "outputs": [
    {
     "data": {
      "text/plain": "<Figure size 640x480 with 1 Axes>",
      "image/png": "[encoded data removed]"
     },
     "metadata": {},
     "output_type": "display_data"
    },
    {
     "data": {
      "text/plain": "<Figure size 640x480 with 1 Axes>",
      "image/png": "[encoded data removed]"
     },
     "metadata": {},
     "output_type": "display_data"
    },
    {
     "name": "stdout",
     "output_type": "stream",
     "text": [
      "0.8399461970206005\n",
      "              State  N. Revenue (formatted)                       Malls  \\\n",
      "54           Penang               -0.440165                Gurney Plaza   \n",
      "55           Penang               -0.440165              Queensbay Mall   \n",
      "56           Penang               -0.440165         Gurney Paragon Mall   \n",
      "57           Penang               -0.440165             1st Avenue Mall   \n",
      "58           Penang               -0.440165                Prangin Mall   \n",
      "59           Penang               -0.440165        Sunway Carnival Mall   \n",
      "60           Penang               -0.440165         Penang Times Square   \n",
      "61           Penang               -0.440165     AEON Seberang Prai City   \n",
      "62           Penang               -0.440165  Straits Quay Retail Marina   \n",
      "63  WP Kuala Lumpur               -0.701530         Mid Valley Megamall   \n",
      "64  WP Kuala Lumpur               -0.701530           The Gardens Mall    \n",
      "65  WP Kuala Lumpur               -0.701530                 Pavilion KL   \n",
      "66  WP Kuala Lumpur               -0.701530                   MyTOWN KL   \n",
      "67  WP Kuala Lumpur               -0.701530                  Suria KLCC   \n",
      "68  WP Kuala Lumpur               -0.701530            Starhill Gallery   \n",
      "69  WP Kuala Lumpur               -0.701530                     Publika   \n",
      "70  WP Kuala Lumpur               -0.701530                      Lot 10   \n",
      "71  WP Kuala Lumpur               -0.701530                  NU Sentral   \n",
      "72  WP Kuala Lumpur               -0.701530        Pavilion Bukit Jalil   \n",
      "\n",
      "    Cluster  \n",
      "54        4  \n",
      "55        4  \n",
      "56        4  \n",
      "57        4  \n",
      "58        4  \n",
      "59        4  \n",
      "60        4  \n",
      "61        4  \n",
      "62        4  \n",
      "63        4  \n",
      "64        4  \n",
      "65        4  \n",
      "66        4  \n",
      "67        4  \n",
      "68        4  \n",
      "69        4  \n",
      "70        4  \n",
      "71        4  \n",
      "72        4  \n",
      "              State  N. Revenue (formatted)                          Malls  \\\n",
      "25  Negeri Sembilan                0.656209                      Palm Mall   \n",
      "26  Negeri Sembilan                0.656209            Aeon Jusco Seremban   \n",
      "27  Negeri Sembilan                0.656209                Seremban Parade   \n",
      "28  Negeri Sembilan                0.656209     Terminal 1 Shopping Centre   \n",
      "29  Negeri Sembilan                0.656209        Billion Shopping Center   \n",
      "30  Negeri Sembilan                0.656209               Seremban Gateway   \n",
      "31  Negeri Sembilan                0.656209      Oceanic Mall Port Dickson   \n",
      "32  Negeri Sembilan                0.656209           Centerpoint Seremban   \n",
      "33            Johor                0.734653   City Square JB & Komtar JBCC   \n",
      "34            Johor                0.734653                  Plaza Angsana   \n",
      "35            Johor                0.734653                  Plaza Pelangi   \n",
      "36            Johor                0.734653                   Perling Mall   \n",
      "37            Johor                0.734653                     IOI Mall     \n",
      "38            Johor                0.734653         Aeon Jusco Tebrau City   \n",
      "39            Johor                0.734653                  Paradigm Mall   \n",
      "40            Johor                0.734653  The Mall, Mid Valley Southkey   \n",
      "41            Johor                0.734653             Beletime Danga Bay   \n",
      "42            Johor                0.734653        Sutera Mall Johor Bahru   \n",
      "43           Perlis                0.425176    K-Parc Shopping Mall Kangar   \n",
      "44            Kedah                0.381177                 Central Square   \n",
      "45            Kedah                0.381177                Alor Setar Mall   \n",
      "46            Kedah                0.381177       Langkawi Parade megamall   \n",
      "47            Kedah                0.381177                   Aman Central   \n",
      "\n",
      "    Cluster  \n",
      "25        3  \n",
      "26        3  \n",
      "27        3  \n",
      "28        3  \n",
      "29        3  \n",
      "30        3  \n",
      "31        3  \n",
      "32        3  \n",
      "33        3  \n",
      "34        3  \n",
      "35        3  \n",
      "36        3  \n",
      "37        3  \n",
      "38        3  \n",
      "39        3  \n",
      "40        3  \n",
      "41        3  \n",
      "42        3  \n",
      "43        3  \n",
      "44        3  \n",
      "45        3  \n",
      "46        3  \n",
      "47        3  \n",
      "        State  N. Revenue (formatted)                               Malls  \\\n",
      "73  Putrajaya               -1.211010                       IOI City Mall   \n",
      "74  Putrajaya               -1.211010                  Alamanda Putrajaya   \n",
      "75    Sarawak               -1.372436                    Bintang MegaMall   \n",
      "76    Sarawak               -1.372436             Tun Jugah Shopping Mall   \n",
      "77    Sarawak               -1.372436                 Hills Shopping Mall   \n",
      "78    Sarawak               -1.372436           Suria Sabah Shopping Mall   \n",
      "79    Sarawak               -1.372436                   Vivacity Megamall   \n",
      "80    Sarawak               -1.372436            The Spring Shopping Mall   \n",
      "81    Sarawak               -1.372436                       Plaza Merdeka   \n",
      "82    Sarawak               -1.372436           City One Megamall Kuching   \n",
      "83    Sarawak               -1.372436            The Summer Shopping Mall   \n",
      "84    Sarawak               -1.372436             Boulevard Shopping Mall   \n",
      "85      Sabah               -1.369977                  Centre Point Sabah   \n",
      "86      Sabah               -1.369977           Suria Sabah Shopping Mall   \n",
      "87      Sabah               -1.369977                 Imago Shopping Mall   \n",
      "88      Sabah               -1.369977           City Mall Shopping Centre   \n",
      "89      Sabah               -1.369977     Asia City Complex Kota Kinabalu   \n",
      "90      Sabah               -1.369977  Kompleks Karamunsing Shopping Mall   \n",
      "91      Sabah               -1.369977     1Borneo Hypermall Kota Kinabalu   \n",
      "92      Sabah               -1.369977             Oceanus Waterfront Mall   \n",
      "93     Labuan               -1.395372                      Paragon Labuan   \n",
      "94     Labuan               -1.395372      Fiinancial Park Labuan Complex   \n",
      "95     Labuan               -1.395372                 Labuan Times Square   \n",
      "\n",
      "    Cluster  \n",
      "73        2  \n",
      "74        2  \n",
      "75        2  \n",
      "76        2  \n",
      "77        2  \n",
      "78        2  \n",
      "79        2  \n",
      "80        2  \n",
      "81        2  \n",
      "82        2  \n",
      "83        2  \n",
      "84        2  \n",
      "85        2  \n",
      "86        2  \n",
      "87        2  \n",
      "88        2  \n",
      "89        2  \n",
      "90        2  \n",
      "91        2  \n",
      "92        2  \n",
      "93        2  \n",
      "94        2  \n",
      "95        2  \n",
      "       State  N. Revenue (formatted)                           Malls  Cluster\n",
      "0   Selangor                1.469048                       One Utama        1\n",
      "1   Selangor                1.469048  Mitsui Outlet Park KLIA Sepang        1\n",
      "2   Selangor                1.469048                  Sunway Pyramid        1\n",
      "3   Selangor                1.469048                      CITTA Mall        1\n",
      "4   Selangor                1.469048                   Paradigm Mall        1\n",
      "5   Selangor                1.469048                IOI Mall Puchong        1\n",
      "6   Selangor                1.469048                 Setia City Mall        1\n",
      "7   Selangor                1.469048                       NU Empire        1\n",
      "8   Selangor                1.469048      Star Avenue Lifestyle Mall        1\n",
      "9   Selangor                1.469048                     Da Men Mall        1\n",
      "10  Selangor                1.469048                  Sanctuary Mall        1\n",
      "11  Selangor                1.469048         The Mines Shopping Mall        1\n",
      "12  Selangor                1.469048                       SACC Mall        1\n",
      "13  Selangor                1.469048              Ikano Power Centre        1\n",
      "14  Selangor                1.469048                  Central i-City        1\n",
      "15  Selangor                1.469048                          eCurve        1\n",
      "16  Selangor                1.469048         Empire Shopping Gallery        1\n",
      "17  Selangor                1.469048                     Amcorp Mall        1\n",
      "          State  N. Revenue (formatted)                              Malls  \\\n",
      "18      Malacca            1.045790e-16   Dataran Pahlawan Melaka Megamall   \n",
      "19      Malacca            1.045790e-16                         Ocean Mall   \n",
      "20      Malacca            1.045790e-16                     Mahkota Parade   \n",
      "21      Malacca            1.045790e-16                      Hatten Square   \n",
      "22      Malacca            1.045790e-16         AEON MALL Bandaraya Melaka   \n",
      "23      Malacca            1.045790e-16           Freeport A'Famosa Outlet   \n",
      "24      Malacca            1.045790e-16         The Shore Shopping Gallery   \n",
      "48     Kelantan            2.064591e-01                ÆON Mall Kota Bharu   \n",
      "49        Perak            4.262398e-02                   ÆON Mall Klebang   \n",
      "50        Perak            4.262398e-02                ÆON Mall Kinta City   \n",
      "51        Perak            4.262398e-02  ÆON Midtown Falim Shopping Centre   \n",
      "52        Perak            4.262398e-02        Ipoh Parade Shopping Centre   \n",
      "53        Perak            4.262398e-02                       Taiping Mall   \n",
      "96       Pahang            2.015368e-01                    East Coast Mall   \n",
      "97       Pahang            2.015368e-01                   Berjaya Megamall   \n",
      "98       Pahang            2.015368e-01                     Kuantan Parade   \n",
      "99       Pahang            2.015368e-01                   Bentong Vegamall   \n",
      "100      Pahang            2.015368e-01                  First World Plaza   \n",
      "101  Terengganu           -3.677955e-02             Astaka Shopping Centre   \n",
      "102  Terengganu           -3.677955e-02                         Mesra Mall   \n",
      "103  Terengganu           -3.677955e-02                         Mydin Mall   \n",
      "104  Terengganu           -3.677955e-02                         Giant Mall   \n",
      "\n",
      "     Cluster  \n",
      "18         0  \n",
      "19         0  \n",
      "20         0  \n",
      "21         0  \n",
      "22         0  \n",
      "23         0  \n",
      "24         0  \n",
      "48         0  \n",
      "49         0  \n",
      "50         0  \n",
      "51         0  \n",
      "52         0  \n",
      "53         0  \n",
      "96         0  \n",
      "97         0  \n",
      "98         0  \n",
      "99         0  \n",
      "100        0  \n",
      "101        0  \n",
      "102        0  \n",
      "103        0  \n",
      "104        0  \n"
     ]
    },
    {
     "data": {
      "text/plain": "<Figure size 800x600 with 1 Axes>",
      "image/png": "[encoded data removed]"
     },
     "metadata": {},
     "output_type": "display_data"
    }
   ],
   "source": [
    "from sklearn.cluster import KMeans\n",
    "from sklearn.preprocessing import StandardScaler\n",
    "\n",
    "# Load Order Report and Malaysia Malls Datasets\n",
    "order_df = pd.read_csv('datasets/OrderReports.csv')\n",
    "malls_df = pd.read_csv('datasets/Malaysia Malls.csv')\n",
    "\n",
    "order_df['N. Revenue (formatted)'] = order_df['N. Revenue (formatted)'].replace({',': '', 'RM': ''}, regex=True).astype(float)\n",
    "# Customer Geographic Analysis\n",
    "state_sales = order_df.groupby('State')['N. Revenue (formatted)'].sum().reset_index()\n",
    "\n",
    "# Combine Mall and Revenue data\n",
    "mall_performance = pd.merge(state_sales, malls_df, how='right', left_on='State', right_on='State')\n",
    "\n",
    "# Feature scaling\n",
    "scaler = StandardScaler()\n",
    "mall_performance[['N. Revenue (formatted)']] = scaler.fit_transform(mall_performance[['N. Revenue (formatted)']])\n",
    "\n",
    "# # identify missing values\n",
    "# print(mall_performance.isnull().sum())\n",
    "\n",
    "# fill missing values\n",
    "mall_performance['N. Revenue (formatted)'] = mall_performance['N. Revenue (formatted)'].fillna(mall_performance['N. Revenue (formatted)'].mean())\n",
    "\n",
    "tune = []\n",
    "for i in range(2, 10):\n",
    "    kmeans = KMeans(n_clusters=i)\n",
    "    kmeans.fit(mall_performance[['N. Revenue (formatted)']])\n",
    "    tune.append(kmeans.inertia_)\n",
    "    \n",
    "plt.plot(range(2, 10), tune)\n",
    "plt.title('Elbow Method')\n",
    "plt.xlabel('Number of Clusters')\n",
    "plt.ylabel('Inertia')\n",
    "plt.show()\n",
    "\n",
    "\n",
    "# K-means clustering\n",
    "kmeans = KMeans(n_clusters=5, random_state=42)  # You may adjust the number of clusters\n",
    "mall_performance['Cluster'] = kmeans.fit_predict(mall_performance[['N. Revenue (formatted)']])\n",
    "# print(mall_performance.head())\n",
    "\n",
    "# Visualize\n",
    "plt.scatter(mall_performance['State'], mall_performance['N. Revenue (formatted)'], c=mall_performance['Cluster'], cmap='viridis')\n",
    "plt.title('Revenue by State (Clustered)')\n",
    "plt.xlabel('State')\n",
    "# 90 degree rotation\n",
    "plt.xticks(rotation=90)\n",
    "plt.ylabel('N. Revenue')\n",
    "plt.show()\n",
    "# Evaluate the model\n",
    "print(silhouette_score(mall_performance[['N. Revenue (formatted)']], mall_performance['Cluster']))\n",
    "\n",
    "# Suggest Malls to Open New Branches\n",
    "print(mall_performance[mall_performance['Cluster'] == 4])\n",
    "print(mall_performance[mall_performance['Cluster'] == 3])\n",
    "print(mall_performance[mall_performance['Cluster'] == 2])\n",
    "print(mall_performance[mall_performance['Cluster'] == 1])\n",
    "print(mall_performance[mall_performance['Cluster'] == 0])\n",
    "\n",
    "# Barchart for mall performance\n",
    "plt.figure(figsize=(8, 6))\n",
    "sns.barplot(x='State', y='N. Revenue (formatted)', data=mall_performance, palette='Set2')\n",
    "plt.title('Mall Performance')\n",
    "plt.xlabel('State')\n",
    "plt.ylabel('N. Revenue')\n",
    "plt.xticks(rotation=90)\n",
    "plt.tight_layout()\n",
    "plt.show()\n",
    "\n",
    "# # Barchart for mall performance by cluster\n",
    "# plt.figure(figsize=(8, 6))\n",
    "# sns.barplot(x='State', y='N. Revenue (formatted)', data=mall_performance, hue='Cluster', palette='Set2')\n",
    "# plt.title('Mall Performance by Cluster')\n",
    "# plt.xlabel('State')\n",
    "# plt.ylabel('N. Revenue')\n",
    "# plt.xticks(rotation=90)\n",
    "# plt.tight_layout()\n",
    "# plt.show()\n",
    "# \n",
    "# # Scatterplot for mall performance by cluster\n",
    "# plt.figure(figsize=(8, 6))\n",
    "# sns.scatterplot(x='State', y='N. Revenue (formatted)', data=mall_performance, hue='Cluster', palette='Set2')\n",
    "# plt.title('Mall Performance by Cluster')\n",
    "# plt.xlabel('State')\n",
    "# plt.ylabel('N. Revenue')\n",
    "# plt.xticks(rotation=90)\n",
    "# plt.tight_layout()\n",
    "# plt.show()\n",
    "\n",
    "\n",
    "\n",
    "\n"
   ],
   "metadata": {
    "collapsed": false,
    "ExecuteTime": {
     "end_time": "2023-11-21T07:17:17.407448Z",
     "start_time": "2023-11-21T07:17:16.342876Z"
    }
   },
   "id": "f11517a21cfb1815"
  }
 ],
 "metadata": {
  "kernelspec": {
   "display_name": "Python 3",
   "language": "python",
   "name": "python3"
  },
  "language_info": {
   "codemirror_mode": {
    "name": "ipython",
    "version": 3
   },
   "file_extension": ".py",
   "mimetype": "text/x-python",
   "name": "python",
   "nbconvert_exporter": "python",
   "pygments_lexer": "ipython3",
   "version": "3.11.4"
  }
 },
 "nbformat": 4,
 "nbformat_minor": 5
}

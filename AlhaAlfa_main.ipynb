{
 "cells": [
  {
   "cell_type": "markdown",
   "source": [
    "# Import Libraries"
   ],
   "metadata": {
    "collapsed": false
   },
   "id": "e085471683513eb0"
  },
  {
   "cell_type": "code",
   "execution_count": null,
   "id": "initial_id",
   "metadata": {
    "collapsed": true
   },
   "outputs": [],
   "source": [
    "import pandas as pd\n",
    "import numpy as np\n",
    "import random\n",
    "import warnings\n",
    "warnings.filterwarnings('ignore')\n",
    "from sklearn.feature_extraction.text import CountVectorizer\n",
    "from sklearn.preprocessing import LabelEncoder\n",
    "from sklearn.metrics import accuracy_score\n",
    "from sklearn.model_selection import train_test_split\n",
    "from sklearn.linear_model import LogisticRegression\n",
    "import matplotlib.pyplot as plt\n",
    "from sklearn.preprocessing import LabelEncoder\n",
    "from sklearn.preprocessing import LabelBinarizer\n",
    "\n",
    "import seaborn as sns\n",
    "import os\n",
    "import sys"
   ]
  },
  {
   "cell_type": "markdown",
   "source": [
    "# Import Datasets"
   ],
   "metadata": {
    "collapsed": false
   },
   "id": "f523edf9c29fe612"
  },
  {
   "cell_type": "code",
   "execution_count": null,
   "outputs": [],
   "source": [
    "# Import Datasets\n",
    "df_or = pd.read_csv('datasets/OrderReports.csv')\n",
    "print(df_or.head())"
   ],
   "metadata": {
    "collapsed": false
   },
   "id": "72b1bf274a7a5fad"
  },
  {
   "cell_type": "code",
   "execution_count": null,
   "outputs": [],
   "source": [
    "df_pl = pd.read_csv('datasets/ProductList.csv')\n",
    "print(df_pl.head())"
   ],
   "metadata": {
    "collapsed": false
   },
   "id": "14210bee85561a09"
  },
  {
   "cell_type": "code",
   "execution_count": null,
   "outputs": [],
   "source": [
    "df_rr = pd.read_csv('datasets/RevenueReport.csv')\n",
    "print(df_rr.head())"
   ],
   "metadata": {
    "collapsed": false
   },
   "id": "86b5cc84a7d4e1ac"
  },
  {
   "cell_type": "code",
   "execution_count": null,
   "outputs": [],
   "source": [
    "df_wb = pd.read_csv('datasets/website_bestsellers.csv')\n",
    "print(df_wb.head())"
   ],
   "metadata": {
    "collapsed": false
   },
   "id": "7eaec18aa00d7dee"
  },
  {
   "cell_type": "code",
   "execution_count": null,
   "outputs": [],
   "source": [
    "df_ttb = pd.read_csv('datasets/tiktok_bestsellers.csv')\n",
    "print(df_ttb.head())"
   ],
   "metadata": {
    "collapsed": false
   },
   "id": "74d7d88c575bb28a"
  },
  {
   "cell_type": "markdown",
   "source": [
    "# Identifying and Handling Missing Values, Duplicate Data, and Incorrect Data Types"
   ],
   "metadata": {
    "collapsed": false
   },
   "id": "7026e8753424000d"
  },
  {
   "cell_type": "code",
   "execution_count": null,
   "outputs": [],
   "source": [
    "# Find out the number of rows and columns in each dataset\n",
    "print(\"OrderReport: \", df_or.shape)\n",
    "print(\"ProductList: \", df_pl.shape)\n",
    "print(\"RevenueReport: \", df_rr.shape)\n",
    "print(\"WebsiteBestsellers: \", df_wb.shape)\n",
    "print(\"TiktokBestsellers: \", df_ttb.shape)"
   ],
   "metadata": {
    "collapsed": false
   },
   "id": "7ff13d4b8769739b"
  },
  {
   "cell_type": "code",
   "execution_count": null,
   "outputs": [],
   "source": [
    "# Find out the number of missing values in each dataset\n",
    "print(\"OrderReport: \\n\", df_or.isnull().sum())\n",
    "print(\"ProductList: \\n\", df_pl.isnull().sum())\n",
    "print(\"RevenueReport: \\n\", df_rr.isnull().sum())\n",
    "print(\"WebsiteBestsellers: \\n\", df_wb.isnull().sum())\n",
    "print(\"TiktokBestsellers: \\n\", df_ttb.isnull().sum())"
   ],
   "metadata": {
    "collapsed": false
   },
   "id": "6ba89f48143f60f5"
  },
  {
   "cell_type": "code",
   "execution_count": null,
   "outputs": [],
   "source": [
    "# Find out the data types of each column in each dataset\n",
    "print(\"OrderReport: \\n\", df_or.dtypes)\n",
    "print(\"ProductList: \\n\", df_pl.dtypes)\n",
    "print(\"RevenueReport: \\n\", df_rr.dtypes)\n",
    "print(\"WebsiteBestsellers: \\n\", df_wb.dtypes)\n",
    "print(\"TiktokBestsellers: \\n\", df_ttb.dtypes)"
   ],
   "metadata": {
    "collapsed": false
   },
   "id": "f6b6d6bd86b1ef7"
  },
  {
   "cell_type": "code",
   "execution_count": null,
   "outputs": [],
   "source": [
    "# Find out the number of duplicate rows in each dataset\n",
    "print(\"OrderReport: \", df_or.duplicated().sum())\n",
    "print(\"ProductList: \", df_pl.duplicated().sum())\n",
    "print(\"RevenueReport: \", df_rr.duplicated().sum())\n",
    "print(\"WebsiteBestsellers: \", df_wb.duplicated().sum())\n",
    "print(\"TiktokBestsellers: \", df_ttb.duplicated().sum())"
   ],
   "metadata": {
    "collapsed": false
   },
   "id": "b9e7c5cf345f3058"
  },
  {
   "cell_type": "code",
   "execution_count": null,
   "outputs": [],
   "source": [
    "# # remove columns with all null values\n",
    "# df_or = df_or.dropna(axis=1, how='all')\n",
    "# df_pl = df_pl.dropna(axis=1, how='all')\n",
    "# df_rr = df_rr.dropna(axis=1, how='all')\n",
    "# df_wb = df_wb.dropna(axis=1, how='all')\n",
    "# df_ttb = df_ttb.dropna(axis=1, how='all')\n",
    "# \n",
    "# # save back to csv\n",
    "# df_or.to_csv('datasets/OrderReport.csv', index=False)\n",
    "# df_pl.to_csv('datasets/ProductList.csv', index=False)\n",
    "# df_rr.to_csv('datasets/RevenueReport.csv', index=False)\n",
    "# df_wb.to_csv('datasets/website_bestsellers.csv', index=False)\n",
    "# df_ttb.to_csv('datasets/tiktok_bestsellers.csv', index=False)"
   ],
   "metadata": {
    "collapsed": false
   },
   "id": "ddbd0e4195214947"
  },
  {
   "cell_type": "code",
   "execution_count": null,
   "outputs": [],
   "source": [
    "# # print the head of each dataset\n",
    "# print(\"OrderReport: \\n\", df_or.head())\n",
    "# print(\"ProductList: \\n\", df_pl.head())\n",
    "# print(\"RevenueReport: \\n\", df_rr.head())\n",
    "# print(\"WebsiteBestsellers: \\n\", df_wb.head())\n",
    "# print(\"TiktokBestsellers: \\n\", df_ttb.head())"
   ],
   "metadata": {
    "collapsed": false
   },
   "id": "9d9bfb5ef1e809ea"
  },
  {
   "cell_type": "code",
   "execution_count": null,
   "outputs": [],
   "source": [
    "# check empty sku\n",
    "# print(df_pl[df_pl['SKU'].isnull()])\n",
    "\n",
    "# add item sold column\n",
    "total = df_or['Items sold'].sum()\n",
    "print(total)\n",
    "\n",
    "\n",
    "# generate sku of 5 digits and random assign to empty sku\n",
    "random_sku = np.random.randint(10000, 99999)\n",
    "while random_sku in df_pl['SKU']:\n",
    "    random_sku = np.random.randint(10000, 99999)\n",
    "    \n",
    "df_pl['SKU'] = df_pl['SKU'].fillna(random_sku)\n",
    "print(df_pl[df_pl['SKU'].isnull()])\n",
    "\n",
    "# save to csv\n",
    "df_pl.to_csv('datasets/ProductList.csv', index=False)"
   ],
   "metadata": {
    "collapsed": false
   },
   "id": "72b43a9eb339b16f"
  },
  {
   "cell_type": "markdown",
   "source": [
    "# Data Augmentation"
   ],
   "metadata": {
    "collapsed": false
   },
   "id": "4bb71fbc1fc03ba5"
  },
  {
   "cell_type": "markdown",
   "source": [
    "## Add a new column to the OrderReport dataset called 'State' and populate it with random states"
   ],
   "metadata": {
    "collapsed": false
   },
   "id": "e662779187275b7b"
  },
  {
   "cell_type": "code",
   "execution_count": null,
   "outputs": [],
   "source": [
    "# Malaysian States\n",
    "states = ['Johor', 'Kedah', 'Kelantan', 'Labuan', 'Melaka', 'Negeri Sembilan', 'Pahang', 'Penang', 'Perak', 'Perlis', 'Putrajaya', 'Sabah', 'Sarawak', 'Selangor', 'Terengganu', 'WP Kuala Lumpur']\n",
    "\n",
    "# states distribution\n",
    "states_distribution = {\n",
    "    'Johor': 0.6,\n",
    "    'Kedah': 0.5,\n",
    "    'Kelantan': 0.5,\n",
    "    'Labuan': 0.01,\n",
    "    'Melaka': 0.6,\n",
    "    'Negeri Sembilan': 0.6,\n",
    "    'Pahang': 0.4,\n",
    "    'Penang': 0.3,\n",
    "    'Perak': 0.4,\n",
    "    'Perlis': 0.5,\n",
    "    'Putrajaya': 0.06,\n",
    "    'Sabah': 0.02,\n",
    "    'Sarawak': 0.02,\n",
    "    'Selangor': 0.8,\n",
    "    'Terengganu': 0.4,\n",
    "    'WP Kuala Lumpur': 0.2\n",
    "}\n",
    "\n",
    "# Initialize random number generator with a fixed seed for consistency\n",
    "random.seed(42)\n",
    "\n",
    "# Sample the same number of states as rows in your existing dataset\n",
    "existing_rows = len(df_or)\n",
    "sampled_states = random.choices(states, weights=states_distribution.values(), k=existing_rows)\n",
    "# Assign the sampled states to your existing DataFrame\n",
    "df_or['State'] = sampled_states\n",
    "\n",
    "# Save the DataFrame to a CSV file\n",
    "df_or.to_csv('datasets/OrderReports.csv', index=False)"
   ],
   "metadata": {
    "collapsed": false
   },
   "id": "241b5790915b6ce0"
  },
  {
   "cell_type": "markdown",
   "source": [
    "## Adding a new column called to the OrderReport dataset called 'Age' and populate it with random ages"
   ],
   "metadata": {
    "collapsed": false
   },
   "id": "7d095c75cd680ae9"
  },
  {
   "cell_type": "code",
   "execution_count": null,
   "outputs": [],
   "source": [
    "age_distribution = [25, 26, 27, 28, 29, 30, 31, 32, 33, 34, 35, 36, 37, 38, 39, 40, 41, 42, 43, 44, 45]\n",
    "# the percentage of customers in each age group\n",
    "age_distribution_percentage = [0.05, 0.05, 0.05, 0.05, 0.05, 0.05,\n",
    "                               0.10, 0.10, 0.10, 0.10, 0.10, 0.10, 0.05, 0.05, 0.05, 0.05, 0.05, 0.05, 0.05, 0.05, 0.05]  # 100%\n",
    "\n",
    "random.seed(42)\n",
    "\n",
    "# Sample the same number of customers as rows in your existing dataset\n",
    "existing_rows = len(df_or)\n",
    "sampled_age = random.choices(age_distribution, weights=age_distribution_percentage, k=existing_rows)\n",
    "\n",
    "# Assign the sampled age to your existing DataFrame\n",
    "df_or['Age'] = sampled_age\n",
    "\n",
    "# Save the DataFrame to a CSV file\n",
    "df_or.to_csv('datasets/OrderReports.csv', index=False)\n",
    "\n",
    "print(df_or.head())\n",
    "print(df_or['Age'].value_counts())\n",
    "print(df_or['Gender'].value_counts())\n"
   ],
   "metadata": {
    "collapsed": false
   },
   "id": "6623ee1f78758306"
  },
  {
   "cell_type": "markdown",
   "source": [
    "## Creating a Machine Learning Model using Logistic Regression to predict gender of names"
   ],
   "metadata": {
    "collapsed": false
   },
   "id": "df57e3c00a94a08e"
  },
  {
   "cell_type": "code",
   "execution_count": null,
   "outputs": [],
   "source": [
    "df_mn = pd.read_csv('datasets/MalaysianNames_clean.csv')\n",
    "\n",
    "name_vectorizer = CountVectorizer(analyzer='char', ngram_range=(2, 3))\n",
    "name_features = name_vectorizer.fit_transform(df_mn['name'])\n",
    "\n",
    "label_encoder = LabelEncoder()\n",
    "df_mn[\"gender\"] = label_encoder.fit_transform(df_mn[\"gender\"])\n",
    "\n",
    "X_train, X_test, y_train, y_test = train_test_split(name_features, df_mn[\"gender\"], test_size=0.2, random_state=42)\n",
    "\n",
    "model = LogisticRegression()\n",
    "model.fit(X_train, y_train)\n",
    "y_pred = model.predict(X_test)\n",
    "\n",
    "accuracy = accuracy_score(y_test, y_pred)\n",
    "\n",
    "print(f\"Model Accuracy: {accuracy}\")\n",
    "\n",
    "new_names = df_or['Customer'].tolist()\n",
    "# new_names = ['Lee Mann Heyy']\n",
    "new_name_features = name_vectorizer.transform(new_names)\n",
    "new_name_features = new_name_features.toarray()\n",
    "\n",
    "# predict gender of new names\n",
    "new_names_pred = model.predict(new_name_features)\n",
    "new_names_pred = label_encoder.inverse_transform(new_names_pred)\n",
    "print(new_names_pred)\n",
    "\n",
    "#print total number of M and F in the list\n",
    "print(\"Total number of M: \", new_names_pred.tolist().count('M'))\n",
    "print(\"Total number of F: \", new_names_pred.tolist().count('F'))"
   ],
   "metadata": {
    "collapsed": false
   },
   "id": "ce0fd00beeb6fdb0"
  },
  {
   "cell_type": "markdown",
   "source": [
    "# Encoding Categorical Data"
   ],
   "metadata": {
    "collapsed": false
   },
   "id": "8de327f9778793e9"
  },
  {
   "cell_type": "markdown",
   "source": [
    "### For OrderReport dataset"
   ],
   "metadata": {
    "collapsed": false
   },
   "id": "629d84f7720276d2"
  },
  {
   "cell_type": "code",
   "execution_count": null,
   "outputs": [],
   "source": [
    "lb = LabelBinarizer()\n",
    "df_or['Customer type enc'] = lb.fit_transform(df_or['Customer type'])\n",
    "df_or['Gender_enc'] = lb.fit_transform(df_or['Gender'])\n",
    "print(df_or.head())\n",
    "\n",
    "le = LabelEncoder()\n",
    "df_or['State_enc'] = le.fit_transform(df_or['State'])\n",
    "print(df_or.head())"
   ],
   "metadata": {
    "collapsed": false
   },
   "id": "6fe019244a16e2f4"
  },
  {
   "cell_type": "markdown",
   "source": [
    "### For ProductList dataset"
   ],
   "metadata": {
    "collapsed": false
   },
   "id": "8f423c8f8c5eb5ac"
  },
  {
   "cell_type": "code",
   "execution_count": null,
   "outputs": [],
   "source": [
    "lb = LabelBinarizer()\n",
    "df_pl['Status enc'] = lb.fit_transform(df_pl['Status'])\n",
    "print(df_pl.head())"
   ],
   "metadata": {
    "collapsed": false
   },
   "id": "f1553fed2560e1b5"
  },
  {
   "cell_type": "markdown",
   "source": [
    "# Data Visualization"
   ],
   "metadata": {
    "collapsed": false
   },
   "id": "37ec56a6479691c1"
  },
  {
   "cell_type": "code",
   "execution_count": null,
   "outputs": [],
   "source": [
    "# Visualize the distribution of the 'State' column in the OrderReport dataset\n",
    "\n",
    "x = df_or['State'].value_counts().index\n",
    "y = df_or['State'].value_counts().values\n",
    "\n",
    "plt.figure(figsize=(10, 5))\n",
    "plt.bar(x, y)\n",
    "plt.title('State Distribution')\n",
    "plt.xlabel('State')\n",
    "plt.xticks(rotation=90)\n",
    "plt.ylabel('Count')\n",
    "plt.show()\n"
   ],
   "metadata": {
    "collapsed": false
   },
   "id": "33dab28a14ba29d6"
  },
  {
   "cell_type": "code",
   "execution_count": null,
   "outputs": [],
   "source": [
    "x = df_or['Age'].value_counts().index\n",
    "y = df_or['Age'].value_counts().values\n",
    "\n",
    "plt.figure(figsize=(10, 5))\n",
    "plt.bar(x, y)\n",
    "plt.title('Age Distribution')\n",
    "plt.xlabel('Age')\n",
    "plt.ylabel('Count')\n",
    "plt.show()\n"
   ],
   "metadata": {
    "collapsed": false
   },
   "id": "644151f90459711"
  },
  {
   "cell_type": "code",
   "execution_count": null,
   "outputs": [],
   "source": [
    "# Pie Chart for Customer Types:\n",
    "\n",
    "x = df_or['Customer type'].value_counts().index\n",
    "y = df_or['Customer type'].value_counts().values\n",
    "\n",
    "plt.figure(figsize=(10, 5))\n",
    "plt.pie(y, labels=x, autopct='%1.1f%%')\n",
    "plt.title('Customer Type Distribution')\n",
    "plt.show()"
   ],
   "metadata": {
    "collapsed": false
   },
   "id": "772972c25dbb5b8d"
  },
  {
   "cell_type": "code",
   "execution_count": null,
   "outputs": [],
   "source": [
    "# Scatter Plot for Items Sold vs. Revenue:\n",
    "# Generate a scatter plot with \"Items sold\" on the x-axis and \"N. Revenue\" on the y-axis. \n",
    "\n",
    "x = df_or['Items sold']\n",
    "y = df_or['N. Revenue']\n",
    "\n",
    "plt.figure(figsize=(10, 5))\n",
    "plt.scatter(x, y)\n",
    "plt.title('Items Sold vs. Revenue')\n",
    "plt.xlabel('Items Sold')\n",
    "plt.ylabel('N. Revenue')\n",
    "plt.show()\n",
    "# Each point on the plot represents an order, and you can observe the relationship between the number of items sold and the revenue generated.\n"
   ],
   "metadata": {
    "collapsed": false
   },
   "id": "3e883d0c81d24a8"
  },
  {
   "cell_type": "markdown",
   "source": [],
   "metadata": {
    "collapsed": false,
    "ExecuteTime": {
     "end_time": "2023-11-07T15:41:32.186742Z",
     "start_time": "2023-11-07T15:41:32.145344Z"
    }
   },
   "id": "9b1ffbddb4352a67"
  }
 ],
 "metadata": {
  "kernelspec": {
   "display_name": "Python 3",
   "language": "python",
   "name": "python3"
  },
  "language_info": {
   "codemirror_mode": {
    "name": "ipython",
    "version": 2
   },
   "file_extension": ".py",
   "mimetype": "text/x-python",
   "name": "python",
   "nbconvert_exporter": "python",
   "pygments_lexer": "ipython2",
   "version": "2.7.6"
  }
 },
 "nbformat": 4,
 "nbformat_minor": 5
}

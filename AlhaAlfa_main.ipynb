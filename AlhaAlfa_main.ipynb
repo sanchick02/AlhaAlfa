{
 "cells": [
  {
   "cell_type": "markdown",
   "source": [
    "# Import Libraries"
   ],
   "metadata": {
    "collapsed": false
   },
   "id": "e085471683513eb0"
  },
  {
   "cell_type": "code",
   "execution_count": 130,
   "id": "initial_id",
   "metadata": {
    "collapsed": true,
    "ExecuteTime": {
     "end_time": "2023-11-05T10:02:40.784331Z",
     "start_time": "2023-11-05T10:02:40.760922Z"
    }
   },
   "outputs": [],
   "source": [
    "import pandas as pd\n",
    "import numpy as np\n",
    "import matplotlib.pyplot as plt\n",
    "import seaborn as sns\n",
    "import os\n",
    "import sys"
   ]
  },
  {
   "cell_type": "markdown",
   "source": [
    "# Import Datasets"
   ],
   "metadata": {
    "collapsed": false
   },
   "id": "f523edf9c29fe612"
  },
  {
   "cell_type": "code",
   "execution_count": 131,
   "outputs": [
    {
     "name": "stdout",
     "output_type": "stream",
     "text": [
      "               Date  Order # N. Revenue (formatted)     Status  \\\n",
      "0  14/09/2023 20:37    15072              RM117.80   completed   \n",
      "1  14/09/2023 19:38    15069               RM32.90   completed   \n",
      "2  14/09/2023 19:09    15068               RM57.90   completed   \n",
      "3  14/09/2023 17:25    15066               RM32.90   completed   \n",
      "4  14/09/2023 17:17    15065              RM167.90   completed   \n",
      "\n",
      "                Customer Customer type  \\\n",
      "0        narimah mokhtar     returning   \n",
      "1  sudiana mohamad rasib           new   \n",
      "2          Haizum Hasnan           new   \n",
      "3        Hanifizah Wahid     returning   \n",
      "4     Zuhaidah Abd razak           new   \n",
      "\n",
      "                                          Product(s)  Items sold  N. Revenue  \\\n",
      "0  1× COLLAGEN SERUM FOUNDATION ALHA ALFA - LIGHT...           2       109.8   \n",
      "1                        1× LIP BOOSTER - STRAWBERRY           1        24.9   \n",
      "2     1× COLLAGEN SERUM FOUNDATION ALHA ALFA - LIGHT           1        49.9   \n",
      "3                        1× LIP BOOSTER - STRAWBERRY           1        24.9   \n",
      "4  1× MERDEKA SET PRETTYOTIC, 1× MASCARA - Doll E...           5       159.9   \n",
      "\n",
      "       State Gender  Age  \n",
      "0     Perlis      F   36  \n",
      "1      Johor      F   25  \n",
      "2     Melaka      F   31  \n",
      "3   Kelantan      F   31  \n",
      "4  Putrajaya      F   38  \n"
     ]
    }
   ],
   "source": [
    "# Import Datasets\n",
    "df_or = pd.read_csv('datasets/OrderReport.csv')\n",
    "print(df_or.head())"
   ],
   "metadata": {
    "collapsed": false,
    "ExecuteTime": {
     "end_time": "2023-11-05T10:02:40.814825Z",
     "start_time": "2023-11-05T10:02:40.765015Z"
    }
   },
   "id": "72b1bf274a7a5fad"
  },
  {
   "cell_type": "code",
   "execution_count": 132,
   "outputs": [
    {
     "name": "stdout",
     "output_type": "stream",
     "text": [
      "                      Product / Variation title    SKU  Items sold  \\\n",
      "0                      LIP BOOSTER - WATERMELON  00597        2590   \n",
      "1                      LIP BOOSTER - STRAWBERRY  00602        2563   \n",
      "2  COLLAGEN SERUM FOUNDATION ALHA ALFA - MEDIUM  00608        1067   \n",
      "3   COLLAGEN SERUM FOUNDATION ALHA ALFA - LIGHT  00607         728   \n",
      "4                           LIP BOOSTER - MELON  00610         651   \n",
      "\n",
      "   N. Revenue  Orders    Status  Stock  \n",
      "0     63270.9    2299  In stock     11  \n",
      "1     63768.9    2280  In stock    134  \n",
      "2      7435.1    1005  In stock     33  \n",
      "3      7135.7     690  In stock     41  \n",
      "4     16209.9     587  In stock    177  \n"
     ]
    }
   ],
   "source": [
    "df_pl = pd.read_csv('datasets/ProductList.csv')\n",
    "print(df_pl.head())"
   ],
   "metadata": {
    "collapsed": false,
    "ExecuteTime": {
     "end_time": "2023-11-05T10:02:40.815007Z",
     "start_time": "2023-11-05T10:02:40.802346Z"
    }
   },
   "id": "14210bee85561a09"
  },
  {
   "cell_type": "code",
   "execution_count": 133,
   "outputs": [
    {
     "name": "stdout",
     "output_type": "stream",
     "text": [
      "                  Date  Orders  Gross sales  Returns  Coupons  Net sales  \\\n",
      "0  2023-10-26 00:00:00      12        917.7      0.0      0.0      917.7   \n",
      "1  2023-10-25 00:00:00      31       1664.7      0.0      0.0     1664.7   \n",
      "2  2023-10-24 00:00:00      11        803.0      0.0      0.0      803.0   \n",
      "3  2023-10-23 00:00:00      16        867.5      0.0      0.0      867.5   \n",
      "4  2023-10-22 00:00:00      17        986.9      0.0      0.0      986.9   \n",
      "\n",
      "   Taxes  Shipping  Total sales  \n",
      "0    0.0     100.0       1017.7  \n",
      "1    0.0     264.0       1928.7  \n",
      "2    0.0      96.0        899.0  \n",
      "3    0.0     136.0       1003.5  \n",
      "4    0.0     144.0       1130.9  \n"
     ]
    }
   ],
   "source": [
    "df_rr = pd.read_csv('datasets/RevenueReport.csv')\n",
    "print(df_rr.head())"
   ],
   "metadata": {
    "collapsed": false,
    "ExecuteTime": {
     "end_time": "2023-11-05T10:02:40.815167Z",
     "start_time": "2023-11-05T10:02:40.808152Z"
    }
   },
   "id": "86b5cc84a7d4e1ac"
  },
  {
   "cell_type": "code",
   "execution_count": 134,
   "outputs": [
    {
     "name": "stdout",
     "output_type": "stream",
     "text": [
      "                          product_name  product_price\n",
      "0                          LIP BOOSTER           24.9\n",
      "1  COLLAGEN SERUM FOUNDATION ALHA ALFA           49.9\n",
      "2                SET DIMENSI ALHA ALFA           79.9\n",
      "3         MAGIC GLOW LIP TREATMENT OIL           24.9\n",
      "4     ROYAL PROPOLIS POWDER FOUNDATION           59.9\n"
     ]
    }
   ],
   "source": [
    "df_wb = pd.read_csv('datasets/website_bestsellers.csv')\n",
    "print(df_wb.head())"
   ],
   "metadata": {
    "collapsed": false,
    "ExecuteTime": {
     "end_time": "2023-11-05T10:02:40.823553Z",
     "start_time": "2023-11-05T10:02:40.814401Z"
    }
   },
   "id": "7eaec18aa00d7dee"
  },
  {
   "cell_type": "code",
   "execution_count": 135,
   "outputs": [
    {
     "name": "stdout",
     "output_type": "stream",
     "text": [
      "                                        product_name  product_price  \\\n",
      "0                   ALHA ALFA LIP BOOSTER SERUM Lips           24.9   \n",
      "1             ALHA ALFA MAGIC GLOW LIP TREATMENT OIL           24.9   \n",
      "2   ALHA ALFA ROYAL PROPOLIS FOUNDATION PERFECT GLOW           69.9   \n",
      "3  ALHA ALFA COMPACT POWDER ROYAL PROPOLIS FOUNDA...           59.9   \n",
      "4                     ALHA ALFA SETTING SPRAY MAKEUP           59.9   \n",
      "\n",
      "   items_sold  rating  rating_count  \n",
      "0      104400     4.9         27000  \n",
      "1       35400     4.8          8800  \n",
      "2       30400     4.9          8300  \n",
      "3       27400     4.9         27600  \n",
      "4       23500     4.9          6400  \n"
     ]
    }
   ],
   "source": [
    "df_ttb = pd.read_csv('datasets/tiktok_bestsellers.csv')\n",
    "print(df_ttb.head())"
   ],
   "metadata": {
    "collapsed": false,
    "ExecuteTime": {
     "end_time": "2023-11-05T10:02:40.829472Z",
     "start_time": "2023-11-05T10:02:40.820974Z"
    }
   },
   "id": "74d7d88c575bb28a"
  },
  {
   "cell_type": "markdown",
   "source": [
    "# Identifying and Handling Missing Values, Duplicate Data, and Incorrect Data Types"
   ],
   "metadata": {
    "collapsed": false
   },
   "id": "7026e8753424000d"
  },
  {
   "cell_type": "code",
   "execution_count": 136,
   "outputs": [
    {
     "name": "stdout",
     "output_type": "stream",
     "text": [
      "OrderReport:  (7083, 12)\n",
      "ProductList:  (111, 7)\n",
      "RevenueReport:  (299, 9)\n",
      "WebsiteBestsellers:  (37, 2)\n",
      "TiktokBestsellers:  (23, 5)\n"
     ]
    }
   ],
   "source": [
    "# Find out the number of rows and columns in each dataset\n",
    "print(\"OrderReport: \", df_or.shape)\n",
    "print(\"ProductList: \", df_pl.shape)\n",
    "print(\"RevenueReport: \", df_rr.shape)\n",
    "print(\"WebsiteBestsellers: \", df_wb.shape)\n",
    "print(\"TiktokBestsellers: \", df_ttb.shape)"
   ],
   "metadata": {
    "collapsed": false,
    "ExecuteTime": {
     "end_time": "2023-11-05T10:02:40.829745Z",
     "start_time": "2023-11-05T10:02:40.826569Z"
    }
   },
   "id": "7ff13d4b8769739b"
  },
  {
   "cell_type": "code",
   "execution_count": 137,
   "outputs": [
    {
     "name": "stdout",
     "output_type": "stream",
     "text": [
      "OrderReport: \n",
      " Date                      0\n",
      "Order #                   0\n",
      "N. Revenue (formatted)    0\n",
      "Status                    0\n",
      "Customer                  0\n",
      "Customer type             0\n",
      "Product(s)                0\n",
      "Items sold                0\n",
      "N. Revenue                0\n",
      "State                     0\n",
      "Gender                    0\n",
      "Age                       0\n",
      "dtype: int64\n",
      "ProductList: \n",
      " Product / Variation title    0\n",
      "SKU                          0\n",
      "Items sold                   0\n",
      "N. Revenue                   0\n",
      "Orders                       0\n",
      "Status                       0\n",
      "Stock                        0\n",
      "dtype: int64\n",
      "RevenueReport: \n",
      " Date           0\n",
      "Orders         0\n",
      "Gross sales    0\n",
      "Returns        0\n",
      "Coupons        0\n",
      "Net sales      0\n",
      "Taxes          0\n",
      "Shipping       0\n",
      "Total sales    0\n",
      "dtype: int64\n",
      "WebsiteBestsellers: \n",
      " product_name     0\n",
      "product_price    0\n",
      "dtype: int64\n",
      "TiktokBestsellers: \n",
      " product_name     0\n",
      "product_price    0\n",
      "items_sold       0\n",
      "rating           0\n",
      "rating_count     0\n",
      "dtype: int64\n"
     ]
    }
   ],
   "source": [
    "# Find out the number of missing values in each dataset\n",
    "print(\"OrderReport: \\n\", df_or.isnull().sum())\n",
    "print(\"ProductList: \\n\", df_pl.isnull().sum())\n",
    "print(\"RevenueReport: \\n\", df_rr.isnull().sum())\n",
    "print(\"WebsiteBestsellers: \\n\", df_wb.isnull().sum())\n",
    "print(\"TiktokBestsellers: \\n\", df_ttb.isnull().sum())"
   ],
   "metadata": {
    "collapsed": false,
    "ExecuteTime": {
     "end_time": "2023-11-05T10:02:40.837035Z",
     "start_time": "2023-11-05T10:02:40.833375Z"
    }
   },
   "id": "6ba89f48143f60f5"
  },
  {
   "cell_type": "code",
   "execution_count": 138,
   "outputs": [
    {
     "name": "stdout",
     "output_type": "stream",
     "text": [
      "OrderReport: \n",
      " Date                       object\n",
      "Order #                     int64\n",
      "N. Revenue (formatted)     object\n",
      "Status                     object\n",
      "Customer                   object\n",
      "Customer type              object\n",
      "Product(s)                 object\n",
      "Items sold                  int64\n",
      "N. Revenue                float64\n",
      "State                      object\n",
      "Gender                     object\n",
      "Age                         int64\n",
      "dtype: object\n",
      "ProductList: \n",
      " Product / Variation title     object\n",
      "SKU                           object\n",
      "Items sold                     int64\n",
      "N. Revenue                   float64\n",
      "Orders                         int64\n",
      "Status                        object\n",
      "Stock                          int64\n",
      "dtype: object\n",
      "RevenueReport: \n",
      " Date            object\n",
      "Orders           int64\n",
      "Gross sales    float64\n",
      "Returns        float64\n",
      "Coupons        float64\n",
      "Net sales      float64\n",
      "Taxes          float64\n",
      "Shipping       float64\n",
      "Total sales    float64\n",
      "dtype: object\n",
      "WebsiteBestsellers: \n",
      " product_name      object\n",
      "product_price    float64\n",
      "dtype: object\n",
      "TiktokBestsellers: \n",
      " product_name      object\n",
      "product_price    float64\n",
      "items_sold         int64\n",
      "rating           float64\n",
      "rating_count       int64\n",
      "dtype: object\n"
     ]
    }
   ],
   "source": [
    "# Find out the data types of each column in each dataset\n",
    "print(\"OrderReport: \\n\", df_or.dtypes)\n",
    "print(\"ProductList: \\n\", df_pl.dtypes)\n",
    "print(\"RevenueReport: \\n\", df_rr.dtypes)\n",
    "print(\"WebsiteBestsellers: \\n\", df_wb.dtypes)\n",
    "print(\"TiktokBestsellers: \\n\", df_ttb.dtypes)"
   ],
   "metadata": {
    "collapsed": false,
    "ExecuteTime": {
     "end_time": "2023-11-05T10:02:40.887913Z",
     "start_time": "2023-11-05T10:02:40.837336Z"
    }
   },
   "id": "f6b6d6bd86b1ef7"
  },
  {
   "cell_type": "code",
   "execution_count": 139,
   "outputs": [
    {
     "name": "stdout",
     "output_type": "stream",
     "text": [
      "OrderReport:  0\n",
      "ProductList:  0\n",
      "RevenueReport:  0\n",
      "WebsiteBestsellers:  0\n",
      "TiktokBestsellers:  0\n"
     ]
    }
   ],
   "source": [
    "# Find out the number of duplicate rows in each dataset\n",
    "print(\"OrderReport: \", df_or.duplicated().sum())\n",
    "print(\"ProductList: \", df_pl.duplicated().sum())\n",
    "print(\"RevenueReport: \", df_rr.duplicated().sum())\n",
    "print(\"WebsiteBestsellers: \", df_wb.duplicated().sum())\n",
    "print(\"TiktokBestsellers: \", df_ttb.duplicated().sum())"
   ],
   "metadata": {
    "collapsed": false,
    "ExecuteTime": {
     "end_time": "2023-11-05T10:02:40.889331Z",
     "start_time": "2023-11-05T10:02:40.843497Z"
    }
   },
   "id": "b9e7c5cf345f3058"
  },
  {
   "cell_type": "code",
   "execution_count": 140,
   "outputs": [],
   "source": [
    "# remove columns with all null values\n",
    "df_or = df_or.dropna(axis=1, how='all')\n",
    "df_pl = df_pl.dropna(axis=1, how='all')\n",
    "df_rr = df_rr.dropna(axis=1, how='all')\n",
    "df_wb = df_wb.dropna(axis=1, how='all')\n",
    "df_ttb = df_ttb.dropna(axis=1, how='all')\n",
    "\n",
    "# save back to csv\n",
    "df_or.to_csv('datasets/OrderReport.csv', index=False)\n",
    "df_pl.to_csv('datasets/ProductList.csv', index=False)\n",
    "df_rr.to_csv('datasets/RevenueReport.csv', index=False)\n",
    "df_wb.to_csv('datasets/website_bestsellers.csv', index=False)\n",
    "df_ttb.to_csv('datasets/tiktok_bestsellers.csv', index=False)"
   ],
   "metadata": {
    "collapsed": false,
    "ExecuteTime": {
     "end_time": "2023-11-05T10:02:40.890233Z",
     "start_time": "2023-11-05T10:02:40.855177Z"
    }
   },
   "id": "ddbd0e4195214947"
  },
  {
   "cell_type": "code",
   "execution_count": 141,
   "outputs": [
    {
     "name": "stdout",
     "output_type": "stream",
     "text": [
      "OrderReport: \n",
      "                Date  Order # N. Revenue (formatted)     Status  \\\n",
      "0  14/09/2023 20:37    15072              RM117.80   completed   \n",
      "1  14/09/2023 19:38    15069               RM32.90   completed   \n",
      "2  14/09/2023 19:09    15068               RM57.90   completed   \n",
      "3  14/09/2023 17:25    15066               RM32.90   completed   \n",
      "4  14/09/2023 17:17    15065              RM167.90   completed   \n",
      "\n",
      "                Customer Customer type  \\\n",
      "0        narimah mokhtar     returning   \n",
      "1  sudiana mohamad rasib           new   \n",
      "2          Haizum Hasnan           new   \n",
      "3        Hanifizah Wahid     returning   \n",
      "4     Zuhaidah Abd razak           new   \n",
      "\n",
      "                                          Product(s)  Items sold  N. Revenue  \\\n",
      "0  1× COLLAGEN SERUM FOUNDATION ALHA ALFA - LIGHT...           2       109.8   \n",
      "1                        1× LIP BOOSTER - STRAWBERRY           1        24.9   \n",
      "2     1× COLLAGEN SERUM FOUNDATION ALHA ALFA - LIGHT           1        49.9   \n",
      "3                        1× LIP BOOSTER - STRAWBERRY           1        24.9   \n",
      "4  1× MERDEKA SET PRETTYOTIC, 1× MASCARA - Doll E...           5       159.9   \n",
      "\n",
      "       State Gender  Age  \n",
      "0     Perlis      F   36  \n",
      "1      Johor      F   25  \n",
      "2     Melaka      F   31  \n",
      "3   Kelantan      F   31  \n",
      "4  Putrajaya      F   38  \n",
      "ProductList: \n",
      "                       Product / Variation title    SKU  Items sold  \\\n",
      "0                      LIP BOOSTER - WATERMELON  00597        2590   \n",
      "1                      LIP BOOSTER - STRAWBERRY  00602        2563   \n",
      "2  COLLAGEN SERUM FOUNDATION ALHA ALFA - MEDIUM  00608        1067   \n",
      "3   COLLAGEN SERUM FOUNDATION ALHA ALFA - LIGHT  00607         728   \n",
      "4                           LIP BOOSTER - MELON  00610         651   \n",
      "\n",
      "   N. Revenue  Orders    Status  Stock  \n",
      "0     63270.9    2299  In stock     11  \n",
      "1     63768.9    2280  In stock    134  \n",
      "2      7435.1    1005  In stock     33  \n",
      "3      7135.7     690  In stock     41  \n",
      "4     16209.9     587  In stock    177  \n",
      "RevenueReport: \n",
      "                   Date  Orders  Gross sales  Returns  Coupons  Net sales  \\\n",
      "0  2023-10-26 00:00:00      12        917.7      0.0      0.0      917.7   \n",
      "1  2023-10-25 00:00:00      31       1664.7      0.0      0.0     1664.7   \n",
      "2  2023-10-24 00:00:00      11        803.0      0.0      0.0      803.0   \n",
      "3  2023-10-23 00:00:00      16        867.5      0.0      0.0      867.5   \n",
      "4  2023-10-22 00:00:00      17        986.9      0.0      0.0      986.9   \n",
      "\n",
      "   Taxes  Shipping  Total sales  \n",
      "0    0.0     100.0       1017.7  \n",
      "1    0.0     264.0       1928.7  \n",
      "2    0.0      96.0        899.0  \n",
      "3    0.0     136.0       1003.5  \n",
      "4    0.0     144.0       1130.9  \n",
      "WebsiteBestsellers: \n",
      "                           product_name  product_price\n",
      "0                          LIP BOOSTER           24.9\n",
      "1  COLLAGEN SERUM FOUNDATION ALHA ALFA           49.9\n",
      "2                SET DIMENSI ALHA ALFA           79.9\n",
      "3         MAGIC GLOW LIP TREATMENT OIL           24.9\n",
      "4     ROYAL PROPOLIS POWDER FOUNDATION           59.9\n",
      "TiktokBestsellers: \n",
      "                                         product_name  product_price  \\\n",
      "0                   ALHA ALFA LIP BOOSTER SERUM Lips           24.9   \n",
      "1             ALHA ALFA MAGIC GLOW LIP TREATMENT OIL           24.9   \n",
      "2   ALHA ALFA ROYAL PROPOLIS FOUNDATION PERFECT GLOW           69.9   \n",
      "3  ALHA ALFA COMPACT POWDER ROYAL PROPOLIS FOUNDA...           59.9   \n",
      "4                     ALHA ALFA SETTING SPRAY MAKEUP           59.9   \n",
      "\n",
      "   items_sold  rating  rating_count  \n",
      "0      104400     4.9         27000  \n",
      "1       35400     4.8          8800  \n",
      "2       30400     4.9          8300  \n",
      "3       27400     4.9         27600  \n",
      "4       23500     4.9          6400  \n"
     ]
    }
   ],
   "source": [
    "# print the head of each dataset\n",
    "print(\"OrderReport: \\n\", df_or.head())\n",
    "print(\"ProductList: \\n\", df_pl.head())\n",
    "print(\"RevenueReport: \\n\", df_rr.head())\n",
    "print(\"WebsiteBestsellers: \\n\", df_wb.head())\n",
    "print(\"TiktokBestsellers: \\n\", df_ttb.head())"
   ],
   "metadata": {
    "collapsed": false,
    "ExecuteTime": {
     "end_time": "2023-11-05T10:02:40.891706Z",
     "start_time": "2023-11-05T10:02:40.889413Z"
    }
   },
   "id": "9d9bfb5ef1e809ea"
  },
  {
   "cell_type": "code",
   "execution_count": 142,
   "outputs": [
    {
     "name": "stdout",
     "output_type": "stream",
     "text": [
      "Empty DataFrame\n",
      "Columns: [Product / Variation title, SKU, Items sold, N. Revenue, Orders, Status, Stock]\n",
      "Index: []\n"
     ]
    }
   ],
   "source": [
    "# check empty sku\n",
    "# print(df_pl[df_pl['SKU'].isnull()])\n",
    "\n",
    "# generate sku of 5 digits and random assign to empty sku\n",
    "random_sku = np.random.randint(10000, 99999)\n",
    "while random_sku in df_pl['SKU']:\n",
    "    random_sku = np.random.randint(10000, 99999)\n",
    "    \n",
    "df_pl['SKU'] = df_pl['SKU'].fillna(random_sku)\n",
    "print(df_pl[df_pl['SKU'].isnull()])\n",
    "\n",
    "# save to csv\n",
    "df_pl.to_csv('datasets/ProductList.csv', index=False)"
   ],
   "metadata": {
    "collapsed": false,
    "ExecuteTime": {
     "end_time": "2023-11-05T10:02:40.899727Z",
     "start_time": "2023-11-05T10:02:40.893447Z"
    }
   },
   "id": "72b43a9eb339b16f"
  }
 ],
 "metadata": {
  "kernelspec": {
   "display_name": "Python 3",
   "language": "python",
   "name": "python3"
  },
  "language_info": {
   "codemirror_mode": {
    "name": "ipython",
    "version": 2
   },
   "file_extension": ".py",
   "mimetype": "text/x-python",
   "name": "python",
   "nbconvert_exporter": "python",
   "pygments_lexer": "ipython2",
   "version": "2.7.6"
  }
 },
 "nbformat": 4,
 "nbformat_minor": 5
}

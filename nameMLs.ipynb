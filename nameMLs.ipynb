{
 "cells": [
  {
   "cell_type": "markdown",
   "source": [
    "# Import Dataset"
   ],
   "metadata": {
    "collapsed": false
   },
   "id": "c862c3a3fdeda895"
  },
  {
   "cell_type": "code",
   "execution_count": 1,
   "id": "initial_id",
   "metadata": {
    "collapsed": true,
    "ExecuteTime": {
     "end_time": "2023-11-04T14:54:29.780207Z",
     "start_time": "2023-11-04T14:54:29.174962Z"
    }
   },
   "outputs": [],
   "source": [
    "import pandas as pd\n",
    "df = pd.read_csv('datasets/MalaysianNames.csv')"
   ]
  },
  {
   "cell_type": "code",
   "execution_count": 2,
   "outputs": [
    {
     "name": "stdout",
     "output_type": "stream",
     "text": [
      "  gender country_code                    name\n",
      "0      M           MY  Wan Hasszry Wan Hassan\n",
      "1      M           MY              Abu Sufian\n",
      "2      M           MY            Benjamin Foo\n",
      "3      F           MY             Nor Hazlina\n",
      "4      M           MY                 Mat Kat\n"
     ]
    }
   ],
   "source": [
    "print(df.head())"
   ],
   "metadata": {
    "collapsed": false,
    "ExecuteTime": {
     "end_time": "2023-11-04T14:54:29.786244Z",
     "start_time": "2023-11-04T14:54:29.780757Z"
    }
   },
   "id": "6581326c307e80a6"
  },
  {
   "cell_type": "markdown",
   "source": [
    "# Data Preprocessing"
   ],
   "metadata": {
    "collapsed": false
   },
   "id": "bbdeddf4ffdd13d5"
  },
  {
   "cell_type": "code",
   "execution_count": 3,
   "outputs": [
    {
     "name": "stdout",
     "output_type": "stream",
     "text": [
      "gender          0\n",
      "country_code    0\n",
      "name            0\n",
      "dtype: int64\n"
     ]
    }
   ],
   "source": [
    "# remove rows with missing values\n",
    "df = df.dropna()\n",
    "print(df.isnull().sum())\n",
    "df = df.drop(['country_code'], axis=1)\n",
    "\n",
    "# save to csv\n",
    "df.to_csv('datasets/MalaysianNames_clean.csv', index=False)"
   ],
   "metadata": {
    "collapsed": false,
    "ExecuteTime": {
     "end_time": "2023-11-04T14:54:30.493014Z",
     "start_time": "2023-11-04T14:54:29.838654Z"
    }
   },
   "id": "872ca7949a258f92"
  },
  {
   "cell_type": "code",
   "execution_count": 4,
   "outputs": [
    {
     "name": "stdout",
     "output_type": "stream",
     "text": [
      "  gender                    name\n",
      "0      M  Wan Hasszry Wan Hassan\n",
      "1      M              Abu Sufian\n",
      "2      M            Benjamin Foo\n",
      "3      F             Nor Hazlina\n",
      "4      M                 Mat Kat\n"
     ]
    }
   ],
   "source": [
    "# load clean dataset\n",
    "df = pd.read_csv('datasets/MalaysianNames_clean.csv')\n",
    "print(df.head())"
   ],
   "metadata": {
    "collapsed": false,
    "ExecuteTime": {
     "end_time": "2023-11-04T14:54:30.794007Z",
     "start_time": "2023-11-04T14:54:30.494145Z"
    }
   },
   "id": "1524d235a3b05a90"
  },
  {
   "cell_type": "code",
   "execution_count": 5,
   "outputs": [],
   "source": [
    "from sklearn.feature_extraction.text import CountVectorizer\n",
    "from sklearn.preprocessing import LabelEncoder\n",
    "import warnings\n",
    "warnings.filterwarnings(\"ignore\")\n",
    "\n",
    "# Extract features from the combined name\n",
    "name_vectorizer = CountVectorizer(analyzer='char', ngram_range=(2, 3))\n",
    "name_features = name_vectorizer.fit_transform(df['name'])\n",
    "\n",
    "label_encoder = LabelEncoder()\n",
    "df[\"gender\"] = label_encoder.fit_transform(df[\"gender\"])\n"
   ],
   "metadata": {
    "collapsed": false,
    "ExecuteTime": {
     "end_time": "2023-11-04T14:54:37.351315Z",
     "start_time": "2023-11-04T14:54:30.796205Z"
    }
   },
   "id": "d910096b4c8202e2"
  },
  {
   "cell_type": "markdown",
   "source": [
    "# Step 4: Split the Data\n",
    "# Split the data into training and testing sets\n"
   ],
   "metadata": {
    "collapsed": false
   },
   "id": "b9397f284bb547c5"
  },
  {
   "cell_type": "code",
   "execution_count": 6,
   "outputs": [
    {
     "name": "stdout",
     "output_type": "stream",
     "text": [
      "               Date  Order # N. Revenue (formatted)     Status  \\\n",
      "0  14/09/2023 20:37    15072              RM117.80   completed   \n",
      "1  14/09/2023 19:38    15069               RM32.90   completed   \n",
      "2  14/09/2023 19:09    15068               RM57.90   completed   \n",
      "3  14/09/2023 17:25    15066               RM32.90   completed   \n",
      "4  14/09/2023 17:17    15065              RM167.90   completed   \n",
      "\n",
      "                Customer Customer type  \\\n",
      "0        narimah mokhtar     returning   \n",
      "1  sudiana mohamad rasib           new   \n",
      "2          Haizum Hasnan           new   \n",
      "3        Hanifizah Wahid     returning   \n",
      "4     Zuhaidah Abd razak           new   \n",
      "\n",
      "                                          Product(s)  Items sold  Coupon(s)  \\\n",
      "0  1× COLLAGEN SERUM FOUNDATION ALHA ALFA - LIGHT...           2        NaN   \n",
      "1                        1× LIP BOOSTER - STRAWBERRY           1        NaN   \n",
      "2     1× COLLAGEN SERUM FOUNDATION ALHA ALFA - LIGHT           1        NaN   \n",
      "3                        1× LIP BOOSTER - STRAWBERRY           1        NaN   \n",
      "4  1× MERDEKA SET PRETTYOTIC, 1× MASCARA - Doll E...           5        NaN   \n",
      "\n",
      "   N. Revenue      State Gender  Age  \n",
      "0       109.8     Perlis      F   36  \n",
      "1        24.9      Johor      F   25  \n",
      "2        49.9     Melaka      F   31  \n",
      "3        24.9   Kelantan      F   31  \n",
      "4       159.9  Putrajaya      F   38  \n"
     ]
    }
   ],
   "source": [
    "from sklearn.metrics import accuracy_score\n",
    "from sklearn.tree import DecisionTreeClassifier\n",
    "from sklearn.model_selection import train_test_split\n",
    "\n",
    "X_train, X_test, y_train, y_test = train_test_split(name_features, df[\"gender\"], test_size=0.2, random_state=42)\n",
    "\n",
    "# Step 5: Choose a Machine Learning Algorithm\n",
    "# Initialize the model (Decision Tree Classifier)\n",
    "model = DecisionTreeClassifier()\n",
    "\n",
    "# Step 6: Model Training\n",
    "# Train the model\n",
    "model.fit(X_train, y_train)\n",
    "\n",
    "# Step 7: Make Predictions and Evaluate the Model\n",
    "# Make predictions on the test data\n",
    "y_pred = model.predict(X_test)\n",
    "\n",
    "# Evaluate the model's accuracy\n",
    "accuracy = accuracy_score(y_test, y_pred)\n",
    "print(f\"Model Accuracy: {accuracy}\")\n",
    "\n"
   ],
   "metadata": {
    "collapsed": false,
    "ExecuteTime": {
     "end_time": "2023-11-04T14:54:37.396687Z",
     "start_time": "2023-11-04T14:54:37.350379Z"
    }
   },
   "id": "4f52ac6a7f78d62"
  }
 ],
 "metadata": {
  "kernelspec": {
   "display_name": "Python 3",
   "language": "python",
   "name": "python3"
  },
  "language_info": {
   "codemirror_mode": {
    "name": "ipython",
    "version": 2
   },
   "file_extension": ".py",
   "mimetype": "text/x-python",
   "name": "python",
   "nbconvert_exporter": "python",
   "pygments_lexer": "ipython2",
   "version": "2.7.6"
  }
 },
 "nbformat": 4,
 "nbformat_minor": 5
}

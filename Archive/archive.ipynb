{
 "cells": [
  {
   "cell_type": "markdown",
   "source": [
    "# Analyse Datasets"
   ],
   "metadata": {
    "collapsed": false
   },
   "id": "eebc7c115f3a50c3"
  },
  {
   "cell_type": "markdown",
   "source": [
    "## Import Libraries"
   ],
   "metadata": {
    "collapsed": false
   },
   "id": "e085471683513eb0"
  },
  {
   "cell_type": "code",
   "execution_count": 13,
   "id": "initial_id",
   "metadata": {
    "collapsed": true,
    "ExecuteTime": {
     "end_time": "2023-11-04T09:49:55.487306Z",
     "start_time": "2023-11-04T09:49:54.245821Z"
    }
   },
   "outputs": [],
   "source": [
    "import pandas as pd\n",
    "import numpy as np\n",
    "import matplotlib.pyplot as plt\n",
    "import seaborn as sns\n",
    "import os\n",
    "import sys"
   ]
  },
  {
   "cell_type": "code",
   "execution_count": 14,
   "outputs": [
    {
     "name": "stdout",
     "output_type": "stream",
     "text": [
      "                  Date  Order # N. Revenue (formatted)     Status  \\\n",
      "0  2023-09-14 20:37:06    15072               RM117.80  completed   \n",
      "1  2023-09-14 19:38:46    15069                RM32.90  completed   \n",
      "2  2023-09-14 19:09:55    15068                RM57.90  completed   \n",
      "3  2023-09-14 17:25:20    15066                RM32.90  completed   \n",
      "4  2023-09-14 17:17:47    15065               RM167.90  completed   \n",
      "\n",
      "                Customer Customer type  \\\n",
      "0        narimah mokhtar     returning   \n",
      "1  sudiana mohamad rasib           new   \n",
      "2          Haizum Hasnan           new   \n",
      "3        Hanifizah Wahid     returning   \n",
      "4     Zuhaidah Abd razak           new   \n",
      "\n",
      "                                          Product(s)  Items sold  Coupon(s)  \\\n",
      "0  1× COLLAGEN SERUM FOUNDATION ALHA ALFA - LIGHT...           2        NaN   \n",
      "1                        1× LIP BOOSTER - STRAWBERRY           1        NaN   \n",
      "2     1× COLLAGEN SERUM FOUNDATION ALHA ALFA - LIGHT           1        NaN   \n",
      "3                        1× LIP BOOSTER - STRAWBERRY           1        NaN   \n",
      "4  1× MERDEKA SET PRETTYOTIC, 1× MASCARA - Doll E...           5        NaN   \n",
      "\n",
      "   N. Revenue            State  Gender  \n",
      "0       109.8            Sabah     NaN  \n",
      "1        24.9            Kedah     NaN  \n",
      "2        49.9            Kedah     NaN  \n",
      "3        24.9           Penang     NaN  \n",
      "4       159.9  WP Kuala Lumpur     NaN  \n"
     ]
    }
   ],
   "source": [
    "# Import Datasets\n",
    "df_or = pd.read_csv('datasets/OrderReport.csv')\n",
    "print(df_or.head())"
   ],
   "metadata": {
    "collapsed": false,
    "ExecuteTime": {
     "end_time": "2023-11-04T09:49:55.499566Z",
     "start_time": "2023-11-04T09:49:54.248940Z"
    }
   },
   "id": "72b1bf274a7a5fad"
  },
  {
   "cell_type": "code",
   "execution_count": 15,
   "outputs": [
    {
     "name": "stdout",
     "output_type": "stream",
     "text": [
      "                      Product / Variation title    SKU  Items sold  \\\n",
      "0                      LIP BOOSTER - WATERMELON  00597        2590   \n",
      "1                      LIP BOOSTER - STRAWBERRY  00602        2563   \n",
      "2  COLLAGEN SERUM FOUNDATION ALHA ALFA - MEDIUM  00608        1067   \n",
      "3   COLLAGEN SERUM FOUNDATION ALHA ALFA - LIGHT  00607         728   \n",
      "4                           LIP BOOSTER - MELON  00610         651   \n",
      "\n",
      "   N. Revenue  Orders    Status  Stock  \n",
      "0     63270.9    2299  In stock     11  \n",
      "1     63768.9    2280  In stock    134  \n",
      "2      7435.1    1005  In stock     33  \n",
      "3      7135.7     690  In stock     41  \n",
      "4     16209.9     587  In stock    177  \n"
     ]
    }
   ],
   "source": [
    "df_pl = pd.read_csv('datasets/ProductList.csv')\n",
    "print(df_pl.head())"
   ],
   "metadata": {
    "collapsed": false,
    "ExecuteTime": {
     "end_time": "2023-11-04T09:49:55.499743Z",
     "start_time": "2023-11-04T09:49:54.285446Z"
    }
   },
   "id": "14210bee85561a09"
  },
  {
   "cell_type": "code",
   "execution_count": 16,
   "outputs": [
    {
     "name": "stdout",
     "output_type": "stream",
     "text": [
      "                  Date  Orders  Gross sales  Returns  Coupons  Net sales  \\\n",
      "0  2023-10-26 00:00:00      12        917.7      0.0      0.0      917.7   \n",
      "1  2023-10-25 00:00:00      31       1664.7      0.0      0.0     1664.7   \n",
      "2  2023-10-24 00:00:00      11        803.0      0.0      0.0      803.0   \n",
      "3  2023-10-23 00:00:00      16        867.5      0.0      0.0      867.5   \n",
      "4  2023-10-22 00:00:00      17        986.9      0.0      0.0      986.9   \n",
      "\n",
      "   Taxes  Shipping  Total sales  \n",
      "0    0.0     100.0       1017.7  \n",
      "1    0.0     264.0       1928.7  \n",
      "2    0.0      96.0        899.0  \n",
      "3    0.0     136.0       1003.5  \n",
      "4    0.0     144.0       1130.9  \n"
     ]
    }
   ],
   "source": [
    "df_rr = pd.read_csv('datasets/RevenueReport.csv')\n",
    "print(df_rr.head())"
   ],
   "metadata": {
    "collapsed": false,
    "ExecuteTime": {
     "end_time": "2023-11-04T09:49:55.499846Z",
     "start_time": "2023-11-04T09:49:54.294924Z"
    }
   },
   "id": "86b5cc84a7d4e1ac"
  },
  {
   "cell_type": "code",
   "execution_count": 17,
   "outputs": [
    {
     "name": "stdout",
     "output_type": "stream",
     "text": [
      "OrderReport:  (7083, 12)\n",
      "ProductList:  (111, 7)\n",
      "RevenueReport:  (299, 9)\n"
     ]
    }
   ],
   "source": [
    "# Find out the number of rows and columns in each dataset\n",
    "print(\"OrderReport: \", df_or.shape)\n",
    "print(\"ProductList: \", df_pl.shape)\n",
    "print(\"RevenueReport: \", df_rr.shape)"
   ],
   "metadata": {
    "collapsed": false,
    "ExecuteTime": {
     "end_time": "2023-11-04T09:49:55.499928Z",
     "start_time": "2023-11-04T09:49:54.300750Z"
    }
   },
   "id": "7ff13d4b8769739b"
  },
  {
   "cell_type": "code",
   "execution_count": 18,
   "outputs": [
    {
     "name": "stdout",
     "output_type": "stream",
     "text": [
      "OrderReport: \n",
      " Date                         0\n",
      "Order #                      0\n",
      "N. Revenue (formatted)       0\n",
      "Status                       0\n",
      "Customer                     0\n",
      "Customer type                0\n",
      "Product(s)                   0\n",
      "Items sold                   0\n",
      "Coupon(s)                 7083\n",
      "N. Revenue                   0\n",
      "State                        0\n",
      "Gender                    7083\n",
      "dtype: int64\n",
      "ProductList: \n",
      " Product / Variation title    0\n",
      "SKU                          2\n",
      "Items sold                   0\n",
      "N. Revenue                   0\n",
      "Orders                       0\n",
      "Status                       0\n",
      "Stock                        0\n",
      "dtype: int64\n",
      "RevenueReport: \n",
      " Date           0\n",
      "Orders         0\n",
      "Gross sales    0\n",
      "Returns        0\n",
      "Coupons        0\n",
      "Net sales      0\n",
      "Taxes          0\n",
      "Shipping       0\n",
      "Total sales    0\n",
      "dtype: int64\n"
     ]
    }
   ],
   "source": [
    "# Find out the number of missing values in each dataset\n",
    "print(\"OrderReport: \\n\", df_or.isnull().sum())\n",
    "print(\"ProductList: \\n\", df_pl.isnull().sum())\n",
    "print(\"RevenueReport: \\n\", df_rr.isnull().sum())"
   ],
   "metadata": {
    "collapsed": false,
    "ExecuteTime": {
     "end_time": "2023-11-04T09:49:55.500023Z",
     "start_time": "2023-11-04T09:49:54.304050Z"
    }
   },
   "id": "6ba89f48143f60f5"
  },
  {
   "cell_type": "code",
   "execution_count": 19,
   "outputs": [
    {
     "name": "stdout",
     "output_type": "stream",
     "text": [
      "OrderReport: \n",
      " Date                      7078\n",
      "Order #                   7083\n",
      "N. Revenue (formatted)     192\n",
      "Status                       1\n",
      "Customer                  6465\n",
      "Customer type                2\n",
      "Product(s)                 942\n",
      "Items sold                  16\n",
      "Coupon(s)                    0\n",
      "N. Revenue                 154\n",
      "State                       16\n",
      "Gender                       0\n",
      "dtype: int64\n",
      "ProductList: \n",
      " Product / Variation title    111\n",
      "SKU                          109\n",
      "Items sold                    50\n",
      "N. Revenue                    81\n",
      "Orders                        54\n",
      "Status                         2\n",
      "Stock                         48\n",
      "dtype: int64\n",
      "RevenueReport: \n",
      " Date           290\n",
      "Orders          80\n",
      "Gross sales    281\n",
      "Returns          1\n",
      "Coupons          1\n",
      "Net sales      281\n",
      "Taxes            1\n",
      "Shipping       118\n",
      "Total sales    287\n",
      "dtype: int64\n"
     ]
    }
   ],
   "source": [
    "# Find out the number of unique values in each dataset\n",
    "print(\"OrderReport: \\n\", df_or.nunique())\n",
    "print(\"ProductList: \\n\", df_pl.nunique())\n",
    "print(\"RevenueReport: \\n\", df_rr.nunique())"
   ],
   "metadata": {
    "collapsed": false,
    "ExecuteTime": {
     "end_time": "2023-11-04T09:49:55.500117Z",
     "start_time": "2023-11-04T09:49:54.309973Z"
    }
   },
   "id": "45c6a5b96590da67"
  },
  {
   "cell_type": "code",
   "execution_count": 20,
   "outputs": [
    {
     "name": "stdout",
     "output_type": "stream",
     "text": [
      "Gender\n",
      "F    6857\n",
      "M     226\n",
      "Name: count, dtype: int64\n"
     ]
    }
   ],
   "source": [
    "# Find out the data types of each column in each dataset\n",
    "print(\"OrderReport: \\n\", df_or.dtypes)\n",
    "print(\"ProductList: \\n\", df_pl.dtypes)\n",
    "print(\"RevenueReport: \\n\", df_rr.dtypes)\n"
   ],
   "metadata": {
    "collapsed": false,
    "ExecuteTime": {
     "end_time": "2023-11-04T09:49:55.500195Z",
     "start_time": "2023-11-04T09:49:54.318576Z"
    }
   },
   "id": "f6b6d6bd86b1ef7"
  },
  {
   "cell_type": "code",
   "execution_count": 21,
   "outputs": [
    {
     "name": "stdout",
     "output_type": "stream",
     "text": [
      "OrderReport: \n",
      " Date                       object\n",
      "Order #                     int64\n",
      "N. Revenue (formatted)     object\n",
      "Status                     object\n",
      "Customer                   object\n",
      "Customer type              object\n",
      "Product(s)                 object\n",
      "Items sold                  int64\n",
      "Coupon(s)                 float64\n",
      "N. Revenue                float64\n",
      "State                      object\n",
      "Gender                    float64\n",
      "dtype: object\n",
      "ProductList: \n",
      " Product / Variation title     object\n",
      "SKU                           object\n",
      "Items sold                     int64\n",
      "N. Revenue                   float64\n",
      "Orders                         int64\n",
      "Status                        object\n",
      "Stock                          int64\n",
      "dtype: object\n",
      "RevenueReport: \n",
      " Date            object\n",
      "Orders           int64\n",
      "Gross sales    float64\n",
      "Returns        float64\n",
      "Coupons        float64\n",
      "Net sales      float64\n",
      "Taxes          float64\n",
      "Shipping       float64\n",
      "Total sales    float64\n",
      "dtype: object\n"
     ]
    }
   ],
   "source": [
    "# Find out the number of duplicate rows in each dataset\n",
    "print(\"OrderReport: \", df_or.duplicated().sum())\n",
    "print(\"ProductList: \", df_pl.duplicated().sum())\n",
    "print(\"RevenueReport: \", df_rr.duplicated().sum())\n"
   ],
   "metadata": {
    "collapsed": false,
    "ExecuteTime": {
     "end_time": "2023-11-04T09:49:55.500288Z",
     "start_time": "2023-11-04T09:49:54.336103Z"
    }
   },
   "id": "b9e7c5cf345f3058"
  },
  {
   "cell_type": "code",
   "execution_count": 22,
   "outputs": [
    {
     "name": "stdout",
     "output_type": "stream",
     "text": [
      "OrderReport:  0\n",
      "ProductList:  0\n",
      "RevenueReport:  0\n"
     ]
    }
   ],
   "source": [
    "# remove columns with all null values\n",
    "df_or = df_or.dropna(axis=1, how='all')\n",
    "df_pl = df_pl.dropna(axis=1, how='all')\n",
    "df_rr = df_rr.dropna(axis=1, how='all')"
   ],
   "metadata": {
    "collapsed": false,
    "ExecuteTime": {
     "end_time": "2023-11-04T09:49:55.500364Z",
     "start_time": "2023-11-04T09:49:54.339007Z"
    }
   },
   "id": "ddbd0e4195214947"
  },
  {
   "cell_type": "code",
   "execution_count": 23,
   "outputs": [],
   "source": [
    "# print the head of each dataset\n",
    "print(\"OrderReport: \\n\", df_or.head())\n",
    "print(\"ProductList: \\n\", df_pl.head())\n",
    "print(\"RevenueReport: \\n\", df_rr.head())\n"
   ],
   "metadata": {
    "collapsed": false,
    "ExecuteTime": {
     "end_time": "2023-11-04T09:49:55.500407Z",
     "start_time": "2023-11-04T09:49:54.350722Z"
    }
   },
   "id": "9d9bfb5ef1e809ea"
  },
  {
   "cell_type": "code",
   "execution_count": 24,
   "outputs": [
    {
     "name": "stdout",
     "output_type": "stream",
     "text": [
      "OrderReport: \n",
      "                   Date  Order # N. Revenue (formatted)     Status  \\\n",
      "0  2023-09-14 20:37:06    15072               RM117.80  completed   \n",
      "1  2023-09-14 19:38:46    15069                RM32.90  completed   \n",
      "2  2023-09-14 19:09:55    15068                RM57.90  completed   \n",
      "3  2023-09-14 17:25:20    15066                RM32.90  completed   \n",
      "4  2023-09-14 17:17:47    15065               RM167.90  completed   \n",
      "\n",
      "                Customer Customer type  \\\n",
      "0        narimah mokhtar     returning   \n",
      "1  sudiana mohamad rasib           new   \n",
      "2          Haizum Hasnan           new   \n",
      "3        Hanifizah Wahid     returning   \n",
      "4     Zuhaidah Abd razak           new   \n",
      "\n",
      "                                          Product(s)  Items sold  N. Revenue  \\\n",
      "0  1× COLLAGEN SERUM FOUNDATION ALHA ALFA - LIGHT...           2       109.8   \n",
      "1                        1× LIP BOOSTER - STRAWBERRY           1        24.9   \n",
      "2     1× COLLAGEN SERUM FOUNDATION ALHA ALFA - LIGHT           1        49.9   \n",
      "3                        1× LIP BOOSTER - STRAWBERRY           1        24.9   \n",
      "4  1× MERDEKA SET PRETTYOTIC, 1× MASCARA - Doll E...           5       159.9   \n",
      "\n",
      "             State  \n",
      "0            Sabah  \n",
      "1            Kedah  \n",
      "2            Kedah  \n",
      "3           Penang  \n",
      "4  WP Kuala Lumpur  \n",
      "ProductList: \n",
      "                       Product / Variation title    SKU  Items sold  \\\n",
      "0                      LIP BOOSTER - WATERMELON  00597        2590   \n",
      "1                      LIP BOOSTER - STRAWBERRY  00602        2563   \n",
      "2  COLLAGEN SERUM FOUNDATION ALHA ALFA - MEDIUM  00608        1067   \n",
      "3   COLLAGEN SERUM FOUNDATION ALHA ALFA - LIGHT  00607         728   \n",
      "4                           LIP BOOSTER - MELON  00610         651   \n",
      "\n",
      "   N. Revenue  Orders    Status  Stock  \n",
      "0     63270.9    2299  In stock     11  \n",
      "1     63768.9    2280  In stock    134  \n",
      "2      7435.1    1005  In stock     33  \n",
      "3      7135.7     690  In stock     41  \n",
      "4     16209.9     587  In stock    177  \n",
      "RevenueReport: \n",
      "                   Date  Orders  Gross sales  Returns  Coupons  Net sales  \\\n",
      "0  2023-10-26 00:00:00      12        917.7      0.0      0.0      917.7   \n",
      "1  2023-10-25 00:00:00      31       1664.7      0.0      0.0     1664.7   \n",
      "2  2023-10-24 00:00:00      11        803.0      0.0      0.0      803.0   \n",
      "3  2023-10-23 00:00:00      16        867.5      0.0      0.0      867.5   \n",
      "4  2023-10-22 00:00:00      17        986.9      0.0      0.0      986.9   \n",
      "\n",
      "   Taxes  Shipping  Total sales  \n",
      "0    0.0     100.0       1017.7  \n",
      "1    0.0     264.0       1928.7  \n",
      "2    0.0      96.0        899.0  \n",
      "3    0.0     136.0       1003.5  \n",
      "4    0.0     144.0       1130.9  \n"
     ]
    }
   ],
   "source": [
    "# for the OrderReport dataset, multiple product bought is in  one same column called \"Product\", so we need put it in a list\n",
    "df_or['Product(s)'] = df_or['Product(s)'].apply(lambda x: x.split(','))\n",
    "print(df_or.head())"
   ],
   "metadata": {
    "collapsed": false,
    "ExecuteTime": {
     "end_time": "2023-11-04T09:49:55.500545Z",
     "start_time": "2023-11-04T09:49:54.355288Z"
    }
   },
   "id": "20e5e43eb69a80e2"
  }
 ],
 "metadata": {
  "kernelspec": {
   "display_name": "Python 3",
   "language": "python",
   "name": "python3"
  },
  "language_info": {
   "codemirror_mode": {
    "name": "ipython",
    "version": 2
   },
   "file_extension": ".py",
   "mimetype": "text/x-python",
   "name": "python",
   "nbconvert_exporter": "python",
   "pygments_lexer": "ipython2",
   "version": "2.7.6"
  }
 },
 "nbformat": 4,
 "nbformat_minor": 5
}

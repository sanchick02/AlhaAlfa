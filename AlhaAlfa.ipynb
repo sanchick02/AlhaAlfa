{
 "cells": [
  {
   "cell_type": "markdown",
   "source": [
    "# Analyse Datasets"
   ],
   "metadata": {
    "collapsed": false
   },
   "id": "eebc7c115f3a50c3"
  },
  {
   "cell_type": "markdown",
   "source": [
    "## Import Libraries"
   ],
   "metadata": {
    "collapsed": false
   },
   "id": "e085471683513eb0"
  },
  {
   "cell_type": "code",
   "execution_count": 1,
   "id": "initial_id",
   "metadata": {
    "collapsed": true,
    "ExecuteTime": {
     "end_time": "2023-11-03T14:19:23.794397Z",
     "start_time": "2023-11-03T14:19:23.788323Z"
    }
   },
   "outputs": [],
   "source": [
    "import pandas as pd\n",
    "import numpy as np\n",
    "import matplotlib.pyplot as plt\n",
    "import seaborn as sns\n",
    "import os\n",
    "import sys"
   ]
  },
  {
   "cell_type": "code",
   "execution_count": 2,
   "outputs": [
    {
     "name": "stdout",
     "output_type": "stream",
     "text": [
      "                  Date  Order # N. Revenue (formatted)      Status  \\\n",
      "0  2023-10-26 14:50:17    16698                RM57.80  processing   \n",
      "1  2023-10-26 13:53:47    16697                RM32.90  processing   \n",
      "2  2023-10-26 13:04:17    16696                RM32.90  processing   \n",
      "3  2023-10-26 13:00:49    16695                RM82.70  processing   \n",
      "4  2023-10-26 12:47:36    16694                RM32.90  processing   \n",
      "\n",
      "                               Customer Customer type  \\\n",
      "0  AINAA SYAFIQAH ABD RAHMAN ABD RAHMAN           new   \n",
      "1                              Ja Hasim           new   \n",
      "2                             nasy anis           new   \n",
      "3   Herny erdawati binti Mohamad Rashed           new   \n",
      "4                      Suhaina Sulaiman           new   \n",
      "\n",
      "                                          Product(s)  Items sold  Coupon(s)  \\\n",
      "0  1× LIP BOOSTER - WATERMELON, 1× LIP BOOSTER - ...           2        NaN   \n",
      "1                             1× LIP BOOSTER - MELON           1        NaN   \n",
      "2                             1× LIP BOOSTER - MELON           1        NaN   \n",
      "3  1× LIP BOOSTER - STRAWBERRY, 2× LIP BOOSTER - ...           3        NaN   \n",
      "4                        1× LIP BOOSTER - WATERMELON           1        NaN   \n",
      "\n",
      "   N. Revenue      State  \n",
      "0        49.8     Perlis  \n",
      "1        24.9      Johor  \n",
      "2        24.9     Melaka  \n",
      "3        74.7   Kelantan  \n",
      "4        24.9  Putrajaya  \n"
     ]
    }
   ],
   "source": [
    "# Import Datasets\n",
    "df_or = pd.read_csv('datasets/OrderReport.csv')\n",
    "print(df_or.head())"
   ],
   "metadata": {
    "collapsed": false,
    "ExecuteTime": {
     "end_time": "2023-11-03T14:19:23.819932Z",
     "start_time": "2023-11-03T14:19:23.793615Z"
    }
   },
   "id": "72b1bf274a7a5fad"
  },
  {
   "cell_type": "code",
   "execution_count": 3,
   "outputs": [
    {
     "name": "stdout",
     "output_type": "stream",
     "text": [
      "                      Product / Variation title    SKU  Items sold  \\\n",
      "0                      LIP BOOSTER - WATERMELON  00597        2590   \n",
      "1                      LIP BOOSTER - STRAWBERRY  00602        2563   \n",
      "2  COLLAGEN SERUM FOUNDATION ALHA ALFA - MEDIUM  00608        1067   \n",
      "3   COLLAGEN SERUM FOUNDATION ALHA ALFA - LIGHT  00607         728   \n",
      "4                           LIP BOOSTER - MELON  00610         651   \n",
      "\n",
      "   N. Revenue  Orders    Status  Stock  \n",
      "0     63270.9    2299  In stock     11  \n",
      "1     63768.9    2280  In stock    134  \n",
      "2      7435.1    1005  In stock     33  \n",
      "3      7135.7     690  In stock     41  \n",
      "4     16209.9     587  In stock    177  \n"
     ]
    }
   ],
   "source": [
    "df_pl = pd.read_csv('datasets/ProductList.csv')\n",
    "print(df_pl.head())"
   ],
   "metadata": {
    "collapsed": false,
    "ExecuteTime": {
     "end_time": "2023-11-03T14:19:23.832696Z",
     "start_time": "2023-11-03T14:19:23.823071Z"
    }
   },
   "id": "14210bee85561a09"
  },
  {
   "cell_type": "code",
   "execution_count": 4,
   "outputs": [
    {
     "name": "stdout",
     "output_type": "stream",
     "text": [
      "                  Date  Orders  Gross sales  Returns  Coupons  Net sales  \\\n",
      "0  2023-10-26 00:00:00      12        917.7      0.0      0.0      917.7   \n",
      "1  2023-10-25 00:00:00      31       1664.7      0.0      0.0     1664.7   \n",
      "2  2023-10-24 00:00:00      11        803.0      0.0      0.0      803.0   \n",
      "3  2023-10-23 00:00:00      16        867.5      0.0      0.0      867.5   \n",
      "4  2023-10-22 00:00:00      17        986.9      0.0      0.0      986.9   \n",
      "\n",
      "   Taxes  Shipping  Total sales  \n",
      "0    0.0     100.0       1017.7  \n",
      "1    0.0     264.0       1928.7  \n",
      "2    0.0      96.0        899.0  \n",
      "3    0.0     136.0       1003.5  \n",
      "4    0.0     144.0       1130.9  \n"
     ]
    }
   ],
   "source": [
    "df_rr = pd.read_csv('datasets/RevenueReport.csv')\n",
    "print(df_rr.head())"
   ],
   "metadata": {
    "collapsed": false,
    "ExecuteTime": {
     "end_time": "2023-11-03T14:19:23.838656Z",
     "start_time": "2023-11-03T14:19:23.829732Z"
    }
   },
   "id": "86b5cc84a7d4e1ac"
  },
  {
   "cell_type": "code",
   "execution_count": 5,
   "outputs": [
    {
     "name": "stdout",
     "output_type": "stream",
     "text": [
      "OrderReport:  (8015, 11)\n",
      "ProductList:  (111, 7)\n",
      "RevenueReport:  (299, 9)\n"
     ]
    }
   ],
   "source": [
    "# Find out the number of rows and columns in each dataset\n",
    "print(\"OrderReport: \", df_or.shape)\n",
    "print(\"ProductList: \", df_pl.shape)\n",
    "print(\"RevenueReport: \", df_rr.shape)"
   ],
   "metadata": {
    "collapsed": false,
    "ExecuteTime": {
     "end_time": "2023-11-03T14:19:23.870783Z",
     "start_time": "2023-11-03T14:19:23.838119Z"
    }
   },
   "id": "7ff13d4b8769739b"
  },
  {
   "cell_type": "code",
   "execution_count": 6,
   "outputs": [
    {
     "name": "stdout",
     "output_type": "stream",
     "text": [
      "OrderReport: \n",
      " Date                         0\n",
      "Order #                      0\n",
      "N. Revenue (formatted)       0\n",
      "Status                       0\n",
      "Customer                     0\n",
      "Customer type                0\n",
      "Product(s)                   0\n",
      "Items sold                   0\n",
      "Coupon(s)                 8015\n",
      "N. Revenue                   0\n",
      "State                        0\n",
      "dtype: int64\n",
      "ProductList: \n",
      " Product / Variation title    0\n",
      "SKU                          2\n",
      "Items sold                   0\n",
      "N. Revenue                   0\n",
      "Orders                       0\n",
      "Status                       0\n",
      "Stock                        0\n",
      "dtype: int64\n",
      "RevenueReport: \n",
      " Date           0\n",
      "Orders         0\n",
      "Gross sales    0\n",
      "Returns        0\n",
      "Coupons        0\n",
      "Net sales      0\n",
      "Taxes          0\n",
      "Shipping       0\n",
      "Total sales    0\n",
      "dtype: int64\n"
     ]
    }
   ],
   "source": [
    "# Find out the number of missing values in each dataset\n",
    "print(\"OrderReport: \\n\", df_or.isnull().sum())\n",
    "print(\"ProductList: \\n\", df_pl.isnull().sum())\n",
    "print(\"RevenueReport: \\n\", df_rr.isnull().sum())"
   ],
   "metadata": {
    "collapsed": false,
    "ExecuteTime": {
     "end_time": "2023-11-03T14:19:23.871880Z",
     "start_time": "2023-11-03T14:19:23.843946Z"
    }
   },
   "id": "6ba89f48143f60f5"
  },
  {
   "cell_type": "code",
   "execution_count": 7,
   "outputs": [
    {
     "name": "stdout",
     "output_type": "stream",
     "text": [
      "OrderReport: \n",
      " Date                      8010\n",
      "Order #                   8015\n",
      "N. Revenue (formatted)     212\n",
      "Status                       2\n",
      "Customer                  7240\n",
      "Customer type                2\n",
      "Product(s)                1115\n",
      "Items sold                  16\n",
      "Coupon(s)                    0\n",
      "N. Revenue                 170\n",
      "State                       16\n",
      "dtype: int64\n",
      "ProductList: \n",
      " Product / Variation title    111\n",
      "SKU                          109\n",
      "Items sold                    50\n",
      "N. Revenue                    81\n",
      "Orders                        54\n",
      "Status                         2\n",
      "Stock                         48\n",
      "dtype: int64\n",
      "RevenueReport: \n",
      " Date           290\n",
      "Orders          80\n",
      "Gross sales    281\n",
      "Returns          1\n",
      "Coupons          1\n",
      "Net sales      281\n",
      "Taxes            1\n",
      "Shipping       118\n",
      "Total sales    287\n",
      "dtype: int64\n"
     ]
    }
   ],
   "source": [
    "# Find out the number of unique values in each dataset\n",
    "print(\"OrderReport: \\n\", df_or.nunique())\n",
    "print(\"ProductList: \\n\", df_pl.nunique())\n",
    "print(\"RevenueReport: \\n\", df_rr.nunique())"
   ],
   "metadata": {
    "collapsed": false,
    "ExecuteTime": {
     "end_time": "2023-11-03T14:19:23.872522Z",
     "start_time": "2023-11-03T14:19:23.849070Z"
    }
   },
   "id": "45c6a5b96590da67"
  },
  {
   "cell_type": "code",
   "execution_count": 8,
   "outputs": [
    {
     "name": "stdout",
     "output_type": "stream",
     "text": [
      "OrderReport: \n",
      " Date                       object\n",
      "Order #                     int64\n",
      "N. Revenue (formatted)     object\n",
      "Status                     object\n",
      "Customer                   object\n",
      "Customer type              object\n",
      "Product(s)                 object\n",
      "Items sold                  int64\n",
      "Coupon(s)                 float64\n",
      "N. Revenue                float64\n",
      "State                      object\n",
      "dtype: object\n",
      "ProductList: \n",
      " Product / Variation title     object\n",
      "SKU                           object\n",
      "Items sold                     int64\n",
      "N. Revenue                   float64\n",
      "Orders                         int64\n",
      "Status                        object\n",
      "Stock                          int64\n",
      "dtype: object\n",
      "RevenueReport: \n",
      " Date            object\n",
      "Orders           int64\n",
      "Gross sales    float64\n",
      "Returns        float64\n",
      "Coupons        float64\n",
      "Net sales      float64\n",
      "Taxes          float64\n",
      "Shipping       float64\n",
      "Total sales    float64\n",
      "dtype: object\n"
     ]
    }
   ],
   "source": [
    "# Find out the data types of each column in each dataset\n",
    "print(\"OrderReport: \\n\", df_or.dtypes)\n",
    "print(\"ProductList: \\n\", df_pl.dtypes)\n",
    "print(\"RevenueReport: \\n\", df_rr.dtypes)\n"
   ],
   "metadata": {
    "collapsed": false,
    "ExecuteTime": {
     "end_time": "2023-11-03T14:19:23.873171Z",
     "start_time": "2023-11-03T14:19:23.859567Z"
    }
   },
   "id": "f6b6d6bd86b1ef7"
  },
  {
   "cell_type": "code",
   "execution_count": 9,
   "outputs": [
    {
     "name": "stdout",
     "output_type": "stream",
     "text": [
      "OrderReport:  0\n",
      "ProductList:  0\n",
      "RevenueReport:  0\n"
     ]
    }
   ],
   "source": [
    "# Find out the number of duplicate rows in each dataset\n",
    "print(\"OrderReport: \", df_or.duplicated().sum())\n",
    "print(\"ProductList: \", df_pl.duplicated().sum())\n",
    "print(\"RevenueReport: \", df_rr.duplicated().sum())\n"
   ],
   "metadata": {
    "collapsed": false,
    "ExecuteTime": {
     "end_time": "2023-11-03T14:19:23.874548Z",
     "start_time": "2023-11-03T14:19:23.863844Z"
    }
   },
   "id": "b9e7c5cf345f3058"
  },
  {
   "cell_type": "code",
   "execution_count": 10,
   "outputs": [],
   "source": [
    "# remove columns with all null values\n",
    "df_or = df_or.dropna(axis=1, how='all')\n",
    "df_pl = df_pl.dropna(axis=1, how='all')\n",
    "df_rr = df_rr.dropna(axis=1, how='all')"
   ],
   "metadata": {
    "collapsed": false,
    "ExecuteTime": {
     "end_time": "2023-11-03T14:19:23.887680Z",
     "start_time": "2023-11-03T14:19:23.878203Z"
    }
   },
   "id": "ddbd0e4195214947"
  },
  {
   "cell_type": "code",
   "execution_count": 11,
   "outputs": [
    {
     "name": "stdout",
     "output_type": "stream",
     "text": [
      "OrderReport: \n",
      "                   Date  Order # N. Revenue (formatted)      Status  \\\n",
      "0  2023-10-26 14:50:17    16698                RM57.80  processing   \n",
      "1  2023-10-26 13:53:47    16697                RM32.90  processing   \n",
      "2  2023-10-26 13:04:17    16696                RM32.90  processing   \n",
      "3  2023-10-26 13:00:49    16695                RM82.70  processing   \n",
      "4  2023-10-26 12:47:36    16694                RM32.90  processing   \n",
      "\n",
      "                               Customer Customer type  \\\n",
      "0  AINAA SYAFIQAH ABD RAHMAN ABD RAHMAN           new   \n",
      "1                              Ja Hasim           new   \n",
      "2                             nasy anis           new   \n",
      "3   Herny erdawati binti Mohamad Rashed           new   \n",
      "4                      Suhaina Sulaiman           new   \n",
      "\n",
      "                                          Product(s)  Items sold  N. Revenue  \\\n",
      "0  1× LIP BOOSTER - WATERMELON, 1× LIP BOOSTER - ...           2        49.8   \n",
      "1                             1× LIP BOOSTER - MELON           1        24.9   \n",
      "2                             1× LIP BOOSTER - MELON           1        24.9   \n",
      "3  1× LIP BOOSTER - STRAWBERRY, 2× LIP BOOSTER - ...           3        74.7   \n",
      "4                        1× LIP BOOSTER - WATERMELON           1        24.9   \n",
      "\n",
      "       State  \n",
      "0     Perlis  \n",
      "1      Johor  \n",
      "2     Melaka  \n",
      "3   Kelantan  \n",
      "4  Putrajaya  \n",
      "ProductList: \n",
      "                       Product / Variation title    SKU  Items sold  \\\n",
      "0                      LIP BOOSTER - WATERMELON  00597        2590   \n",
      "1                      LIP BOOSTER - STRAWBERRY  00602        2563   \n",
      "2  COLLAGEN SERUM FOUNDATION ALHA ALFA - MEDIUM  00608        1067   \n",
      "3   COLLAGEN SERUM FOUNDATION ALHA ALFA - LIGHT  00607         728   \n",
      "4                           LIP BOOSTER - MELON  00610         651   \n",
      "\n",
      "   N. Revenue  Orders    Status  Stock  \n",
      "0     63270.9    2299  In stock     11  \n",
      "1     63768.9    2280  In stock    134  \n",
      "2      7435.1    1005  In stock     33  \n",
      "3      7135.7     690  In stock     41  \n",
      "4     16209.9     587  In stock    177  \n",
      "RevenueReport: \n",
      "                   Date  Orders  Gross sales  Returns  Coupons  Net sales  \\\n",
      "0  2023-10-26 00:00:00      12        917.7      0.0      0.0      917.7   \n",
      "1  2023-10-25 00:00:00      31       1664.7      0.0      0.0     1664.7   \n",
      "2  2023-10-24 00:00:00      11        803.0      0.0      0.0      803.0   \n",
      "3  2023-10-23 00:00:00      16        867.5      0.0      0.0      867.5   \n",
      "4  2023-10-22 00:00:00      17        986.9      0.0      0.0      986.9   \n",
      "\n",
      "   Taxes  Shipping  Total sales  \n",
      "0    0.0     100.0       1017.7  \n",
      "1    0.0     264.0       1928.7  \n",
      "2    0.0      96.0        899.0  \n",
      "3    0.0     136.0       1003.5  \n",
      "4    0.0     144.0       1130.9  \n"
     ]
    }
   ],
   "source": [
    "# print the head of each dataset\n",
    "print(\"OrderReport: \\n\", df_or.head())\n",
    "print(\"ProductList: \\n\", df_pl.head())\n",
    "print(\"RevenueReport: \\n\", df_rr.head())\n"
   ],
   "metadata": {
    "collapsed": false,
    "ExecuteTime": {
     "end_time": "2023-11-03T14:19:23.895684Z",
     "start_time": "2023-11-03T14:19:23.885788Z"
    }
   },
   "id": "9d9bfb5ef1e809ea"
  },
  {
   "cell_type": "code",
   "execution_count": 12,
   "outputs": [
    {
     "name": "stdout",
     "output_type": "stream",
     "text": [
      "                  Date  Order # N. Revenue (formatted)      Status  \\\n",
      "0  2023-10-26 14:50:17    16698                RM57.80  processing   \n",
      "1  2023-10-26 13:53:47    16697                RM32.90  processing   \n",
      "2  2023-10-26 13:04:17    16696                RM32.90  processing   \n",
      "3  2023-10-26 13:00:49    16695                RM82.70  processing   \n",
      "4  2023-10-26 12:47:36    16694                RM32.90  processing   \n",
      "\n",
      "                               Customer Customer type  \\\n",
      "0  AINAA SYAFIQAH ABD RAHMAN ABD RAHMAN           new   \n",
      "1                              Ja Hasim           new   \n",
      "2                             nasy anis           new   \n",
      "3   Herny erdawati binti Mohamad Rashed           new   \n",
      "4                      Suhaina Sulaiman           new   \n",
      "\n",
      "                                          Product(s)  Items sold  N. Revenue  \\\n",
      "0  [1× LIP BOOSTER - WATERMELON,  1× LIP BOOSTER ...           2        49.8   \n",
      "1                           [1× LIP BOOSTER - MELON]           1        24.9   \n",
      "2                           [1× LIP BOOSTER - MELON]           1        24.9   \n",
      "3  [1× LIP BOOSTER - STRAWBERRY,  2× LIP BOOSTER ...           3        74.7   \n",
      "4                      [1× LIP BOOSTER - WATERMELON]           1        24.9   \n",
      "\n",
      "       State  \n",
      "0     Perlis  \n",
      "1      Johor  \n",
      "2     Melaka  \n",
      "3   Kelantan  \n",
      "4  Putrajaya  \n"
     ]
    }
   ],
   "source": [
    "# for the OrderReport dataset, multiple product bought is in  one same column called \"Product\", so we need put it in a list\n",
    "df_or['Product(s)'] = df_or['Product(s)'].apply(lambda x: x.split(','))\n",
    "print(df_or.head())"
   ],
   "metadata": {
    "collapsed": false,
    "ExecuteTime": {
     "end_time": "2023-11-03T14:19:23.962248Z",
     "start_time": "2023-11-03T14:19:23.898502Z"
    }
   },
   "id": "20e5e43eb69a80e2"
  }
 ],
 "metadata": {
  "kernelspec": {
   "display_name": "Python 3",
   "language": "python",
   "name": "python3"
  },
  "language_info": {
   "codemirror_mode": {
    "name": "ipython",
    "version": 2
   },
   "file_extension": ".py",
   "mimetype": "text/x-python",
   "name": "python",
   "nbconvert_exporter": "python",
   "pygments_lexer": "ipython2",
   "version": "2.7.6"
  }
 },
 "nbformat": 4,
 "nbformat_minor": 5
}
